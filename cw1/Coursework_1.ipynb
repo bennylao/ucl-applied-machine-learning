{
 "cells": [
  {
   "cell_type": "markdown",
   "metadata": {},
   "source": [
    "<h3>TODO</h3> \n",
    "Fill in any place that says <code># YOUR CODE HERE</code> (make sure to remove the line <code>raise ...Error()</code>).\n",
    "\n",
    "<h3>Suggestions</h3>\n",
    "\n",
    "- To speed up your code, think about how certain operations can be done at the same time.\n",
    "- Before you turn this problem in, make sure everything runs as expected. First, **restart the kernel** (in the menubar, select Kernel$\\rightarrow$Restart) and then **run all cells** (in the menubar, select Cell$\\rightarrow$Run All).\n",
    "- Double check your code does not have $\\infty$-loops, these will crash the autograder.\n",
    "\n",
    "<h3>Rules</h3>\n",
    "\n",
    "- Blank cells in the notebook are hidden tests. **Do not delete or alter these cells as this will cause the tests to fail automatically**.\n",
    "- **Do not copy any cell**. Instead create a new cell and transfer any code into the new cell.\n",
    "- Do not create multiple python notebooks (.ipynb files).\n",
    "- Do not import any new python packages (this may cause hidden tests to fail).\n",
    "- Each cell must run for less than 5 minutes (there exists a solution with full marks).\n",
    "- **Do not plagiarise!** We take violations of this very seriously. In previous years we have identified instances of plagiarism and reported them to the Senior Teaching & Learning Administrator.\n",
    "- If you are happy with your current grade you do not need to resubmit, the most recent grade from the autograder will be your final grade."
   ]
  },
  {
   "cell_type": "markdown",
   "metadata": {},
   "source": [
    "---"
   ]
  },
  {
   "cell_type": "markdown",
   "metadata": {
    "deletable": false,
    "editable": false,
    "nbgrader": {
     "cell_type": "markdown",
     "checksum": "2e682f102a98d335715990329747a9b1",
     "grade": false,
     "grade_id": "cell-22c9f752a48d4d97",
     "locked": true,
     "schema_version": 3,
     "solution": false,
     "task": false
    }
   },
   "source": [
    "<h2>Coursework 1 - Decision Trees</h2>\n",
    "\n",
    "\n",
    "<!--announcements-->\n",
    "<blockquote>\n",
    "    <center>\n",
    "    <img src=\"forest.jpg\" width=\"400px\" />\n",
    "    </center>\n",
    "      <p><cite><center>Boosting took a long time to be truly understood.<br>\n",
    "      ... cynics say we didn't see the forest for all the trees ...<br>\n",
    "      </center></cite></p>\n",
    "</blockquote>\n",
    "\n",
    "<!--announcements-->\n",
    "\n",
    "\n"
   ]
  },
  {
   "cell_type": "markdown",
   "metadata": {
    "deletable": false,
    "editable": false,
    "nbgrader": {
     "cell_type": "markdown",
     "checksum": "cde124a0b7601f419673251986124278",
     "grade": false,
     "grade_id": "cell-bcc26f0f420117c7",
     "locked": true,
     "schema_version": 3,
     "solution": false,
     "task": false
    }
   },
   "source": [
    "\n",
    "\n",
    "<h3>Introduction</h3>\n",
    "<p>In this assignment you will implement a decision tree algorithm and then use it for bagging and boosting. We've provided a tree structure for you with distinct leaves and nodes. Leaves have two fields, parent (another node) and prediction (a numerical value). Nodes have six fields: \n",
    "\n",
    "<ol>\n",
    "<li> <b>left</b>: node describing left subtree </li>\n",
    "<li> <b>right</b>: node describing right subtree </li>\n",
    "<li> <b>parent</b>: the parent of the current subtree. The head of the tree always has <code><b>None</b></code> as its parent. Feel free to initialize nodes with this field set to <code><b>None</b></code> so long as you set the correct parent later on. </li>\n",
    "<li> <b>cutoff_id</b>: index of feature to cut </li>\n",
    "<li> <b>cutoff_val</b>: cutoff value c (<=c : left, and >c : right)</li>\n",
    "<li> <b>prediction</b>: scalar prediction at this node. <b>(NOTE: please do not check if a node is a leaf by checking for prediction=None, this will mess up autograder tests!)</b>  </li>\n",
    "</ol>\n",
    "Finally, when you make a leaf node make sure it has this form: <b>TreeNode(None, None, None, None, None, prediction)</b>.\n",
    "</p>\n",
    "\n",
    "\n",
    "        "
   ]
  },
  {
   "cell_type": "code",
   "execution_count": 178,
   "metadata": {
    "deletable": false,
    "editable": false,
    "nbgrader": {
     "cell_type": "code",
     "checksum": "e33c3f0e4df2515d2e430f6e091ed32c",
     "grade": false,
     "grade_id": "cell-57d7072a148c2070",
     "locked": true,
     "schema_version": 3,
     "solution": false,
     "task": false
    }
   },
   "outputs": [],
   "source": [
    "class TreeNode(object):\n",
    "    \"\"\"Tree class.\n",
    "    \n",
    "    (You don't need to add any methods or fields here but feel\n",
    "    free to if you like. Our tests will only reference the fields\n",
    "    defined in the constructor below, so be sure to set these\n",
    "    correctly!)\n",
    "    \"\"\"\n",
    "    \n",
    "    def __init__(self, left, right, parent, cutoff_id, cutoff_val, prediction):\n",
    "        self.left = left\n",
    "        self.right = right\n",
    "        self.parent = parent\n",
    "        self.cutoff_id = cutoff_id\n",
    "        self.cutoff_val = cutoff_val\n",
    "        self.prediction = prediction"
   ]
  },
  {
   "cell_type": "markdown",
   "metadata": {
    "deletable": false,
    "editable": false,
    "nbgrader": {
     "cell_type": "markdown",
     "checksum": "acb161f68b896c18396ede3d71d41f10",
     "grade": false,
     "grade_id": "cell-c05aa5bde6395c94",
     "locked": true,
     "schema_version": 3,
     "solution": false,
     "task": false
    }
   },
   "source": [
    "<h3>Implementing CART</h3>\n",
    "Before we get started let us add a few packages that you might need. We will also load a data set <a href=\"https://archive.ics.uci.edu/ml/datasets/Ionosphere\">ION</a>, which we will use as our binary test classification problem."
   ]
  },
  {
   "cell_type": "code",
   "execution_count": 179,
   "metadata": {
    "deletable": false,
    "editable": false,
    "nbgrader": {
     "cell_type": "code",
     "checksum": "1e757c039191bf7c18b2d69786dcde81",
     "grade": false,
     "grade_id": "cell-ba718a0ce824c1df",
     "locked": true,
     "schema_version": 3,
     "solution": false,
     "task": false
    }
   },
   "outputs": [
    {
     "data": {
      "text/plain": [
       "((281, 34), (281,), (70, 34), (70,))"
      ]
     },
     "execution_count": 179,
     "metadata": {},
     "output_type": "execute_result"
    }
   ],
   "source": [
    "%matplotlib widget\n",
    "import numpy as np\n",
    "import math\n",
    "from numpy.matlib import repmat\n",
    "import sys\n",
    "import matplotlib \n",
    "import matplotlib.pyplot as plt\n",
    "from scipy.io import loadmat\n",
    "import time\n",
    "import os\n",
    "import warnings\n",
    "sys.path.append('')\n",
    "warnings.filterwarnings(\"ignore\", category=DeprecationWarning) \n",
    "\n",
    "\n",
    "# load in some binary test data (labels are -1, +1)\n",
    "data = loadmat(\"ion.mat\")\n",
    "xTrIon  = data['xTr'].T\n",
    "yTrIon  = data['yTr'].flatten()\n",
    "xTeIon  = data['xTe'].T\n",
    "yTeIon  = data['yTe'].flatten()\n",
    "\n",
    "xTrIon.shape, yTrIon.shape, xTeIon.shape, yTeIon.shape"
   ]
  },
  {
   "cell_type": "code",
   "execution_count": 180,
   "metadata": {
    "deletable": false,
    "editable": false,
    "nbgrader": {
     "cell_type": "code",
     "checksum": "cbdab1651e0c61c5e9076e59792a3a46",
     "grade": false,
     "grade_id": "cell-ba17001a88a8255d",
     "locked": true,
     "schema_version": 3,
     "solution": false,
     "task": false
    }
   },
   "outputs": [],
   "source": [
    "def spiraldata(N=300):\n",
    "    r = np.linspace(1,2*np.pi,N)\n",
    "    xTr1 = np.array([np.sin(2.*r)*r, np.cos(2*r)*r]).T\n",
    "    xTr2 = np.array([np.sin(2.*r+np.pi)*r, np.cos(2*r+np.pi)*r]).T\n",
    "    xTr = np.concatenate([xTr1, xTr2], axis=0)\n",
    "    yTr = np.concatenate([np.ones(N), -1 * np.ones(N)])\n",
    "    xTr = xTr + np.random.randn(xTr.shape[0], xTr.shape[1])*0.2\n",
    "    \n",
    "    xTe = xTr[::2,:]\n",
    "    yTe = yTr[::2]\n",
    "    xTr = xTr[1::2,:]\n",
    "    yTr = yTr[1::2]\n",
    "    \n",
    "    return xTr,yTr,xTe,yTe\n",
    "\n",
    "xTrSpiral,yTrSpiral,xTeSpiral,yTeSpiral=spiraldata(150)"
   ]
  },
  {
   "cell_type": "markdown",
   "metadata": {
    "deletable": false,
    "editable": false,
    "nbgrader": {
     "cell_type": "markdown",
     "checksum": "ff88429982d6d7a35bbb8469a9aa11eb",
     "grade": false,
     "grade_id": "cell-b8289ddc9797f690",
     "locked": true,
     "schema_version": 3,
     "solution": false,
     "task": false
    }
   },
   "source": [
    "<h3> Efficiently implementing regression trees </h3>\n",
    "First, implement the function <code>sqsplit</code> which takes as input a (weighted) data set with labels and computes the best feature and cut-value of an optimal split based on minimum squared error. The third input is a weight vector which assigns a positive weight to each training sample. The loss you should minimize is the averaged weighted squared-loss:\n",
    "\n",
    "$$\n",
    "\t{\\cal L}(S)=\\sum_{i \\in L} {w_{i}(y_{i} - T_{L})}^2+\\sum_{i \\in R} {w_{i}(y_{i} - T_{R})}^2\n",
    "$$\n",
    "\n",
    "You are building a regression tree, and right now you need to choose a split for the given dataset $S=\\{(\\vec x_1,y_1),\\dots,(\\vec x_n,y_n)\\}$ (where we have continuous labels $y_i\\in{\\cal R}$).\n",
    "Suppose you split on some feature $j$ with value $c$ and partition the dataset in to two sets of indices, $L$--the set of indices on the left (i.e., $i \\in L \\Rightarrow [x_{i}]_{j} < c$)--and $R$--the set of indices on the right (i.e., $i \\in R \\Rightarrow [x_{i}]_{j} > c$). Suppose you assign every data point on the left the prediction $T_{L}$ and every data point on the right the prediction $T_{R}$. Finally, suppose that each data point $x_{i}$ has an associated weight $w_{i}$, and that the weights are normalized (i.e., $\\sum_{i} w_{i} = 1$). \n",
    "\n",
    "\n",
    "First, we show that setting $T_{L}$ and $T_{R}$ to the weighted average label over their respective sets (i.e., $T_{L} = \\frac{1}{W_{L}}\\sum_{i\\in L}w_{i}y_{i}$ and $T_{R} = \\frac{1}{W_{R}}\\sum_{i\\in R}w_{i}y_{i}$) minimizes the loss $\\cal L$, where $W_{L}=\\sum_{i \\in L}w_{i}$ and $W_{R}=\\sum_{i \\in R} w_{i}$ are the total weight of the left and right side respectively.\n",
    "\n",
    "We take the derivative of the loss with respect to $T_{L}$ to obtain $$\\frac{d}{dT_{L}} {\\cal L}(S) = -2\\sum_{i \\in L}w_{i}(y_i - T_L)=-2\\sum_{i\\in L}w_iy_i + 2T_{L}\\sum_{i}w_{i}$$ Setting this equal to zero and solving, we get $$2T_{L}w_{L}=2\\sum_{i \\in L}w_{i}y_{i}$$ and therefore $$T_{L} = \\frac{1}{W_{L}}\\sum_{i \\in L}w_{i}y_{i}$$ A symmetric argument holds for $T_{R}$.\n",
    "\n",
    "Now, imagine you are considering splitting on some feature $j$, and suppose you have already sorted the training points in the order of this feature value, so that $[x_{1}]_{j} < [x_{2}]_{j} < \\cdots < [x_{n}]_{j}$. You'd like to choose a split from among $c_{1} \\leq c_{2} \\leq \\cdots \\leq c_{n-1}$, where $c_{i}=\\frac{[x_{i}]_{j}+[x_{i+1}]_{j}}{2}$. One way to do this would be to, for each possible split $c_{k}$, decide whether each $x_{i}$ should be partitioned left or right, and compute $\\cal L$. At the end, take the split with the lowest loss. The number of data points $n$ and there are $O(n)$ splits to consider, and the proposed algorithm would require $O(n)$ per split to evaluate $\\cal L$, for a total of $O(n^2)$ time.\n",
    "\n",
    "Now, suppose some split $c_{k}$ results in the data being partitioned in to $L^{(k)}$ and $R^{(k)}$. Suppose you are given the following quantities precomputed: $W_{L^{(k)}}$, $P_{L^{(k)}} = \\sum_{i \\in L} w_{i}y_{i}$, and $Q_{L^{(k)}} = \\sum_{i \\in L} w_{i}y_{i}^{2}$. Similarly, you are given $W_{R^{(k)}}$, $P_{R^{(k)}}$ and $Q_{R^{(k)}}$ Equipped with these precomputed quantities, we can compute $\\cal L$ in constant time:\n",
    "\n",
    "Expand the left side of the loss to $$\\sum_{i \\in L}w_{i}y_{i}^{2} - 2\\sum_{i \\in L}w_{i}y_{i}T_{L} + \\sum_{i \\in L}w_{i}T_{L}^{2}$$. The first term is exactly $Q_{L^{(k)}}$. The second term can be written as $-2P_{L^{(k)}}\\frac{P_{L^{(k)}}}{W_{L^{(k)}}}=-2\\frac{P_{L^{(k)}}^{2}}{w_{L^{(k)}}}$. The last term can be written as $w_{L^{(k)}}\\frac{P_{L^{(k)}}^{2}}{w_{L^{(k)}}^{2}}=\\frac{P_{L^{(k)}}^{2}}{w_{L^{(k)}}}$. The second term plus the third term is therefore simply $-\\frac{P_{L^{(k)}}^{2}}{w_{L^{(k)}}}$. Therefore the whole expression can be evaluated as: $$Q_{L^{(k)}}-\\frac{P_{L^{(k)}}^{2}}{w_{L^{(k)}}}$$ Similarly, the right term is: $$Q_{R^{(k)}}-\\frac{P_{R^{(k)}}^{2}}{w_{R^{(k)}}}$$\n",
    "\n",
    "<b> Efficent Update Rule: </b> If all feature values are distinct, only one data point moves from $R$ to $L$ when moving from split $k$ to split $k+1$. Therefore, we simply update the values accordingly. For example, we subtract $w_{k}$ from $W_{R^{(k)}}$ and add it to $W_{L^{(k)}}$. We subtract $w_{k}y_{k}$ from $P_{R^{(k)}}$ and add it to $P_{L^{(k)}}$. We subtract $w_{k}y_{k}^{2}$ from $Q_{R^{(k)}}$ and add it to $Q_{L^{(k)}}$. Crucially, all of these updates take only constant time."
   ]
  },
  {
   "cell_type": "code",
   "execution_count": 181,
   "metadata": {
    "deletable": false,
    "nbgrader": {
     "cell_type": "code",
     "checksum": "ca816a49a7c739efa38e5858b6f3b143",
     "grade": false,
     "grade_id": "cell-812f4d4ed0980f9d",
     "locked": false,
     "schema_version": 3,
     "solution": true,
     "task": false
    }
   },
   "outputs": [],
   "source": [
    "def sqsplit(xTr,yTr,weights=None):\n",
    "    \"\"\"Finds the best feature, cut value, and loss value.\n",
    "    \n",
    "    Input:\n",
    "        xTr:     n x d matrix of data points\n",
    "        yTr:     n-dimensional vector of labels\n",
    "        weights: n-dimensional weight vector for data points\n",
    "    \n",
    "    Output:\n",
    "        feature:  index of the best cut's feature\n",
    "        cut:      cut-value of the best cut\n",
    "        bestloss: loss of the best cut\n",
    "    \"\"\"\n",
    "    N,D = xTr.shape\n",
    "    assert D > 0 # must have at least one dimension\n",
    "    assert N > 1 # must have at least two samples\n",
    "    if weights is None: # if no weights are passed on, assign uniform weights\n",
    "        weights = np.ones(N)\n",
    "    weights = weights/sum(weights) # Weights need to sum to one (we just normalize them)\n",
    "    bestloss = np.inf\n",
    "    feature = np.inf\n",
    "    cut = np.inf\n",
    "    \n",
    "    # YOUR CODE HERE\n",
    "\n",
    "    # loop through all features (dimensions)\n",
    "    for d in range(D):\n",
    "    \n",
    "        # get a list of index with feature sorted\n",
    "        x_feature = xTr[:, d]\n",
    "        sorted_idx = np.argsort(x_feature)\n",
    "\n",
    "        # sort x, y and weights\n",
    "        x_sort = x_feature[sorted_idx]\n",
    "        y_sort = yTr[sorted_idx]\n",
    "        w_sort = weights[sorted_idx]\n",
    "        \n",
    "        # loop through all possible cut points\n",
    "        for i in range(N - 1):\n",
    "            \n",
    "            # skip if x[i] == x[i + 1]\n",
    "            # this is to avoid misgrouping when there are multiple identical x values\n",
    "            if x_sort[i] == x_sort[i + 1]:\n",
    "                continue\n",
    "            \n",
    "            # calculate mean label on the left and right side of the cut\n",
    "            tl = np.sum(w_sort[:i+1] * y_sort[:i+1]) / np.sum(w_sort[:i+1])\n",
    "            tr = np.sum(w_sort[i+1:] * y_sort[i+1:]) / np.sum(w_sort[i+1:])\n",
    "\n",
    "            # calculate loss            \n",
    "            loss = np.sum(w_sort[:i+1] * (y_sort[:i+1] - tl)**2) + np.sum(w_sort[i+1:] * (y_sort[i+1:] - tr)**2)\n",
    "\n",
    "            # update best loss, feature and cut\n",
    "            if loss < bestloss:\n",
    "                bestloss = loss\n",
    "                cut = (x_sort[i] + x_sort[i + 1]) / 2\n",
    "                feature = d\n",
    "            \n",
    "    return feature, cut, bestloss\n",
    "\n",
    "\n",
    "def sqsplit_efficient(xTr,yTr,weights=None):\n",
    "    \"\"\"Finds the best feature, cut value, and loss value.\n",
    "    \n",
    "    Input:\n",
    "        xTr:     n x d matrix of data points\n",
    "        yTr:     n-dimensional vector of labels\n",
    "        weights: n-dimensional weight vector for data points\n",
    "    \n",
    "    Output:\n",
    "        feature:  index of the best cut's feature\n",
    "        cut:      cut-value of the best cut\n",
    "        bestloss: loss of the best cut\n",
    "    \"\"\"\n",
    "    N,D = xTr.shape\n",
    "    assert D > 0 # must have at least one dimension\n",
    "    assert N > 1 # must have at least two samples\n",
    "    if weights is None: # if no weights are passed on, assign uniform weights\n",
    "        weights = np.ones(N)\n",
    "    weights = weights/sum(weights) # Weights need to sum to one (we just normalize them)\n",
    "    bestloss = np.inf\n",
    "    feature = np.inf\n",
    "    cut = np.inf\n",
    "    \n",
    "    # YOUR CODE HERE\n",
    "\n",
    "    Q = np.sum(weights * yTr**2)\n",
    "    P = np.sum(weights * yTr)\n",
    "\n",
    "    # loop through all features (dimensions)\n",
    "    for d in range(D):\n",
    "        x_feature = xTr[:, d]\n",
    "        sorted_idx = np.argsort(x_feature)\n",
    "        x_sort = x_feature[sorted_idx]\n",
    "        y_sort = yTr[sorted_idx]\n",
    "        w_sort = weights[sorted_idx]\n",
    "\n",
    "        # initialise the sums\n",
    "        pl, wl = 0, 0\n",
    "        pr, wr = P, 1\n",
    "\n",
    "        # loop through all possible cut points\n",
    "        for i in range(0, N - 1):\n",
    "\n",
    "            # update the matrix sums\n",
    "            p = w_sort[i] * y_sort[i]\n",
    "            w = w_sort[i]\n",
    "\n",
    "            pl += p\n",
    "            wl += w\n",
    "            pr -= p\n",
    "            wr -= w\n",
    "\n",
    "            # skip if x[i] == x[i + 1]\n",
    "            if x_sort[i] == x_sort[i + 1]:\n",
    "                continue\n",
    "            \n",
    "            # calculate loss\n",
    "            loss = Q - pl**2 / wl - pr**2 / wr\n",
    "\n",
    "            # update best loss, feature and cut\n",
    "            if loss < bestloss:\n",
    "                bestloss = loss\n",
    "                cut = (x_sort[i] + x_sort[i + 1]) / 2\n",
    "                feature = d\n",
    "\n",
    "    return feature, cut, bestloss"
   ]
  },
  {
   "cell_type": "code",
   "execution_count": 182,
   "metadata": {
    "deletable": false,
    "editable": false,
    "nbgrader": {
     "cell_type": "code",
     "checksum": "fb42ab3b03a8b62728d5c24af047c1a2",
     "grade": false,
     "grade_id": "cell-2afce21057bbdb09",
     "locked": true,
     "schema_version": 3,
     "solution": false,
     "task": false
    }
   },
   "outputs": [
    {
     "name": "stdout",
     "output_type": "stream",
     "text": [
      "elapsed time: 0.2304365634918213 seconds\n",
      "Split on feature 2 on value: 0.304\n",
      "NOTE: It should split on feature 2 on value 0.304\n"
     ]
    }
   ],
   "source": [
    "t0 = time.time()\n",
    "fid,cut,loss = sqsplit(xTrIon,yTrIon)\n",
    "t1 = time.time()\n",
    "print('elapsed time:',t1-t0,'seconds')\n",
    "print(\"Split on feature %i on value: %2.3f\" % (fid,cut))\n",
    "print(\"NOTE: It should split on feature 2 on value 0.304\")"
   ]
  },
  {
   "cell_type": "markdown",
   "metadata": {
    "deletable": false,
    "editable": false,
    "nbgrader": {
     "cell_type": "markdown",
     "checksum": "b450fbc9f0990f287aa976b353d5377e",
     "grade": false,
     "grade_id": "cell-30b62fba723fb04d",
     "locked": true,
     "schema_version": 3,
     "solution": false,
     "task": false
    }
   },
   "source": [
    "<h2>Testing Your Code</h2>\n",
    "\n",
    "<p>As your code will be tested by an autograder, <b>we highly recommend you test all of the code you implement</b> to make sure it works as you expect in both normal and abnormal use-cases. Below shows an example test for the sqsplit function. </p>"
   ]
  },
  {
   "cell_type": "code",
   "execution_count": 183,
   "metadata": {
    "deletable": false,
    "editable": false,
    "nbgrader": {
     "cell_type": "code",
     "checksum": "49b7bb4b7dcb07f98a3d5f6a04aab653",
     "grade": false,
     "grade_id": "cell-7e0a19890691b587",
     "locked": true,
     "schema_version": 3,
     "solution": false,
     "task": false
    }
   },
   "outputs": [
    {
     "name": "stdout",
     "output_type": "stream",
     "text": [
      "Function sqsplit correctly calculates bestloss on xor/yor example: True\n"
     ]
    }
   ],
   "source": [
    "# an example test\n",
    "xor = np.array([[1, 1, 1, 1, 0, 0, 0, 0],\n",
    "                 [1, 1, 0, 0, 1, 1, 0, 0],\n",
    "                 [1, 0, 1, 0, 1, 0, 1, 0]]).T\n",
    "yor = np.array( [1, 0, 0, 1, 0, 1, 1, 0])\n",
    "b = np.isclose(sqsplit(xor,yor)[2], .25)\n",
    "print('Function sqsplit correctly calculates bestloss on xor/yor example: ' + str(b))"
   ]
  },
  {
   "cell_type": "code",
   "execution_count": 184,
   "metadata": {
    "deletable": false,
    "editable": false,
    "nbgrader": {
     "cell_type": "code",
     "checksum": "39112eabcd175877265e79f6f46e719a",
     "grade": true,
     "grade_id": "sqsplit_test1",
     "locked": true,
     "points": 5,
     "schema_version": 3,
     "solution": false,
     "task": false
    }
   },
   "outputs": [],
   "source": [
    "# Do not delete, copy, paste, or alter these cells as this will cause the tests to fail automatically"
   ]
  },
  {
   "cell_type": "markdown",
   "metadata": {
    "deletable": false,
    "editable": false,
    "nbgrader": {
     "cell_type": "markdown",
     "checksum": "b820a08e2b8919033e1902f729525fea",
     "grade": false,
     "grade_id": "cell-747473d0185a7d75",
     "locked": true,
     "schema_version": 3,
     "solution": false,
     "task": false
    }
   },
   "source": [
    "<b>Cart tree:</b><p>Implement the function <code>cart</code> which returns a regression tree based on the minimum squared loss splitting rule. The function takes training data, test data, a maximum depth, and the weigh of each training example. Maximum depth and weight are optional arguments. If they are not provided you should make maximum depth infinity and equally weight each example. You should use the function <code>sqsplit</code> to make your splits.</p>\n",
    "\n",
    "<p>Use the provided <code>TreeNode</code> class to represent your tree. Note that the nature of CART trees implies that every node has exactly 0 or 2 children.</p>\n"
   ]
  },
  {
   "cell_type": "code",
   "execution_count": 185,
   "metadata": {
    "deletable": false,
    "nbgrader": {
     "cell_type": "code",
     "checksum": "5527a56a8e4ded73266026512d9b835d",
     "grade": false,
     "grade_id": "cell-3d1c561cd988c041",
     "locked": false,
     "schema_version": 3,
     "solution": true,
     "task": false
    }
   },
   "outputs": [],
   "source": [
    "def cart(xTr,yTr,depth=np.inf,weights=None):\n",
    "    \"\"\"Builds a CART tree.\n",
    "    \n",
    "    The maximum tree depth is defined by \"maxdepth\" (maxdepth=2 means one split).\n",
    "    Each example can be weighted with \"weights\".\n",
    "\n",
    "    Args:\n",
    "        xTr:      n x d matrix of data\n",
    "        yTr:      n-dimensional vector\n",
    "        maxdepth: maximum tree depth\n",
    "        weights:  n-dimensional weight vector for data points\n",
    "\n",
    "    Returns:\n",
    "        tree: root of decision tree\n",
    "    \"\"\"\n",
    "    n,d = xTr.shape\n",
    "    if weights is None:\n",
    "        w = np.ones(n) / float(n)\n",
    "    else:\n",
    "        # normalise the weights\n",
    "        w = weights / np.sum(weights)\n",
    "    \n",
    "    # YOUR CODE HERE\n",
    "\n",
    "    # initialise node\n",
    "    node = TreeNode(None, None, None, None, None, np.sum(w * yTr))\n",
    "\n",
    "    # check the base case\n",
    "    if depth < 2 or len(np.unique(yTr)) == 1:\n",
    "        return node\n",
    "\n",
    "    # find the best split\n",
    "    node.cutoff_id, node.cutoff_val, _ = sqsplit(xTr, yTr, w)\n",
    "\n",
    "    # when all the data points have the same features and values\n",
    "    # split does not exist\n",
    "    # hence return the node as a leaf\n",
    "    if node.cutoff_id == np.inf or node.cutoff_val == np.inf:\n",
    "        return node\n",
    "\n",
    "    # split the data\n",
    "    left_idx = xTr[:, node.cutoff_id] <= node.cutoff_val\n",
    "    right_idx = xTr[:, node.cutoff_id] > node.cutoff_val\n",
    "\n",
    "    # assign the left and right child\n",
    "    node.left = cart(xTr[left_idx], yTr[left_idx], depth - 1, w[left_idx])\n",
    "    node.right = cart(xTr[right_idx], yTr[right_idx], depth - 1, w[right_idx])\n",
    "\n",
    "    # assign the parent\n",
    "    node.left.parent = node\n",
    "    node.right.parent = node\n",
    "\n",
    "    return node"
   ]
  },
  {
   "cell_type": "code",
   "execution_count": 186,
   "metadata": {},
   "outputs": [],
   "source": [
    "xxx = np.array([[1, 1], [1, 1], [1, 1], [1, 1]])  # All feature values are the same\n",
    "yyy = np.array([0, 1, 0, 1])  # Binary labels (0 or 1)\n",
    "\n",
    "tree = cart(xxx, yyy, depth=5)  # Depth > 2 to force the split attempt"
   ]
  },
  {
   "cell_type": "markdown",
   "metadata": {
    "deletable": false,
    "editable": false,
    "nbgrader": {
     "cell_type": "markdown",
     "checksum": "c50f31520ca9a59e7d68de15ab80e3f6",
     "grade": false,
     "grade_id": "cell-c0bad89ae412f3d1",
     "locked": true,
     "schema_version": 3,
     "solution": false,
     "task": false
    }
   },
   "source": [
    "<p>Implement the function <code>evaltree</code>, which evaluates a decision tree on a given test data set.</p>"
   ]
  },
  {
   "cell_type": "code",
   "execution_count": 187,
   "metadata": {
    "deletable": false,
    "nbgrader": {
     "cell_type": "code",
     "checksum": "719328b34225f0f9ccf4f094ad969f1c",
     "grade": false,
     "grade_id": "cell-3c4bbc7ba9f357d5",
     "locked": false,
     "schema_version": 3,
     "solution": true,
     "task": false
    }
   },
   "outputs": [],
   "source": [
    "# YOUR CODE HERE\n",
    "def evaltree(root,xTe):\n",
    "    \"\"\"Evaluates xTe using decision tree root.\n",
    "    \n",
    "    Input:\n",
    "        root: TreeNode decision tree\n",
    "        xTe:  n x d matrix of data points\n",
    "    \n",
    "    Output:\n",
    "        pred: n-dimensional vector of predictions\n",
    "    \"\"\"\n",
    "    assert root is not None\n",
    "    \n",
    "    # YOUR CODE HERE\n",
    "    \n",
    "    # initialise the output array\n",
    "    pred = np.zeros(xTe.shape[0])\n",
    "\n",
    "    # loop through the data set\n",
    "    for i in range(xTe.shape[0]):\n",
    "        x = xTe[i, :]\n",
    "        node = root\n",
    "\n",
    "        while node.cutoff_id is not None:\n",
    "            if x[node.cutoff_id] <= node.cutoff_val:\n",
    "                node = node.left\n",
    "            else:\n",
    "                node = node.right\n",
    "        else:\n",
    "            pred[i] = node.prediction\n",
    "\n",
    "    return pred\n"
   ]
  },
  {
   "cell_type": "markdown",
   "metadata": {
    "deletable": false,
    "editable": false,
    "nbgrader": {
     "cell_type": "markdown",
     "checksum": "757fe9ffa96e71d3f804e51154d40c9c",
     "grade": false,
     "grade_id": "cell-59837ef34f3d8973",
     "locked": true,
     "schema_version": 3,
     "solution": false,
     "task": false
    }
   },
   "source": [
    "<p>In the below test you should see an output very similar to the following: \n",
    "\n",
    "<code>elapsed time: 0.31 seconds\n",
    "Training RMSE : 0.00\n",
    "Testing  RMSE : 0.69 (may be slightly different)\n",
    "</code>\n",
    "\n",
    "(<code>elapsed time</code> will likely be different, as it depends on your implementation and how many other people are running their code using the autograder server at the same time)\n",
    "</p>"
   ]
  },
  {
   "cell_type": "code",
   "execution_count": 188,
   "metadata": {
    "deletable": false,
    "editable": false,
    "nbgrader": {
     "cell_type": "code",
     "checksum": "9a05362b379de72ec25fb6e0fc7efa13",
     "grade": false,
     "grade_id": "cell-49d4579bb2429635",
     "locked": true,
     "schema_version": 3,
     "solution": false,
     "task": false
    }
   },
   "outputs": [
    {
     "name": "stdout",
     "output_type": "stream",
     "text": [
      "elapsed time: 0.85 seconds\n",
      "Training RMSE : 0.00\n",
      "Testing  RMSE : 0.69\n"
     ]
    }
   ],
   "source": [
    "t0 = time.time()\n",
    "root = cart(xTrIon, yTrIon)\n",
    "t1 = time.time()\n",
    "\n",
    "tr_err   = np.mean((evaltree(root,xTrIon) - yTrIon)**2)\n",
    "te_err   = np.mean((evaltree(root,xTeIon) - yTeIon)**2)\n",
    "\n",
    "print(\"elapsed time: %.2f seconds\" % (t1-t0))\n",
    "print(\"Training RMSE : %.2f\" % tr_err)\n",
    "print(\"Testing  RMSE : %.2f\" % te_err)"
   ]
  },
  {
   "cell_type": "markdown",
   "metadata": {
    "deletable": false,
    "editable": false,
    "nbgrader": {
     "cell_type": "markdown",
     "checksum": "1581db60d6b0770249b79ae4bc8e640c",
     "grade": false,
     "grade_id": "cell-0a4ad9b8acc2afff",
     "locked": true,
     "schema_version": 3,
     "solution": false,
     "task": false
    }
   },
   "source": [
    "<p>The following code defines a function <code>visclassifier()</code>, which plots the decision boundary of a classifier in 2 dimensions. Execute the following code to see what the decision boundary of your tree looks like on the ion data set. </p>"
   ]
  },
  {
   "cell_type": "code",
   "execution_count": 189,
   "metadata": {
    "deletable": false,
    "editable": false,
    "nbgrader": {
     "cell_type": "code",
     "checksum": "649005c6d8d805ff147ef8edd6869f57",
     "grade": false,
     "grade_id": "cell-fc29736055ce2744",
     "locked": true,
     "schema_version": 3,
     "solution": false,
     "task": false
    }
   },
   "outputs": [
    {
     "data": {
      "application/vnd.jupyter.widget-view+json": {
       "model_id": "b65d153fc9914cda8d5be18af4e84511",
       "version_major": 2,
       "version_minor": 0
      },
      "image/png": "[encoded data removed]",
      "text/html": [
       "\n",
       "            <div style=\"display: inline-block;\">\n",
       "                <div class=\"jupyter-widgets widget-label\" style=\"text-align: center;\">\n",
       "                    Figure\n",
       "                </div>\n",
       "                <img src='data:image/png;base64,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' width=640.0/>\n",
       "            </div>\n",
       "        "
      ],
      "text/plain": [
       "Canvas(toolbar=Toolbar(toolitems=[('Home', 'Reset original view', 'home', 'home'), ('Back', 'Back to previous …"
      ]
     },
     "metadata": {},
     "output_type": "display_data"
    },
    {
     "name": "stdout",
     "output_type": "stream",
     "text": [
      "Training error: 0.0000\n",
      "Testing error:  0.0200\n",
      "NOTE: You should get something similar to:\n",
      "Training error: 0.0000\n",
      "Testing error:  0.0467 (may be slightly different)\n"
     ]
    }
   ],
   "source": [
    "def visclassifier(fun,xTr,yTr,w=None,b=0):\n",
    "    \"\"\"\n",
    "    visualize decision boundary\n",
    "    Define the symbols and colors we'll use in the plots later\n",
    "    \"\"\"\n",
    "\n",
    "    yTr = np.array(yTr).flatten()\n",
    "    if w is not None:\n",
    "        w = np.array(w).flatten()\n",
    "\n",
    "    symbols = [\"ko\",\"kx\"]\n",
    "    marker_symbols = ['o', 'x']\n",
    "    mycolors = [[0.5, 0.5, 1], [1, 0.5, 0.5]]\n",
    "    # get the unique values from labels array\n",
    "    classvals = np.unique(yTr)\n",
    "\n",
    "    plt.figure()\n",
    "\n",
    "    # return 300 evenly spaced numbers over this interval\n",
    "    res=300\n",
    "    xrange = np.linspace(min(xTr[:, 0]), max(xTr[:, 0]),res)\n",
    "    yrange = np.linspace(min(xTr[:, 1]), max(xTr[:, 1]),res)\n",
    "    \n",
    "    # repeat this matrix 300 times for both axes\n",
    "    pixelX = repmat(xrange, res, 1)\n",
    "    pixelY = repmat(yrange, res, 1).T\n",
    "\n",
    "    \n",
    "    xTe = np.array([pixelX.flatten(), pixelY.flatten()]).T\n",
    "\n",
    "    # test all of these points on the grid\n",
    "    testpreds = fun(xTe)\n",
    "    \n",
    "    # reshape it back together to make our grid\n",
    "    Z = testpreds.reshape(res, res)\n",
    "    # Z[0,0] = 1 # optional: scale the colors correctly\n",
    "    \n",
    "    # fill in the contours for these predictions\n",
    "    plt.contourf(pixelX, pixelY, np.sign(Z), colors=mycolors)\n",
    "\n",
    "    # creates x's and o's for training set\n",
    "    for idx, c in enumerate(classvals):\n",
    "        plt.scatter(xTr[yTr == c,0],\n",
    "            xTr[yTr == c,1],\n",
    "            marker=marker_symbols[idx],\n",
    "            color='k'\n",
    "            )\n",
    "    \n",
    "    if w != [] and w is not None:\n",
    "        alpha = -1 * b / (w ** 2).sum()\n",
    "        plt.quiver(w[0] * alpha, w[1] * alpha,\n",
    "            w[0], w[1], linewidth=2, color=[0,1,0])\n",
    "\n",
    "    plt.axis('tight')\n",
    "    # shows figure and blocks\n",
    "    plt.show()\n",
    "\n",
    "tree=cart(xTrSpiral,yTrSpiral) # compute tree on training data \n",
    "visclassifier(lambda X:evaltree(tree,X),xTrSpiral,yTrSpiral)\n",
    "print(\"Training error: %.4f\" % np.mean(np.sign(evaltree(tree,xTrSpiral)) != yTrSpiral))\n",
    "print(\"Testing error:  %.4f\" % np.mean(np.sign(evaltree(tree,xTeSpiral)) != yTeSpiral))\n",
    "print(\"NOTE: You should get something similar to:\")\n",
    "print(\"Training error: 0.0000\")\n",
    "print(\"Testing error:  0.0467 (may be slightly different)\")"
   ]
  },
  {
   "cell_type": "code",
   "execution_count": 190,
   "metadata": {
    "deletable": false,
    "editable": false,
    "nbgrader": {
     "cell_type": "code",
     "checksum": "e6a16cc587ea0b9bc905a1202d221b79",
     "grade": false,
     "grade_id": "cell-0023f5ab24eedcf8",
     "locked": true,
     "schema_version": 3,
     "solution": false,
     "task": false
    }
   },
   "outputs": [
    {
     "data": {
      "application/vnd.jupyter.widget-view+json": {
       "model_id": "55c1eec9310f46b5a5d88ddab4a08f83",
       "version_major": 2,
       "version_minor": 0
      },
      "image/png": "[encoded data removed]",
      "text/html": [
       "\n",
       "            <div style=\"display: inline-block;\">\n",
       "                <div class=\"jupyter-widgets widget-label\" style=\"text-align: center;\">\n",
       "                    Figure\n",
       "                </div>\n",
       "                <img src='data:image/png;base64,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' width=640.0/>\n",
       "            </div>\n",
       "        "
      ],
      "text/plain": [
       "Canvas(toolbar=Toolbar(toolitems=[('Home', 'Reset original view', 'home', 'home'), ('Back', 'Back to previous …"
      ]
     },
     "metadata": {},
     "output_type": "display_data"
    }
   ],
   "source": [
    "def onclick_cart(event):\n",
    "    \"\"\"\n",
    "    Visualize cart, including new point\n",
    "    \"\"\"\n",
    "    global xTraining,labels\n",
    "    # create position vector for new point\n",
    "    pos=np.array([[event.xdata,event.ydata]]) \n",
    "    if event.key == 'shift': # add positive point\n",
    "        color='or'\n",
    "        label=1\n",
    "    else: # add negative point\n",
    "        color='ob'\n",
    "        label=-1    \n",
    "    xTraining = np.concatenate((xTraining,pos), axis = 0)\n",
    "    labels.append(label);\n",
    "    marker_symbols = ['o', 'x']\n",
    "    classvals = np.unique(labels)\n",
    "        \n",
    "    mycolors = [[0.5, 0.5, 1], [1, 0.5, 0.5]]\n",
    "    \n",
    "    # return 300 evenly spaced numbers over this interval\n",
    "    res=300\n",
    "    xrange = np.linspace(0, 1,res)\n",
    "    yrange = np.linspace(0, 1,res)\n",
    "\n",
    "    \n",
    "    # repeat this matrix 300 times for both axes\n",
    "    pixelX = repmat(xrange, res, 1)\n",
    "    pixelY = repmat(yrange, res, 1).T\n",
    "\n",
    "    xTe = np.array([pixelX.flatten(), pixelY.flatten()]).T\n",
    "\n",
    "    # get decision tree\n",
    "    tree=cart(xTraining,np.array(labels).flatten())\n",
    "    fun = lambda X:evaltree(tree,X)\n",
    "    # test all of these points on the grid\n",
    "    testpreds = fun(xTe)\n",
    "    \n",
    "    # reshape it back together to make our grid\n",
    "    Z = testpreds.reshape(res, res)\n",
    "    # Z[0,0] = 1 # optional: scale the colors correctly\n",
    "    \n",
    "    plt.cla()    \n",
    "    plt.xlim((0,1))\n",
    "    plt.ylim((0,1))\n",
    "    # fill in the contours for these predictions\n",
    "    plt.contourf(pixelX, pixelY, np.sign(Z), colors=mycolors)\n",
    "    \n",
    "    for idx, c in enumerate(classvals):\n",
    "        plt.scatter(xTraining[labels == c,0],\n",
    "            xTraining[labels == c,1],\n",
    "            marker=marker_symbols[idx],\n",
    "            color='k'\n",
    "            )\n",
    "    plt.show()\n",
    "    \n",
    "#plt.ion()\n",
    "xTraining= np.array([[5,6]])\n",
    "labels = [1]\n",
    "fig = plt.figure()\n",
    "plt.xlim(0,1)\n",
    "plt.ylim(0,1)\n",
    "plt.title('Use shift-click to add negative points.')\n",
    "# plt.connect('button_press_event', onclick_cart)\n",
    "cid = fig.canvas.mpl_connect('button_press_event', onclick_cart)\n",
    "plt.show()"
   ]
  },
  {
   "cell_type": "markdown",
   "metadata": {
    "deletable": false,
    "editable": false,
    "nbgrader": {
     "cell_type": "markdown",
     "checksum": "12fdfb699ed6db478e2a2ec6d31496fb",
     "grade": false,
     "grade_id": "cell-9f203d5c35d17423",
     "locked": true,
     "schema_version": 3,
     "solution": false,
     "task": false
    }
   },
   "source": [
    "<h2>Random Forests</h2>\n",
    "<p>CART trees are known to be high variance classifiers\n",
    "(if trained to full depth).\n",
    "An effective way to prevent overfitting is to use <b>Bagging</b>.\n",
    "Implement the function <code>forest</code>,\n",
    "which builds a forest of regression trees.\n",
    "Each tree should be built using training data\n",
    "drawn by randomly sampling $n$ examples\n",
    "from the training data with replacement.\n",
    "Do not randomly sample features.\n",
    "The function should output a list of trees.</p>"
   ]
  },
  {
   "cell_type": "code",
   "execution_count": 191,
   "metadata": {
    "deletable": false,
    "nbgrader": {
     "cell_type": "code",
     "checksum": "50849f154123b8b15f270deb963a2417",
     "grade": false,
     "grade_id": "cell-f8a92665c255c104",
     "locked": false,
     "schema_version": 3,
     "solution": true,
     "task": false
    }
   },
   "outputs": [],
   "source": [
    "def forest(xTr, yTr, m, maxdepth=np.inf):\n",
    "    \"\"\"Creates a random forest.\n",
    "    \n",
    "    Input:\n",
    "        xTr:      n x d matrix of data points\n",
    "        yTr:      n-dimensional vector of labels\n",
    "        m:        number of trees in the forest\n",
    "        maxdepth: maximum depth of tree\n",
    "        \n",
    "    Output:\n",
    "        trees: list of TreeNode decision trees of length m\n",
    "    \"\"\"\n",
    "    \n",
    "    n, d = xTr.shape\n",
    "    trees = []\n",
    "    \n",
    "    # YOUR CODE HERE\n",
    "    rng = np.random.default_rng()\n",
    "\n",
    "    for i in range(m):\n",
    "        idx = rng.choice(n, n, replace=True)\n",
    "        tree = cart(xTr[idx], yTr[idx], maxdepth)\n",
    "        trees.append(tree)\n",
    "    \n",
    "    return trees"
   ]
  },
  {
   "cell_type": "markdown",
   "metadata": {
    "deletable": false,
    "editable": false,
    "nbgrader": {
     "cell_type": "markdown",
     "checksum": "579342c0bf08182b3eacbb8d589e525b",
     "grade": false,
     "grade_id": "cell-01fb3000253d168b",
     "locked": true,
     "schema_version": 3,
     "solution": false,
     "task": false
    }
   },
   "source": [
    "Now implement the function <code>evalforest</code>, which should take as input a set of $m$ trees, a set of $n$ test inputs, and an $m$ dimensional weight vector. Each tree should be weighted by the corresponding weight. (For random forests you can define the weights to be $\\frac{1}{m}$ for all trees."
   ]
  },
  {
   "cell_type": "code",
   "execution_count": 192,
   "metadata": {
    "deletable": false,
    "nbgrader": {
     "cell_type": "code",
     "checksum": "251269c6ed314b7900529002cf2e74de",
     "grade": false,
     "grade_id": "cell-fb4677da9cfa542a",
     "locked": false,
     "schema_version": 3,
     "solution": true,
     "task": false
    }
   },
   "outputs": [],
   "source": [
    "def evalforest(trees, X, alphas=None):\n",
    "    \"\"\"Evaluates X using trees.\n",
    "    \n",
    "    Input:\n",
    "        trees:  list of TreeNode decision trees of length m\n",
    "        X:      n x d matrix of data points\n",
    "        alphas: m-dimensional weight vector\n",
    "        \n",
    "    Output:\n",
    "        pred: n-dimensional vector of predictions\n",
    "    \"\"\"\n",
    "    m = len(trees)\n",
    "    n,d = X.shape\n",
    "    if alphas is None:\n",
    "        alphas = np.ones(m) / len(trees)\n",
    "            \n",
    "    pred = np.zeros(n)\n",
    "    \n",
    "    # YOUR CODE HERE\n",
    "    for i in range(m):\n",
    "        pred += alphas[i] * evaltree(trees[i], X)\n",
    "\n",
    "    return pred"
   ]
  },
  {
   "cell_type": "markdown",
   "metadata": {
    "deletable": false,
    "editable": false,
    "nbgrader": {
     "cell_type": "markdown",
     "checksum": "2d9944d659e149ec4172a1fcf90c0772",
     "grade": false,
     "grade_id": "cell-f4b15aac0a3f4d1b",
     "locked": true,
     "schema_version": 3,
     "solution": false,
     "task": false
    }
   },
   "source": [
    "<p>The following script visualizes the decision boundary of a random forest ensemble.</p>"
   ]
  },
  {
   "cell_type": "code",
   "execution_count": 193,
   "metadata": {
    "deletable": false,
    "editable": false,
    "nbgrader": {
     "cell_type": "code",
     "checksum": "89e110f32bf24d284e91aea57aabcfee",
     "grade": false,
     "grade_id": "cell-fce6ab17683fff14",
     "locked": true,
     "schema_version": 3,
     "solution": false,
     "task": false
    }
   },
   "outputs": [
    {
     "data": {
      "application/vnd.jupyter.widget-view+json": {
       "model_id": "236a450d47b24ba3b7ab4e9912ec8a76",
       "version_major": 2,
       "version_minor": 0
      },
      "image/png": "[encoded data removed]",
      "text/html": [
       "\n",
       "            <div style=\"display: inline-block;\">\n",
       "                <div class=\"jupyter-widgets widget-label\" style=\"text-align: center;\">\n",
       "                    Figure\n",
       "                </div>\n",
       "                <img src='data:image/png;base64,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' width=640.0/>\n",
       "            </div>\n",
       "        "
      ],
      "text/plain": [
       "Canvas(toolbar=Toolbar(toolitems=[('Home', 'Reset original view', 'home', 'home'), ('Back', 'Back to previous …"
      ]
     },
     "metadata": {},
     "output_type": "display_data"
    },
    {
     "name": "stdout",
     "output_type": "stream",
     "text": [
      "Training error: 0.0000\n",
      "Testing error:  0.0133\n"
     ]
    }
   ],
   "source": [
    "trees=forest(xTrSpiral,yTrSpiral,30) # compute tree on training data \n",
    "visclassifier(lambda X:evalforest(trees,X),xTrSpiral,yTrSpiral)\n",
    "print(\"Training error: %.4f\" % np.mean(np.sign(evalforest(trees,xTrSpiral)) != yTrSpiral))\n",
    "print(\"Testing error:  %.4f\" % np.mean(np.sign(evalforest(trees,xTeSpiral)) != yTeSpiral))"
   ]
  },
  {
   "cell_type": "markdown",
   "metadata": {
    "deletable": false,
    "editable": false,
    "nbgrader": {
     "cell_type": "markdown",
     "checksum": "240ad5b0621527e90f5f215d0e1b2506",
     "grade": false,
     "grade_id": "cell-aba5f94293c2e524",
     "locked": true,
     "schema_version": 3,
     "solution": false,
     "task": false
    }
   },
   "source": [
    "<p>The following script evaluates the test and training error of a random forest ensemble as we vary the number of trees.</p>"
   ]
  },
  {
   "cell_type": "code",
   "execution_count": 194,
   "metadata": {
    "deletable": false,
    "editable": false,
    "nbgrader": {
     "cell_type": "code",
     "checksum": "0738c12966adbfd61677c854a83ed7c7",
     "grade": false,
     "grade_id": "cell-a3d95218b61c5dfe",
     "locked": true,
     "schema_version": 3,
     "solution": false,
     "task": false
    }
   },
   "outputs": [
    {
     "name": "stdout",
     "output_type": "stream",
     "text": [
      "[0]training err = 0.0427\ttesting err = 0.1714\n",
      "[1]training err = 0.0890\ttesting err = 0.2429\n",
      "[2]training err = 0.0107\ttesting err = 0.1429\n",
      "[3]training err = 0.0214\ttesting err = 0.1286\n",
      "[4]training err = 0.0107\ttesting err = 0.0857\n",
      "[5]training err = 0.0071\ttesting err = 0.0857\n",
      "[6]training err = 0.0000\ttesting err = 0.0857\n",
      "[7]training err = 0.0071\ttesting err = 0.0714\n",
      "[8]training err = 0.0036\ttesting err = 0.0714\n",
      "[9]training err = 0.0036\ttesting err = 0.0714\n",
      "[10]training err = 0.0036\ttesting err = 0.0857\n",
      "[11]training err = 0.0071\ttesting err = 0.0857\n",
      "[12]training err = 0.0036\ttesting err = 0.0714\n",
      "[13]training err = 0.0036\ttesting err = 0.1000\n",
      "[14]training err = 0.0036\ttesting err = 0.1000\n",
      "[15]training err = 0.0036\ttesting err = 0.1000\n",
      "[16]training err = 0.0036\ttesting err = 0.0857\n",
      "[17]training err = 0.0036\ttesting err = 0.1000\n",
      "[18]training err = 0.0000\ttesting err = 0.1000\n",
      "[19]training err = 0.0036\ttesting err = 0.0857\n"
     ]
    },
    {
     "data": {
      "application/vnd.jupyter.widget-view+json": {
       "model_id": "2b7750c4ffd54a3fb3c56ab9fd35f36c",
       "version_major": 2,
       "version_minor": 0
      },
      "image/png": "[encoded data removed]",
      "text/html": [
       "\n",
       "            <div style=\"display: inline-block;\">\n",
       "                <div class=\"jupyter-widgets widget-label\" style=\"text-align: center;\">\n",
       "                    Figure\n",
       "                </div>\n",
       "                <img src='data:image/png;base64,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' width=640.0/>\n",
       "            </div>\n",
       "        "
      ],
      "text/plain": [
       "Canvas(toolbar=Toolbar(toolitems=[('Home', 'Reset original view', 'home', 'home'), ('Back', 'Back to previous …"
      ]
     },
     "metadata": {},
     "output_type": "display_data"
    }
   ],
   "source": [
    "M=20 # max number of trees\n",
    "err_trB=[]\n",
    "err_teB=[]\n",
    "alltrees=forest(xTrIon,yTrIon,M)\n",
    "for i in range(M):\n",
    "    trees=alltrees[:i+1]\n",
    "    trErr = np.mean(np.sign(evalforest(trees,xTrIon)) != yTrIon)\n",
    "    teErr = np.mean(np.sign(evalforest(trees,xTeIon)) != yTeIon)\n",
    "    err_trB.append(trErr)\n",
    "    err_teB.append(teErr)\n",
    "    print(\"[%d]training err = %.4f\\ttesting err = %.4f\" % (i,trErr, teErr))\n",
    "\n",
    "plt.figure()\n",
    "line_tr, = plt.plot(range(M),err_trB,label=\"Training Error\")\n",
    "line_te, = plt.plot(range(M),err_teB,label=\"Testing error\")\n",
    "plt.title(\"Random Forest\")\n",
    "plt.legend(handles=[line_tr, line_te])\n",
    "plt.xlabel(\"# of trees\")\n",
    "plt.ylabel(\"error\")\n",
    "plt.show()\n",
    "# Your training error should converge"
   ]
  },
  {
   "cell_type": "code",
   "execution_count": 195,
   "metadata": {
    "deletable": false,
    "editable": false,
    "nbgrader": {
     "cell_type": "code",
     "checksum": "7b4d3902787aa6127913458b110f9aab",
     "grade": false,
     "grade_id": "cell-40b0e860bbf15397",
     "locked": true,
     "schema_version": 3,
     "solution": false,
     "task": false
    }
   },
   "outputs": [
    {
     "name": "stdout",
     "output_type": "stream",
     "text": [
      "Note: there is strong delay between points\n"
     ]
    },
    {
     "data": {
      "text/plain": [
       "Text(0.5, 1.0, 'Use shift-click to add negative points.')"
      ]
     },
     "execution_count": 195,
     "metadata": {},
     "output_type": "execute_result"
    },
    {
     "data": {
      "application/vnd.jupyter.widget-view+json": {
       "model_id": "0044065bcb3f427c9026b7e76d6698d8",
       "version_major": 2,
       "version_minor": 0
      },
      "image/png": "[encoded data removed]",
      "text/html": [
       "\n",
       "            <div style=\"display: inline-block;\">\n",
       "                <div class=\"jupyter-widgets widget-label\" style=\"text-align: center;\">\n",
       "                    Figure\n",
       "                </div>\n",
       "                <img src='data:image/png;base64,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' width=640.0/>\n",
       "            </div>\n",
       "        "
      ],
      "text/plain": [
       "Canvas(toolbar=Toolbar(toolitems=[('Home', 'Reset original view', 'home', 'home'), ('Back', 'Back to previous …"
      ]
     },
     "metadata": {},
     "output_type": "display_data"
    }
   ],
   "source": [
    "def onclick_forest(event):\n",
    "    \"\"\"\n",
    "    Visualize forest, including new point\n",
    "    \"\"\"\n",
    "    global xTrain,yTrain,w,b,M\n",
    "    # create position vector for new point\n",
    "    pos=np.array([[event.xdata,event.ydata]]) \n",
    "    if event.key == 'shift': # add positive point\n",
    "        color='or'\n",
    "        label=1\n",
    "    else: # add negative point\n",
    "        color='ob'\n",
    "        label=-1    \n",
    "    xTrain = np.concatenate((xTrain,pos), axis = 0)\n",
    "    yTrain = np.append(yTrain, label)\n",
    "    marker_symbols = ['o', 'x']\n",
    "    classvals = np.unique(yTrain)\n",
    "        \n",
    "    w = np.array(w).flatten()\n",
    "    \n",
    "    mycolors = [[0.5, 0.5, 1], [1, 0.5, 0.5]]\n",
    "    \n",
    "    # return 300 evenly spaced numbers over this interval\n",
    "    res=300\n",
    "    xrange = np.linspace(0, 1,res)\n",
    "    yrange = np.linspace(0, 1,res)\n",
    "    \n",
    "    # repeat this matrix 300 times for both axes\n",
    "    pixelX = repmat(xrange, res, 1)\n",
    "    pixelY = repmat(yrange, res, 1).T\n",
    "\n",
    "    xTe = np.array([pixelX.flatten(), pixelY.flatten()]).T\n",
    "\n",
    "    # get forest\n",
    "    trees=forest(xTrain,yTrain,M)\n",
    "    fun = lambda X:evalforest(trees,X)\n",
    "    # test all of these points on the grid\n",
    "    testpreds = fun(xTe)\n",
    "    \n",
    "    # reshape it back together to make our grid\n",
    "    Z = testpreds.reshape(res, res)\n",
    "    # Z[0,0] = 1 # optional: scale the colors correctly\n",
    "    \n",
    "    plt.cla()    \n",
    "    plt.xlim((0,1))\n",
    "    plt.ylim((0,1))\n",
    "    # fill in the contours for these predictions\n",
    "    plt.contourf(pixelX, pixelY, np.sign(Z), colors=mycolors)\n",
    "    \n",
    "    for idx, c in enumerate(classvals):\n",
    "        plt.scatter(xTrain[yTrain == c,0],\n",
    "            xTrain[yTrain == c,1],\n",
    "            marker=marker_symbols[idx],\n",
    "            color='k'\n",
    "            )\n",
    "    plt.show()\n",
    "    \n",
    "        \n",
    "xTrain= np.array([[5,6]])\n",
    "b=yTrIon\n",
    "yTrain = np.array([1])\n",
    "w=xTrIon\n",
    "M=20\n",
    "\n",
    "fig = plt.figure()\n",
    "plt.xlim(0,1)\n",
    "plt.ylim(0,1)\n",
    "cid = fig.canvas.mpl_connect('button_press_event', onclick_forest)\n",
    "print('Note: there is strong delay between points')\n",
    "plt.title('Use shift-click to add negative points.')"
   ]
  },
  {
   "cell_type": "markdown",
   "metadata": {
    "deletable": false,
    "editable": false,
    "nbgrader": {
     "cell_type": "markdown",
     "checksum": "6a43e7907e81937d92a9e0a9295ba8f4",
     "grade": false,
     "grade_id": "cell-faa99e3970c2080c",
     "locked": true,
     "schema_version": 3,
     "solution": false,
     "task": false
    }
   },
   "source": [
    "<h2>Boosting</h2>\n",
    "\n",
    "<p>Another option to improve your decision trees is to build trees of small depth (e.g. only depth=3 or depth=4). These do not have high variance, but instead suffer from <b>high bias</b>. You can reduce the bias of a classifier with boosting. Implement the function <code>boosttree</code>, which applies Adaboost on your <code>cart</code> functions. You should be able to use the function <code>evalforest</code> to evaluate your boosted ensemble (provdided you pass on the weights correctly.)</p>"
   ]
  },
  {
   "cell_type": "code",
   "execution_count": null,
   "metadata": {
    "deletable": false,
    "nbgrader": {
     "cell_type": "code",
     "checksum": "030ca99b525c9574d0a137a03d2709f7",
     "grade": false,
     "grade_id": "cell-6e4bec6d93833b06",
     "locked": false,
     "schema_version": 3,
     "solution": true,
     "task": false
    }
   },
   "outputs": [],
   "source": [
    "def boosttree(x,y,maxiter=100,maxdepth=2):\n",
    "    \"\"\"Learns a boosted decision tree.\n",
    "    \n",
    "    Input:\n",
    "        x:        n x d matrix of data points\n",
    "        y:        n-dimensional vector of labels\n",
    "        maxiter:  maximum number of trees\n",
    "        maxdepth: maximum depth of a tree\n",
    "        \n",
    "    Output:\n",
    "        forest: list of TreeNode decision trees of length m\n",
    "        alphas: m-dimensional weight vector\n",
    "        \n",
    "    (note, m is at most maxiter, but may be smaller,\n",
    "    as dictated by the Adaboost algorithm)\n",
    "    \"\"\"\n",
    "    assert np.allclose(np.unique(y), np.array([-1,1])); # the labels must be -1 and 1 \n",
    "    n,d = x.shape\n",
    "    weights = np.ones(n) / n\n",
    "    preds   = None\n",
    "    forest  = []\n",
    "    alphas  = []\n",
    "\n",
    "    # YOUR CODE HERE\n",
    "    for i in range(maxiter):\n",
    "        # train a tree\n",
    "        tree = cart(x, y, maxdepth, weights)\n",
    "        pred = evaltree(tree, x)\n",
    "        # convert prediction to -1 and 1\n",
    "        pred = np.sign(pred)\n",
    "        # calculate error\n",
    "        error = np.sum(weights * (pred != y))\n",
    "        if error < 0.5:\n",
    "            # calculate alpha\n",
    "            alpha = 0.5 * np.log((1 - error) / error)\n",
    "            forest.append(tree)\n",
    "            alphas.append(alpha)\n",
    "            # update weights\n",
    "            weights = weights * np.exp(-alpha * pred * y) / (2 * np.sqrt(error * (1 - error)))\n",
    "        else:\n",
    "            break\n",
    "\n",
    "    return forest, alphas"
   ]
  },
  {
   "cell_type": "markdown",
   "metadata": {
    "deletable": false,
    "editable": false,
    "nbgrader": {
     "cell_type": "markdown",
     "checksum": "97e9c1a6842a511a06bad2c3a15eb3ef",
     "grade": false,
     "grade_id": "cell-d9cacc62ecaf87cb",
     "locked": true,
     "schema_version": 3,
     "solution": false,
     "task": false
    }
   },
   "source": [
    "<p>The following script evaluates the test and training error of a boosted forest as we increase the number of trees.</p>"
   ]
  },
  {
   "cell_type": "code",
   "execution_count": 197,
   "metadata": {
    "deletable": false,
    "editable": false,
    "nbgrader": {
     "cell_type": "code",
     "checksum": "b77d7852105a15f0086c93e5c82a78a1",
     "grade": false,
     "grade_id": "cell-fde54aafd46b5993",
     "locked": true,
     "schema_version": 3,
     "solution": false,
     "task": false
    }
   },
   "outputs": [
    {
     "name": "stdout",
     "output_type": "stream",
     "text": [
      "[0] exp loss = 0.6229 training err = 0.1139\ttesting err = 0.2000\n",
      "[1] exp loss = 0.4694 training err = 0.0819\ttesting err = 0.1714\n",
      "[2] exp loss = 0.3885 training err = 0.0463\ttesting err = 0.1714\n",
      "[3] exp loss = 0.3066 training err = 0.0498\ttesting err = 0.1714\n",
      "[4] exp loss = 0.2225 training err = 0.0320\ttesting err = 0.2000\n",
      "[5] exp loss = 0.1751 training err = 0.0249\ttesting err = 0.2286\n",
      "[6] exp loss = 0.1538 training err = 0.0249\ttesting err = 0.1857\n",
      "[7] exp loss = 0.1215 training err = 0.0000\ttesting err = 0.1143\n",
      "[8] exp loss = 0.0991 training err = 0.0071\ttesting err = 0.1143\n",
      "[9] exp loss = 0.0821 training err = 0.0036\ttesting err = 0.1429\n",
      "[10] exp loss = 0.0646 training err = 0.0000\ttesting err = 0.1000\n",
      "[11] exp loss = 0.0630 training err = 0.0000\ttesting err = 0.1000\n",
      "[12] exp loss = 0.0583 training err = 0.0000\ttesting err = 0.1286\n",
      "[13] exp loss = 0.0459 training err = 0.0000\ttesting err = 0.1000\n",
      "[14] exp loss = 0.0436 training err = 0.0000\ttesting err = 0.1000\n",
      "[15] exp loss = 0.0388 training err = 0.0000\ttesting err = 0.1000\n",
      "[16] exp loss = 0.0470 training err = 0.0000\ttesting err = 0.1143\n",
      "[17] exp loss = 0.0396 training err = 0.0000\ttesting err = 0.1286\n",
      "[18] exp loss = 0.0377 training err = 0.0000\ttesting err = 0.1143\n",
      "[19] exp loss = 0.0338 training err = 0.0000\ttesting err = 0.1143\n"
     ]
    },
    {
     "data": {
      "application/vnd.jupyter.widget-view+json": {
       "model_id": "d15b281e23cc48edbd9a0ec5c66134b9",
       "version_major": 2,
       "version_minor": 0
      },
      "image/png": "[encoded data removed]",
      "text/html": [
       "\n",
       "            <div style=\"display: inline-block;\">\n",
       "                <div class=\"jupyter-widgets widget-label\" style=\"text-align: center;\">\n",
       "                    Figure\n",
       "                </div>\n",
       "                <img src='data:image/png;base64,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' width=640.0/>\n",
       "            </div>\n",
       "        "
      ],
      "text/plain": [
       "Canvas(toolbar=Toolbar(toolitems=[('Home', 'Reset original view', 'home', 'home'), ('Back', 'Back to previous …"
      ]
     },
     "metadata": {},
     "output_type": "display_data"
    }
   ],
   "source": [
    "M=20 # max number of trees\n",
    "alltrees,allalphas=boosttree(xTrIon,yTrIon,maxdepth=3,maxiter=M)\n",
    "\n",
    "err_trB=[]\n",
    "loss_trB=[]\n",
    "err_teB=[]\n",
    "for i in range(M):\n",
    "    trees=alltrees[:i+1]\n",
    "    alphas=allalphas[:i+1]\n",
    "    trErr = np.mean(np.sign(evalforest(trees,xTrIon,alphas)) != yTrIon)\n",
    "    trLoss =np.mean(np.exp(-evalforest(trees,xTrIon,alphas)*yTrIon))\n",
    "    teErr = np.mean(np.sign(evalforest(trees,xTeIon,alphas)) != yTeIon)\n",
    "    err_trB.append(trErr)\n",
    "    err_teB.append(teErr)\n",
    "    loss_trB.append(trLoss)\n",
    "    print(\"[%d] exp loss = %.4f training err = %.4f\\ttesting err = %.4f\" % (i,trLoss,trErr, teErr))\n",
    "\n",
    "plt.figure()\n",
    "line_tr, = plt.plot(range(M),err_trB,label=\"Training Error\")\n",
    "line_te, = plt.plot(range(M),err_teB,label=\"Testing error\")\n",
    "line_trloss,=plt.plot(range(M),loss_trB,label='Exp. Loss')\n",
    "plt.title(\"Adaboost\")\n",
    "plt.legend(handles=[line_tr, line_te,line_trloss])\n",
    "plt.xlabel(\"# of trees\")\n",
    "plt.ylabel(\"error\")\n",
    "plt.show()\n",
    "# Your training error should converge very quickly"
   ]
  },
  {
   "cell_type": "code",
   "execution_count": 198,
   "metadata": {
    "deletable": false,
    "editable": false,
    "nbgrader": {
     "cell_type": "code",
     "checksum": "9a658fd6a0382a99a5d6c8bd765f7f25",
     "grade": false,
     "grade_id": "cell-412235795894022a",
     "locked": true,
     "schema_version": 3,
     "solution": false,
     "task": false
    }
   },
   "outputs": [
    {
     "data": {
      "application/vnd.jupyter.widget-view+json": {
       "model_id": "3fcf6d1b918142629c4f8a10f5043d6a",
       "version_major": 2,
       "version_minor": 0
      },
      "image/png": "[encoded data removed]",
      "text/html": [
       "\n",
       "            <div style=\"display: inline-block;\">\n",
       "                <div class=\"jupyter-widgets widget-label\" style=\"text-align: center;\">\n",
       "                    Figure\n",
       "                </div>\n",
       "                <img src='data:image/png;base64,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' width=640.0/>\n",
       "            </div>\n",
       "        "
      ],
      "text/plain": [
       "Canvas(toolbar=Toolbar(toolitems=[('Home', 'Reset original view', 'home', 'home'), ('Back', 'Back to previous …"
      ]
     },
     "metadata": {},
     "output_type": "display_data"
    },
    {
     "name": "stdout",
     "output_type": "stream",
     "text": [
      "elapsed time: 0.85 seconds\n",
      "Training error: 0.0933\n",
      "Testing error:  0.1467\n"
     ]
    }
   ],
   "source": [
    "trees,alphas=boosttree(xTrSpiral,yTrSpiral,maxdepth=3,maxiter=20)\n",
    "visclassifier(lambda X:evalforest(trees,X,alphas),xTrSpiral,yTrSpiral)\n",
    "\n",
    "print(\"elapsed time: %.2f seconds\" % (t1-t0))\n",
    "print(\"Training error: %.4f\" % np.mean(np.sign(evalforest(trees,xTrSpiral,alphas)) != yTrSpiral))\n",
    "print(\"Testing error:  %.4f\" % np.mean(np.sign(evalforest(trees,xTeSpiral,alphas)) != yTeSpiral))"
   ]
  },
  {
   "cell_type": "code",
   "execution_count": 199,
   "metadata": {
    "deletable": false,
    "editable": false,
    "nbgrader": {
     "cell_type": "code",
     "checksum": "67e43948259004230f01939797b7279e",
     "grade": false,
     "grade_id": "cell-e53ca9e4cded1a68",
     "locked": true,
     "schema_version": 3,
     "solution": false,
     "task": false
    }
   },
   "outputs": [
    {
     "data": {
      "text/plain": [
       "Text(0.5, 1.0, 'Use shift-click to add negative points.')"
      ]
     },
     "execution_count": 199,
     "metadata": {},
     "output_type": "execute_result"
    },
    {
     "data": {
      "application/vnd.jupyter.widget-view+json": {
       "model_id": "0d2fa6bceb1c48958df107d5c60ceb42",
       "version_major": 2,
       "version_minor": 0
      },
      "image/png": "[encoded data removed]",
      "text/html": [
       "\n",
       "            <div style=\"display: inline-block;\">\n",
       "                <div class=\"jupyter-widgets widget-label\" style=\"text-align: center;\">\n",
       "                    Figure\n",
       "                </div>\n",
       "                <img src='data:image/png;base64,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' width=640.0/>\n",
       "            </div>\n",
       "        "
      ],
      "text/plain": [
       "Canvas(toolbar=Toolbar(toolitems=[('Home', 'Reset original view', 'home', 'home'), ('Back', 'Back to previous …"
      ]
     },
     "metadata": {},
     "output_type": "display_data"
    }
   ],
   "source": [
    "xT = np.array([[5,6],[2,5]])\n",
    "yT = np.array([-1,1])\n",
    "fig = plt.figure()\n",
    "plt.xlim(0,1)\n",
    "plt.ylim(0,1)\n",
    "\n",
    "\n",
    "def onclick_boost(event):\n",
    "    \"\"\"\n",
    "    Visualize boosting, including new point\n",
    "    \"\"\"\n",
    "    global xT,yT\n",
    "    # create position vector for new point\n",
    "    pos=np.array([[event.xdata,event.ydata]]) \n",
    "    if event.key == 'shift': # add positive point\n",
    "        color='or'\n",
    "        label=1\n",
    "    else: # add negative point\n",
    "        color='ob'\n",
    "        label=-1    \n",
    "    xT = np.concatenate((xT,pos), axis = 0)\n",
    "    yT = np.append(yT, label)\n",
    "    marker_symbols = ['o', 'x']\n",
    "    classvals = np.unique(yTrain)\n",
    "            \n",
    "    mycolors = [[0.5, 0.5, 1], [1, 0.5, 0.5]]\n",
    "    \n",
    "    # return 300 evenly spaced numbers over this interval\n",
    "    res=300\n",
    "    xrange = np.linspace(0,1,res)\n",
    "    yrange = np.linspace(0,1,res)\n",
    "    \n",
    "    # repeat this matrix 300 times for both axes\n",
    "    pixelX = repmat(xrange, res, 1)\n",
    "    pixelY = repmat(yrange, res, 1).T\n",
    "    xTe = np.array([pixelX.flatten(), pixelY.flatten()]).T\n",
    "    \n",
    "    # get forest\n",
    "    forest,alphas=boosttree(xT,yT,maxdepth=3,maxiter=5)\n",
    "    if len(forest) > 0:\n",
    "        fun = lambda X: evalforest(forest,X,alphas)\n",
    "        # test all of these points on the grid\n",
    "        testpreds = fun(xTe)\n",
    "\n",
    "        # reshape it back together to make our grid\n",
    "        Z = testpreds.reshape(res, res)\n",
    "        Z[0,0] = 1 # optional: scale the colors correctly\n",
    "\n",
    "        plt.cla()    \n",
    "        plt.xlim((0,1))\n",
    "        plt.ylim((0,1))\n",
    "        # fill in the contours for these predictions\n",
    "        plt.contourf(pixelX, pixelY, np.sign(Z), colors=mycolors)\n",
    "    \n",
    "    for idx, c in enumerate(classvals):\n",
    "        plt.scatter(xT[yT == c,0],\n",
    "            xT[yT == c,1],\n",
    "            marker=marker_symbols[idx],\n",
    "            color='k'\n",
    "            )\n",
    "    plt.show()\n",
    "    \n",
    "cid = fig.canvas.mpl_connect('button_press_event', onclick_boost)\n",
    "plt.title('Use shift-click to add negative points.')"
   ]
  },
  {
   "cell_type": "code",
   "execution_count": 200,
   "metadata": {
    "deletable": false,
    "editable": false,
    "nbgrader": {
     "cell_type": "code",
     "checksum": "bf133bec53248e1c4b109008b0176fd7",
     "grade": true,
     "grade_id": "sqsplit_test2",
     "locked": true,
     "points": 5,
     "schema_version": 3,
     "solution": false,
     "task": false
    }
   },
   "outputs": [],
   "source": [
    "# Do not delete, copy, paste, or alter these cells as this will cause the tests to fail automatically"
   ]
  },
  {
   "cell_type": "code",
   "execution_count": 201,
   "metadata": {
    "deletable": false,
    "editable": false,
    "nbgrader": {
     "cell_type": "code",
     "checksum": "6f15115822db61acc056b34809f04431",
     "grade": true,
     "grade_id": "sqsplit_test3",
     "locked": true,
     "points": 5,
     "schema_version": 3,
     "solution": false,
     "task": false
    }
   },
   "outputs": [],
   "source": [
    "# Do not delete, copy, paste, or alter these cells as this will cause the tests to fail automatically"
   ]
  },
  {
   "cell_type": "code",
   "execution_count": 202,
   "metadata": {
    "deletable": false,
    "editable": false,
    "nbgrader": {
     "cell_type": "code",
     "checksum": "b352ab031e5573e0e9ca02f9bc8bdcd2",
     "grade": true,
     "grade_id": "cart_test1",
     "locked": true,
     "points": 5,
     "schema_version": 3,
     "solution": false,
     "task": false
    }
   },
   "outputs": [],
   "source": [
    "# Do not delete, copy, paste, or alter these cells as this will cause the tests to fail automatically"
   ]
  },
  {
   "cell_type": "code",
   "execution_count": 203,
   "metadata": {
    "deletable": false,
    "editable": false,
    "nbgrader": {
     "cell_type": "code",
     "checksum": "8c9d4d69ae8d2cdb8d900a1b72b989ab",
     "grade": true,
     "grade_id": "cart_test2",
     "locked": true,
     "points": 3,
     "schema_version": 3,
     "solution": false,
     "task": false
    }
   },
   "outputs": [],
   "source": [
    "# Do not delete, copy, paste, or alter these cells as this will cause the tests to fail automatically"
   ]
  },
  {
   "cell_type": "code",
   "execution_count": 204,
   "metadata": {
    "deletable": false,
    "editable": false,
    "nbgrader": {
     "cell_type": "code",
     "checksum": "3c602df0600964c3ae42935dec071819",
     "grade": true,
     "grade_id": "cart_test3",
     "locked": true,
     "points": 3,
     "schema_version": 3,
     "solution": false,
     "task": false
    }
   },
   "outputs": [],
   "source": [
    "# Do not delete, copy, paste, or alter these cells as this will cause the tests to fail automatically"
   ]
  },
  {
   "cell_type": "code",
   "execution_count": 205,
   "metadata": {
    "deletable": false,
    "editable": false,
    "nbgrader": {
     "cell_type": "code",
     "checksum": "700de9178b30f005d32dacffe28978aa",
     "grade": true,
     "grade_id": "evaltree_test1",
     "locked": true,
     "points": 3,
     "schema_version": 3,
     "solution": false,
     "task": false
    }
   },
   "outputs": [],
   "source": [
    "# Do not delete, copy, paste, or alter these cells as this will cause the tests to fail automatically"
   ]
  },
  {
   "cell_type": "code",
   "execution_count": 206,
   "metadata": {
    "deletable": false,
    "editable": false,
    "nbgrader": {
     "cell_type": "code",
     "checksum": "990e464d7805ae5d63caad4c2a2337b9",
     "grade": true,
     "grade_id": "evaltree_test2",
     "locked": true,
     "points": 3,
     "schema_version": 3,
     "solution": false,
     "task": false
    }
   },
   "outputs": [],
   "source": [
    "# Do not delete, copy, paste, or alter these cells as this will cause the tests to fail automatically"
   ]
  },
  {
   "cell_type": "code",
   "execution_count": 207,
   "metadata": {
    "deletable": false,
    "editable": false,
    "nbgrader": {
     "cell_type": "code",
     "checksum": "80289f05e067c134f2e8587e57624fd7",
     "grade": true,
     "grade_id": "forest_test1",
     "locked": true,
     "points": 3,
     "schema_version": 3,
     "solution": false,
     "task": false
    }
   },
   "outputs": [],
   "source": [
    "# Do not delete, copy, paste, or alter these cells as this will cause the tests to fail automatically"
   ]
  },
  {
   "cell_type": "code",
   "execution_count": 208,
   "metadata": {
    "deletable": false,
    "editable": false,
    "nbgrader": {
     "cell_type": "code",
     "checksum": "89442130513598dda3251e333447a963",
     "grade": true,
     "grade_id": "bagging_test1",
     "locked": true,
     "points": 3,
     "schema_version": 3,
     "solution": false,
     "task": false
    }
   },
   "outputs": [],
   "source": [
    "# Do not delete, copy, paste, or alter these cells as this will cause the tests to fail automatically"
   ]
  },
  {
   "cell_type": "code",
   "execution_count": 209,
   "metadata": {
    "deletable": false,
    "editable": false,
    "nbgrader": {
     "cell_type": "code",
     "checksum": "b1bce957599b3d0fcc9dc56bc7e97186",
     "grade": true,
     "grade_id": "bagging_test2",
     "locked": true,
     "points": 3,
     "schema_version": 3,
     "solution": false,
     "task": false
    }
   },
   "outputs": [],
   "source": [
    "# Do not delete, copy, paste, or alter these cells as this will cause the tests to fail automatically"
   ]
  },
  {
   "cell_type": "code",
   "execution_count": 210,
   "metadata": {
    "deletable": false,
    "editable": false,
    "nbgrader": {
     "cell_type": "code",
     "checksum": "408e93ddeb1ab737078c59e6b9e9f309",
     "grade": true,
     "grade_id": "boosting_test1",
     "locked": true,
     "points": 3,
     "schema_version": 3,
     "solution": false,
     "task": false
    }
   },
   "outputs": [],
   "source": [
    "# Do not delete, copy, paste, or alter these cells as this will cause the tests to fail automatically"
   ]
  },
  {
   "cell_type": "markdown",
   "metadata": {
    "deletable": false,
    "editable": false,
    "nbgrader": {
     "cell_type": "markdown",
     "checksum": "48206f2fa4480b0a604e89905866620d",
     "grade": false,
     "grade_id": "cell-48581b14a6981e50",
     "locked": true,
     "schema_version": 3,
     "solution": false,
     "task": false
    }
   },
   "source": [
    "**Competition**: we ask you to improve the speed of evaltree and cart while keeping both functions accurate.\n",
    "    \n",
    "You will receive 3 points if your implemention as fast or faster than our slow solution on hidden data and 3 points if your implementation as fast or faster than our quick solution."
   ]
  },
  {
   "cell_type": "code",
   "execution_count": 211,
   "metadata": {
    "deletable": false,
    "nbgrader": {
     "cell_type": "code",
     "checksum": "e4115605a6b52f8af272d76da1611f73",
     "grade": false,
     "grade_id": "cell-618211b2d58e4ea7",
     "locked": false,
     "schema_version": 3,
     "solution": true,
     "task": false
    }
   },
   "outputs": [],
   "source": [
    "def evaltreecomp(root,xTe,idx=[]):\n",
    "    \"\"\"Evaluates xTe using decision tree root. Same as evaltree but designed to be as efficient as possible.\n",
    "    \n",
    "    Input:\n",
    "        root: TreeNode decision tree\n",
    "        xTe:  n x d matrix of data points\n",
    "        idx:  choosen indices, optional argument that might be helpful with implementation strategy\n",
    "    Output:\n",
    "        pred: n-dimensional vector of predictions\n",
    "    \"\"\"\n",
    "    assert root is not None\n",
    "    n = xTe.shape[0]\n",
    "    pred = np.zeros(n)\n",
    "    \n",
    "    # YOUR CODE HERE\n",
    "\n",
    "    # define a recursive function to evaluate the tree\n",
    "    def eval_batch(node, x, idx):\n",
    "        \n",
    "        # base case\n",
    "        if node.cutoff_id is None:\n",
    "            pred[idx] = node.prediction\n",
    "            return\n",
    "        \n",
    "        # get the indices of the left and right data points\n",
    "        left_idx = idx[x[idx, node.cutoff_id] <= node.cutoff_val]\n",
    "        right_idx = idx[x[idx, node.cutoff_id] > node.cutoff_val]\n",
    "\n",
    "        # evaluate the left and right child\n",
    "        eval_batch(node.left, x, left_idx)\n",
    "        eval_batch(node.right, x, right_idx)\n",
    "    \n",
    "    eval_batch(root, xTe, np.arange(n))\n",
    "\n",
    "    return pred\n",
    "\n",
    "\n",
    "def cartcomp(xTr,yTr,depth=np.inf,weights=None):\n",
    "    \"\"\"Builds a CART tree. Same as cart but designed to be as efficient as possible.\n",
    "    \n",
    "    The maximum tree depth is defined by \"maxdepth\" (maxdepth=2 means one split).\n",
    "    Each example can be weighted with \"weights\".\n",
    "\n",
    "    Args:\n",
    "        xTr:      n x d matrix of data\n",
    "        yTr:      n-dimensional vector\n",
    "        maxdepth: maximum tree depth\n",
    "        weights:  n-dimensional weight vector for data points\n",
    "\n",
    "    Returns:\n",
    "        tree: root of decision tree\n",
    "    \"\"\"\n",
    "    n,d = xTr.shape\n",
    "    if weights is None:\n",
    "        w = np.ones(n) / float(n)\n",
    "    else:\n",
    "        # normalise the weights\n",
    "        w = weights / np.sum(weights)\n",
    "    \n",
    "    # YOUR CODE HERE\n",
    "\n",
    "    # initialise node\n",
    "    node = TreeNode(None, None, None, None, None, np.sum(w * yTr))\n",
    "\n",
    "    # check the base case\n",
    "    if depth < 2 or len(np.unique(yTr)) == 1:\n",
    "        return node\n",
    "\n",
    "    # find the best split using efficient update\n",
    "    node.cutoff_id, node.cutoff_val, _ = sqsplit_efficient(xTr, yTr, w)\n",
    "\n",
    "    # when all the data points have the same features and values\n",
    "    # split does not exist\n",
    "    # hence return the node as a leaf\n",
    "    if node.cutoff_id == np.inf or node.cutoff_val == np.inf:\n",
    "        return node\n",
    "\n",
    "    # split the data\n",
    "    left_idx = xTr[:, node.cutoff_id] <= node.cutoff_val\n",
    "    right_idx = xTr[:, node.cutoff_id] > node.cutoff_val\n",
    "\n",
    "    # assign the left and right child\n",
    "    node.left = cartcomp(xTr[left_idx], yTr[left_idx], depth - 1, w[left_idx])\n",
    "    node.right = cartcomp(xTr[right_idx], yTr[right_idx], depth - 1, w[right_idx])\n",
    "\n",
    "    # assign the parent\n",
    "    node.left.parent = node\n",
    "    node.right.parent = node\n",
    "\n",
    "    return node"
   ]
  },
  {
   "cell_type": "code",
   "execution_count": 212,
   "metadata": {
    "deletable": false,
    "editable": false,
    "nbgrader": {
     "cell_type": "code",
     "checksum": "1ffd8258070ae12f9fd6ae07281cd591",
     "grade": false,
     "grade_id": "cell-25f260c3b553b9db",
     "locked": true,
     "schema_version": 3,
     "solution": false,
     "task": false
    }
   },
   "outputs": [],
   "source": [
    "t0 = time.time()\n",
    "root = cartcomp(xTrIon, yTrIon)\n",
    "t1 = time.time()\n",
    "\n",
    "\n",
    "repeat_factor = 20000\n",
    "xTeIonRepeated = np.repeat(xTeIon, repeat_factor, axis = 0)\n",
    "\n",
    "t2 = time.time()\n",
    "pred = evaltreecomp(root,xTeIonRepeated)\n",
    "t3 = time.time()"
   ]
  },
  {
   "cell_type": "code",
   "execution_count": 213,
   "metadata": {},
   "outputs": [
    {
     "name": "stdout",
     "output_type": "stream",
     "text": [
      "cart time: 0.04148602485656738 seconds\n",
      "eval time: 0.1491379737854004 seconds\n"
     ]
    }
   ],
   "source": [
    "print('cart time:',t1-t0,'seconds')\n",
    "print('eval time:',t3-t2,'seconds')"
   ]
  },
  {
   "cell_type": "code",
   "execution_count": 214,
   "metadata": {
    "deletable": false,
    "editable": false,
    "nbgrader": {
     "cell_type": "code",
     "checksum": "2ec9468dc4118f0b6cd359d51cf05868",
     "grade": true,
     "grade_id": "competition_test1",
     "locked": true,
     "points": 3,
     "schema_version": 3,
     "solution": false,
     "task": false
    }
   },
   "outputs": [],
   "source": [
    "# Do not delete, copy, paste, or alter these cells as this will cause the tests to fail automatically"
   ]
  },
  {
   "cell_type": "code",
   "execution_count": 215,
   "metadata": {
    "deletable": false,
    "editable": false,
    "nbgrader": {
     "cell_type": "code",
     "checksum": "17f45b55ec9a385b098f76839ffd86c0",
     "grade": true,
     "grade_id": "competition_test2",
     "locked": true,
     "points": 3,
     "schema_version": 3,
     "solution": false,
     "task": false
    }
   },
   "outputs": [],
   "source": [
    "# Do not delete, copy, paste, or alter these cells as this will cause the tests to fail automatically"
   ]
  }
 ],
 "metadata": {
  "kernelspec": {
   "display_name": "appliedml",
   "language": "python",
   "name": "python3"
  },
  "language_info": {
   "codemirror_mode": {
    "name": "ipython",
    "version": 3
   },
   "file_extension": ".py",
   "mimetype": "text/x-python",
   "name": "python",
   "nbconvert_exporter": "python",
   "pygments_lexer": "ipython3",
   "version": "3.12.8"
  }
 },
 "nbformat": 4,
 "nbformat_minor": 4
}
