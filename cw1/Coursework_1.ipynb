{
 "cells": [
  {
   "cell_type": "markdown",
   "metadata": {},
   "source": [
    "<h3>TODO</h3> \n",
    "Fill in any place that says <code># YOUR CODE HERE</code> (make sure to remove the line <code>raise ...Error()</code>).\n",
    "\n",
    "<h3>Suggestions</h3>\n",
    "\n",
    "- To speed up your code, think about how certain operations can be done at the same time.\n",
    "- Before you turn this problem in, make sure everything runs as expected. First, **restart the kernel** (in the menubar, select Kernel$\\rightarrow$Restart) and then **run all cells** (in the menubar, select Cell$\\rightarrow$Run All).\n",
    "- Double check your code does not have $\\infty$-loops, these will crash the autograder.\n",
    "\n",
    "<h3>Rules</h3>\n",
    "\n",
    "- Blank cells in the notebook are hidden tests. **Do not delete or alter these cells as this will cause the tests to fail automatically**.\n",
    "- **Do not copy any cell**. Instead create a new cell and transfer any code into the new cell.\n",
    "- Do not create multiple python notebooks (.ipynb files).\n",
    "- Do not import any new python packages (this may cause hidden tests to fail).\n",
    "- Each cell must run for less than 5 minutes (there exists a solution with full marks).\n",
    "- **Do not plagiarise!** We take violations of this very seriously. In previous years we have identified instances of plagiarism and reported them to the Senior Teaching & Learning Administrator.\n",
    "- If you are happy with your current grade you do not need to resubmit, the most recent grade from the autograder will be your final grade."
   ]
  },
  {
   "cell_type": "markdown",
   "metadata": {},
   "source": [
    "---"
   ]
  },
  {
   "cell_type": "markdown",
   "metadata": {
    "deletable": false,
    "editable": false,
    "nbgrader": {
     "cell_type": "markdown",
     "checksum": "2e682f102a98d335715990329747a9b1",
     "grade": false,
     "grade_id": "cell-22c9f752a48d4d97",
     "locked": true,
     "schema_version": 3,
     "solution": false,
     "task": false
    }
   },
   "source": [
    "<h2>Coursework 1 - Decision Trees</h2>\n",
    "\n",
    "\n",
    "<!--announcements-->\n",
    "<blockquote>\n",
    "    <center>\n",
    "    <img src=\"forest.jpg\" width=\"400px\" />\n",
    "    </center>\n",
    "      <p><cite><center>Boosting took a long time to be truly understood.<br>\n",
    "      ... cynics say we didn't see the forest for all the trees ...<br>\n",
    "      </center></cite></p>\n",
    "</blockquote>\n",
    "\n",
    "<!--announcements-->\n",
    "\n",
    "\n"
   ]
  },
  {
   "cell_type": "markdown",
   "metadata": {
    "deletable": false,
    "editable": false,
    "nbgrader": {
     "cell_type": "markdown",
     "checksum": "cde124a0b7601f419673251986124278",
     "grade": false,
     "grade_id": "cell-bcc26f0f420117c7",
     "locked": true,
     "schema_version": 3,
     "solution": false,
     "task": false
    }
   },
   "source": [
    "\n",
    "\n",
    "<h3>Introduction</h3>\n",
    "<p>In this assignment you will implement a decision tree algorithm and then use it for bagging and boosting. We've provided a tree structure for you with distinct leaves and nodes. Leaves have two fields, parent (another node) and prediction (a numerical value). Nodes have six fields: \n",
    "\n",
    "<ol>\n",
    "<li> <b>left</b>: node describing left subtree </li>\n",
    "<li> <b>right</b>: node describing right subtree </li>\n",
    "<li> <b>parent</b>: the parent of the current subtree. The head of the tree always has <code><b>None</b></code> as its parent. Feel free to initialize nodes with this field set to <code><b>None</b></code> so long as you set the correct parent later on. </li>\n",
    "<li> <b>cutoff_id</b>: index of feature to cut </li>\n",
    "<li> <b>cutoff_val</b>: cutoff value c (<=c : left, and >c : right)</li>\n",
    "<li> <b>prediction</b>: scalar prediction at this node. <b>(NOTE: please do not check if a node is a leaf by checking for prediction=None, this will mess up autograder tests!)</b>  </li>\n",
    "</ol>\n",
    "Finally, when you make a leaf node make sure it has this form: <b>TreeNode(None, None, None, None, None, prediction)</b>.\n",
    "</p>\n",
    "\n",
    "\n",
    "        "
   ]
  },
  {
   "cell_type": "code",
   "execution_count": 1,
   "metadata": {
    "deletable": false,
    "editable": false,
    "nbgrader": {
     "cell_type": "code",
     "checksum": "e33c3f0e4df2515d2e430f6e091ed32c",
     "grade": false,
     "grade_id": "cell-57d7072a148c2070",
     "locked": true,
     "schema_version": 3,
     "solution": false,
     "task": false
    }
   },
   "outputs": [],
   "source": [
    "class TreeNode(object):\n",
    "    \"\"\"Tree class.\n",
    "    \n",
    "    (You don't need to add any methods or fields here but feel\n",
    "    free to if you like. Our tests will only reference the fields\n",
    "    defined in the constructor below, so be sure to set these\n",
    "    correctly!)\n",
    "    \"\"\"\n",
    "    \n",
    "    def __init__(self, left, right, parent, cutoff_id, cutoff_val, prediction):\n",
    "        self.left = left\n",
    "        self.right = right\n",
    "        self.parent = parent\n",
    "        self.cutoff_id = cutoff_id\n",
    "        self.cutoff_val = cutoff_val\n",
    "        self.prediction = prediction"
   ]
  },
  {
   "cell_type": "markdown",
   "metadata": {
    "deletable": false,
    "editable": false,
    "nbgrader": {
     "cell_type": "markdown",
     "checksum": "acb161f68b896c18396ede3d71d41f10",
     "grade": false,
     "grade_id": "cell-c05aa5bde6395c94",
     "locked": true,
     "schema_version": 3,
     "solution": false,
     "task": false
    }
   },
   "source": [
    "<h3>Implementing CART</h3>\n",
    "Before we get started let us add a few packages that you might need. We will also load a data set <a href=\"https://archive.ics.uci.edu/ml/datasets/Ionosphere\">ION</a>, which we will use as our binary test classification problem."
   ]
  },
  {
   "cell_type": "code",
   "execution_count": 2,
   "metadata": {
    "deletable": false,
    "editable": false,
    "nbgrader": {
     "cell_type": "code",
     "checksum": "1e757c039191bf7c18b2d69786dcde81",
     "grade": false,
     "grade_id": "cell-ba718a0ce824c1df",
     "locked": true,
     "schema_version": 3,
     "solution": false,
     "task": false
    }
   },
   "outputs": [
    {
     "data": {
      "text/plain": [
       "((281, 34), (281,), (70, 34), (70,))"
      ]
     },
     "execution_count": 2,
     "metadata": {},
     "output_type": "execute_result"
    }
   ],
   "source": [
    "%matplotlib widget\n",
    "import numpy as np\n",
    "import math\n",
    "from numpy.matlib import repmat\n",
    "import sys\n",
    "import matplotlib \n",
    "import matplotlib.pyplot as plt\n",
    "from scipy.io import loadmat\n",
    "import time\n",
    "import os\n",
    "import warnings\n",
    "sys.path.append('')\n",
    "warnings.filterwarnings(\"ignore\", category=DeprecationWarning) \n",
    "\n",
    "\n",
    "# load in some binary test data (labels are -1, +1)\n",
    "data = loadmat(\"ion.mat\")\n",
    "xTrIon  = data['xTr'].T\n",
    "yTrIon  = data['yTr'].flatten()\n",
    "xTeIon  = data['xTe'].T\n",
    "yTeIon  = data['yTe'].flatten()\n",
    "\n",
    "xTrIon.shape, yTrIon.shape, xTeIon.shape, yTeIon.shape"
   ]
  },
  {
   "cell_type": "code",
   "execution_count": 3,
   "metadata": {
    "deletable": false,
    "editable": false,
    "nbgrader": {
     "cell_type": "code",
     "checksum": "cbdab1651e0c61c5e9076e59792a3a46",
     "grade": false,
     "grade_id": "cell-ba17001a88a8255d",
     "locked": true,
     "schema_version": 3,
     "solution": false,
     "task": false
    }
   },
   "outputs": [],
   "source": [
    "def spiraldata(N=300):\n",
    "    r = np.linspace(1,2*np.pi,N)\n",
    "    xTr1 = np.array([np.sin(2.*r)*r, np.cos(2*r)*r]).T\n",
    "    xTr2 = np.array([np.sin(2.*r+np.pi)*r, np.cos(2*r+np.pi)*r]).T\n",
    "    xTr = np.concatenate([xTr1, xTr2], axis=0)\n",
    "    yTr = np.concatenate([np.ones(N), -1 * np.ones(N)])\n",
    "    xTr = xTr + np.random.randn(xTr.shape[0], xTr.shape[1])*0.2\n",
    "    \n",
    "    xTe = xTr[::2,:]\n",
    "    yTe = yTr[::2]\n",
    "    xTr = xTr[1::2,:]\n",
    "    yTr = yTr[1::2]\n",
    "    \n",
    "    return xTr,yTr,xTe,yTe\n",
    "\n",
    "xTrSpiral,yTrSpiral,xTeSpiral,yTeSpiral=spiraldata(150)"
   ]
  },
  {
   "cell_type": "markdown",
   "metadata": {
    "deletable": false,
    "editable": false,
    "nbgrader": {
     "cell_type": "markdown",
     "checksum": "ff88429982d6d7a35bbb8469a9aa11eb",
     "grade": false,
     "grade_id": "cell-b8289ddc9797f690",
     "locked": true,
     "schema_version": 3,
     "solution": false,
     "task": false
    }
   },
   "source": [
    "<h3> Efficiently implementing regression trees </h3>\n",
    "First, implement the function <code>sqsplit</code> which takes as input a (weighted) data set with labels and computes the best feature and cut-value of an optimal split based on minimum squared error. The third input is a weight vector which assigns a positive weight to each training sample. The loss you should minimize is the averaged weighted squared-loss:\n",
    "\n",
    "$$\n",
    "\t{\\cal L}(S)=\\sum_{i \\in L} {w_{i}(y_{i} - T_{L})}^2+\\sum_{i \\in R} {w_{i}(y_{i} - T_{R})}^2\n",
    "$$\n",
    "\n",
    "You are building a regression tree, and right now you need to choose a split for the given dataset $S=\\{(\\vec x_1,y_1),\\dots,(\\vec x_n,y_n)\\}$ (where we have continuous labels $y_i\\in{\\cal R}$).\n",
    "Suppose you split on some feature $j$ with value $c$ and partition the dataset in to two sets of indices, $L$--the set of indices on the left (i.e., $i \\in L \\Rightarrow [x_{i}]_{j} < c$)--and $R$--the set of indices on the right (i.e., $i \\in R \\Rightarrow [x_{i}]_{j} > c$). Suppose you assign every data point on the left the prediction $T_{L}$ and every data point on the right the prediction $T_{R}$. Finally, suppose that each data point $x_{i}$ has an associated weight $w_{i}$, and that the weights are normalized (i.e., $\\sum_{i} w_{i} = 1$). \n",
    "\n",
    "\n",
    "First, we show that setting $T_{L}$ and $T_{R}$ to the weighted average label over their respective sets (i.e., $T_{L} = \\frac{1}{W_{L}}\\sum_{i\\in L}w_{i}y_{i}$ and $T_{R} = \\frac{1}{W_{R}}\\sum_{i\\in R}w_{i}y_{i}$) minimizes the loss $\\cal L$, where $W_{L}=\\sum_{i \\in L}w_{i}$ and $W_{R}=\\sum_{i \\in R} w_{i}$ are the total weight of the left and right side respectively.\n",
    "\n",
    "We take the derivative of the loss with respect to $T_{L}$ to obtain $$\\frac{d}{dT_{L}} {\\cal L}(S) = -2\\sum_{i \\in L}w_{i}(y_i - T_L)=-2\\sum_{i\\in L}w_iy_i + 2T_{L}\\sum_{i}w_{i}$$ Setting this equal to zero and solving, we get $$2T_{L}w_{L}=2\\sum_{i \\in L}w_{i}y_{i}$$ and therefore $$T_{L} = \\frac{1}{W_{L}}\\sum_{i \\in L}w_{i}y_{i}$$ A symmetric argument holds for $T_{R}$.\n",
    "\n",
    "Now, imagine you are considering splitting on some feature $j$, and suppose you have already sorted the training points in the order of this feature value, so that $[x_{1}]_{j} < [x_{2}]_{j} < \\cdots < [x_{n}]_{j}$. You'd like to choose a split from among $c_{1} \\leq c_{2} \\leq \\cdots \\leq c_{n-1}$, where $c_{i}=\\frac{[x_{i}]_{j}+[x_{i+1}]_{j}}{2}$. One way to do this would be to, for each possible split $c_{k}$, decide whether each $x_{i}$ should be partitioned left or right, and compute $\\cal L$. At the end, take the split with the lowest loss. The number of data points $n$ and there are $O(n)$ splits to consider, and the proposed algorithm would require $O(n)$ per split to evaluate $\\cal L$, for a total of $O(n^2)$ time.\n",
    "\n",
    "Now, suppose some split $c_{k}$ results in the data being partitioned in to $L^{(k)}$ and $R^{(k)}$. Suppose you are given the following quantities precomputed: $W_{L^{(k)}}$, $P_{L^{(k)}} = \\sum_{i \\in L} w_{i}y_{i}$, and $Q_{L^{(k)}} = \\sum_{i \\in L} w_{i}y_{i}^{2}$. Similarly, you are given $W_{R^{(k)}}$, $P_{R^{(k)}}$ and $Q_{R^{(k)}}$ Equipped with these precomputed quantities, we can compute $\\cal L$ in constant time:\n",
    "\n",
    "Expand the left side of the loss to $$\\sum_{i \\in L}w_{i}y_{i}^{2} - 2\\sum_{i \\in L}w_{i}y_{i}T_{L} + \\sum_{i \\in L}w_{i}T_{L}^{2}$$. The first term is exactly $Q_{L^{(k)}}$. The second term can be written as $-2P_{L^{(k)}}\\frac{P_{L^{(k)}}}{W_{L^{(k)}}}=-2\\frac{P_{L^{(k)}}^{2}}{w_{L^{(k)}}}$. The last term can be written as $w_{L^{(k)}}\\frac{P_{L^{(k)}}^{2}}{w_{L^{(k)}}^{2}}=\\frac{P_{L^{(k)}}^{2}}{w_{L^{(k)}}}$. The second term plus the third term is therefore simply $-\\frac{P_{L^{(k)}}^{2}}{w_{L^{(k)}}}$. Therefore the whole expression can be evaluated as: $$Q_{L^{(k)}}-\\frac{P_{L^{(k)}}^{2}}{w_{L^{(k)}}}$$ Similarly, the right term is: $$Q_{R^{(k)}}-\\frac{P_{R^{(k)}}^{2}}{w_{R^{(k)}}}$$\n",
    "\n",
    "<b> Efficent Update Rule: </b> If all feature values are distinct, only one data point moves from $R$ to $L$ when moving from split $k$ to split $k+1$. Therefore, we simply update the values accordingly. For example, we subtract $w_{k}$ from $W_{R^{(k)}}$ and add it to $W_{L^{(k)}}$. We subtract $w_{k}y_{k}$ from $P_{R^{(k)}}$ and add it to $P_{L^{(k)}}$. We subtract $w_{k}y_{k}^{2}$ from $Q_{R^{(k)}}$ and add it to $Q_{L^{(k)}}$. Crucially, all of these updates take only constant time."
   ]
  },
  {
   "cell_type": "code",
   "execution_count": 4,
   "metadata": {
    "deletable": false,
    "nbgrader": {
     "cell_type": "code",
     "checksum": "ca816a49a7c739efa38e5858b6f3b143",
     "grade": false,
     "grade_id": "cell-812f4d4ed0980f9d",
     "locked": false,
     "schema_version": 3,
     "solution": true,
     "task": false
    }
   },
   "outputs": [],
   "source": [
    "def sqsplit(xTr,yTr,weights=None):\n",
    "    \"\"\"Finds the best feature, cut value, and loss value.\n",
    "    \n",
    "    Input:\n",
    "        xTr:     n x d matrix of data points\n",
    "        yTr:     n-dimensional vector of labels\n",
    "        weights: n-dimensional weight vector for data points\n",
    "    \n",
    "    Output:\n",
    "        feature:  index of the best cut's feature\n",
    "        cut:      cut-value of the best cut\n",
    "        bestloss: loss of the best cut\n",
    "    \"\"\"\n",
    "    N,D = xTr.shape\n",
    "    assert D > 0 # must have at least one dimension\n",
    "    assert N > 1 # must have at least two samples\n",
    "    if weights is None: # if no weights are passed on, assign uniform weights\n",
    "        weights = np.ones(N)\n",
    "    weights = weights/sum(weights) # Weights need to sum to one (we just normalize them)\n",
    "    bestloss = np.inf\n",
    "    feature = np.inf\n",
    "    cut = np.inf\n",
    "    \n",
    "    # YOUR CODE HERE\n",
    "\n",
    "    # loop through all features (dimensions)\n",
    "    for d in range(D):\n",
    "    \n",
    "        # get a list of index with feature sorted\n",
    "        x_feature = xTr[:, d]\n",
    "        sorted_idx = np.argsort(x_feature)\n",
    "\n",
    "        # sort x, y and weights\n",
    "        x_sort = x_feature[sorted_idx]\n",
    "        y_sort = yTr[sorted_idx]\n",
    "        w_sort = weights[sorted_idx]\n",
    "        \n",
    "        # loop through all possible cut points\n",
    "        for i in range(N - 1):\n",
    "            \n",
    "            # skip if x[i] == x[i + 1]\n",
    "            # this is to avoid misgrouping when there are multiple identical x values\n",
    "            if x_sort[i] == x_sort[i + 1]:\n",
    "                continue\n",
    "            \n",
    "            # calculate mean label on the left and right side of the cut\n",
    "            tl = np.sum(w_sort[:i+1] * y_sort[:i+1]) / np.sum(w_sort[:i+1])\n",
    "            tr = np.sum(w_sort[i+1:] * y_sort[i+1:]) / np.sum(w_sort[i+1:])\n",
    "\n",
    "            # calculate loss            \n",
    "            loss = np.sum(w_sort[:i+1] * (y_sort[:i+1] - tl)**2) + np.sum(w_sort[i+1:] * (y_sort[i+1:] - tr)**2)\n",
    "\n",
    "            # update best loss, feature and cut\n",
    "            if loss < bestloss:\n",
    "                bestloss = loss\n",
    "                cut = (x_sort[i] + x_sort[i + 1]) / 2\n",
    "                feature = d\n",
    "            \n",
    "    return feature, cut, bestloss\n",
    "\n",
    "\n",
    "def sqsplit_efficient(xTr,yTr,weights=None):\n",
    "    \"\"\"Finds the best feature, cut value, and loss value.\n",
    "    \n",
    "    Input:\n",
    "        xTr:     n x d matrix of data points\n",
    "        yTr:     n-dimensional vector of labels\n",
    "        weights: n-dimensional weight vector for data points\n",
    "    \n",
    "    Output:\n",
    "        feature:  index of the best cut's feature\n",
    "        cut:      cut-value of the best cut\n",
    "        bestloss: loss of the best cut\n",
    "    \"\"\"\n",
    "    N,D = xTr.shape\n",
    "    assert D > 0 # must have at least one dimension\n",
    "    assert N > 1 # must have at least two samples\n",
    "    if weights is None: # if no weights are passed on, assign uniform weights\n",
    "        weights = np.ones(N)\n",
    "    weights = weights/sum(weights) # Weights need to sum to one (we just normalize them)\n",
    "    bestloss = np.inf\n",
    "    feature = np.inf\n",
    "    cut = np.inf\n",
    "    \n",
    "    # YOUR CODE HERE\n",
    "\n",
    "    Q = np.sum(weights * yTr**2)\n",
    "    P = np.sum(weights * yTr)\n",
    "\n",
    "    # loop through all features (dimensions)\n",
    "    for d in range(D):\n",
    "        x_feature = xTr[:, d]\n",
    "        sorted_idx = np.argsort(x_feature)\n",
    "        x_sort = x_feature[sorted_idx]\n",
    "        y_sort = yTr[sorted_idx]\n",
    "        w_sort = weights[sorted_idx]\n",
    "\n",
    "        # initialise the sums\n",
    "        pl, wl = 0, 0\n",
    "        pr, wr = P, 1\n",
    "\n",
    "        # loop through all possible cut points\n",
    "        for i in range(0, N - 1):\n",
    "\n",
    "            # update the matrix sums\n",
    "            p = w_sort[i] * y_sort[i]\n",
    "            w = w_sort[i]\n",
    "\n",
    "            pl += p\n",
    "            wl += w\n",
    "            pr -= p\n",
    "            wr -= w\n",
    "\n",
    "            # skip if x[i] == x[i + 1]\n",
    "            if x_sort[i] == x_sort[i + 1]:\n",
    "                continue\n",
    "            \n",
    "            # calculate loss\n",
    "            loss = Q - pl**2 / wl - pr**2 / wr\n",
    "\n",
    "            # update best loss, feature and cut\n",
    "            if loss < bestloss:\n",
    "                bestloss = loss\n",
    "                cut = (x_sort[i] + x_sort[i + 1]) / 2\n",
    "                feature = d\n",
    "\n",
    "    return feature, cut, bestloss"
   ]
  },
  {
   "cell_type": "code",
   "execution_count": 5,
   "metadata": {
    "deletable": false,
    "editable": false,
    "nbgrader": {
     "cell_type": "code",
     "checksum": "fb42ab3b03a8b62728d5c24af047c1a2",
     "grade": false,
     "grade_id": "cell-2afce21057bbdb09",
     "locked": true,
     "schema_version": 3,
     "solution": false,
     "task": false
    }
   },
   "outputs": [
    {
     "name": "stdout",
     "output_type": "stream",
     "text": [
      "elapsed time: 0.18724799156188965 seconds\n",
      "Split on feature 2 on value: 0.304\n",
      "NOTE: It should split on feature 2 on value 0.304\n"
     ]
    }
   ],
   "source": [
    "t0 = time.time()\n",
    "fid,cut,loss = sqsplit(xTrIon,yTrIon)\n",
    "t1 = time.time()\n",
    "print('elapsed time:',t1-t0,'seconds')\n",
    "print(\"Split on feature %i on value: %2.3f\" % (fid,cut))\n",
    "print(\"NOTE: It should split on feature 2 on value 0.304\")"
   ]
  },
  {
   "cell_type": "markdown",
   "metadata": {
    "deletable": false,
    "editable": false,
    "nbgrader": {
     "cell_type": "markdown",
     "checksum": "b450fbc9f0990f287aa976b353d5377e",
     "grade": false,
     "grade_id": "cell-30b62fba723fb04d",
     "locked": true,
     "schema_version": 3,
     "solution": false,
     "task": false
    }
   },
   "source": [
    "<h2>Testing Your Code</h2>\n",
    "\n",
    "<p>As your code will be tested by an autograder, <b>we highly recommend you test all of the code you implement</b> to make sure it works as you expect in both normal and abnormal use-cases. Below shows an example test for the sqsplit function. </p>"
   ]
  },
  {
   "cell_type": "code",
   "execution_count": 6,
   "metadata": {
    "deletable": false,
    "editable": false,
    "nbgrader": {
     "cell_type": "code",
     "checksum": "49b7bb4b7dcb07f98a3d5f6a04aab653",
     "grade": false,
     "grade_id": "cell-7e0a19890691b587",
     "locked": true,
     "schema_version": 3,
     "solution": false,
     "task": false
    }
   },
   "outputs": [
    {
     "name": "stdout",
     "output_type": "stream",
     "text": [
      "Function sqsplit correctly calculates bestloss on xor/yor example: True\n"
     ]
    }
   ],
   "source": [
    "# an example test\n",
    "xor = np.array([[1, 1, 1, 1, 0, 0, 0, 0],\n",
    "                 [1, 1, 0, 0, 1, 1, 0, 0],\n",
    "                 [1, 0, 1, 0, 1, 0, 1, 0]]).T\n",
    "yor = np.array( [1, 0, 0, 1, 0, 1, 1, 0])\n",
    "b = np.isclose(sqsplit(xor,yor)[2], .25)\n",
    "print('Function sqsplit correctly calculates bestloss on xor/yor example: ' + str(b))"
   ]
  },
  {
   "cell_type": "code",
   "execution_count": 7,
   "metadata": {
    "deletable": false,
    "editable": false,
    "nbgrader": {
     "cell_type": "code",
     "checksum": "39112eabcd175877265e79f6f46e719a",
     "grade": true,
     "grade_id": "sqsplit_test1",
     "locked": true,
     "points": 5,
     "schema_version": 3,
     "solution": false,
     "task": false
    }
   },
   "outputs": [],
   "source": [
    "# Do not delete, copy, paste, or alter these cells as this will cause the tests to fail automatically"
   ]
  },
  {
   "cell_type": "markdown",
   "metadata": {
    "deletable": false,
    "editable": false,
    "nbgrader": {
     "cell_type": "markdown",
     "checksum": "b820a08e2b8919033e1902f729525fea",
     "grade": false,
     "grade_id": "cell-747473d0185a7d75",
     "locked": true,
     "schema_version": 3,
     "solution": false,
     "task": false
    }
   },
   "source": [
    "<b>Cart tree:</b><p>Implement the function <code>cart</code> which returns a regression tree based on the minimum squared loss splitting rule. The function takes training data, test data, a maximum depth, and the weigh of each training example. Maximum depth and weight are optional arguments. If they are not provided you should make maximum depth infinity and equally weight each example. You should use the function <code>sqsplit</code> to make your splits.</p>\n",
    "\n",
    "<p>Use the provided <code>TreeNode</code> class to represent your tree. Note that the nature of CART trees implies that every node has exactly 0 or 2 children.</p>\n"
   ]
  },
  {
   "cell_type": "code",
   "execution_count": 8,
   "metadata": {
    "deletable": false,
    "nbgrader": {
     "cell_type": "code",
     "checksum": "5527a56a8e4ded73266026512d9b835d",
     "grade": false,
     "grade_id": "cell-3d1c561cd988c041",
     "locked": false,
     "schema_version": 3,
     "solution": true,
     "task": false
    }
   },
   "outputs": [],
   "source": [
    "def cart(xTr,yTr,depth=np.inf,weights=None):\n",
    "    \"\"\"Builds a CART tree.\n",
    "    \n",
    "    The maximum tree depth is defined by \"maxdepth\" (maxdepth=2 means one split).\n",
    "    Each example can be weighted with \"weights\".\n",
    "\n",
    "    Args:\n",
    "        xTr:      n x d matrix of data\n",
    "        yTr:      n-dimensional vector\n",
    "        maxdepth: maximum tree depth\n",
    "        weights:  n-dimensional weight vector for data points\n",
    "\n",
    "    Returns:\n",
    "        tree: root of decision tree\n",
    "    \"\"\"\n",
    "    n,d = xTr.shape\n",
    "    if weights is None:\n",
    "        w = np.ones(n) / float(n)\n",
    "    else:\n",
    "        # normalise the weights\n",
    "        w = weights / np.sum(weights)\n",
    "    \n",
    "    # YOUR CODE HERE\n",
    "\n",
    "    # initialise node\n",
    "    node = TreeNode(None, None, None, None, None, np.sum(w * yTr))\n",
    "\n",
    "    # check the base case\n",
    "    if depth < 2 or len(np.unique(yTr)) == 1:\n",
    "        return node\n",
    "\n",
    "    # find the best split\n",
    "    node.cutoff_id, node.cutoff_val, _ = sqsplit(xTr, yTr, w)\n",
    "\n",
    "    # when all the data points have the same features and values\n",
    "    # split does not exist\n",
    "    # hence return the node as a leaf\n",
    "    if node.cutoff_id == np.inf or node.cutoff_val == np.inf:\n",
    "        return node\n",
    "\n",
    "    # split the data\n",
    "    left_idx = xTr[:, node.cutoff_id] <= node.cutoff_val\n",
    "    right_idx = xTr[:, node.cutoff_id] > node.cutoff_val\n",
    "\n",
    "    # assign the left and right child\n",
    "    node.left = cart(xTr[left_idx], yTr[left_idx], depth - 1, w[left_idx])\n",
    "    node.right = cart(xTr[right_idx], yTr[right_idx], depth - 1, w[right_idx])\n",
    "\n",
    "    # assign the parent\n",
    "    node.left.parent = node\n",
    "    node.right.parent = node\n",
    "\n",
    "    return node"
   ]
  },
  {
   "cell_type": "code",
   "execution_count": 9,
   "metadata": {},
   "outputs": [],
   "source": [
    "xxx = np.array([[1, 1], [1, 1], [1, 1], [1, 1]])  # All feature values are the same\n",
    "yyy = np.array([0, 1, 0, 1])  # Binary labels (0 or 1)\n",
    "\n",
    "tree = cart(xxx, yyy, depth=5)  # Depth > 2 to force the split attempt"
   ]
  },
  {
   "cell_type": "markdown",
   "metadata": {
    "deletable": false,
    "editable": false,
    "nbgrader": {
     "cell_type": "markdown",
     "checksum": "c50f31520ca9a59e7d68de15ab80e3f6",
     "grade": false,
     "grade_id": "cell-c0bad89ae412f3d1",
     "locked": true,
     "schema_version": 3,
     "solution": false,
     "task": false
    }
   },
   "source": [
    "<p>Implement the function <code>evaltree</code>, which evaluates a decision tree on a given test data set.</p>"
   ]
  },
  {
   "cell_type": "code",
   "execution_count": 10,
   "metadata": {
    "deletable": false,
    "nbgrader": {
     "cell_type": "code",
     "checksum": "719328b34225f0f9ccf4f094ad969f1c",
     "grade": false,
     "grade_id": "cell-3c4bbc7ba9f357d5",
     "locked": false,
     "schema_version": 3,
     "solution": true,
     "task": false
    }
   },
   "outputs": [],
   "source": [
    "# YOUR CODE HERE\n",
    "def evaltree(root,xTe):\n",
    "    \"\"\"Evaluates xTe using decision tree root.\n",
    "    \n",
    "    Input:\n",
    "        root: TreeNode decision tree\n",
    "        xTe:  n x d matrix of data points\n",
    "    \n",
    "    Output:\n",
    "        pred: n-dimensional vector of predictions\n",
    "    \"\"\"\n",
    "    assert root is not None\n",
    "    \n",
    "    # YOUR CODE HERE\n",
    "    \n",
    "    # initialise the output array\n",
    "    pred = np.zeros(xTe.shape[0])\n",
    "\n",
    "    # loop through the data set\n",
    "    for i in range(xTe.shape[0]):\n",
    "        x = xTe[i, :]\n",
    "        node = root\n",
    "\n",
    "        while node.cutoff_id is not None:\n",
    "            if x[node.cutoff_id] <= node.cutoff_val:\n",
    "                node = node.left\n",
    "            else:\n",
    "                node = node.right\n",
    "        else:\n",
    "            pred[i] = node.prediction\n",
    "\n",
    "    return pred\n"
   ]
  },
  {
   "cell_type": "markdown",
   "metadata": {
    "deletable": false,
    "editable": false,
    "nbgrader": {
     "cell_type": "markdown",
     "checksum": "757fe9ffa96e71d3f804e51154d40c9c",
     "grade": false,
     "grade_id": "cell-59837ef34f3d8973",
     "locked": true,
     "schema_version": 3,
     "solution": false,
     "task": false
    }
   },
   "source": [
    "<p>In the below test you should see an output very similar to the following: \n",
    "\n",
    "<code>elapsed time: 0.31 seconds\n",
    "Training RMSE : 0.00\n",
    "Testing  RMSE : 0.69 (may be slightly different)\n",
    "</code>\n",
    "\n",
    "(<code>elapsed time</code> will likely be different, as it depends on your implementation and how many other people are running their code using the autograder server at the same time)\n",
    "</p>"
   ]
  },
  {
   "cell_type": "code",
   "execution_count": 11,
   "metadata": {
    "deletable": false,
    "editable": false,
    "nbgrader": {
     "cell_type": "code",
     "checksum": "9a05362b379de72ec25fb6e0fc7efa13",
     "grade": false,
     "grade_id": "cell-49d4579bb2429635",
     "locked": true,
     "schema_version": 3,
     "solution": false,
     "task": false
    }
   },
   "outputs": [
    {
     "name": "stdout",
     "output_type": "stream",
     "text": [
      "elapsed time: 0.80 seconds\n",
      "Training RMSE : 0.00\n",
      "Testing  RMSE : 0.69\n"
     ]
    }
   ],
   "source": [
    "t0 = time.time()\n",
    "root = cart(xTrIon, yTrIon)\n",
    "t1 = time.time()\n",
    "\n",
    "tr_err   = np.mean((evaltree(root,xTrIon) - yTrIon)**2)\n",
    "te_err   = np.mean((evaltree(root,xTeIon) - yTeIon)**2)\n",
    "\n",
    "print(\"elapsed time: %.2f seconds\" % (t1-t0))\n",
    "print(\"Training RMSE : %.2f\" % tr_err)\n",
    "print(\"Testing  RMSE : %.2f\" % te_err)"
   ]
  },
  {
   "cell_type": "markdown",
   "metadata": {
    "deletable": false,
    "editable": false,
    "nbgrader": {
     "cell_type": "markdown",
     "checksum": "1581db60d6b0770249b79ae4bc8e640c",
     "grade": false,
     "grade_id": "cell-0a4ad9b8acc2afff",
     "locked": true,
     "schema_version": 3,
     "solution": false,
     "task": false
    }
   },
   "source": [
    "<p>The following code defines a function <code>visclassifier()</code>, which plots the decision boundary of a classifier in 2 dimensions. Execute the following code to see what the decision boundary of your tree looks like on the ion data set. </p>"
   ]
  },
  {
   "cell_type": "code",
   "execution_count": 12,
   "metadata": {
    "deletable": false,
    "editable": false,
    "nbgrader": {
     "cell_type": "code",
     "checksum": "649005c6d8d805ff147ef8edd6869f57",
     "grade": false,
     "grade_id": "cell-fc29736055ce2744",
     "locked": true,
     "schema_version": 3,
     "solution": false,
     "task": false
    }
   },
   "outputs": [
    {
     "data": {
      "application/vnd.jupyter.widget-view+json": {
       "model_id": "f14422f5265b43a28d5ee5b89b3889d5",
       "version_major": 2,
       "version_minor": 0
      },
      "image/png": "[encoded data removed]",
      "text/html": [
       "\n",
       "            <div style=\"display: inline-block;\">\n",
       "                <div class=\"jupyter-widgets widget-label\" style=\"text-align: center;\">\n",
       "                    Figure\n",
       "                </div>\n",
       "                <img src='data:image/png;base64,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' width=640.0/>\n",
       "            </div>\n",
       "        "
      ],
      "text/plain": [
       "Canvas(toolbar=Toolbar(toolitems=[('Home', 'Reset original view', 'home', 'home'), ('Back', 'Back to previous …"
      ]
     },
     "metadata": {},
     "output_type": "display_data"
    },
    {
     "name": "stdout",
     "output_type": "stream",
     "text": [
      "Training error: 0.0000\n",
      "Testing error:  0.0400\n",
      "NOTE: You should get something similar to:\n",
      "Training error: 0.0000\n",
      "Testing error:  0.0467 (may be slightly different)\n"
     ]
    }
   ],
   "source": [
    "def visclassifier(fun,xTr,yTr,w=None,b=0):\n",
    "    \"\"\"\n",
    "    visualize decision boundary\n",
    "    Define the symbols and colors we'll use in the plots later\n",
    "    \"\"\"\n",
    "\n",
    "    yTr = np.array(yTr).flatten()\n",
    "    if w is not None:\n",
    "        w = np.array(w).flatten()\n",
    "\n",
    "    symbols = [\"ko\",\"kx\"]\n",
    "    marker_symbols = ['o', 'x']\n",
    "    mycolors = [[0.5, 0.5, 1], [1, 0.5, 0.5]]\n",
    "    # get the unique values from labels array\n",
    "    classvals = np.unique(yTr)\n",
    "\n",
    "    plt.figure()\n",
    "\n",
    "    # return 300 evenly spaced numbers over this interval\n",
    "    res=300\n",
    "    xrange = np.linspace(min(xTr[:, 0]), max(xTr[:, 0]),res)\n",
    "    yrange = np.linspace(min(xTr[:, 1]), max(xTr[:, 1]),res)\n",
    "    \n",
    "    # repeat this matrix 300 times for both axes\n",
    "    pixelX = repmat(xrange, res, 1)\n",
    "    pixelY = repmat(yrange, res, 1).T\n",
    "\n",
    "    \n",
    "    xTe = np.array([pixelX.flatten(), pixelY.flatten()]).T\n",
    "\n",
    "    # test all of these points on the grid\n",
    "    testpreds = fun(xTe)\n",
    "    \n",
    "    # reshape it back together to make our grid\n",
    "    Z = testpreds.reshape(res, res)\n",
    "    # Z[0,0] = 1 # optional: scale the colors correctly\n",
    "    \n",
    "    # fill in the contours for these predictions\n",
    "    plt.contourf(pixelX, pixelY, np.sign(Z), colors=mycolors)\n",
    "\n",
    "    # creates x's and o's for training set\n",
    "    for idx, c in enumerate(classvals):\n",
    "        plt.scatter(xTr[yTr == c,0],\n",
    "            xTr[yTr == c,1],\n",
    "            marker=marker_symbols[idx],\n",
    "            color='k'\n",
    "            )\n",
    "    \n",
    "    if w != [] and w is not None:\n",
    "        alpha = -1 * b / (w ** 2).sum()\n",
    "        plt.quiver(w[0] * alpha, w[1] * alpha,\n",
    "            w[0], w[1], linewidth=2, color=[0,1,0])\n",
    "\n",
    "    plt.axis('tight')\n",
    "    # shows figure and blocks\n",
    "    plt.show()\n",
    "\n",
    "tree=cart(xTrSpiral,yTrSpiral) # compute tree on training data \n",
    "visclassifier(lambda X:evaltree(tree,X),xTrSpiral,yTrSpiral)\n",
    "print(\"Training error: %.4f\" % np.mean(np.sign(evaltree(tree,xTrSpiral)) != yTrSpiral))\n",
    "print(\"Testing error:  %.4f\" % np.mean(np.sign(evaltree(tree,xTeSpiral)) != yTeSpiral))\n",
    "print(\"NOTE: You should get something similar to:\")\n",
    "print(\"Training error: 0.0000\")\n",
    "print(\"Testing error:  0.0467 (may be slightly different)\")"
   ]
  },
  {
   "cell_type": "code",
   "execution_count": 13,
   "metadata": {
    "deletable": false,
    "editable": false,
    "nbgrader": {
     "cell_type": "code",
     "checksum": "e6a16cc587ea0b9bc905a1202d221b79",
     "grade": false,
     "grade_id": "cell-0023f5ab24eedcf8",
     "locked": true,
     "schema_version": 3,
     "solution": false,
     "task": false
    }
   },
   "outputs": [
    {
     "data": {
      "application/vnd.jupyter.widget-view+json": {
       "model_id": "7a873ed3be504fe489268fbb83cd2b1d",
       "version_major": 2,
       "version_minor": 0
      },
      "image/png": "[encoded data removed]",
      "text/html": [
       "\n",
       "            <div style=\"display: inline-block;\">\n",
       "                <div class=\"jupyter-widgets widget-label\" style=\"text-align: center;\">\n",
       "                    Figure\n",
       "                </div>\n",
       "                <img src='data:image/png;base64,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' width=640.0/>\n",
       "            </div>\n",
       "        "
      ],
      "text/plain": [
       "Canvas(toolbar=Toolbar(toolitems=[('Home', 'Reset original view', 'home', 'home'), ('Back', 'Back to previous …"
      ]
     },
     "metadata": {},
     "output_type": "display_data"
    }
   ],
   "source": [
    "def onclick_cart(event):\n",
    "    \"\"\"\n",
    "    Visualize cart, including new point\n",
    "    \"\"\"\n",
    "    global xTraining,labels\n",
    "    # create position vector for new point\n",
    "    pos=np.array([[event.xdata,event.ydata]]) \n",
    "    if event.key == 'shift': # add positive point\n",
    "        color='or'\n",
    "        label=1\n",
    "    else: # add negative point\n",
    "        color='ob'\n",
    "        label=-1    \n",
    "    xTraining = np.concatenate((xTraining,pos), axis = 0)\n",
    "    labels.append(label);\n",
    "    marker_symbols = ['o', 'x']\n",
    "    classvals = np.unique(labels)\n",
    "        \n",
    "    mycolors = [[0.5, 0.5, 1], [1, 0.5, 0.5]]\n",
    "    \n",
    "    # return 300 evenly spaced numbers over this interval\n",
    "    res=300\n",
    "    xrange = np.linspace(0, 1,res)\n",
    "    yrange = np.linspace(0, 1,res)\n",
    "\n",
    "    \n",
    "    # repeat this matrix 300 times for both axes\n",
    "    pixelX = repmat(xrange, res, 1)\n",
    "    pixelY = repmat(yrange, res, 1).T\n",
    "\n",
    "    xTe = np.array([pixelX.flatten(), pixelY.flatten()]).T\n",
    "\n",
    "    # get decision tree\n",
    "    tree=cart(xTraining,np.array(labels).flatten())\n",
    "    fun = lambda X:evaltree(tree,X)\n",
    "    # test all of these points on the grid\n",
    "    testpreds = fun(xTe)\n",
    "    \n",
    "    # reshape it back together to make our grid\n",
    "    Z = testpreds.reshape(res, res)\n",
    "    # Z[0,0] = 1 # optional: scale the colors correctly\n",
    "    \n",
    "    plt.cla()    \n",
    "    plt.xlim((0,1))\n",
    "    plt.ylim((0,1))\n",
    "    # fill in the contours for these predictions\n",
    "    plt.contourf(pixelX, pixelY, np.sign(Z), colors=mycolors)\n",
    "    \n",
    "    for idx, c in enumerate(classvals):\n",
    "        plt.scatter(xTraining[labels == c,0],\n",
    "            xTraining[labels == c,1],\n",
    "            marker=marker_symbols[idx],\n",
    "            color='k'\n",
    "            )\n",
    "    plt.show()\n",
    "    \n",
    "#plt.ion()\n",
    "xTraining= np.array([[5,6]])\n",
    "labels = [1]\n",
    "fig = plt.figure()\n",
    "plt.xlim(0,1)\n",
    "plt.ylim(0,1)\n",
    "plt.title('Use shift-click to add negative points.')\n",
    "# plt.connect('button_press_event', onclick_cart)\n",
    "cid = fig.canvas.mpl_connect('button_press_event', onclick_cart)\n",
    "plt.show()"
   ]
  },
  {
   "cell_type": "markdown",
   "metadata": {
    "deletable": false,
    "editable": false,
    "nbgrader": {
     "cell_type": "markdown",
     "checksum": "12fdfb699ed6db478e2a2ec6d31496fb",
     "grade": false,
     "grade_id": "cell-9f203d5c35d17423",
     "locked": true,
     "schema_version": 3,
     "solution": false,
     "task": false
    }
   },
   "source": [
    "<h2>Random Forests</h2>\n",
    "<p>CART trees are known to be high variance classifiers\n",
    "(if trained to full depth).\n",
    "An effective way to prevent overfitting is to use <b>Bagging</b>.\n",
    "Implement the function <code>forest</code>,\n",
    "which builds a forest of regression trees.\n",
    "Each tree should be built using training data\n",
    "drawn by randomly sampling $n$ examples\n",
    "from the training data with replacement.\n",
    "Do not randomly sample features.\n",
    "The function should output a list of trees.</p>"
   ]
  },
  {
   "cell_type": "code",
   "execution_count": 14,
   "metadata": {
    "deletable": false,
    "nbgrader": {
     "cell_type": "code",
     "checksum": "50849f154123b8b15f270deb963a2417",
     "grade": false,
     "grade_id": "cell-f8a92665c255c104",
     "locked": false,
     "schema_version": 3,
     "solution": true,
     "task": false
    }
   },
   "outputs": [],
   "source": [
    "def forest(xTr, yTr, m, maxdepth=np.inf):\n",
    "    \"\"\"Creates a random forest.\n",
    "    \n",
    "    Input:\n",
    "        xTr:      n x d matrix of data points\n",
    "        yTr:      n-dimensional vector of labels\n",
    "        m:        number of trees in the forest\n",
    "        maxdepth: maximum depth of tree\n",
    "        \n",
    "    Output:\n",
    "        trees: list of TreeNode decision trees of length m\n",
    "    \"\"\"\n",
    "    \n",
    "    n, d = xTr.shape\n",
    "    trees = []\n",
    "    \n",
    "    # YOUR CODE HERE\n",
    "    rng = np.random.default_rng()\n",
    "\n",
    "    for i in range(m):\n",
    "        idx = rng.choice(n, n, replace=True)\n",
    "        tree = cart(xTr[idx], yTr[idx], maxdepth)\n",
    "        trees.append(tree)\n",
    "    \n",
    "    return trees"
   ]
  },
  {
   "cell_type": "markdown",
   "metadata": {
    "deletable": false,
    "editable": false,
    "nbgrader": {
     "cell_type": "markdown",
     "checksum": "579342c0bf08182b3eacbb8d589e525b",
     "grade": false,
     "grade_id": "cell-01fb3000253d168b",
     "locked": true,
     "schema_version": 3,
     "solution": false,
     "task": false
    }
   },
   "source": [
    "Now implement the function <code>evalforest</code>, which should take as input a set of $m$ trees, a set of $n$ test inputs, and an $m$ dimensional weight vector. Each tree should be weighted by the corresponding weight. (For random forests you can define the weights to be $\\frac{1}{m}$ for all trees."
   ]
  },
  {
   "cell_type": "code",
   "execution_count": 15,
   "metadata": {
    "deletable": false,
    "nbgrader": {
     "cell_type": "code",
     "checksum": "251269c6ed314b7900529002cf2e74de",
     "grade": false,
     "grade_id": "cell-fb4677da9cfa542a",
     "locked": false,
     "schema_version": 3,
     "solution": true,
     "task": false
    }
   },
   "outputs": [],
   "source": [
    "def evalforest(trees, X, alphas=None):\n",
    "    \"\"\"Evaluates X using trees.\n",
    "    \n",
    "    Input:\n",
    "        trees:  list of TreeNode decision trees of length m\n",
    "        X:      n x d matrix of data points\n",
    "        alphas: m-dimensional weight vector\n",
    "        \n",
    "    Output:\n",
    "        pred: n-dimensional vector of predictions\n",
    "    \"\"\"\n",
    "    m = len(trees)\n",
    "    n,d = X.shape\n",
    "    if alphas is None:\n",
    "        alphas = np.ones(m) / len(trees)\n",
    "            \n",
    "    pred = np.zeros(n)\n",
    "    \n",
    "    # YOUR CODE HERE\n",
    "    for i in range(m):\n",
    "        pred += alphas[i] * evaltree(trees[i], X)\n",
    "\n",
    "    return pred"
   ]
  },
  {
   "cell_type": "markdown",
   "metadata": {
    "deletable": false,
    "editable": false,
    "nbgrader": {
     "cell_type": "markdown",
     "checksum": "2d9944d659e149ec4172a1fcf90c0772",
     "grade": false,
     "grade_id": "cell-f4b15aac0a3f4d1b",
     "locked": true,
     "schema_version": 3,
     "solution": false,
     "task": false
    }
   },
   "source": [
    "<p>The following script visualizes the decision boundary of a random forest ensemble.</p>"
   ]
  },
  {
   "cell_type": "code",
   "execution_count": 16,
   "metadata": {
    "deletable": false,
    "editable": false,
    "nbgrader": {
     "cell_type": "code",
     "checksum": "89e110f32bf24d284e91aea57aabcfee",
     "grade": false,
     "grade_id": "cell-fce6ab17683fff14",
     "locked": true,
     "schema_version": 3,
     "solution": false,
     "task": false
    }
   },
   "outputs": [
    {
     "data": {
      "application/vnd.jupyter.widget-view+json": {
       "model_id": "e1feaa0bfad7449cbf8865da356d5e0b",
       "version_major": 2,
       "version_minor": 0
      },
      "image/png": "[encoded data removed]",
      "text/html": [
       "\n",
       "            <div style=\"display: inline-block;\">\n",
       "                <div class=\"jupyter-widgets widget-label\" style=\"text-align: center;\">\n",
       "                    Figure\n",
       "                </div>\n",
       "                <img src='data:image/png;base64,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' width=640.0/>\n",
       "            </div>\n",
       "        "
      ],
      "text/plain": [
       "Canvas(toolbar=Toolbar(toolitems=[('Home', 'Reset original view', 'home', 'home'), ('Back', 'Back to previous …"
      ]
     },
     "metadata": {},
     "output_type": "display_data"
    },
    {
     "name": "stdout",
     "output_type": "stream",
     "text": [
      "Training error: 0.0000\n",
      "Testing error:  0.0600\n"
     ]
    }
   ],
   "source": [
    "trees=forest(xTrSpiral,yTrSpiral,30) # compute tree on training data \n",
    "visclassifier(lambda X:evalforest(trees,X),xTrSpiral,yTrSpiral)\n",
    "print(\"Training error: %.4f\" % np.mean(np.sign(evalforest(trees,xTrSpiral)) != yTrSpiral))\n",
    "print(\"Testing error:  %.4f\" % np.mean(np.sign(evalforest(trees,xTeSpiral)) != yTeSpiral))"
   ]
  },
  {
   "cell_type": "markdown",
   "metadata": {
    "deletable": false,
    "editable": false,
    "nbgrader": {
     "cell_type": "markdown",
     "checksum": "240ad5b0621527e90f5f215d0e1b2506",
     "grade": false,
     "grade_id": "cell-aba5f94293c2e524",
     "locked": true,
     "schema_version": 3,
     "solution": false,
     "task": false
    }
   },
   "source": [
    "<p>The following script evaluates the test and training error of a random forest ensemble as we vary the number of trees.</p>"
   ]
  },
  {
   "cell_type": "code",
   "execution_count": 17,
   "metadata": {
    "deletable": false,
    "editable": false,
    "nbgrader": {
     "cell_type": "code",
     "checksum": "0738c12966adbfd61677c854a83ed7c7",
     "grade": false,
     "grade_id": "cell-a3d95218b61c5dfe",
     "locked": true,
     "schema_version": 3,
     "solution": false,
     "task": false
    }
   },
   "outputs": [
    {
     "name": "stdout",
     "output_type": "stream",
     "text": [
      "[0]training err = 0.0783\ttesting err = 0.2429\n",
      "[1]training err = 0.0819\ttesting err = 0.2571\n",
      "[2]training err = 0.0320\ttesting err = 0.1429\n",
      "[3]training err = 0.0498\ttesting err = 0.1857\n",
      "[4]training err = 0.0249\ttesting err = 0.1286\n",
      "[5]training err = 0.0214\ttesting err = 0.1571\n",
      "[6]training err = 0.0107\ttesting err = 0.1000\n",
      "[7]training err = 0.0214\ttesting err = 0.1286\n",
      "[8]training err = 0.0071\ttesting err = 0.1000\n",
      "[9]training err = 0.0107\ttesting err = 0.1000\n",
      "[10]training err = 0.0000\ttesting err = 0.1000\n",
      "[11]training err = 0.0036\ttesting err = 0.1143\n",
      "[12]training err = 0.0036\ttesting err = 0.0857\n",
      "[13]training err = 0.0036\ttesting err = 0.0857\n",
      "[14]training err = 0.0000\ttesting err = 0.0857\n",
      "[15]training err = 0.0000\ttesting err = 0.1000\n",
      "[16]training err = 0.0000\ttesting err = 0.0857\n",
      "[17]training err = 0.0000\ttesting err = 0.0714\n",
      "[18]training err = 0.0000\ttesting err = 0.0857\n",
      "[19]training err = 0.0000\ttesting err = 0.0714\n"
     ]
    },
    {
     "data": {
      "application/vnd.jupyter.widget-view+json": {
       "model_id": "ec673ff294344a9bb2728712fd5a4635",
       "version_major": 2,
       "version_minor": 0
      },
      "image/png": "[encoded data removed]",
      "text/html": [
       "\n",
       "            <div style=\"display: inline-block;\">\n",
       "                <div class=\"jupyter-widgets widget-label\" style=\"text-align: center;\">\n",
       "                    Figure\n",
       "                </div>\n",
       "                <img src='data:image/png;base64,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' width=640.0/>\n",
       "            </div>\n",
       "        "
      ],
      "text/plain": [
       "Canvas(toolbar=Toolbar(toolitems=[('Home', 'Reset original view', 'home', 'home'), ('Back', 'Back to previous …"
      ]
     },
     "metadata": {},
     "output_type": "display_data"
    }
   ],
   "source": [
    "M=20 # max number of trees\n",
    "err_trB=[]\n",
    "err_teB=[]\n",
    "alltrees=forest(xTrIon,yTrIon,M)\n",
    "for i in range(M):\n",
    "    trees=alltrees[:i+1]\n",
    "    trErr = np.mean(np.sign(evalforest(trees,xTrIon)) != yTrIon)\n",
    "    teErr = np.mean(np.sign(evalforest(trees,xTeIon)) != yTeIon)\n",
    "    err_trB.append(trErr)\n",
    "    err_teB.append(teErr)\n",
    "    print(\"[%d]training err = %.4f\\ttesting err = %.4f\" % (i,trErr, teErr))\n",
    "\n",
    "plt.figure()\n",
    "line_tr, = plt.plot(range(M),err_trB,label=\"Training Error\")\n",
    "line_te, = plt.plot(range(M),err_teB,label=\"Testing error\")\n",
    "plt.title(\"Random Forest\")\n",
    "plt.legend(handles=[line_tr, line_te])\n",
    "plt.xlabel(\"# of trees\")\n",
    "plt.ylabel(\"error\")\n",
    "plt.show()\n",
    "# Your training error should converge"
   ]
  },
  {
   "cell_type": "code",
   "execution_count": 18,
   "metadata": {
    "deletable": false,
    "editable": false,
    "nbgrader": {
     "cell_type": "code",
     "checksum": "7b4d3902787aa6127913458b110f9aab",
     "grade": false,
     "grade_id": "cell-40b0e860bbf15397",
     "locked": true,
     "schema_version": 3,
     "solution": false,
     "task": false
    }
   },
   "outputs": [
    {
     "name": "stdout",
     "output_type": "stream",
     "text": [
      "Note: there is strong delay between points\n"
     ]
    },
    {
     "data": {
      "text/plain": [
       "Text(0.5, 1.0, 'Use shift-click to add negative points.')"
      ]
     },
     "execution_count": 18,
     "metadata": {},
     "output_type": "execute_result"
    },
    {
     "data": {
      "application/vnd.jupyter.widget-view+json": {
       "model_id": "c717a996f8b04816878a49d3e77fbd70",
       "version_major": 2,
       "version_minor": 0
      },
      "image/png": "[encoded data removed]",
      "text/html": [
       "\n",
       "            <div style=\"display: inline-block;\">\n",
       "                <div class=\"jupyter-widgets widget-label\" style=\"text-align: center;\">\n",
       "                    Figure\n",
       "                </div>\n",
       "                <img src='data:image/png;base64,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' width=640.0/>\n",
       "            </div>\n",
       "        "
      ],
      "text/plain": [
       "Canvas(toolbar=Toolbar(toolitems=[('Home', 'Reset original view', 'home', 'home'), ('Back', 'Back to previous …"
      ]
     },
     "metadata": {},
     "output_type": "display_data"
    }
   ],
   "source": [
    "def onclick_forest(event):\n",
    "    \"\"\"\n",
    "    Visualize forest, including new point\n",
    "    \"\"\"\n",
    "    global xTrain,yTrain,w,b,M\n",
    "    # create position vector for new point\n",
    "    pos=np.array([[event.xdata,event.ydata]]) \n",
    "    if event.key == 'shift': # add positive point\n",
    "        color='or'\n",
    "        label=1\n",
    "    else: # add negative point\n",
    "        color='ob'\n",
    "        label=-1    \n",
    "    xTrain = np.concatenate((xTrain,pos), axis = 0)\n",
    "    yTrain = np.append(yTrain, label)\n",
    "    marker_symbols = ['o', 'x']\n",
    "    classvals = np.unique(yTrain)\n",
    "        \n",
    "    w = np.array(w).flatten()\n",
    "    \n",
    "    mycolors = [[0.5, 0.5, 1], [1, 0.5, 0.5]]\n",
    "    \n",
    "    # return 300 evenly spaced numbers over this interval\n",
    "    res=300\n",
    "    xrange = np.linspace(0, 1,res)\n",
    "    yrange = np.linspace(0, 1,res)\n",
    "    \n",
    "    # repeat this matrix 300 times for both axes\n",
    "    pixelX = repmat(xrange, res, 1)\n",
    "    pixelY = repmat(yrange, res, 1).T\n",
    "\n",
    "    xTe = np.array([pixelX.flatten(), pixelY.flatten()]).T\n",
    "\n",
    "    # get forest\n",
    "    trees=forest(xTrain,yTrain,M)\n",
    "    fun = lambda X:evalforest(trees,X)\n",
    "    # test all of these points on the grid\n",
    "    testpreds = fun(xTe)\n",
    "    \n",
    "    # reshape it back together to make our grid\n",
    "    Z = testpreds.reshape(res, res)\n",
    "    # Z[0,0] = 1 # optional: scale the colors correctly\n",
    "    \n",
    "    plt.cla()    \n",
    "    plt.xlim((0,1))\n",
    "    plt.ylim((0,1))\n",
    "    # fill in the contours for these predictions\n",
    "    plt.contourf(pixelX, pixelY, np.sign(Z), colors=mycolors)\n",
    "    \n",
    "    for idx, c in enumerate(classvals):\n",
    "        plt.scatter(xTrain[yTrain == c,0],\n",
    "            xTrain[yTrain == c,1],\n",
    "            marker=marker_symbols[idx],\n",
    "            color='k'\n",
    "            )\n",
    "    plt.show()\n",
    "    \n",
    "        \n",
    "xTrain= np.array([[5,6]])\n",
    "b=yTrIon\n",
    "yTrain = np.array([1])\n",
    "w=xTrIon\n",
    "M=20\n",
    "\n",
    "fig = plt.figure()\n",
    "plt.xlim(0,1)\n",
    "plt.ylim(0,1)\n",
    "cid = fig.canvas.mpl_connect('button_press_event', onclick_forest)\n",
    "print('Note: there is strong delay between points')\n",
    "plt.title('Use shift-click to add negative points.')"
   ]
  },
  {
   "cell_type": "markdown",
   "metadata": {
    "deletable": false,
    "editable": false,
    "nbgrader": {
     "cell_type": "markdown",
     "checksum": "6a43e7907e81937d92a9e0a9295ba8f4",
     "grade": false,
     "grade_id": "cell-faa99e3970c2080c",
     "locked": true,
     "schema_version": 3,
     "solution": false,
     "task": false
    }
   },
   "source": [
    "<h2>Boosting</h2>\n",
    "\n",
    "<p>Another option to improve your decision trees is to build trees of small depth (e.g. only depth=3 or depth=4). These do not have high variance, but instead suffer from <b>high bias</b>. You can reduce the bias of a classifier with boosting. Implement the function <code>boosttree</code>, which applies Adaboost on your <code>cart</code> functions. You should be able to use the function <code>evalforest</code> to evaluate your boosted ensemble (provdided you pass on the weights correctly.)</p>"
   ]
  },
  {
   "cell_type": "code",
   "execution_count": 19,
   "metadata": {
    "deletable": false,
    "nbgrader": {
     "cell_type": "code",
     "checksum": "030ca99b525c9574d0a137a03d2709f7",
     "grade": false,
     "grade_id": "cell-6e4bec6d93833b06",
     "locked": false,
     "schema_version": 3,
     "solution": true,
     "task": false
    }
   },
   "outputs": [],
   "source": [
    "def boosttree(x,y,maxiter=100,maxdepth=2):\n",
    "    \"\"\"Learns a boosted decision tree.\n",
    "    \n",
    "    Input:\n",
    "        x:        n x d matrix of data points\n",
    "        y:        n-dimensional vector of labels\n",
    "        maxiter:  maximum number of trees\n",
    "        maxdepth: maximum depth of a tree\n",
    "        \n",
    "    Output:\n",
    "        forest: list of TreeNode decision trees of length m\n",
    "        alphas: m-dimensional weight vector\n",
    "        \n",
    "    (note, m is at most maxiter, but may be smaller,\n",
    "    as dictated by the Adaboost algorithm)\n",
    "    \"\"\"\n",
    "    assert np.allclose(np.unique(y), np.array([-1,1])); # the labels must be -1 and 1 \n",
    "    n,d = x.shape\n",
    "    weights = np.ones(n) / n\n",
    "    preds   = None\n",
    "    forest  = []\n",
    "    alphas  = []\n",
    "\n",
    "    # YOUR CODE HERE\n",
    "    ...\n",
    "\n",
    "    return forest, alphas"
   ]
  },
  {
   "cell_type": "markdown",
   "metadata": {
    "deletable": false,
    "editable": false,
    "nbgrader": {
     "cell_type": "markdown",
     "checksum": "97e9c1a6842a511a06bad2c3a15eb3ef",
     "grade": false,
     "grade_id": "cell-d9cacc62ecaf87cb",
     "locked": true,
     "schema_version": 3,
     "solution": false,
     "task": false
    }
   },
   "source": [
    "<p>The following script evaluates the test and training error of a boosted forest as we increase the number of trees.</p>"
   ]
  },
  {
   "cell_type": "code",
   "execution_count": 20,
   "metadata": {
    "deletable": false,
    "editable": false,
    "nbgrader": {
     "cell_type": "code",
     "checksum": "b77d7852105a15f0086c93e5c82a78a1",
     "grade": false,
     "grade_id": "cell-fde54aafd46b5993",
     "locked": true,
     "schema_version": 3,
     "solution": false,
     "task": false
    }
   },
   "outputs": [
    {
     "name": "stdout",
     "output_type": "stream",
     "text": [
      "[0] exp loss = 1.0000 training err = 1.0000\ttesting err = 1.0000\n",
      "[1] exp loss = 1.0000 training err = 1.0000\ttesting err = 1.0000\n",
      "[2] exp loss = 1.0000 training err = 1.0000\ttesting err = 1.0000\n",
      "[3] exp loss = 1.0000 training err = 1.0000\ttesting err = 1.0000\n",
      "[4] exp loss = 1.0000 training err = 1.0000\ttesting err = 1.0000\n",
      "[5] exp loss = 1.0000 training err = 1.0000\ttesting err = 1.0000\n",
      "[6] exp loss = 1.0000 training err = 1.0000\ttesting err = 1.0000\n",
      "[7] exp loss = 1.0000 training err = 1.0000\ttesting err = 1.0000\n",
      "[8] exp loss = 1.0000 training err = 1.0000\ttesting err = 1.0000\n",
      "[9] exp loss = 1.0000 training err = 1.0000\ttesting err = 1.0000\n",
      "[10] exp loss = 1.0000 training err = 1.0000\ttesting err = 1.0000\n",
      "[11] exp loss = 1.0000 training err = 1.0000\ttesting err = 1.0000\n",
      "[12] exp loss = 1.0000 training err = 1.0000\ttesting err = 1.0000\n",
      "[13] exp loss = 1.0000 training err = 1.0000\ttesting err = 1.0000\n",
      "[14] exp loss = 1.0000 training err = 1.0000\ttesting err = 1.0000\n",
      "[15] exp loss = 1.0000 training err = 1.0000\ttesting err = 1.0000\n",
      "[16] exp loss = 1.0000 training err = 1.0000\ttesting err = 1.0000\n",
      "[17] exp loss = 1.0000 training err = 1.0000\ttesting err = 1.0000\n",
      "[18] exp loss = 1.0000 training err = 1.0000\ttesting err = 1.0000\n",
      "[19] exp loss = 1.0000 training err = 1.0000\ttesting err = 1.0000\n"
     ]
    },
    {
     "data": {
      "application/vnd.jupyter.widget-view+json": {
       "model_id": "d4d93dda2e7d48f19dee03cfae036ff6",
       "version_major": 2,
       "version_minor": 0
      },
      "image/png": "[encoded data removed]",
      "text/html": [
       "\n",
       "            <div style=\"display: inline-block;\">\n",
       "                <div class=\"jupyter-widgets widget-label\" style=\"text-align: center;\">\n",
       "                    Figure\n",
       "                </div>\n",
       "                <img src='data:image/png;base64,iVBORw0KGgoAAAANSUhEUgAAAoAAAAHgCAYAAAA10dzkAAAAOnRFWHRTb2Z0d2FyZQBNYXRwbG90bGliIHZlcnNpb24zLjEwLjAsIGh0dHBzOi8vbWF0cGxvdGxpYi5vcmcvlHJYcgAAAAlwSFlzAAAPYQAAD2EBqD+naQAAPBBJREFUeJzt3QmcjfX////XYDbLjH2ZrKEsWbImfUiEkqWS5atsoWSnLPWxKymJmNBGRUUL+WYLDSJRlpTsJpS9YuyDuf631/v7P+d3jplhxmznzPtxv92uZq7rvM+1uGY6z3lvV4DjOI4AAADAGlky+gQAAACQvgiAAAAAliEAAgAAWIYACAAAYBkCIAAAgGUIgAAAAJYhAAIAAFiGAAgAAGAZAiAAAIBlCIAAAACWIQACAABYhgAIAABgGQIgAACAZQiAAAAAliEAAgAAWIYACAAAYBkCIAAAgGUIgAAAAJYhAAIAAFiGAAgAAGAZAiAAAIBlCIAAAACWIQACAABYhgAIAABgGQIgAACAZQiAAAAAliEAAgAAWIYACAAAYBkCIAAAgGUIgAAAAJYhAAIAAFiGAAgAAGAZAiAAAIBlCIAAAACWIQAC8HuzZ8+WgIAA+eOPP5L93vvvv1/uuuuuNDkvAPBVBEAAPuXtt982Ya527dpiuyNHjsioUaNk27ZtGX0qADIZAiAAnzJ37lwpWbKkbNq0Sfbt2ye2B8DRo0cTAAGkOgIgAJ8RHR0tP/zwg0yaNEkKFChgwiAAIPURAAH4DA18efLkkWbNmknr1q0TDIA7duyQBx54QEJDQ6Vo0aIybtw4iYuLi1fu66+/NvuJiIiQ4OBgKV26tIwdO1auXbuW4LE3b94s9957r9lvqVKlZMaMGfHKnDhxQp5++mkpVKiQhISESJUqVeTDDz+MV+78+fMyaNAgKVasmDn2nXfeKRMnThTHcbzKrVixQu677z7JnTu35MyZ05R78cUXzWurV6+WmjVrmu+7dOlimsV10f6OAJBS2VK8BwBIJRr4HnvsMQkKCpL27dvL9OnT5aeffnIHoWPHjkmDBg3k6tWrMnToUMmRI4e88847JrRdT4OShqqBAwear999952MGDFCYmJi5PXXX/cq+++//8rDDz8sbdq0McedP3++9OzZ05xH165dTZmLFy+aASPaLN27d28TEj///HPp3LmznD59Wvr162fKachr0aKFREVFmbBYtWpVWb58ubzwwgvy119/yZtvvukOso888ohUrlxZxowZY4Ki7nv9+vXm9fLly5vtes49evSQ//znP2a7hlQASDEHAHzAzz//rNVjzooVK8x6XFycU7RoUadfv37uMv379zdlNm7c6N524sQJJzw83GyPjo52b79w4UK8YzzzzDNO9uzZnUuXLrm31a9f37z3jTfecG+7fPmyU7VqVadgwYJObGys2TZ58mRTbs6cOe5y+lqdOnWcnDlzOjExMWbbwoULTblx48Z5Hbt169ZOQECAs2/fPrP+5ptvmnInT55M9N/kp59+MmVmzZqV5H9HAEgKmoAB+Eztnzatag2f0ubOtm3bymeffeZutl2yZIncc889UqtWLff7tK9ghw4d4u3Ps1bw7NmzcurUKVOLduHCBdm1a5dX2WzZsskzzzzjXteaP13XJl9tGnYdu3DhwqaG0CUwMFD69u0r586dkzVr1rjLZc2a1Wz3pE3CWju4dOlSs67Nvq6m6oSasAEgLREAAWQ4DXga9DT86UAQbQrVRaeCOX78uKxatcqUO3jwoJQtWzbe+7Xv3PW0ifXRRx+V8PBwCQsLM0HxySefNK+dOXPGq6z2E9TmZE933HGH+eqaW9B17CxZvP+3qU21rtddX3V/uXLlumE5Dbd169aVbt26meDbrl070/RMGASQHugDCCDDaf+8o0ePmhCoS0K1g40bN07y/rRPXv369U3w0350OgBEB21s2bJFhgwZ4hMhS2so165da/oKLl68WJYtWybz5s0zA1y+/fZbU4sIAGmFAAggw2nAK1iwoERGRsZ77auvvpIFCxaYUbklSpSQvXv3xiuze/dur3UdQfv333+b99arV8+9XWsXE5tvT0fuetYC7tmzx3zVOQmVHnv79u0mPHrWArqak/V119eVK1eaZmfPWsDryyndT8OGDc2iU9+88sor8tJLL5lQ2KhRI9MMDgBpgSZgABlKR9dqUNMRsTr1y/WLjrjVMLVo0SIzUvfHH380k0S7nDx5Mt50Ma7aM89pV2JjY81TRhKio4pnzpzpVVbXtdm4evXqZpseW0chay2d5/umTp1qRhlrjaOrnDZpT5s2zesYOvpXA91DDz1k1v/5559456EjhtXly5fNV1cg1RpNAEhN1AACyFAa7DTg6dQpCdFBH65JoTWUffzxx9K0aVMz7YprGhhX7ZyLTpWi8wl26tTJDMbQ4KXvu34ePhftszdhwgTT30/7/mnI06dv6L51oIfSqVj0+Drtiw4M0ZrBL774wkzbMnnyZHdtX/PmzU1fRq3J0/3pXIHapKuDPfr372+ao5U2TWsTsM5VqOevA040oOrchjo3oNKyOlhEaz91/3q92i9Sp6ABgBRJ0lhhAEgjzZs3d0JCQpzz588nWqZz585OYGCgc+rUKWf79u1m6hZ9z2233eaMHTvWef/99+NNA7N+/XrnnnvucUJDQ52IiAhn8ODBzvLly025qKgodzndV8WKFc00NDqli+63RIkSzrRp0+Kdx/Hjx50uXbo4+fPnd4KCgpxKlSolOEXL2bNnnQEDBpjj6nmXLVvWef31183UNi6rVq1yWrZsacrovvRr+/btnT179njt6+uvv3YqVKjgZMuWjSlhAKSaAP1PyiIkAAAA/Al9AAEAACxDAAQAALAMARAAAMAyBEAAAADLEAABAAAsQwAEAACwDAEQAADAMjwJJAX0maD6DFGdoZ9ndgIA4B8cxzFPINKnAHk+29smBMAU0PBXrFixjD4NAABwCw4fPmwev2gjAmAKuJ79qT9AYWFhGX06AAAgCWJiYkwFjutz3EYEwBRwNftq+CMAAgDgXwIs7r5lZ8M3AACAxQiAAAAAliEAAgAAWIY+gAAAn3ft2jW5cuVKRp8G/ETWrFklW7ZsVvfxuxkCIADAp507d07+/PNPM3cbkFTZs2eXIkWKSFBQUEafik8iAAIAfLrmT8OffpgXKFCAGh3clP6hEBsbKydPnpTo6GgpW7astZM93wgBEADgs7TZVz/QNfyFhoZm9OnAT+jPSmBgoBw8eNCEwZCQkIw+JZ9DJAYA+Dxq/pBc1PrdGP86AAAAliEAAgDgB0qWLCmTJ09OcvnVq1ebmtPTp0+n6XnBPxEAAQBIRRq6brSMGjXqlvb7008/SY8ePZJc/t5775WjR49KeHi4pCVX0ExoOXbsWJoeG7eOQSAAAKQiDV0u8+bNkxEjRsju3bvd23LmzOn+Xge46EhnnbPuZnQgTHLo9CeFCxeW9KLXGBYW5rWtYMGCCZbVgRkJTc+ig3508EZy3er7bEYNIAAAqUhDl2vR2jetCXOt79q1S3LlyiVLly6V6tWrS3BwsKxbt072798vLVu2lEKFCpmAWLNmTVm5cuUNm4B1v++99548+uijZpocne5k0aJFiTYBz549W3Lnzi3Lly+X8uXLm+M0bdrUK7BevXpV+vbta8rly5dPhgwZIp06dZJWrVrd9Lo17Hleuy6ugRidO3c2+3j55ZclIiJC7rzzTvnjjz/M+WlIrl+/vhmpO3fuXImLi5MxY8ZI0aJFzb9P1apVZdmyZe7jJPY+JA8BEADgN7TG7ELs1QxZUnMi6qFDh8qrr74qO3fulMqVK5vJrh9++GFZtWqVbN261QSz5s2by6FDh264n9GjR0ubNm1k+/bt5v0dOnSQf/75J9HyFy5ckIkTJ8rHH38sa9euNft//vnn3a9PmDDBhKlZs2bJ+vXrJSYmRhYuXJgq16zXprWEK1askG+++cbr36Jfv37m36JJkyYyZcoUeeONN8x56nXpthYtWsjevXu99nf9+5A8NAEDAPzGxSvXpMKI5Rly7N/HNJHsQanzsak1XA8++KB7PW/evFKlShX3+tixY2XBggWmRq93796J7kdr1tq3b2++f+WVV+Stt96STZs2mQCZWFPpjBkzpHTp0mZd963n4jJ16lQZNmyYqVVU06ZNkyVLliTpmrTGzlOJEiVkx44d7vUcOXKYGktX06/W5Kn+/fvLY4895i6nwU9rHtu1a+cOpVFRUab2MzIy0l3u+vcheQiAAACksxo1anitaw2gDg5ZvHixaZLVptiLFy/etAZQaw89A5b2wTtx4kSi5bWp2BX+lD4qzVX+zJkzcvz4calVq5bXM3W1qVqbZW/m+++/N83bLtf3yatUqVKC/f48/y20xvHIkSNSt25drzK6/ssvvyT6PiQfARAA4DdCA7OamriMOnZq0bDmSZthtWlUa7/KlCljnmTRunVrM1jiRq4PWdo37kZhLaHyqdW0XapUKdN3MKnXfLPtN3Or78P/IQACAPyGBpbUaob1JdrfTptzXU2vWiPoaiJNLzpgRQeh6HQz9erVM9t0hPKWLVvMQIz0oDWYOkhE/z10gIeLrnvWTCLlMt9vEQAAfkZH8H711Vdm4IeG3OHDhyep2TW19enTR8aPH29qIcuVK2f6BP77779JehSfNiVfunTJa5uOJE7u9CwvvPCCjBw50jRVa/DUASnbtm1jpG8qIwACAJDBJk2aJF27djWTN+fPn98MgtD+cOlNj6uTN3fs2NH0/9OJp3WErX5/Mzq1y/U2bNgg99xzT7LOQaeh0f6IgwYNMqGyQoUKZjCMhmSkngAnNce1W0Z/ObXKXH9Qr5/8EgCQclqjFB0dbfqX6XxvSF9aC6lzBupUMzoyObP87MTw+U0NIAAA+D8HDx6Ub7/91vS/u3z5spkGRkPU//zP/2T0qSGVMRE0AAAw9Mkd+sQQfRKJTr3y66+/mieSaC0gMhdqAAEAgFGsWDEz4haZHzWAAAAAliEAAgAAWIYACAAAYBkCIAAAgGUIgAAAAJYhAAIAAFiGAAgAgB8bNWqUeWYukBwEQAAAUlFAQMANFw1sKdn3woULvbY9//zzsmrVqlQ4c9iEiaABAEhFR48edX8/b948GTFihOzevdu9LWfOnKl6PN1fau8ztVy5ckUCAwO9tsXGxkpQUFCy93Wr70PCqAEEACAVFS5c2L2Eh4ebWjvPbZ999pl5tFpISIiUK1dO3n77ba+Q07t3bylSpIh5vUSJEjJ+/HjzWsmSJc3XRx991OzTtX59E3Dnzp2lVatWMnHiRLOffPnySa9evUwY8wypzZo1k9DQUClVqpR88sknZn+TJ0++4bW99957iZ77H3/8Yc5LQ68+S1jLzJ07130+L7/8skRERMidd95pyutj5h544AFzDnqOPXr0kHPnzsW7juvfh9RBDSAAwH84jsiVCxlz7MDs2gabol1oINIawWnTpsndd98tW7dule7du0uOHDmkU6dO8tZbb8miRYtk/vz5Urx4cTl8+LBZ1E8//SQFCxaUWbNmSdOmTSVr1qyJHicqKsqEP/26b98+adu2rQmJeizVsWNHOXXqlKxevdrU0A0cOFBOnDiRonN3GTp0qLzxxhumjIZAPYY2UYeFhcmKFStMmfPnz0uTJk2kTp065rr02N26dTPhV59F7HL9+5B6CIAAAP+h4e+ViIw59otHRIJypGgXI0eONOHoscceM+ta+/b777/LzJkzTYg6dOiQlC1bVu677z5Tm6Y1gC4FChQwX3Pnzm1qEm8kT548JqhpSNSaOq3t0zClgW3Xrl2ycuVKE7xq1KjhrtnT46bk3F369+/vLuOiIVGP4WrCfffdd+XSpUvy0UcfmdeUnm/z5s1lwoQJUqhQoQTfh9RDAAQAIB1ordf+/fvl6aefdtfEqatXr5qmYlez54MPPmiaO7WW75FHHpHGjRsn+1gVK1b0qiHU2kBtclXaHzFbtmxSrVo19+tlypQxoTEl5+7iCpWeKlWq5BXidu7cKVWqVHGHP1W3bl2Ji4sz5+cKgNe/D6mHAAgA8B/aDKs1cRl17BRw9W/T2q/atWt7veYKaxrKoqOjZenSpaaWrk2bNtKoUSP54osvkneq1w280NpEDVdpee4unqHuRtuS4lbfh5sjAAIA/If2wUthM2xG0VotHcxw4MAB6dChQ6LltM+b9tnTpXXr1qYm8J9//pG8efOaYHft2rUUnYfWLmrNnfbhq169utmm/QT//fffFJ97UulAEu3rpzWLrpC3fv16yZIlC4M90gkBEACAdDJ69Gjp27evaTbVYHf58mX5+eefTfjSgRiTJk0yzbU6gELD0Oeff276+2m/P6UjdbUvnzaXBgcH37DZNjHaJ1BrFXXU7fTp002oHDRokBmNqzWFt3ruyaEhUvsUat9BHcV88uRJ6dOnjzz11FPu5l+kLaaBAQAgnehIVx3UoCN5tX+bTpeiNWE6oELlypVLXnvtNdOPrmbNmmZqlSVLlpgwqHQQho6ILVasmAmJt0oHX2jQqlevnplWRvv16bF11O6tnntyZM+eXZYvX25qNvU6taazYcOGZiAI0keA4+iYetyKmJgY85fQmTNnTJU9ACB16UhR7ROnIeNG4QQp8+eff5pQqf0ONYhl9p+dGD6//aMGcO3atWZouPY/SOgxOAnReYe0M61WkevoJs95ha736quvmv3q0HUAADK77777zsw3qAHphx9+kHbt2pnmZa0RhB38IgBqJ1EdLh4ZGZmk8voDrXMeNWjQQLZt22aCnVZda3Xz9XQeJJ3DqHLlymlw5gAA+B59KsiLL75opovRJmCdY9A1KTTs4BeDQB566CGzJNWMGTNMla/2lXCNNlq3bp28+eabZuZxz2Ht2hFVh7WPGzcuTc4dAABfo5+Fnp+HsI9f1AAm14YNG8wIJ0/6g67bPemzEbWm8PqyAAAAmZlf1AAm17Fjx+INI9d17fR58eJFM9RdH8a9ZcsW0wScVDrkXRcX3R8AAIC/yZQ1gDejD9bu16+febB1ckaVjR8/3owaci06YgoAAMDfZMoAqJNmHj9+3GubrutQb63927x5s5w4ccKMEtbnIeqyZs0aeeutt8z3ic2yPmzYMDNk3LVokAQAAPA3mbIJuE6dOmbiTE86caZuVzrHkeuh2C5dunQxs6MPGTIk3nMNXXRKGV0AAAD8mV8EQB2tq88p9JzmRad30eciFi9e3NTM/fXXX2Zmc/Xss8+a2cQHDx4sXbt2NfMdzZ8/XxYvXmxe19nO77rrLq9j6LMI8+XLF287AABAZuMXTcD6rEF95I3rsTf6zEH9fsSIEWb96NGjcujQIXd5nQJGw57W+un8gTodjD6+hiHvAAAAPAouRXiUDACkLX99FFznzp3lww8/jLddKyKWLVuWrueiT7pasGCBtGrVSmzCo+AyQRMwAAD+pmnTpjJr1iyvbfQjh6/wiyZgAAD8jYY9nZXCc8mTJ495TR+7FhQUJN9//727/GuvvSYFCxZ0z2Jx//33S+/evc2itVX58+eX4cOHS2o23MXFxcmYMWOkaNGi5nyrVq3qVUMZGxtrjl+kSBFTi1aiRAkzJZrS8xg1apTpi6/vjYiIkL59+6bauSFtUQMIAPAbGjouXr2YIccOzRZqmlNTg4Y7fU79U089Jb/88oscOHDAhLvPP//c60EG2oz89NNPy6ZNm0x/+B49epjA1b1791Q5jylTpph+8jNnzjR96z/44ANp0aKF7NixQ8qWLWumR1u0aJEZSKnH1enPXFOgffnll+YRq/pgBX2msD6EQa8F/oEACADwGxr+an9SO0OOvfF/Nkr2wOxJLv/NN99Izpw5vba9+OKLZlH6DHodrKih7rfffpNOnTqZ8OVJHzigIUuD55133mmmMNP11AqAEydONNOftWvXzqxPmDBBoqKiZPLkyRIZGWkGWGoQvO+++8w5aA2gi76mtZr6ONXAwEATEGvVqpUq54W0RxMwAABpoEGDBmbKMs9Fpylz0SZgfSKV1qTpgAUNdte75557vGoddT7bvXv3JvrAguTQgRBHjhyRunXrem3X9Z07d7oHs+h5a/jU5t1vv/3WXe6JJ54wj1e9/fbbTSDVgSZXr15N8XkhfVADCADwG9oMqzVxGXXs5ND5ZcuUKXPDMj/88IP5+s8//5hF3+NL9IlZOpJ26dKlsnLlSmnTpo2p8fviiy9M7eTu3bvNdq3JfO655+T11183T9bSGkH4NgIgAMBvaG1Ycpphfdn+/ftlwIAB8u6778q8efNME7CGqSxZ/l/j3MaN3mH3xx9/NE2yiT2xKjl0+hMduLF+/XqpX7++e7uuezblarm2bduapXXr1mZ0s4ZVfRiDPl61efPmZunVq5d5opY2U2twhG8jAAIAkAYuX75sBkZ40ufN62hebcJ98sknzbyA+ihSDVWVKlUyAzJeeOEFr352+vCDZ555RrZs2SJTp041ZVyufxJWYlxP0PKkQVKPNXLkSCldurQZAazT1mg5bZpWkyZNMiOAdYCIBlMdpKL9/nLnzi2zZ88211G7dm3Jnj27zJkzxwRCz36C8F0EQAAA0oBOp6LhyZP2pdu1a5e8/PLLcvDgQTNQRGm5d955R9q3by+NGzc2T7FSHTt2NP3stEZOa/369etnBo24XP8krMRoiLyeTkGj/fp0MuRBgwbJiRMnpEKFCmbUr4ZD16NTdXoa7Xeox69Zs6YsWbLEhEENga+++qrZtwZBDbD/+7//ax6rCt/Hk0BSgJnEASBt+euTQFJrqhitldMRuUg+ngRyY4wCBgAAsAwBEAAAwDL0AQQAwAfp4+KAtEINIAAAgGUIgAAAAJYhAAIAfB4TViC5+Jm5MQIgAMBnuZ54ERsbm9GnAj9z4cIF85XH0iWMQSAAAJ+lT87Qp0ycPHnSfJB7PiYNSKzmT8OfTmytk1WnxmPzMiMCIADAp5/9q0/J0Al99ckZQFJp+NPH1iFhBEAAgE8LCgoyjyajGRhJpbXF1PzdGAEQAODztOnXtkfBAWmJzhQAAACWIQACAABYhgAIAABgGQIgAACAZQiAAAAAliEAAgAAWIYACAAAYBkCIAAAgGUIgAAAAJYhAAIAAFiGAAgAAGAZAiAAAIBlCIAAAACWIQACAABYhgAIAABgGQIgAACAZQiAAAAAliEAAgAAWIYACAAAYBkCIAAAgGUIgAAAAJYhAAIAAFiGAAgAAGAZAiAAAIBlCIAAAACWIQACAABYhgAIAABgGQIgAACAZQiAAAAAliEAAgAAWIYACAAAYBkCIAAAgGUIgAAAAJYhAAIAAFiGAAgAAGAZAiAAAIBl/CIArl27Vpo3by4RERESEBAgCxcuvOl7Vq9eLdWqVZPg4GApU6aMzJ492+v18ePHS82aNSVXrlxSsGBBadWqlezevTsNrwIAAMA3+EUAPH/+vFSpUkUiIyOTVD46OlqaNWsmDRo0kG3btkn//v2lW7dusnz5cneZNWvWSK9eveTHH3+UFStWyJUrV6Rx48bmWAAAAJlZgOM4jvgRrQFcsGCBqbFLzJAhQ2Tx4sXy22+/ube1a9dOTp8+LcuWLUvwPSdPnjQ1gRoM69Wrl6RziYmJkfDwcDlz5oyEhYXdwtUAAID0FsPnt3/UACbXhg0bpFGjRl7bmjRpYrYnRn8IVN68eRMtc/nyZfND47kAAAD4m0wZAI8dOyaFChXy2qbrGtguXrwYr3xcXJxpJq5bt67cddddie5X+w3qXwyupVixYmly/gAAAGkpUwbA5NK+gNpc/Nlnn92w3LBhw0xNoWs5fPhwup0jAABAaskmmVDhwoXl+PHjXtt0Xdv5Q0NDvbb37t1bvvnmGzPSuGjRojfcr44o1gUAAMCfZcoawDp16siqVau8tulIX93uomNfNPzpgJLvvvtOSpUqlQFnCgAAkP78IgCeO3fOTOeii2uaF/3+0KFD7qbZjh07uss/++yzcuDAARk8eLDs2rVL3n77bZk/f74MGDDAq9l3zpw58sknn5i5ALXfoC4J9REEAADITPxiGhid1Fnn9Ltep06dzATPnTt3lj/++MOU83yPBr7ff//dNO0OHz7clPOcTiYhs2bN8ip3IwwjBwDA/8Tw+e0fAdBX8QMEAID/ieHz2z+agAEAAJB6CIAAAACWIQACAABYhgAIAABgGQIgAACAZQiAAAAAliEAAgAAWIYACAAAYBkCIAAAgGUIgAAAAJYhAAIAAFiGAAgAAGAZAiAAAIBlCIAAAACWIQACAABYhgAIAABgGQIgAACAZQiAAAAAliEAAgAAWIYACAAAYBkCIAAAgGUIgAAAAJYhAAIAAFiGAAgAAGAZAiAAAIBlCIAAAACWIQACAABYhgAIAABgGQIgAACAZQiAAAAAliEAAgAAWIYACAAAYBkCIAAAgGUIgAAAAJYhAAIAAFiGAAgAAGAZAiAAAIBlCIAAAACWIQACAABYhgAIAABgGQIgAACAZQiAAAAAliEAAgAAWIYACAAAYBkCIAAAgGXSLABeuXJFGjZsKHv37k2rQwAAAMCXAmBgYKBs3749rXYPAAAAX2wCfvLJJ+X9999Py0MAAAAgmbJJGrp69ap88MEHsnLlSqlevbrkyJHD6/VJkyal5eEBAACQ3gHwt99+k2rVqpnv9+zZ4/VaQEBAWh4aAAAAGREAo6Ki0nL3AAAA8OVpYP7880+zAAAAIBMHwLi4OBkzZoyEh4dLiRIlzJI7d24ZO3aseQ0AAACZrAn4pZdeMqOAX331Valbt67Ztm7dOhk1apRcunRJXn755bQ8PAAAABIQ4DiOI2kkIiJCZsyYIS1atPDa/vXXX8tzzz0nf/31l/izmJgYU7t55swZCQsLy+jTAQAASRDD53faNgH/888/Uq5cuXjbdZu+BgAAgEwWAKtUqSLTpk2Lt1236WtJtXbtWmnevLmpUdTpYxYuXHjT96xevdpMQRMcHCxlypSR2bNnxysTGRkpJUuWlJCQEKldu7Zs2rQpyecEAADgr9K0D+Brr70mzZo1MxNB16lTx2zbsGGDHD58WJYsWZLk/Zw/f94Exq5du8pjjz120/LR0dHmuM8++6zMnTtXVq1aJd26dZMiRYpIkyZNTJl58+bJwIEDTRO1hr/Jkyeb13bv3i0FCxZMwVUDAABY3AdQHTlyxNS07dq1y6yXL1/e9P/T2rxboTWACxYskFatWiVaZsiQIbJ48WIzEbVLu3bt5PTp07Js2TKzrqGvZs2a7hpKHZVcrFgx6dOnjwwdOjRD+xDEXbsm/549mWr7AwDAX+XJVUCyZM2aqvuMoQ9g2tUAXrlyRZo2bWpq2NJ7tK/WMjZq1Mhrm9bu9e/f33wfGxsrmzdvlmHDhrlfz5Ili3mPvjcxly9fNovnD1Ba0PB3/9cPpsm+AQDwJ6tbrpB8uQtn9GlkOmnWBzAwMFC2b98uGeHYsWNSqFAhr226roHt4sWLcurUKbl27VqCZfS9iRk/frz5i8G1aI0hAACAv0nTPoBPPvmkex7AzEBrDLXfoIsGyrQIgVrdrX/xAABgO/1MhJ8FwKtXr8oHH3xgBoFUr15dcuTI4fX6pEmT0uS4hQsXluPHj3tt03Vt5w8NDZWsWbOaJaEy+t7E6IhiXdKa9nWguhsAAPhlANRBGDoVi9qzZ0+8wRxpRUccXz/KeMWKFe6RyEFBQSaQ6uhg12ASHQSi6717906z8wIAAMjUAVD72I0ePVoqVaokefLkSdG+zp07J/v27fOa5mXbtm2SN29eKV68uGma1aeKfPTRR+Z1nf5FR/cOHjzYTB3z3Xffyfz5883IYBdtyu3UqZPUqFFDatWqZaaB0elmunTpkqJzBQAAsDYAahNr48aNZefOnSkOgD///LM0aNDAve7qh6cBTid4Pnr0qBw6dMj9eqlSpUzYGzBggEyZMkWKFi0q7733nnsOQNW2bVs5efKkjBgxwgz8qFq1qpki5vqBIQAAAJlNms4DqLVrEyZMkIYNG0pmxDxCAAD4nxg+v9P2UXDjxo2T559/Xr755htTS6f/4J4LAAAAMlkNoE6unNCgDz2krms/QX/GXxAAAPifGD6/03YUcFRUVFruHgAAAL7WBFy/fn1TC/juu++a5+uWKVPGbNMBGzpIBAAAAJksAH755Zdm5K1Ovrx161b3c3S1yvWVV15Jy0MDAAAgowaBzJgxw9QA6rOBXerWrStbtmxJy0MDAAAgIwLg7t27pV69evG2a8fL06dPp+WhAQAAkBEBUJ+r6/kED5d169bJ7bffnpaHBgAAQEYEwO7du0u/fv1k48aNZtqXI0eOyNy5c83cgD179kzLQwMAACAjpoHRkb9xcXHmSSAXLlwwzcHBwcEmAPbp0yctDw0AAICMmAjaJTY21jQFnzt3TipUqCA5c+aUzICJJAEA8D8xfH6nbQ2gS1BQkAl+AAAAyOR9AAEAAOB7CIAAAACWIQACAABYhgAIAABgGQIgAACAZQiAAAAAliEAAgAAWIYACAAAYBkCIAAAgGUIgAAAAJYhAAIAAFiGAAgAAGAZAiAAAIBlCIAAAACWIQACAABYhgAIAABgGQIgAACAZQiAAAAAliEAAgAAWIYACAAAYBkCIAAAgGUIgAAAAJYhAAIAAFiGAAgAAGAZAiAAAIBlCIAAAACWIQACAABYhgAIAABgGQIgAACAZQiAAAAAliEAAgAAWIYACAAAYBkCIAAAgGUIgAAAAJYhAAIAAFiGAAgAAGAZAiAAAIBlCIAAAACWIQACAABYhgAIAABgGQIgAACAZQiAAAAAliEAAgAAWIYACAAAYBm/CYCRkZFSsmRJCQkJkdq1a8umTZsSLXvlyhUZM2aMlC5d2pSvUqWKLFu2zKvMtWvXZPjw4VKqVCkJDQ01ZceOHSuO46TD1QAAAGQcvwiA8+bNk4EDB8rIkSNly5YtJtA1adJETpw4kWD5//73vzJz5kyZOnWq/P777/Lss8/Ko48+Klu3bnWXmTBhgkyfPl2mTZsmO3fuNOuvvfaaeQ8AAEBmFuD4QZWX1vjVrFnThDUVFxcnxYoVkz59+sjQoUPjlY+IiJCXXnpJevXq5d72+OOPm5q+OXPmmPVHHnlEChUqJO+//36iZW4mJiZGwsPD5cyZMxIWFpYKVwoAANJaDJ/fvl8DGBsbK5s3b5ZGjRq5t2XJksWsb9iwIcH3XL582TT9etJgt27dOvf6vffeK6tWrZI9e/aY9V9++cW8/tBDD6XZtQAAAPiCbOLjTp06ZfrraW2dJ13ftWtXgu/R5uFJkyZJvXr1TN8+DXpfffWV2Y+L1hzqXwDlypWTrFmzmtdefvll6dChQ6LnosFSFxd9PwAAgL/x+RrAWzFlyhQpW7asCXdBQUHSu3dv6dKli6k5dJk/f77MnTtXPvnkE9Ov8MMPP5SJEyear4kZP368qTJ2LdoMDQAA4G98PgDmz5/f1NAdP37ca7uuFy5cOMH3FChQQBYuXCjnz5+XgwcPmprCnDlzyu233+4u88ILL5hawHbt2kmlSpXkqaeekgEDBpiQl5hhw4aZ/gKu5fDhw6l4pQAAAOnD5wOg1uBVr17dNOO66CAQXa9Tp84N36v9AG+77Ta5evWqfPnll9KyZUv3axcuXPCqEVQaNHXfiQkODjadRT0XAAAAf+PzfQCVTgHTqVMnqVGjhtSqVUsmT55save0WVd17NjRBD1X7d3GjRvlr7/+kqpVq5qvo0aNMsFu8ODB7n02b97c9PkrXry4VKxY0UwRo/0Gu3btmmHXCQAAkB78IgC2bdtWTp48KSNGjJBjx46ZYKcTO7sGhhw6dMirNu/SpUtmLsADBw6Ypt+HH35YPv74Y8mdO7e7jM73pxNBP/fcc2Y+QZ065plnnjHHAAAAyMz8Yh5AX8U8QgAA+J8YPr99vw8gAAAAUhcBEAAAwDIEQAAAAMsQAAEAACxDAAQAALAMARAAAMAyBEAAAADLEAABAAAsQwAEAACwDAEQAADAMgRAAAAAyxAAAQAALEMABAAAsAwBEAAAwDIEQAAAAMsQAAEAACxDAAQAALAMARAAAMAyBEAAAADLEAABAAAsQwAEAACwDAEQAADAMgRAAAAAyxAAAQAALEMABAAAsAwBEAAAwDIEQAAAAMsQAAEAACxDAAQAALAMARAAAMAyBEAAAADLEAABAAAsQwAEAACwDAEQAADAMgRAAAAAyxAAAQAALEMABAAAsAwBEAAAwDIEQAAAAMsQAAEAACxDAAQAALAMARAAAMAyBEAAAADLEAABAAAsQwAEAACwDAEQAADAMgRAAAAAyxAAAQAALEMABAAAsAwBEAAAwDIEQAAAAMsQAAEAACxDAAQAALAMARAAAMAyBEAAAADLEAABAAAs4zcBMDIyUkqWLCkhISFSu3Zt2bRpU6Jlr1y5ImPGjJHSpUub8lWqVJFly5bFK/fXX3/Jk08+Kfny5ZPQ0FCpVKmS/Pzzz2l8JQAAABnLLwLgvHnzZODAgTJy5EjZsmWLCXRNmjSREydOJFj+v//9r8ycOVOmTp0qv//+uzz77LPy6KOPytatW91l/v33X6lbt64EBgbK0qVLTbk33nhD8uTJk45XBgAAkP4CHMdxxMdpjV/NmjVl2rRpZj0uLk6KFSsmffr0kaFDh8YrHxERIS+99JL06tXLve3xxx83tXxz5swx6/q+9evXy/fff3/L5xUTEyPh4eFy5swZCQsLu+X9AACA9BPD57fv1wDGxsbK5s2bpVGjRu5tWbJkMesbNmxI8D2XL182Tb+eNPytW7fOvb5o0SKpUaOGPPHEE1KwYEG5++675d13303DKwEAAPANPh8AT506JdeuXZNChQp5bdf1Y8eOJfgebR6eNGmS7N2719QWrlixQr766is5evSou8yBAwdk+vTpUrZsWVm+fLn07NlT+vbtKx9++GGi56LBUv9q8FwAAAD8jc8HwFsxZcoUE+zKlSsnQUFB0rt3b+nSpYupOXTRYFitWjV55ZVXTO1fjx49pHv37jJjxoxE9zt+/HhTZexatBkaAADA3/h8AMyfP79kzZpVjh8/7rVd1wsXLpzgewoUKCALFy6U8+fPy8GDB2XXrl2SM2dOuf32291lihQpIhUqVPB6X/ny5eXQoUOJnsuwYcNMfwHXcvjw4RRfHwAAQHrz+QCoNXjVq1eXVatWedXe6XqdOnVu+F7tB3jbbbfJ1atX5csvv5SWLVu6X9MRwLt37/Yqv2fPHilRokSi+wsODjadRT0XAAAAf5NN/IBOAdOpUyczaKNWrVoyefJkU7unzbqqY8eOJuhpE63auHGjmeOvatWq5uuoUaNMaBw8eLB7nwMGDJB7773XNAG3adPGzCv4zjvvmAUAACAz84sA2LZtWzl58qSMGDHCDPzQYKcTO7sGhmizrWf/vkuXLpm5AHWghzb9Pvzww/Lxxx9L7ty53WV0WpkFCxaYZl2dNLpUqVImWHbo0CFDrhEAACC9+MU8gL6KeYQAAPA/MXx++34fQAAAAKQuAiAAAIBlCIAAAACWIQACAABYhgAIAABgGQIgAACAZQiAAAAAliEAAgAAWIYACAAAYBkCIAAAgGUIgAAAAJYhAAIAAFiGAAgAAGAZAiAAAIBlCIAAAACWIQACAABYhgAIAABgGQIgAACAZQiAAAAAliEAAgAAWIYACAAAYBkCIAAAgGUIgAAAAJYhAAIAAFiGAAgAAGAZAiAAAIBlCIAAAACWIQACAABYhgAIAABgGQIgAACAZQiAAAAAliEAAgAAWIYACAAAYBkCIAAAgGUIgAAAAJYhAAIAAFiGAAgAAGAZAiAAAIBlCIAAAACWIQACAABYhgAIAABgGQIgAACAZQiAAAAAlsmW0SfgzxzHMV9jYmIy+lQAAEASxfz/n9uuz3EbEQBT4OzZs+ZrsWLFMvpUAADALXyOh4eHi40CHJvjbwrFxcXJkSNHJFeuXBIQEJDqf51osDx8+LCEhYVJZsa1Zl42XS/XmnnZdL22XKvjOCb8RURESJYsdvaGowYwBfSHpmjRoml6DP0FzMy/hJ641szLpuvlWjMvm67XhmsNt7Tmz8XO2AsAAGAxAiAAAIBlCIA+Kjg4WEaOHGm+ZnZca+Zl0/VyrZmXTddr07XajkEgAAAAlqEGEAAAwDIEQAAAAMsQAAEAACxDAAQAALAMATCDREZGSsmSJSUkJERq164tmzZtumH5zz//XMqVK2fKV6pUSZYsWSL+YPz48VKzZk3ztJSCBQtKq1atZPfu3Td8z+zZs82TVTwXvW5fN2rUqHjnrfcsM95XpT+/11+vLr169fL7+7p27Vpp3ry5eUqAnufChQu9XtexcyNGjJAiRYpIaGioNGrUSPbu3Zvqv/cZfa1XrlyRIUOGmJ/NHDlymDIdO3Y0T0BK7d8FX7m3nTt3jnfuTZs2zXT3ViX0+6vL66+/7pf3FslDAMwA8+bNk4EDB5qh9lu2bJEqVapIkyZN5MSJEwmW/+GHH6R9+/by9NNPy9atW02I0uW3334TX7dmzRoTCH788UdZsWKF+UBp3LixnD9//obv0xnojx496l4OHjwo/qBixYpe571u3bpEy/rzfVU//fST17Xq/VVPPPGE399X/fnU30v9UE/Ia6+9Jm+99ZbMmDFDNm7caMKR/g5funQp1X7vfeFaL1y4YM51+PDh5utXX31l/oBr0aJFqv4u+NK9VRr4PM/9008/veE+/fHeKs9r1OWDDz4wge7xxx/3y3uLZNJpYJC+atWq5fTq1cu9fu3aNSciIsIZP358guXbtGnjNGvWzGtb7dq1nWeeecbxNydOnNBph5w1a9YkWmbWrFlOeHi4429GjhzpVKlSJcnlM9N9Vf369XNKly7txMXFZar7qj+vCxYscK/r9RUuXNh5/fXX3dtOnz7tBAcHO59++mmq/d77wrUmZNOmTabcwYMHU+13wZeut1OnTk7Lli2TtZ/Mcm/1uh944IEblvGXe4ubowYwncXGxsrmzZtNk5HnM4V1fcOGDQm+R7d7llf612Vi5X3ZmTNnzNe8efPesNy5c+ekRIkS5qHkLVu2lB07dog/0GZAbW65/fbbpUOHDnLo0KFEy2am+6o/13PmzJGuXbuaGoTMdl89RUdHy7Fjx7zunT5TVJv9Ert3t/J778u/w3qPc+fOnWq/C75m9erVpsvKnXfeKT179pS///470bKZ5d4eP35cFi9ebFokbsaf7y3+HwJgOjt16pRcu3ZNChUq5LVd1/VDJSG6PTnlfVVcXJz0799f6tatK3fddVei5fR/utoU8fXXX5tQoe+799575c8//xRfpgFA+7ktW7ZMpk+fboLCf/7zHzl79mymvq9K+xadPn3a9J/KbPf1eq77k5x7dyu/975Im7i1T6B2XdDm/NT6XfAl2vz70UcfyapVq2TChAmmG8tDDz1k7l9mvrcffvih6av92GOP3bCcP99beMt23TqQZrQvoPZvu1l/kTp16pjFRUNC+fLlZebMmTJ27FjxVfoh4VK5cmXzP0qt7Zo/f36S/qr2Z++//765fq0VyGz3Ff9H+++2adPGDIDRD/7M+rvQrl079/c6+EXPv3Tp0qZWsGHDhpJZ6R9nWpt3s4FZ/nxv4Y0awHSWP39+yZo1q6lu96TrhQsXTvA9uj055X1R79695ZtvvpGoqCgpWrRost4bGBgod999t+zbt0/8iTaR3XHHHYmed2a4r0oHcqxcuVK6detmxX113Z/k3Ltb+b33xfCn91oH+9yo9u9Wfhd8mTZz6v1L7Nz9/d6q77//3gzuSe7vsL/fW9sRANNZUFCQVK9e3TQvuGhTmK571o540u2e5ZX+Tzix8r5Eaws0/C1YsEC+++47KVWqVLL3oc0rv/76q5lyw59of7f9+/cnet7+fF89zZo1y/SXatasmRX3VX+G9YPd897FxMSY0cCJ3btb+b33tfCn/b406OfLly/Vfxd8mXZR0D6AiZ27P99bzxp8vQYdMWzTvbVeEgaKIJV99tlnZsTg7Nmznd9//93p0aOHkzt3bufYsWPm9aeeesoZOnSou/z69eudbNmyORMnTnR27txpRmEFBgY6v/76q+PrevbsaUZ+rl692jl69Kh7uXDhgrvM9dc7evRoZ/ny5c7+/fudzZs3O+3atXNCQkKcHTt2OL5s0KBB5jqjo6PNPWvUqJGTP39+M/I5s91Xz9GOxYsXd4YMGRLvNX++r2fPnnW2bt1qFv3f5KRJk8z3rpGvr776qvmd/frrr53t27eb0ZOlSpVyLl686N6HjqacOnVqkn/vffFaY2NjnRYtWjhFixZ1tm3b5vU7fPny5USv9Wa/C756vfra888/72zYsMGc+8qVK51q1ao5ZcuWdS5dupSp7q3LmTNnnOzZszvTp09PcB/+dG+RPATADKK/UPrBGRQUZKYQ+PHHH92v1a9f30xF4Gn+/PnOHXfcYcpXrFjRWbx4seMP9H86CS06JUhi19u/f3/3v02hQoWchx9+2NmyZYvj69q2besUKVLEnPdtt91m1vft25cp76uLBjq9n7t37473mj/f16ioqAR/bl3Xo1PBDB8+3FyHfvA3bNgw3r9BiRIlTKhP6u+9L16rfsgn9jus70vsWm/2u+Cr16t/mDZu3NgpUKCA+WNMr6t79+7xglxmuLcuM2fOdEJDQ81URgnxp3uL5AnQ/2R0LSQAAADSD30AAQAALEMABAAAsAwBEAAAwDIEQAAAAMsQAAEAACxDAAQAALAMARAAAMAyBEAAVtq1a5fcc889EhISIlWrVs3o0wGAdEUABODTTp48aZ63ev78efNc2hw5csihQ4dSvN+RI0eafe3evTveM5ld7r//funfv3+KjwUAvoYACMCnbdiwwTykXsPali1bJG/evFK8ePEU71cfYH/fffdJiRIlJF++fLe8H32Y0tWrV1N8PgCQngiAAHzaDz/8IHXr1jXfr1u3zv39jcTFxcmYMWOkaNGiEhwcbJp4ly1b5n49ICBANm/ebMro96NGjYq3j86dO8uaNWtkypQppowuf/zxh6xevdp8v3TpUqlevbrZv56XHnP8+PFSqlQpCQ0NNaH1iy++8Nrnb7/9Jg899JDkzJlTChUqJE899ZScOnXK/bqWr1Spknm/htJGjRqZmk8ASHXJfHYwAKS5gwcPOuHh4WYJDAx0QkJCzPf6APrg4GDzfc+ePRN9/6RJk5ywsDDn008/dXbt2uUMHjzY7GfPnj3m9aNHjzoVK1Z0Bg0aZL4/e/ZsvH2cPn3aqVOnjtO9e3dTRperV686UVFR+vx0p3Llys63337r7Nu3z/n777+dcePGOeXKlXOWLVvm7N+/35k1a5Y519WrV5v9/fvvv06BAgWcYcOGOTt37nS2bNniPPjgg06DBg3M60eOHHGyZctmzj06OtrZvn27ExkZmeC5AUBKBeh/Uj9WAsCt0ybVP//8U2JiYqRGjRry888/myZgrclbvHixaQLWWrT8+fMn+P7bbrtNevXqJS+++KJ7W61ataRmzZoSGRlp1nVfrVq1SrD2z7MPoJabPHmye5vWADZo0EAWLlwoLVu2NNsuX75smqZXrlwpderUcZft1q2bXLhwQT755BMZN26cfP/997J8+XL363qNxYoVM/0Qz507Z2oUtZZRm6UBIC1lS9O9A8AtyJYtm5QsWVLmz59vQlvlypVl/fr1ptm0Xr16N3yvhsYjR47EayrW9V9++SXVzlGDqcu+fftM0HvwwQe9ysTGxsrdd99tvtdjR0VFmeCaUH/Exo0bS8OGDU0TcJMmTcx669atJU+ePKl2zgDgQgAE4HMqVqwoBw8eNKN+tW+dhiatFdRFv9cash07dmToOWqNpIvW3imtndTaR0/aR9BVpnnz5jJhwoR4+ypSpIhkzZpVVqxYYfo8fvvttzJ16lR56aWXZOPGjaZfIQCkJgaBAPA5S5YskW3btknhwoVlzpw55vu77rrLNMXq9/p6YsLCwiQiIsLUGHrS9QoVKiTrPHT6mWvXrt20nO5Xg55OT1OmTBmvRZt4VbVq1Uxo1ZrN68u4wqQOLtGaytGjR8vWrVvN8RcsWJCscwaApKAGEIDP0Rq+Y8eOyfHjx00/Ow1GGp4ef/xxU1t2My+88IKZ56906dKmD9+sWbNMcJw7d26yzkPDmtbAab88rXnUfn4JyZUrlzz//PMyYMAAU2Op08ucOXPGhE4NpJ06dTJ9Et99911p3769DB482OxLm44/++wzee+990w/R52PUJt+CxYsaI6rcyCWL18+WecMAElBAATgk3Swhfb/0yd16OAJndIlKeFP9e3b1wSwQYMGyYkTJ0wN3aJFi6Rs2bLJOgcNdRre9P0XL16U6OjoRMuOHTtWChQoYKaCOXDggOTOndvU+rkGorhqJYcMGWJCng4c0aDbtGlTyZIliwmKa9euNbWc2o9RX3vjjTfMtDEAkNoYBQwAAGAZ+gACAABYhgAIAABgGQIgAACAZQiAAAAAliEAAgAAWIYACAAAYBkCIAAAgGUIgAAAAJYhAAIAAFiGAAgAAGAZAiAAAIBlCIAAAABil/8PitHHn5EZcbcAAAAASUVORK5CYII=' width=640.0/>\n",
       "            </div>\n",
       "        "
      ],
      "text/plain": [
       "Canvas(toolbar=Toolbar(toolitems=[('Home', 'Reset original view', 'home', 'home'), ('Back', 'Back to previous …"
      ]
     },
     "metadata": {},
     "output_type": "display_data"
    }
   ],
   "source": [
    "M=20 # max number of trees\n",
    "alltrees,allalphas=boosttree(xTrIon,yTrIon,maxdepth=3,maxiter=M)\n",
    "\n",
    "err_trB=[]\n",
    "loss_trB=[]\n",
    "err_teB=[]\n",
    "for i in range(M):\n",
    "    trees=alltrees[:i+1]\n",
    "    alphas=allalphas[:i+1]\n",
    "    trErr = np.mean(np.sign(evalforest(trees,xTrIon,alphas)) != yTrIon)\n",
    "    trLoss =np.mean(np.exp(-evalforest(trees,xTrIon,alphas)*yTrIon))\n",
    "    teErr = np.mean(np.sign(evalforest(trees,xTeIon,alphas)) != yTeIon)\n",
    "    err_trB.append(trErr)\n",
    "    err_teB.append(teErr)\n",
    "    loss_trB.append(trLoss)\n",
    "    print(\"[%d] exp loss = %.4f training err = %.4f\\ttesting err = %.4f\" % (i,trLoss,trErr, teErr))\n",
    "\n",
    "plt.figure()\n",
    "line_tr, = plt.plot(range(M),err_trB,label=\"Training Error\")\n",
    "line_te, = plt.plot(range(M),err_teB,label=\"Testing error\")\n",
    "line_trloss,=plt.plot(range(M),loss_trB,label='Exp. Loss')\n",
    "plt.title(\"Adaboost\")\n",
    "plt.legend(handles=[line_tr, line_te,line_trloss])\n",
    "plt.xlabel(\"# of trees\")\n",
    "plt.ylabel(\"error\")\n",
    "plt.show()\n",
    "# Your training error should converge very quickly"
   ]
  },
  {
   "cell_type": "code",
   "execution_count": 21,
   "metadata": {
    "deletable": false,
    "editable": false,
    "nbgrader": {
     "cell_type": "code",
     "checksum": "9a658fd6a0382a99a5d6c8bd765f7f25",
     "grade": false,
     "grade_id": "cell-412235795894022a",
     "locked": true,
     "schema_version": 3,
     "solution": false,
     "task": false
    }
   },
   "outputs": [
    {
     "data": {
      "application/vnd.jupyter.widget-view+json": {
       "model_id": "837209fc2f6d435e931e8234218bcb2c",
       "version_major": 2,
       "version_minor": 0
      },
      "image/png": "[encoded data removed]",
      "text/html": [
       "\n",
       "            <div style=\"display: inline-block;\">\n",
       "                <div class=\"jupyter-widgets widget-label\" style=\"text-align: center;\">\n",
       "                    Figure\n",
       "                </div>\n",
       "                <img src='data:image/png;base64,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' width=640.0/>\n",
       "            </div>\n",
       "        "
      ],
      "text/plain": [
       "Canvas(toolbar=Toolbar(toolitems=[('Home', 'Reset original view', 'home', 'home'), ('Back', 'Back to previous …"
      ]
     },
     "metadata": {},
     "output_type": "display_data"
    },
    {
     "name": "stdout",
     "output_type": "stream",
     "text": [
      "elapsed time: 0.80 seconds\n",
      "Training error: 1.0000\n",
      "Testing error:  1.0000\n"
     ]
    }
   ],
   "source": [
    "trees,alphas=boosttree(xTrSpiral,yTrSpiral,maxdepth=3,maxiter=20)\n",
    "visclassifier(lambda X:evalforest(trees,X,alphas),xTrSpiral,yTrSpiral)\n",
    "\n",
    "print(\"elapsed time: %.2f seconds\" % (t1-t0))\n",
    "print(\"Training error: %.4f\" % np.mean(np.sign(evalforest(trees,xTrSpiral,alphas)) != yTrSpiral))\n",
    "print(\"Testing error:  %.4f\" % np.mean(np.sign(evalforest(trees,xTeSpiral,alphas)) != yTeSpiral))"
   ]
  },
  {
   "cell_type": "code",
   "execution_count": 22,
   "metadata": {
    "deletable": false,
    "editable": false,
    "nbgrader": {
     "cell_type": "code",
     "checksum": "67e43948259004230f01939797b7279e",
     "grade": false,
     "grade_id": "cell-e53ca9e4cded1a68",
     "locked": true,
     "schema_version": 3,
     "solution": false,
     "task": false
    }
   },
   "outputs": [
    {
     "data": {
      "text/plain": [
       "Text(0.5, 1.0, 'Use shift-click to add negative points.')"
      ]
     },
     "execution_count": 22,
     "metadata": {},
     "output_type": "execute_result"
    },
    {
     "data": {
      "application/vnd.jupyter.widget-view+json": {
       "model_id": "c175773438f94a9a86e9a59496059031",
       "version_major": 2,
       "version_minor": 0
      },
      "image/png": "[encoded data removed]",
      "text/html": [
       "\n",
       "            <div style=\"display: inline-block;\">\n",
       "                <div class=\"jupyter-widgets widget-label\" style=\"text-align: center;\">\n",
       "                    Figure\n",
       "                </div>\n",
       "                <img src='data:image/png;base64,iVBORw0KGgoAAAANSUhEUgAAAoAAAAHgCAYAAAA10dzkAAAAOnRFWHRTb2Z0d2FyZQBNYXRwbG90bGliIHZlcnNpb24zLjEwLjAsIGh0dHBzOi8vbWF0cGxvdGxpYi5vcmcvlHJYcgAAAAlwSFlzAAAPYQAAD2EBqD+naQAALVdJREFUeJzt3Qm83fOdP/5PFkkoCRqENAS1b9GECFJDQ6aMZaamKUbCWKqWmqRUFIk9aqsOwVDbjKqtqAeZWILpqHRSQUdrqzVqmkiUXIKE5Pwe78//f+7j3pt7b26Qe5PzeT4fj5Ob873f7z3f7Zzv63y2b6dKpVJJAAAUo3NHrwAAAO1LAAQAKIwACABQGAEQAKAwAiAAQGEEQACAwgiAAACFEQABAAojAAIAFEYABAAojAAIAFAYARAAoDACIABAYQRAAIDCCIAAAIURAAEACiMAAgAURgAEACiMAAgAUBgBEACgMAIgAEBhBEAAgMIIgAAAhREAAQAKIwACABRGAAQAKIwACABQGAEQAKAwAiAAQGEEQACAwgiAAACFEQABAAojAAIAFEYABAAojAAIy9hjjz2WOnXqlO68884lznvYYYel/v37N5r2wQcfpCOPPDL16dMn/51/+Zd/WWbrGq8d69B03ePn0oi/seqqq6Za0tyxac7rr7+e99mNN96YallsX2xnbO+K7m/+5m/yA0oiALJCOfPMM/NFZ86cOc3+fuutt665D/Lzzz8/X2y/973vpf/4j/9Ihx56aHriiSfyvnjvvfdSrZk0aVLeNpaf8++ee+7p6NVYbt1yyy3psssu6+jVgKUmAMJy5Nprr00vvvhio2mPPPJI2mmnndL48ePTP/3TP6WBAwfmAHjWWWct8wD49a9/PX300Uf5Z3sGwNg2lu8AGF9E4tzYYIMN0oruwQcfzI/PQgBkRSUAwnJkpZVWSt27d2807e23306rr756h6xP586dU48ePfJPaKhLly753IgS+RVdt27d8gNK4lOdmnf55ZenrbbaKq2yyippjTXWSIMGDcrf2ht666230j//8z+nddZZJwewmP/6669v099/6KGH0q677ppDWrR722yzzdKPfvSjxeZbtGhROu+889JXvvKVfOH8xje+kV5++eUW25lV29+99tpr6f7778//j0fMc/LJJ+d5Ntxww/rpS2qLFa//05/+NG2zzTb59ddaa630t3/7t+nJJ59scZmW2gD+z//8T9p7773z/vzSl76Utt122/y3W/PMM8/k14wq+mjX2JzYtokTJ+b/V7erYcCYN29e+sEPfpD69euXj1Ps64svvjhVKpW0JP/93/+d/vEf/zGtv/76edn4G6NHj86lWE1FiVc0J4j9FD/vvvvuZv9mlMDGOvfq1Ssf/1GjRrW5VLbahu43v/lNGjNmTN43sS///u//Ps2ePXux+f/zP/8zDR06NM+z2mqrpX322Sf98Y9/XGy+O+64I2255ZaN1r259oux33beeef05S9/Oa288sq5ZLlpO9VYv9jnN910U6Pzr+H6V8+7v/u7v0sbbbRRs9s6ZMiQ/L5r6Oabb86vGa+95pprpu985zvpzTffbHMzkBdeeCF9+9vfTj179szbcOKJJ6aPP/640byffvppOuecc9LGG2+cj3nsg3hvzp8/v9U2gNXz/vbbb2/1PRvLxHvzjTfeqN8/DfdzWz57oKN07bBXhnaqUv3+97+fDjzwwPoLxP/+7//mAHPwwQfneWbNmpWrWOPD+/jjj88X4rjYHnHEEamurq7VThdxAY4LXwSgs88+O19k4gIRF/WmLrjgglySdtJJJ6W5c+emCy+8MB1yyCF5XZqzxRZb5DZ/EVLiAhTBJ0SAW7BgQfrFL36RfvKTn6TevXvn6bHerYntiYv2N7/5zdypJC6OEYp++9vfLnZxXlLgjW1ed9118z6NzinPP/98uu+++/Lz5vzud79Lw4cPz6/zq1/9Kl/0m/Pd7343/d///V9+jdj2hiLk7bfffunRRx/N2zJgwID0wAMP5DAcAT72RWsiGH344Ye5LWUEhmnTpuUL9J///Of8u6qoCvzWt76VQ9SECRPSO++8kw4//PB8DJquz/77758ef/zxdMwxx+TjFWErQuDSOOGEE3I4iCr+CFNRnRjn4W233VY/T+yL+LuxD3/84x/n7bjqqqvyF4+nn366PnREGBkxYkQ+R2Ld33333byv+vbtu9jrRmCP/RnnYJxPt956aw7IcRwjXFZfN86VHXfcMR199NF5WoSp5sTrjhw5Mh/rHXbYoX56hKM4xy666KL6aRGqzjjjjBzg4u9H4I1jEU0NYnvaUuIdy8Z2x3bG3//Xf/3XvL3//u//Xj9P/O0Ir/H+j/dPvNdi/jhfWwr1S/OePe200/L0OIeq51+181NbPnugQ1VgBTJ+/Pgo6qnMnj272d9vtdVWld12263++f7775+nteaII46orLvuupU5c+Y0mv6d73yn0qtXr8qHH37Y4rI/+clPWl2f8Oijj+Z5tthii8r8+fPrp//0pz/N05999tn6aaNGjapssMEGjZaP5/vss0+jaRdddFFe9rXXXqu0xSOPPJLn//73v7/Y7xYtWtTotWIdmq57/AyffvppZcMNN8zzvfvuuy3+nfgbX/rSl/L/H3/88UrPnj3zNnz88cdLXNfjjjsuv2ZT99xzT55+7rnnNpp+4IEHVjp16lR5+eWXW/27zR3HCRMm5GXfeOON+mkDBgzI58N7771XP+3BBx/Mr93w2FTX58ILL6yfFvtn6NChefoNN9zQ6vrE72O+YcOGNdp3o0ePrnTp0qX+9d9///3K6quvXjnqqKMaLT9z5sx8fjacvs0221S+8pWv5GWqHnvsscXWvbn9sWDBgsrWW29d2WOPPRpNj+PY8Jxouv7Vc3Du3LmV7t27V37wgx80mi/2T8N9/Prrr+ftO++88xrNF++Drl27Lja9pc+A/fbbr9H0Y489Nk///e9/n58/88wz+fmRRx7ZaL6TTjopT4/3RFV8ZjT83Fia92yc1033bVs/e6AjqQKmpkVJQnw7j1KJ5kQpzi9/+cu077775v9H7+LqI0pb4tv9U0891erfD1GqFVWsrYlSpIbtjKI6L7z66qtpWYttjBLOKGVqamnacEXpTFRJR6lo01Ka5v5OlNbFfoyqs7vuumux9o1L2zkk2p1FqUpDUbITxy5KbVvTsNQxqjXjGEcVaCwb2xX+8pe/5KrqKG2Lat2qPffcM5cINl2frl275hLFqli/KNFbGlGy1nDfxXmxcOHCXHIWojQ0qpUPOuigRudnvNbgwYPzPg5Rcvrss8/mUriGQ/DstttuuUSwtf0RJWdxrsdrt3a+tyaqYqN0OapNG1bJR0lmlLBH1XuI8yDeK1GC13B7oiR5k002qd+eJTnuuOMaPa/u9zguDX9G9XpD1ZL0KC1dks/znl3SZw90NAGQmtPwYnrKKafki2FUYcXFJS4aDatno+opLq7XXHNNrkJt+IgP/2onjJZEtdcuu+ySq5qi/WC0Y4oLYHNhsHoBrIpqv+rF94vy17/+Nc2cObP+ERf18Morr6T11lsvt7X6POLvhGhbtiRR5RVVidtvv33eJ5+3kX0EotiGaP/WUFS9Vn/fmhkzZuT2a7EP4pyIYxzhKFT3U/VvxLnSVLQ3bLo+UQ3edLzDpvMtyZLOiz/96U/55x577LHYORrV1dXzs7ruX/3qVxd7jeamRVVvBLNo2xb7JP5eVCtX98VnEe+HaMc3derU+vNl+vTpeXpVbE8ExNjHTbcnqmZbe7811PQYRdV0VNdW2yTG/ojnTbc9gmaEsyWdL5/3Pbukzx7oaNoAskKJi1VoruF+iLZR1Xmq4SCGVYmL3eTJk3NJ2JVXXpnGjRuXhxqpBrUYXqWltlvRvq8lUYry61//OpdaRIlCvEaUeMTFOi7OUUpT1fD/DbWlA0Nb/cM//EP6r//6r/rnsU0dNSBxlPZFR5EoHY39Eu0GO0qUqEUpXgTkuDBvvvnmuTNFtB2MULik0ttlaUnnRXXdoj1ehJemohRyaUXbz2j/F23u4v0QQTZ6oN9www2fq5NClKRHh4cI/FG6Gj8jhEXbwqrYnviSFiW2zW37Zx1AvKWS7M/TS/nzvGeX9NkDHU0AZIVSHXMsPlijF2fT8BelD3vttVej6XGhjxKIeERj9whJ0Qj91FNPzaUOUaIUAWHYsGGfaZ3iAhdVnPG49NJL87hp0Tg8QuFn/ZtL0tJF7ZJLLmlUOhElZtXSkegwEQHo85QCVjsA/OEPf1jitsU6/vznP88dJSIAxAW/LYN0t7Rtcewffvjh9P777zcqBYzeoNXftySqRl966aXcISCqSKuierXpazQsdWuo6fiMMe+UKVNyj+aGoaXpfJ9XdZ+vvfbare7z6ro37Vne3LQII/FFKc6JhtXyEQA/T4CK91oE/ehUE++F+DIU1abV87C6PRGgogf7pptumj6rOEbxNxpuY4TLaoeY2B/xPOarlhJXO31Fqf8XNX5ha/untc+ehl9UoSOoAmaFEiErqhKjqqppqU1U40bP1miHVBU9OBuKZaMtV1yAPvnkk/wNP3p8xgUxQk1TzQ3H0VAEqqaid2poOtTEFykuLKHpkCMxrEaEhOqj2m4ttjG2ubmSh6Upgfza176WL7rRU7Xpazf3d2J/R5uv6BUapUPR8/azbluUJkZQv+KKKxpNj96XcRFueNxbKslpuI7x/6ZD10RJWBy/CIoNq0IjKD733HOLrU+cb3EuVsX6RW/WL1K0oYz2dfHFIs7Zls7RCFlRNR+9YBsOsxMlwhGAm+6P2GexvlVRddrcgM9xPJZmwPEIO9Ee8Wc/+1n6/e9/36j6N0QIitePc7HpORPPm75nW1IdLqiqut+r50Ecn9B0kOYIpqHa0/nziv3TXLX5kj57ql9a4wtMS3c2gmVJCSArlCgFiSqU008/PVdfRTVWVDnFnTFiWJQo/YugURXPo9os2ulFG71oYxQBIj78q6VIMdRDlNZFg/qjjjoqf0hHsIvG8FHi1FzIq4qhX6IKOP5elChE+6Wo5okhQ2KIjmUlgl6IksZodxjVd7Hd1fDU1O67757v3BBDZUSJSIz/FwE6qgLjdzHsSFtLOyPwxGtFUIp2khGa4iIWQ+JEiVJz1eRRDRbV4nFxjkDSWhvC6rZFZ48IPxEWYhvjNWNdY5sjrGy33Xa5mj2qmKNTSkvDk4So8o3fx3AeUe0bgSpCf3NtuWKYkDiecfxibMg4/tXx3BoGq1ifOK/Gjh2b1yfOmwi7n6cNXXNiXWOfx/GLAB77Ikquo01jNDuIdaiG4giJUeIa0+LYxPbF72J/N1z32L4IQnEexJAkcd5GoIr2cjFUSdPjEe+DmD9CZnwBiPdKSyJ4xXsr9nX1C1ZDcRzOPffcXAoW++2AAw7I80fnohiaJTrFxLJLEvPH+z+2IdocxriCsS1xXoT4GU0g4othBNho7xlfQCLcx2vGufRFiP0TJZ3R2SS+6ERpcJwbbfnsifWJ9YjOWW5/SLvr0D7I8BndfPPNlZ122ikPURFDT2y++eaVs846a7FhRv7t3/6t8vWvf73y5S9/Oc+38cYbV04++eQ8ZEVDs2bNysOP9OvXr7LSSitV+vTpU/nGN75Rueaaa1pdjylTpuThHtZbb71Kt27d8s+DDjqo8tJLLy02pMQdd9zRaNkYPqPpcCFtHQYmnHPOOZW+fftWOnfu3KYhYWKIkhg+JvZVrOtaa61V+eY3v1mZPn16m4eBqYqhXfbcc8/Kaqutlo/BtttuW7n88subHQamKobZ2XLLLfO+/dOf/tTqep5wwgl5/WL4kIYfUzG8SQyTEvs5jtMmm2ySt6nhMCotee655/KQK6uuumqld+/eefiUGDKkuSFbfvnLX+YhQOKciXW+6667mj0277zzTuXQQw/Nw9zEkCzx/6effnqphoH53e9+12h6S/s8ng8fPjy/To8ePfK5fNhhh1WefPLJRvPdeuut+RjHusewLvfee2/lW9/6Vp7W0HXXXZf3X/X9E+tTHWKloRdeeCG/h1ZeeeX8u+r50XQYmIYOOeSQ+iFuWhL7eNddd83nSTxiHeI9+OKLL7a636rrGMczhgCKc3CNNdaoHH/88ZWPPvqo0byffPJJ/lyIoYvifIn396mnnrrY50RLw8C05T37wQcfVA4++OA8VE/D4Xba8tlTfZ3YJmhvneKf9o+dALSXKK2NUsOmbR5XRFFSFtXHUfVdHQQdWHraAALUiGhbFu0SG4rbmkVbvLZ0wAHKoQ0gQI2I9o3R+SeGNYr2etE28+qrr85t0eJ2dQBVAiBAjYiBiqNTQvTAjSrS6BQUnQ6io1Pc/xigqmbaAEZPzLjZeIw6H7dzit5k0dOrNVE1Ej23ovdijCkXPUtjUFgAgFpWM20A496e0e2/6dhQrQ0hEN+Mowt+3PszhpGI23k1N4wFAEAtqZkSwIZigNMllQDG7aBiDK2Gg//G+FoxXlTctgcAoFbVTAng0oqBQ5veVikGna3exBwAoFYV2wlk5syZeXT2huJ5XV1d+uijj/LdC5qKW3s1vL1X3Ekh7hIQjas/zw3HAYD2U6lU8n3Fo7d83OGoRMUGwM8ibhHV3L1UAYAVz5tvvplv3VmiYgNgjIs1a9asRtPiedx3s7nSvxD3roxew1Vxz8/1118/n0CxHACw/Kurq8ujf1Tvy1yiYgPgkCFD0qRJkxpNi9skxfSWdO/ePT+aivAnAALAiqVTwc23aqbi+4MPPsjDucSjOsxL/H/GjBn1pXcjR46snz9GxX/11VfTD3/4wzxa/pVXXpluv/32NHr06A7bBgCA9lAzAfDJJ59M22+/fX6EqKqN/48bNy4/j8Ghq2EwbLjhhnkYmCj1i/EDL7nkkjx6fvQEBgCoZTU5DmB7tiHo1atXbguoChgAVgyu3zVUAggAQNsIgAAAhREAAQAKIwACABRGAAQAKIwACABQGAEQAKAwAiAAQGEEQACAwgiAAACFEQABAAojAAIAFEYABAAojAAIAFAYARAAoDACIABAYQRAAIDCCIAAAIURAAEACiMAAgAURgAEACiMAAgAUBgBEACgMAIgAEBhBEAAgMIIgAAAhREAAQAKIwACABRGAAQAKIwACABQGAEQAKAwAiAAQGEEQACAwgiAAACFEQABAAojAAIAFEYABAAojAAIAFAYARAAoDACIABAYQRAAIDCCIAAAIURAAEACiMAAgAURgAEACiMAAgAUBgBEACgMAIgAEBhBEAAgMIIgAAAhREAAQAKIwACABRGAAQAKIwACABQGAEQAKAwAiAAQGEEQACAwgiAAACFEQABAAojAAIAFEYABAAojAAIAFAYARAAoDA1FQAnTpyY+vfvn3r06JEGDx6cpk2b1ur8l112Wdpss83SyiuvnPr165dGjx6dPv7443ZbXwCAjlAzAfC2225LY8aMSePHj09PPfVU2m677dLw4cPT22+/3ez8t9xySxo7dmye//nnn0/XXXdd/hs/+tGP2n3dAQDaU80EwEsvvTQdddRR6fDDD09bbrlluvrqq9Mqq6ySrr/++mbnf+KJJ9Iuu+ySDj744FxquNdee6WDDjpoiaWGAAArupoIgAsWLEjTp09Pw4YNq5/WuXPn/Hzq1KnNLrPzzjvnZaqB79VXX02TJk1Ke++9d7utNwBAR+iaasCcOXPSwoUL0zrrrNNoejx/4YUXml0mSv5iuV133TVVKpX06aefpmOOOabVKuD58+fnR1VdXd0XuBUAAO2jJkoAP4vHHnssnX/++enKK6/MbQbvuuuudP/996dzzjmnxWUmTJiQevXqVf+IjiMAACuaTpUo/qqBKuBo73fnnXemAw44oH76qFGj0nvvvZd+9atfLbbM0KFD00477ZQuuuii+mk333xzOvroo9MHH3yQq5DbUgIYIXDu3LmpZ8+ey2TbAIAvVl1dXS7IKfn6XRMlgN26dUsDBw5MU6ZMqZ+2aNGi/HzIkCHNLvPhhx8uFvK6dOmSf7aUibt3755PlIYPAIAVTU20AQwxBEyU+A0aNCjtuOOOeYy/efPm5V7BYeTIkalv3765Gjfsu+++uefw9ttvn8cMfPnll9MZZ5yRp1eDIABALaqZADhixIg0e/bsNG7cuDRz5sw0YMCANHny5PqOITNmzGhU4nf66aenTp065Z9vvfVWWmuttXL4O++88zpwKwAAlr2aaAPYUbQhAIAVT53rd220AQQAoO0EQACAwgiAAACFEQABAAojAAIAFEYABAAojAAIAFAYARAAoDACIABAYQRAAIDCCIAAAIURAAEACiMAAgAURgAEACiMAAgAUBgBEACgMAIgAEBhBEAAgMIIgAAAhREAAQAKIwACABRGAAQAKIwACABQGAEQAKAwAiAAQGEEQACAwgiAAACFEQABAAojAAIAFEYABAAojAAIAFAYARAAoDACIABAYQRAAIDCCIAAAIURAAEACiMAAgAURgAEACiMAAgAUBgBEACgMAIgAEBhBEAAgMIIgAAAhREAAQAKIwACABRGAAQAKIwACABQGAEQAKAwAiAAQGEEQACAwgiAAACFEQABAAojAAIAFEYABAAojAAIAFAYARAAoDACIABAYQRAAIDCCIAAAIURAAEACiMAAgAURgAEACiMAAgAUJiaCoATJ05M/fv3Tz169EiDBw9O06ZNa3X+9957Lx133HFp3XXXTd27d0+bbrppmjRpUrutLwBAR+iaasRtt92WxowZk66++uoc/i677LI0fPjw9OKLL6a11157sfkXLFiQ9txzz/y7O++8M/Xt2ze98cYbafXVV++Q9QcAaC+dKpVKJdWACH077LBDuuKKK/LzRYsWpX79+qUTTjghjR07drH5IyhedNFF6YUXXkgrrbTSZ3rNurq61KtXrzR37tzUs2fPz70NAMCyV+f6XRtVwFGaN3369DRs2LD6aZ07d87Pp06d2uwy9957bxoyZEiuAl5nnXXS1ltvnc4///y0cOHCFl9n/vz5+aRp+AAAWNHURACcM2dODm4R5BqK5zNnzmx2mVdffTVX/cZy0e7vjDPOSJdcckk699xzW3ydCRMm5G8M1UeUMAIArGhqIgB+FlFFHO3/rrnmmjRw4MA0YsSIdNppp+Wq4Zaceuqpubi4+njzzTfbdZ0BAL4INdEJpHfv3qlLly5p1qxZjabH8z59+jS7TPT8jbZ/sVzVFltskUsMo0q5W7duiy0TPYXjAQCwIquJEsAIa1GKN2XKlEYlfPE82vk1Z5dddkkvv/xynq/qpZdeysGwufAHAFAraiIAhhgC5tprr0033XRTev7559P3vve9NG/evHT44Yfn348cOTJX4VbF7//617+mE088MQe/+++/P3cCiU4hAAC1rCaqgEO04Zs9e3YaN25crsYdMGBAmjx5cn3HkBkzZuSewVXRgeOBBx5Io0ePTttuu20eBzDC4CmnnNKBWwEAsOzVzDiAHcE4QgCw4qlz/a6dKmAAANpGAAQAKIwACABQGAEQAKAwAiAAQGEEQACAwgiAAACFEQABAAojAAIAFEYABAAojAAIAFAYARAAoDACIABAYQRAAIDCCIAAAIURAAEACiMAAgAURgAEACiMAAgAUBgBEACgMAIgAEBhBEAAgMIIgAAAhREAAQAKIwACABRGAAQAKIwACABQGAEQAKAwAiAAQGEEQACAwgiAAACFEQABAAojAAIAFEYABAAojAAIAFAYARAAoDACIABAYQRAAIDCCIAAAIURAAEACiMAAgAURgAEACiMAAgAUBgBEACgMAIgAEBhBEAAgMIIgAAAhREAAQAKIwACABRGAAQAKIwACABQGAEQAKAwAiAAQGEEQACAwgiAAACFEQABAAojAAIAFEYABAAojAAIAFAYARAAoDACIABAYQRAAIDCCIAAAIWpqQA4ceLE1L9//9SjR480ePDgNG3atDYtd+utt6ZOnTqlAw44YJmvIwBAR6uZAHjbbbelMWPGpPHjx6ennnoqbbfddmn48OHp7bffbnW5119/PZ100klp6NCh7bauAAAdqWYC4KWXXpqOOuqodPjhh6ctt9wyXX311WmVVVZJ119/fYvLLFy4MB1yyCHprLPOShtttFG7ri8AQEepiQC4YMGCNH369DRs2LD6aZ07d87Pp06d2uJyZ599dlp77bXTEUcc0abXmT9/fqqrq2v0AABY0dREAJwzZ04uzVtnnXUaTY/nM2fObHaZxx9/PF133XXp2muvbfPrTJgwIfXq1av+0a9fv8+97gAA7a0mAuDSev/999Ohhx6aw1/v3r3bvNypp56a5s6dW/948803l+l6AgAsC11TDYgQ16VLlzRr1qxG0+N5nz59Fpv/lVdeyZ0/9t133/ppixYtyj+7du2aXnzxxbTxxhsvtlz37t3zAwBgRVYTJYDdunVLAwcOTFOmTGkU6OL5kCFDFpt/8803T88++2x65pln6h/77bdf2n333fP/Ve0CALWsJkoAQwwBM2rUqDRo0KC04447pssuuyzNmzcv9woOI0eOTH379s3t+GKcwK233rrR8quvvnr+2XQ6AECtqZkAOGLEiDR79uw0bty43PFjwIABafLkyfUdQ2bMmJF7BgMAlK5TpVKpdPRKrKhiGJjoDRwdQnr27NnRqwMAtEGd63dttAEEAKDtBEAAgMIIgAAAhREAAQAKIwACABRGAAQAKIwACABQGAEQAKAwAiAAQGEEQACAwgiAAACFEQABAAojAAIAFEYABAAojAAIAFAYARAAoDACIABAYQRAAIDCCIAAAIURAAEACiMAAgAURgAEACiMAAgAUBgBEACgMAIgAEBhBEAAgMIIgAAAhREAAQAKIwACABRGAAQAKIwACABQGAEQAKAwAiAAQGEEQACAwgiAAACFEQABAAojAAIAFEYABAAojAAIAFAYARAAoDACIABAYQRAAIDCCIAAAIURAAEACiMAAgAURgAEACiMAAgAUBgBEACgMAIgAEBhBEAAgMIIgAAAhREAAQAKIwACABRGAAQAKIwACABQGAEQAKAwAiAAQGEEQACAwgiAAACFEQABAAojAAIAFEYABAAojAAIAFCYmgqAEydOTP379089evRIgwcPTtOmTWtx3muvvTYNHTo0rbHGGvkxbNiwVucHAKgVNRMAb7vttjRmzJg0fvz49NRTT6XtttsuDR8+PL399tvNzv/YY4+lgw46KD366KNp6tSpqV+/fmmvvfZKb731VruvOwBAe+pUqVQqqQZEid8OO+yQrrjiivx80aJFOdSdcMIJaezYsUtcfuHChbkkMJYfOXJkm16zrq4u9erVK82dOzf17Nnzc28DALDs1bl+10YJ4IIFC9L06dNzNW5V586d8/Mo3WuLDz/8MH3yySdpzTXXbHGe+fPn55Om4QMAYEVTEwFwzpw5uQRvnXXWaTQ9ns+cObNNf+OUU05J6623XqMQ2dSECRPyN4bqI0oYAQBWNDURAD+vCy64IN16663p7rvvzh1IWnLqqafm4uLq480332zX9QQA+CJ0TTWgd+/eqUuXLmnWrFmNpsfzPn36tLrsxRdfnAPgww8/nLbddttW5+3evXt+AACsyGqiBLBbt25p4MCBacqUKfXTohNIPB8yZEiLy1144YXpnHPOSZMnT06DBg1qp7UFAOhYNVECGGIImFGjRuUgt+OOO6bLLrsszZs3Lx1++OH599Gzt2/fvrkdX/jxj3+cxo0bl2655ZY8dmC1reCqq66aHwAAtapmAuCIESPS7Nmzc6iLMDdgwIBcslftGDJjxozcM7jqqquuyr2HDzzwwEZ/J8YRPPPMM9t9/QEA2kvNjAPYEYwjBAArnjrX79poAwgAQNsJgAAAhREAAQAKIwACABRGAAQAKIwACABQGAEQAKAwAiAAQGEEQACAwgiAAACFEQABAAojAAIAFEYABAAojAAIAFAYARAAoDACIABAYQRAAIDCCIAAAIURAAEACiMAAgAURgAEACiMAAgAUBgBEACgMAIgAEBhBEAAgMIIgAAAhREAAQAKIwACABRGAAQAKIwACABQGAEQAKAwAiAAQGEEQACAwgiAAACFEQABAAojAAIAFEYABAAojAAIAFAYARAAoDACIABAYQRAAIDCCIAAAIURAAEACiMAAgAURgAEACiMAAgAUBgBEACgMAIgAEBhBEAAgMIIgAAAhREAAQAKIwACABRGAAQAKIwACABQGAEQAKAwAiAAQGEEQACAwgiAAACFEQABAAojAAIAFEYABAAojAAIAFAYARAAoDA1FQAnTpyY+vfvn3r06JEGDx6cpk2b1ur8d9xxR9p8883z/Ntss02aNGlSu60rAEBHqZkAeNttt6UxY8ak8ePHp6eeeiptt912afjw4entt99udv4nnngiHXTQQemII45ITz/9dDrggAPy4w9/+EO7rzsAQHvqVKlUKqkGRInfDjvskK644or8fNGiRalfv37phBNOSGPHjl1s/hEjRqR58+al++67r37aTjvtlAYMGJCuvvrqNr1mXV1d6tWrV5o7d27q2bPnF7g1AMCyUuf6nbqmGrBgwYI0ffr0dOqpp9ZP69y5cxo2bFiaOnVqs8vE9CgxbChKDO+5554WX2f+/Pn5URUnTvVEAgBWDHX//3W7RsrAyg2Ac+bMSQsXLkzrrLNOo+nx/IUXXmh2mZkzZzY7f0xvyYQJE9JZZ5212PQoaQQAVizvvPNOLgksUU0EwPYSJYwNSw3fe++9tMEGG6QZM2YUewItT9/mIoi/+eabxRbnLy8ci+WL47H8cCyWH3Pnzk3rr79+WnPNNVOpaiIA9u7dO3Xp0iXNmjWr0fR43qdPn2aXielLM3/o3r17fjQV4c+befkQx8GxWD44FssXx2P54VgsPzp3rpm+sEutJra8W7duaeDAgWnKlCn106ITSDwfMmRIs8vE9Ibzh4ceeqjF+QEAakVNlACGqJodNWpUGjRoUNpxxx3TZZddlnv5Hn744fn3I0eOTH379s3t+MKJJ56Ydtttt3TJJZekffbZJ916663pySefTNdcc00HbwkAwLJVMwEwhnWZPXt2GjduXO7IEcO5TJ48ub6jR7TTa1jUu/POO6dbbrklnX766elHP/pR2mSTTXIP4K233rrNrxnVwTHuYHPVwrQvx2L54VgsXxyP5Ydjsfzo7ljUzjiAAAAU1AYQAIC2EwABAAojAAIAFEYABAAojAC4BBMnTkz9+/dPPXr0SIMHD07Tpk1rdf477rgjbb755nn+bbbZJk2aNKnd1rXWLc2xuPbaa9PQoUPTGmuskR9xX+glHTuW3fuiKoZb6tSpUzrggAOW+TqWYmmPRdzB6Ljjjkvrrrtu7gG56aab+pzqwOMRQ5ZtttlmaeWVV853CRk9enT6+OOP2219a9Wvf/3rtO+++6b11lsvf+bEKB9L8thjj6Wvfe1r+X3x1a9+Nd14442ppkUvYJp36623Vrp161a5/vrrK3/84x8rRx11VGX11VevzJo1q9n5f/Ob31S6dOlSufDCCyvPPfdc5fTTT6+stNJKlWeffbbd1730Y3HwwQdXJk6cWHn66acrzz//fOWwww6r9OrVq/LnP/+53de99GNR9dprr1X69u1bGTp0aGX//fdvt/WtZUt7LObPn18ZNGhQZe+99648/vjj+Zg89thjlWeeeabd170WLe3x+PnPf17p3r17/hnH4oEHHqisu+66ldGjR7f7uteaSZMmVU477bTKXXfdFSOdVO6+++5W53/11Vcrq6yySmXMmDH5+n355Zfn6/nkyZMrtUoAbMWOO+5YOe644+qfL1y4sLLeeutVJkyY0Oz83/72tyv77LNPo2mDBw+ufPe7313m61rrlvZYNPXpp59WVltttcpNN920DNeyDJ/lWMT+33nnnSs/+9nPKqNGjRIAO+hYXHXVVZWNNtqosmDBgnZcy3Is7fGIeffYY49G0yKA7LLLLst8XUvSlgD4wx/+sLLVVls1mjZixIjK8OHDK7VKFXALFixYkKZPn56rDqtiIOl4PnXq1GaXiekN5w/Dhw9vcX6W3bFo6sMPP0yffPJJ0Tf+7shjcfbZZ6e11147HXHEEe20prXvsxyLe++9N9/uMqqAY5D8GPj+/PPPTwsXLmzHNa9Nn+V4xA0JYplqNfGrr76aq+P33nvvdltvyr1+18ydQL5oc+bMyR+K1TuJVMXzF154odll4g4kzc0f02nfY9HUKaecktuCNH2Ds+yPxeOPP56uu+669Mwzz7TTWpbhsxyLCBiPPPJIOuSQQ3LQePnll9Oxxx6bvxzFXRFo3+Nx8MEH5+V23XXXqI1Ln376aTrmmGPy3aloXzNbuH7X1dWljz76KLfRrDVKAKl5F1xwQe58cPfdd+eG2bSf999/Px166KG5U07v3r07enWKt2jRolwSG/c8HzhwYL6F5mmnnZauvvrqjl61IkWngyiBvfLKK9NTTz2V7rrrrnT//fenc845p6NXjQIoAWxBXKy6dOmSZs2a1Wh6PO/Tp0+zy8T0pZmfZXcsqi6++OIcAB9++OG07bbbLuM1rX1LeyxeeeWV9Prrr+feeA1DSOjatWt68cUX08Ybb9wOa157Psv7Inr+rrTSSnm5qi222CKXfkQVZrdu3Zb5eteqz3I8zjjjjPwF6cgjj8zPY+SIefPmpaOPPjoH84b3r2fZ6tPC9btnz541WfoXnF0tiA/C+IY8ZcqURheueB5taJoT0xvOHx566KEW52fZHYtw4YUX5m/SkydPToMGDWqnta1tS3ssYkikZ599Nlf/Vh/77bdf2n333fP/Y9gL2u99scsuu+Rq32oIDy+99FIOhsJf+x+PaJvcNORVw/n/13eB9jKkxOt3R/dCWd679EcX/RtvvDF3Cz/66KNzl/6ZM2fm3x966KGVsWPHNhoGpmvXrpWLL744Dz0yfvx4w8B00LG44IIL8nAMd955Z+Uvf/lL/eP999/vwK0o81g0pRdwxx2LGTNm5N7wxx9/fOXFF1+s3HfffZW11167cu6553bgVpR7POIaEcfjF7/4RR6G5MEHH6xsvPHGeUQJPp/4rI9hwOIRUefSSy/N/3/jjTfy78eOHZuPR9NhYE4++eR8/Y5hxAwDU7gYC2j99dfPYSK6+P/2t7+t/91uu+2WL2YN3X777ZVNN900zx9dyu+///4OWOvatDTHYoMNNshv+qaP+MCl/d8XDQmAHXssnnjiiTw8VQSVGBLmvPPOy8P08MVYmuPxySefVM4888wc+nr06FHp169f5dhjj628++67HbT2tePRRx9t9hpQ3f+jRo3Kx6PpMgMGDMjHLt4bN9xwQ6WWdYp/OroUEgCA9qMNIABAYQRAAIDCCIAAAIURAAEACiMAAgAURgAEACiMAAgAUBgBEACgMAIgAEBhBEAAgMIIgAAAhREAAQAKIwACABRGAAQAKIwACABQGAEQAKAwAiAAQGEEQACAwgiAAACFEQABAAojAAIAFEYABAAojAAIAFAYARAAoDACIABAYQRAAIDCCIAAAIURAAEACiMAAgAURgAEACiMAAgAkMry/wCj2d4ypHKzpwAAAABJRU5ErkJggg==' width=640.0/>\n",
       "            </div>\n",
       "        "
      ],
      "text/plain": [
       "Canvas(toolbar=Toolbar(toolitems=[('Home', 'Reset original view', 'home', 'home'), ('Back', 'Back to previous …"
      ]
     },
     "metadata": {},
     "output_type": "display_data"
    }
   ],
   "source": [
    "xT = np.array([[5,6],[2,5]])\n",
    "yT = np.array([-1,1])\n",
    "fig = plt.figure()\n",
    "plt.xlim(0,1)\n",
    "plt.ylim(0,1)\n",
    "\n",
    "\n",
    "def onclick_boost(event):\n",
    "    \"\"\"\n",
    "    Visualize boosting, including new point\n",
    "    \"\"\"\n",
    "    global xT,yT\n",
    "    # create position vector for new point\n",
    "    pos=np.array([[event.xdata,event.ydata]]) \n",
    "    if event.key == 'shift': # add positive point\n",
    "        color='or'\n",
    "        label=1\n",
    "    else: # add negative point\n",
    "        color='ob'\n",
    "        label=-1    \n",
    "    xT = np.concatenate((xT,pos), axis = 0)\n",
    "    yT = np.append(yT, label)\n",
    "    marker_symbols = ['o', 'x']\n",
    "    classvals = np.unique(yTrain)\n",
    "            \n",
    "    mycolors = [[0.5, 0.5, 1], [1, 0.5, 0.5]]\n",
    "    \n",
    "    # return 300 evenly spaced numbers over this interval\n",
    "    res=300\n",
    "    xrange = np.linspace(0,1,res)\n",
    "    yrange = np.linspace(0,1,res)\n",
    "    \n",
    "    # repeat this matrix 300 times for both axes\n",
    "    pixelX = repmat(xrange, res, 1)\n",
    "    pixelY = repmat(yrange, res, 1).T\n",
    "    xTe = np.array([pixelX.flatten(), pixelY.flatten()]).T\n",
    "    \n",
    "    # get forest\n",
    "    forest,alphas=boosttree(xT,yT,maxdepth=3,maxiter=5)\n",
    "    if len(forest) > 0:\n",
    "        fun = lambda X: evalforest(forest,X,alphas)\n",
    "        # test all of these points on the grid\n",
    "        testpreds = fun(xTe)\n",
    "\n",
    "        # reshape it back together to make our grid\n",
    "        Z = testpreds.reshape(res, res)\n",
    "        Z[0,0] = 1 # optional: scale the colors correctly\n",
    "\n",
    "        plt.cla()    \n",
    "        plt.xlim((0,1))\n",
    "        plt.ylim((0,1))\n",
    "        # fill in the contours for these predictions\n",
    "        plt.contourf(pixelX, pixelY, np.sign(Z), colors=mycolors)\n",
    "    \n",
    "    for idx, c in enumerate(classvals):\n",
    "        plt.scatter(xT[yT == c,0],\n",
    "            xT[yT == c,1],\n",
    "            marker=marker_symbols[idx],\n",
    "            color='k'\n",
    "            )\n",
    "    plt.show()\n",
    "    \n",
    "cid = fig.canvas.mpl_connect('button_press_event', onclick_boost)\n",
    "plt.title('Use shift-click to add negative points.')"
   ]
  },
  {
   "cell_type": "code",
   "execution_count": 23,
   "metadata": {
    "deletable": false,
    "editable": false,
    "nbgrader": {
     "cell_type": "code",
     "checksum": "bf133bec53248e1c4b109008b0176fd7",
     "grade": true,
     "grade_id": "sqsplit_test2",
     "locked": true,
     "points": 5,
     "schema_version": 3,
     "solution": false,
     "task": false
    }
   },
   "outputs": [],
   "source": [
    "# Do not delete, copy, paste, or alter these cells as this will cause the tests to fail automatically"
   ]
  },
  {
   "cell_type": "code",
   "execution_count": 24,
   "metadata": {
    "deletable": false,
    "editable": false,
    "nbgrader": {
     "cell_type": "code",
     "checksum": "6f15115822db61acc056b34809f04431",
     "grade": true,
     "grade_id": "sqsplit_test3",
     "locked": true,
     "points": 5,
     "schema_version": 3,
     "solution": false,
     "task": false
    }
   },
   "outputs": [],
   "source": [
    "# Do not delete, copy, paste, or alter these cells as this will cause the tests to fail automatically"
   ]
  },
  {
   "cell_type": "code",
   "execution_count": 25,
   "metadata": {
    "deletable": false,
    "editable": false,
    "nbgrader": {
     "cell_type": "code",
     "checksum": "b352ab031e5573e0e9ca02f9bc8bdcd2",
     "grade": true,
     "grade_id": "cart_test1",
     "locked": true,
     "points": 5,
     "schema_version": 3,
     "solution": false,
     "task": false
    }
   },
   "outputs": [],
   "source": [
    "# Do not delete, copy, paste, or alter these cells as this will cause the tests to fail automatically"
   ]
  },
  {
   "cell_type": "code",
   "execution_count": 26,
   "metadata": {
    "deletable": false,
    "editable": false,
    "nbgrader": {
     "cell_type": "code",
     "checksum": "8c9d4d69ae8d2cdb8d900a1b72b989ab",
     "grade": true,
     "grade_id": "cart_test2",
     "locked": true,
     "points": 3,
     "schema_version": 3,
     "solution": false,
     "task": false
    }
   },
   "outputs": [],
   "source": [
    "# Do not delete, copy, paste, or alter these cells as this will cause the tests to fail automatically"
   ]
  },
  {
   "cell_type": "code",
   "execution_count": 27,
   "metadata": {
    "deletable": false,
    "editable": false,
    "nbgrader": {
     "cell_type": "code",
     "checksum": "3c602df0600964c3ae42935dec071819",
     "grade": true,
     "grade_id": "cart_test3",
     "locked": true,
     "points": 3,
     "schema_version": 3,
     "solution": false,
     "task": false
    }
   },
   "outputs": [],
   "source": [
    "# Do not delete, copy, paste, or alter these cells as this will cause the tests to fail automatically"
   ]
  },
  {
   "cell_type": "code",
   "execution_count": 28,
   "metadata": {
    "deletable": false,
    "editable": false,
    "nbgrader": {
     "cell_type": "code",
     "checksum": "700de9178b30f005d32dacffe28978aa",
     "grade": true,
     "grade_id": "evaltree_test1",
     "locked": true,
     "points": 3,
     "schema_version": 3,
     "solution": false,
     "task": false
    }
   },
   "outputs": [],
   "source": [
    "# Do not delete, copy, paste, or alter these cells as this will cause the tests to fail automatically"
   ]
  },
  {
   "cell_type": "code",
   "execution_count": 29,
   "metadata": {
    "deletable": false,
    "editable": false,
    "nbgrader": {
     "cell_type": "code",
     "checksum": "990e464d7805ae5d63caad4c2a2337b9",
     "grade": true,
     "grade_id": "evaltree_test2",
     "locked": true,
     "points": 3,
     "schema_version": 3,
     "solution": false,
     "task": false
    }
   },
   "outputs": [],
   "source": [
    "# Do not delete, copy, paste, or alter these cells as this will cause the tests to fail automatically"
   ]
  },
  {
   "cell_type": "code",
   "execution_count": 30,
   "metadata": {
    "deletable": false,
    "editable": false,
    "nbgrader": {
     "cell_type": "code",
     "checksum": "80289f05e067c134f2e8587e57624fd7",
     "grade": true,
     "grade_id": "forest_test1",
     "locked": true,
     "points": 3,
     "schema_version": 3,
     "solution": false,
     "task": false
    }
   },
   "outputs": [],
   "source": [
    "# Do not delete, copy, paste, or alter these cells as this will cause the tests to fail automatically"
   ]
  },
  {
   "cell_type": "code",
   "execution_count": 31,
   "metadata": {
    "deletable": false,
    "editable": false,
    "nbgrader": {
     "cell_type": "code",
     "checksum": "89442130513598dda3251e333447a963",
     "grade": true,
     "grade_id": "bagging_test1",
     "locked": true,
     "points": 3,
     "schema_version": 3,
     "solution": false,
     "task": false
    }
   },
   "outputs": [],
   "source": [
    "# Do not delete, copy, paste, or alter these cells as this will cause the tests to fail automatically"
   ]
  },
  {
   "cell_type": "code",
   "execution_count": 32,
   "metadata": {
    "deletable": false,
    "editable": false,
    "nbgrader": {
     "cell_type": "code",
     "checksum": "b1bce957599b3d0fcc9dc56bc7e97186",
     "grade": true,
     "grade_id": "bagging_test2",
     "locked": true,
     "points": 3,
     "schema_version": 3,
     "solution": false,
     "task": false
    }
   },
   "outputs": [],
   "source": [
    "# Do not delete, copy, paste, or alter these cells as this will cause the tests to fail automatically"
   ]
  },
  {
   "cell_type": "code",
   "execution_count": 33,
   "metadata": {
    "deletable": false,
    "editable": false,
    "nbgrader": {
     "cell_type": "code",
     "checksum": "408e93ddeb1ab737078c59e6b9e9f309",
     "grade": true,
     "grade_id": "boosting_test1",
     "locked": true,
     "points": 3,
     "schema_version": 3,
     "solution": false,
     "task": false
    }
   },
   "outputs": [],
   "source": [
    "# Do not delete, copy, paste, or alter these cells as this will cause the tests to fail automatically"
   ]
  },
  {
   "cell_type": "markdown",
   "metadata": {
    "deletable": false,
    "editable": false,
    "nbgrader": {
     "cell_type": "markdown",
     "checksum": "48206f2fa4480b0a604e89905866620d",
     "grade": false,
     "grade_id": "cell-48581b14a6981e50",
     "locked": true,
     "schema_version": 3,
     "solution": false,
     "task": false
    }
   },
   "source": [
    "**Competition**: we ask you to improve the speed of evaltree and cart while keeping both functions accurate.\n",
    "    \n",
    "You will receive 3 points if your implemention as fast or faster than our slow solution on hidden data and 3 points if your implementation as fast or faster than our quick solution."
   ]
  },
  {
   "cell_type": "code",
   "execution_count": 34,
   "metadata": {
    "deletable": false,
    "nbgrader": {
     "cell_type": "code",
     "checksum": "e4115605a6b52f8af272d76da1611f73",
     "grade": false,
     "grade_id": "cell-618211b2d58e4ea7",
     "locked": false,
     "schema_version": 3,
     "solution": true,
     "task": false
    }
   },
   "outputs": [],
   "source": [
    "def evaltreecomp(root,xTe,idx=[]):\n",
    "    \"\"\"Evaluates xTe using decision tree root. Same as evaltree but designed to be as efficient as possible.\n",
    "    \n",
    "    Input:\n",
    "        root: TreeNode decision tree\n",
    "        xTe:  n x d matrix of data points\n",
    "        idx:  choosen indices, optional argument that might be helpful with implementation strategy\n",
    "    Output:\n",
    "        pred: n-dimensional vector of predictions\n",
    "    \"\"\"\n",
    "    assert root is not None\n",
    "    n = xTe.shape[0]\n",
    "    pred = np.zeros(n)\n",
    "    \n",
    "    # YOUR CODE HERE\n",
    "\n",
    "    # define a recursive function to evaluate the tree\n",
    "    def eval_batch(node, x, idx):\n",
    "        \n",
    "        # base case\n",
    "        if node.cutoff_id is None:\n",
    "            pred[idx] = node.prediction\n",
    "            return\n",
    "        \n",
    "        # get the indices of the left and right data points\n",
    "        left_idx = idx[x[idx, node.cutoff_id] <= node.cutoff_val]\n",
    "        right_idx = idx[x[idx, node.cutoff_id] > node.cutoff_val]\n",
    "\n",
    "        # evaluate the left and right child\n",
    "        eval_batch(node.left, x, left_idx)\n",
    "        eval_batch(node.right, x, right_idx)\n",
    "    \n",
    "    eval_batch(root, xTe, np.arange(n))\n",
    "\n",
    "    return pred\n",
    "\n",
    "\n",
    "def cartcomp(xTr,yTr,depth=np.inf,weights=None):\n",
    "    \"\"\"Builds a CART tree. Same as cart but designed to be as efficient as possible.\n",
    "    \n",
    "    The maximum tree depth is defined by \"maxdepth\" (maxdepth=2 means one split).\n",
    "    Each example can be weighted with \"weights\".\n",
    "\n",
    "    Args:\n",
    "        xTr:      n x d matrix of data\n",
    "        yTr:      n-dimensional vector\n",
    "        maxdepth: maximum tree depth\n",
    "        weights:  n-dimensional weight vector for data points\n",
    "\n",
    "    Returns:\n",
    "        tree: root of decision tree\n",
    "    \"\"\"\n",
    "    n,d = xTr.shape\n",
    "    if weights is None:\n",
    "        w = np.ones(n) / float(n)\n",
    "    else:\n",
    "        # normalise the weights\n",
    "        w = weights / np.sum(weights)\n",
    "    \n",
    "    # YOUR CODE HERE\n",
    "\n",
    "    # initialise node\n",
    "    node = TreeNode(None, None, None, None, None, np.sum(w * yTr))\n",
    "\n",
    "    # check the base case\n",
    "    if depth < 2 or len(np.unique(yTr)) == 1:\n",
    "        return node\n",
    "\n",
    "    # find the best split using efficient update\n",
    "    node.cutoff_id, node.cutoff_val, _ = sqsplit_efficient(xTr, yTr, w)\n",
    "\n",
    "    # when all the data points have the same features and values\n",
    "    # split does not exist\n",
    "    # hence return the node as a leaf\n",
    "    if node.cutoff_id == np.inf or node.cutoff_val == np.inf:\n",
    "        return node\n",
    "\n",
    "    # split the data\n",
    "    left_idx = xTr[:, node.cutoff_id] <= node.cutoff_val\n",
    "    right_idx = xTr[:, node.cutoff_id] > node.cutoff_val\n",
    "\n",
    "    # assign the left and right child\n",
    "    node.left = cartcomp(xTr[left_idx], yTr[left_idx], depth - 1, w[left_idx])\n",
    "    node.right = cartcomp(xTr[right_idx], yTr[right_idx], depth - 1, w[right_idx])\n",
    "\n",
    "    # assign the parent\n",
    "    node.left.parent = node\n",
    "    node.right.parent = node\n",
    "\n",
    "    return node"
   ]
  },
  {
   "cell_type": "code",
   "execution_count": 35,
   "metadata": {
    "deletable": false,
    "editable": false,
    "nbgrader": {
     "cell_type": "code",
     "checksum": "1ffd8258070ae12f9fd6ae07281cd591",
     "grade": false,
     "grade_id": "cell-25f260c3b553b9db",
     "locked": true,
     "schema_version": 3,
     "solution": false,
     "task": false
    }
   },
   "outputs": [],
   "source": [
    "t0 = time.time()\n",
    "root = cartcomp(xTrIon, yTrIon)\n",
    "t1 = time.time()\n",
    "\n",
    "\n",
    "repeat_factor = 20000\n",
    "xTeIonRepeated = np.repeat(xTeIon, repeat_factor, axis = 0)\n",
    "\n",
    "t2 = time.time()\n",
    "pred = evaltreecomp(root,xTeIonRepeated)\n",
    "t3 = time.time()"
   ]
  },
  {
   "cell_type": "code",
   "execution_count": 36,
   "metadata": {},
   "outputs": [
    {
     "name": "stdout",
     "output_type": "stream",
     "text": [
      "cart time: 0.05840349197387695 seconds\n",
      "eval time: 0.1463329792022705 seconds\n"
     ]
    }
   ],
   "source": [
    "print('cart time:',t1-t0,'seconds')\n",
    "print('eval time:',t3-t2,'seconds')"
   ]
  },
  {
   "cell_type": "code",
   "execution_count": 37,
   "metadata": {
    "deletable": false,
    "editable": false,
    "nbgrader": {
     "cell_type": "code",
     "checksum": "2ec9468dc4118f0b6cd359d51cf05868",
     "grade": true,
     "grade_id": "competition_test1",
     "locked": true,
     "points": 3,
     "schema_version": 3,
     "solution": false,
     "task": false
    }
   },
   "outputs": [],
   "source": [
    "# Do not delete, copy, paste, or alter these cells as this will cause the tests to fail automatically"
   ]
  },
  {
   "cell_type": "code",
   "execution_count": 38,
   "metadata": {
    "deletable": false,
    "editable": false,
    "nbgrader": {
     "cell_type": "code",
     "checksum": "17f45b55ec9a385b098f76839ffd86c0",
     "grade": true,
     "grade_id": "competition_test2",
     "locked": true,
     "points": 3,
     "schema_version": 3,
     "solution": false,
     "task": false
    }
   },
   "outputs": [],
   "source": [
    "# Do not delete, copy, paste, or alter these cells as this will cause the tests to fail automatically"
   ]
  }
 ],
 "metadata": {
  "kernelspec": {
   "display_name": "appliedml",
   "language": "python",
   "name": "python3"
  },
  "language_info": {
   "codemirror_mode": {
    "name": "ipython",
    "version": 3
   },
   "file_extension": ".py",
   "mimetype": "text/x-python",
   "name": "python",
   "nbconvert_exporter": "python",
   "pygments_lexer": "ipython3",
   "version": "3.12.8"
  }
 },
 "nbformat": 4,
 "nbformat_minor": 4
}
