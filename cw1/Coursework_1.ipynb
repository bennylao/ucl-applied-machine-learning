{
 "cells": [
  {
   "cell_type": "markdown",
   "metadata": {},
   "source": [
    "<h3>TODO</h3> \n",
    "Fill in any place that says <code># YOUR CODE HERE</code> (make sure to remove the line <code>raise NotImplementedError()</code>).\n",
    "\n",
    "<h3>Suggestions</h3>\n",
    "\n",
    "- To speed up your code, think about how certain operations can be done at the same time.\n",
    "- Before you turn this problem in, make sure everything runs as expected. First, **restart the kernel** (in the menubar, select Kernel$\\rightarrow$Restart) and then **run all cells** (in the menubar, select Cell$\\rightarrow$Run All).\n",
    "- Double check your code does not have $\\infty$-loops, these will crash the autograder.\n",
    "\n",
    "<h3>Rules</h3>\n",
    "\n",
    "- Blank cells in the notebook are hidden tests. **Do not delete or alter these cells as this will cause the tests to fail automatically**.\n",
    "- **Do not copy any cell**. Instead create a new cell and transfer any code into the new cell.\n",
    "- Do not create multiple python notebooks (.ipynb files).\n",
    "- Do not import any new python packages (this may cause hidden tests to fail).\n",
    "- Each cell must run for less than 5 minutes (there exists a solution with full marks).\n",
    "- **Do not plagiarise!** We take violations of this very seriously. In previous years we have identified instances of plagiarism and reported them to the Senior Teaching & Learning Administrator.\n",
    "- If you are happy with your current grade you do not need to resubmit, the most recent grade from the autograder will be your final grade."
   ]
  },
  {
   "cell_type": "markdown",
   "metadata": {},
   "source": [
    "---"
   ]
  },
  {
   "cell_type": "markdown",
   "metadata": {
    "deletable": false,
    "editable": false,
    "nbgrader": {
     "cell_type": "markdown",
     "checksum": "2e682f102a98d335715990329747a9b1",
     "grade": false,
     "grade_id": "cell-22c9f752a48d4d97",
     "locked": true,
     "schema_version": 3,
     "solution": false,
     "task": false
    }
   },
   "source": [
    "<h2>Coursework 1 - Decision Trees</h2>\n",
    "\n",
    "\n",
    "<!--announcements-->\n",
    "<blockquote>\n",
    "    <center>\n",
    "    <img src=\"forest.jpg\" width=\"400px\" />\n",
    "    </center>\n",
    "      <p><cite><center>Boosting took a long time to be truly understood.<br>\n",
    "      ... cynics say we didn't see the forest for all the trees ...<br>\n",
    "      </center></cite></p>\n",
    "</blockquote>\n",
    "\n",
    "<!--announcements-->\n",
    "\n",
    "\n"
   ]
  },
  {
   "cell_type": "markdown",
   "metadata": {
    "deletable": false,
    "editable": false,
    "nbgrader": {
     "cell_type": "markdown",
     "checksum": "cde124a0b7601f419673251986124278",
     "grade": false,
     "grade_id": "cell-bcc26f0f420117c7",
     "locked": true,
     "schema_version": 3,
     "solution": false,
     "task": false
    }
   },
   "source": [
    "\n",
    "\n",
    "<h3>Introduction</h3>\n",
    "<p>In this assignment you will implement a decision tree algorithm and then use it for bagging and boosting. We've provided a tree structure for you with distinct leaves and nodes. Leaves have two fields, parent (another node) and prediction (a numerical value). Nodes have six fields: \n",
    "\n",
    "<ol>\n",
    "<li> <b>left</b>: node describing left subtree </li>\n",
    "<li> <b>right</b>: node describing right subtree </li>\n",
    "<li> <b>parent</b>: the parent of the current subtree. The head of the tree always has <code><b>None</b></code> as its parent. Feel free to initialize nodes with this field set to <code><b>None</b></code> so long as you set the correct parent later on. </li>\n",
    "<li> <b>cutoff_id</b>: index of feature to cut </li>\n",
    "<li> <b>cutoff_val</b>: cutoff value c (<=c : left, and >c : right)</li>\n",
    "<li> <b>prediction</b>: scalar prediction at this node. <b>(NOTE: please do not check if a node is a leaf by checking for prediction=None, this will mess up autograder tests!)</b>  </li>\n",
    "</ol>\n",
    "Finally, when you make a leaf node make sure it has this form: <b>TreeNode(None, None, None, None, None, prediction)</b>.\n",
    "</p>\n",
    "\n",
    "\n",
    "        "
   ]
  },
  {
   "cell_type": "code",
   "execution_count": 1,
   "metadata": {
    "deletable": false,
    "editable": false,
    "nbgrader": {
     "cell_type": "code",
     "checksum": "e33c3f0e4df2515d2e430f6e091ed32c",
     "grade": false,
     "grade_id": "cell-57d7072a148c2070",
     "locked": true,
     "schema_version": 3,
     "solution": false,
     "task": false
    }
   },
   "outputs": [],
   "source": [
    "class TreeNode(object):\n",
    "    \"\"\"Tree class.\n",
    "    \n",
    "    (You don't need to add any methods or fields here but feel\n",
    "    free to if you like. Our tests will only reference the fields\n",
    "    defined in the constructor below, so be sure to set these\n",
    "    correctly!)\n",
    "    \"\"\"\n",
    "    \n",
    "    def __init__(self, left, right, parent, cutoff_id, cutoff_val, prediction):\n",
    "        self.left = left\n",
    "        self.right = right\n",
    "        self.parent = parent\n",
    "        self.cutoff_id = cutoff_id\n",
    "        self.cutoff_val = cutoff_val\n",
    "        self.prediction = prediction"
   ]
  },
  {
   "cell_type": "markdown",
   "metadata": {
    "deletable": false,
    "editable": false,
    "nbgrader": {
     "cell_type": "markdown",
     "checksum": "acb161f68b896c18396ede3d71d41f10",
     "grade": false,
     "grade_id": "cell-c05aa5bde6395c94",
     "locked": true,
     "schema_version": 3,
     "solution": false,
     "task": false
    }
   },
   "source": [
    "<h3>Implementing CART</h3>\n",
    "Before we get started let us add a few packages that you might need. We will also load a data set <a href=\"https://archive.ics.uci.edu/ml/datasets/Ionosphere\">ION</a>, which we will use as our binary test classification problem."
   ]
  },
  {
   "cell_type": "code",
   "execution_count": 2,
   "metadata": {
    "deletable": false,
    "editable": false,
    "nbgrader": {
     "cell_type": "code",
     "checksum": "1e757c039191bf7c18b2d69786dcde81",
     "grade": false,
     "grade_id": "cell-ba718a0ce824c1df",
     "locked": true,
     "schema_version": 3,
     "solution": false,
     "task": false
    }
   },
   "outputs": [
    {
     "data": {
      "text/plain": [
       "((281, 34), (281,), (70, 34), (70,))"
      ]
     },
     "execution_count": 2,
     "metadata": {},
     "output_type": "execute_result"
    }
   ],
   "source": [
    "%matplotlib widget\n",
    "import numpy as np\n",
    "import math\n",
    "from numpy.matlib import repmat\n",
    "import sys\n",
    "import matplotlib \n",
    "import matplotlib.pyplot as plt\n",
    "from scipy.io import loadmat\n",
    "import time\n",
    "import os\n",
    "import warnings\n",
    "sys.path.append('')\n",
    "warnings.filterwarnings(\"ignore\", category=DeprecationWarning) \n",
    "\n",
    "\n",
    "# load in some binary test data (labels are -1, +1)\n",
    "data = loadmat(\"ion.mat\")\n",
    "xTrIon  = data['xTr'].T\n",
    "yTrIon  = data['yTr'].flatten()\n",
    "xTeIon  = data['xTe'].T\n",
    "yTeIon  = data['yTe'].flatten()\n",
    "\n",
    "xTrIon.shape, yTrIon.shape, xTeIon.shape, yTeIon.shape"
   ]
  },
  {
   "cell_type": "code",
   "execution_count": 3,
   "metadata": {
    "deletable": false,
    "editable": false,
    "nbgrader": {
     "cell_type": "code",
     "checksum": "cbdab1651e0c61c5e9076e59792a3a46",
     "grade": false,
     "grade_id": "cell-ba17001a88a8255d",
     "locked": true,
     "schema_version": 3,
     "solution": false,
     "task": false
    }
   },
   "outputs": [],
   "source": [
    "def spiraldata(N=300):\n",
    "    r = np.linspace(1,2*np.pi,N)\n",
    "    xTr1 = np.array([np.sin(2.*r)*r, np.cos(2*r)*r]).T\n",
    "    xTr2 = np.array([np.sin(2.*r+np.pi)*r, np.cos(2*r+np.pi)*r]).T\n",
    "    xTr = np.concatenate([xTr1, xTr2], axis=0)\n",
    "    yTr = np.concatenate([np.ones(N), -1 * np.ones(N)])\n",
    "    xTr = xTr + np.random.randn(xTr.shape[0], xTr.shape[1])*0.2\n",
    "    \n",
    "    xTe = xTr[::2,:]\n",
    "    yTe = yTr[::2]\n",
    "    xTr = xTr[1::2,:]\n",
    "    yTr = yTr[1::2]\n",
    "    \n",
    "    return xTr,yTr,xTe,yTe\n",
    "\n",
    "xTrSpiral,yTrSpiral,xTeSpiral,yTeSpiral=spiraldata(150)"
   ]
  },
  {
   "cell_type": "markdown",
   "metadata": {
    "deletable": false,
    "editable": false,
    "nbgrader": {
     "cell_type": "markdown",
     "checksum": "ff88429982d6d7a35bbb8469a9aa11eb",
     "grade": false,
     "grade_id": "cell-b8289ddc9797f690",
     "locked": true,
     "schema_version": 3,
     "solution": false,
     "task": false
    }
   },
   "source": [
    "<h3> Efficiently implementing regression trees </h3>\n",
    "First, implement the function <code>sqsplit</code> which takes as input a (weighted) data set with labels and computes the best feature and cut-value of an optimal split based on minimum squared error. The third input is a weight vector which assigns a positive weight to each training sample. The loss you should minimize is the averaged weighted squared-loss:\n",
    "\n",
    "$$\n",
    "\t{\\cal L}(S)=\\sum_{i \\in L} {w_{i}(y_{i} - T_{L})}^2+\\sum_{i \\in R} {w_{i}(y_{i} - T_{R})}^2\n",
    "$$\n",
    "\n",
    "You are building a regression tree, and right now you need to choose a split for the given dataset $S=\\{(\\vec x_1,y_1),\\dots,(\\vec x_n,y_n)\\}$ (where we have continuous labels $y_i\\in{\\cal R}$).\n",
    "Suppose you split on some feature $j$ with value $c$ and partition the dataset in to two sets of indices, $L$--the set of indices on the left (i.e., $i \\in L \\Rightarrow [x_{i}]_{j} < c$)--and $R$--the set of indices on the right (i.e., $i \\in R \\Rightarrow [x_{i}]_{j} > c$). Suppose you assign every data point on the left the prediction $T_{L}$ and every data point on the right the prediction $T_{R}$. Finally, suppose that each data point $x_{i}$ has an associated weight $w_{i}$, and that the weights are normalized (i.e., $\\sum_{i} w_{i} = 1$). \n",
    "\n",
    "\n",
    "First, we show that setting $T_{L}$ and $T_{R}$ to the weighted average label over their respective sets (i.e., $T_{L} = \\frac{1}{W_{L}}\\sum_{i\\in L}w_{i}y_{i}$ and $T_{R} = \\frac{1}{W_{R}}\\sum_{i\\in R}w_{i}y_{i}$) minimizes the loss $\\cal L$, where $W_{L}=\\sum_{i \\in L}w_{i}$ and $W_{R}=\\sum_{i \\in R} w_{i}$ are the total weight of the left and right side respectively.\n",
    "\n",
    "We take the derivative of the loss with respect to $T_{L}$ to obtain $$\\frac{d}{dT_{L}} {\\cal L}(S) = -2\\sum_{i \\in L}w_{i}(y_i - T_L)=-2\\sum_{i\\in L}w_iy_i + 2T_{L}\\sum_{i}w_{i}$$ Setting this equal to zero and solving, we get $$2T_{L}w_{L}=2\\sum_{i \\in L}w_{i}y_{i}$$ and therefore $$T_{L} = \\frac{1}{W_{L}}\\sum_{i \\in L}w_{i}y_{i}$$ A symmetric argument holds for $T_{R}$.\n",
    "\n",
    "Now, imagine you are considering splitting on some feature $j$, and suppose you have already sorted the training points in the order of this feature value, so that $[x_{1}]_{j} < [x_{2}]_{j} < \\cdots < [x_{n}]_{j}$. You'd like to choose a split from among $c_{1} \\leq c_{2} \\leq \\cdots \\leq c_{n-1}$, where $c_{i}=\\frac{[x_{i}]_{j}+[x_{i+1}]_{j}}{2}$. One way to do this would be to, for each possible split $c_{k}$, decide whether each $x_{i}$ should be partitioned left or right, and compute $\\cal L$. At the end, take the split with the lowest loss. The number of data points $n$ and there are $O(n)$ splits to consider, and the proposed algorithm would require $O(n)$ per split to evaluate $\\cal L$, for a total of $O(n^2)$ time.\n",
    "\n",
    "Now, suppose some split $c_{k}$ results in the data being partitioned in to $L^{(k)}$ and $R^{(k)}$. Suppose you are given the following quantities precomputed: $W_{L^{(k)}}$, $P_{L^{(k)}} = \\sum_{i \\in L} w_{i}y_{i}$, and $Q_{L^{(k)}} = \\sum_{i \\in L} w_{i}y_{i}^{2}$. Similarly, you are given $W_{R^{(k)}}$, $P_{R^{(k)}}$ and $Q_{R^{(k)}}$ Equipped with these precomputed quantities, we can compute $\\cal L$ in constant time:\n",
    "\n",
    "Expand the left side of the loss to $$\\sum_{i \\in L}w_{i}y_{i}^{2} - 2\\sum_{i \\in L}w_{i}y_{i}T_{L} + \\sum_{i \\in L}w_{i}T_{L}^{2}$$. The first term is exactly $Q_{L^{(k)}}$. The second term can be written as $-2P_{L^{(k)}}\\frac{P_{L^{(k)}}}{W_{L^{(k)}}}=-2\\frac{P_{L^{(k)}}^{2}}{w_{L^{(k)}}}$. The last term can be written as $w_{L^{(k)}}\\frac{P_{L^{(k)}}^{2}}{w_{L^{(k)}}^{2}}=\\frac{P_{L^{(k)}}^{2}}{w_{L^{(k)}}}$. The second term plus the third term is therefore simply $-\\frac{P_{L^{(k)}}^{2}}{w_{L^{(k)}}}$. Therefore the whole expression can be evaluated as: $$Q_{L^{(k)}}-\\frac{P_{L^{(k)}}^{2}}{w_{L^{(k)}}}$$ Similarly, the right term is: $$Q_{R^{(k)}}-\\frac{P_{R^{(k)}}^{2}}{w_{R^{(k)}}}$$\n",
    "\n",
    "<b> Efficent Update Rule: </b> If all feature values are distinct, only one data point moves from $R$ to $L$ when moving from split $k$ to split $k+1$. Therefore, we simply update the values accordingly. For example, we subtract $w_{k}$ from $W_{R^{(k)}}$ and add it to $W_{L^{(k)}}$. We subtract $w_{k}y_{k}$ from $P_{R^{(k)}}$ and add it to $P_{L^{(k)}}$. We subtract $w_{k}y_{k}^{2}$ from $Q_{R^{(k)}}$ and add it to $Q_{L^{(k)}}$. Crucially, all of these updates take only constant time."
   ]
  },
  {
   "cell_type": "code",
   "execution_count": 4,
   "metadata": {
    "deletable": false,
    "nbgrader": {
     "cell_type": "code",
     "checksum": "ca816a49a7c739efa38e5858b6f3b143",
     "grade": false,
     "grade_id": "cell-812f4d4ed0980f9d",
     "locked": false,
     "schema_version": 3,
     "solution": true,
     "task": false
    }
   },
   "outputs": [],
   "source": [
    "def sqsplit(xTr,yTr,weights=None):\n",
    "    \"\"\"Finds the best feature, cut value, and loss value.\n",
    "    \n",
    "    Input:\n",
    "        xTr:     n x d matrix of data points\n",
    "        yTr:     n-dimensional vector of labels\n",
    "        weights: n-dimensional weight vector for data points\n",
    "    \n",
    "    Output:\n",
    "        feature:  index of the best cut's feature\n",
    "        cut:      cut-value of the best cut\n",
    "        bestloss: loss of the best cut\n",
    "    \"\"\"\n",
    "    N,D = xTr.shape\n",
    "    assert D > 0 # must have at least one dimension\n",
    "    assert N > 1 # must have at least two samples\n",
    "    if weights is None: # if no weights are passed on, assign uniform weights\n",
    "        weights = np.ones(N)\n",
    "    weights = weights/sum(weights) # Weights need to sum to one (we just normalize them)\n",
    "    bestloss = np.inf\n",
    "    feature = np.inf\n",
    "    cut = np.inf\n",
    "    \n",
    "    # YOUR CODE HERE\n",
    "\n",
    "    # loop through all features (dimensions)\n",
    "    for d in range(D):\n",
    "    \n",
    "        # get a list of index with feature sorted\n",
    "        x_feature = xTr[:, d]\n",
    "        sorted_idx = np.argsort(x_feature)\n",
    "\n",
    "        # sort x, y and weights\n",
    "        x_sort = x_feature[sorted_idx]\n",
    "        y_sort = yTr[sorted_idx]\n",
    "        w_sort = weights[sorted_idx]\n",
    "        \n",
    "        # loop through all possible cut points\n",
    "        for i in range(N - 1):\n",
    "            \n",
    "            # skip if x[i] == x[i + 1]\n",
    "            # this is to avoid misgrouping when there are multiple identical x values\n",
    "            if x_sort[i] == x_sort[i + 1]:\n",
    "                continue\n",
    "            \n",
    "            # calculate mean label on the left and right side of the cut\n",
    "            tl = np.sum(w_sort[:i+1] * y_sort[:i+1]) / np.sum(w_sort[:i+1])\n",
    "            tr = np.sum(w_sort[i+1:] * y_sort[i+1:]) / np.sum(w_sort[i+1:])\n",
    "\n",
    "            # calculate loss            \n",
    "            loss = np.sum(w_sort[:i+1] * (y_sort[:i+1] - tl)**2) + np.sum(w_sort[i+1:] * (y_sort[i+1:] - tr)**2)\n",
    "\n",
    "            # update best loss, feature and cut\n",
    "            if loss < bestloss:\n",
    "                bestloss = loss\n",
    "                cut = (x_sort[i] + x_sort[i + 1]) / 2\n",
    "                feature = d\n",
    "            \n",
    "    return feature, cut, bestloss"
   ]
  },
  {
   "cell_type": "code",
   "execution_count": 5,
   "metadata": {
    "deletable": false,
    "editable": false,
    "nbgrader": {
     "cell_type": "code",
     "checksum": "fb42ab3b03a8b62728d5c24af047c1a2",
     "grade": false,
     "grade_id": "cell-2afce21057bbdb09",
     "locked": true,
     "schema_version": 3,
     "solution": false,
     "task": false
    }
   },
   "outputs": [
    {
     "name": "stdout",
     "output_type": "stream",
     "text": [
      "elapsed time: 0.21407055854797363 seconds\n",
      "Split on feature 2 on value: 0.304\n",
      "NOTE: It should split on feature 2 on value 0.304\n"
     ]
    }
   ],
   "source": [
    "t0 = time.time()\n",
    "fid,cut,loss = sqsplit(xTrIon,yTrIon)\n",
    "t1 = time.time()\n",
    "print('elapsed time:',t1-t0,'seconds')\n",
    "print(\"Split on feature %i on value: %2.3f\" % (fid,cut))\n",
    "print(\"NOTE: It should split on feature 2 on value 0.304\")"
   ]
  },
  {
   "cell_type": "markdown",
   "metadata": {
    "deletable": false,
    "editable": false,
    "nbgrader": {
     "cell_type": "markdown",
     "checksum": "b450fbc9f0990f287aa976b353d5377e",
     "grade": false,
     "grade_id": "cell-30b62fba723fb04d",
     "locked": true,
     "schema_version": 3,
     "solution": false,
     "task": false
    }
   },
   "source": [
    "<h2>Testing Your Code</h2>\n",
    "\n",
    "<p>As your code will be tested by an autograder, <b>we highly recommend you test all of the code you implement</b> to make sure it works as you expect in both normal and abnormal use-cases. Below shows an example test for the sqsplit function. </p>"
   ]
  },
  {
   "cell_type": "code",
   "execution_count": 6,
   "metadata": {
    "deletable": false,
    "editable": false,
    "nbgrader": {
     "cell_type": "code",
     "checksum": "49b7bb4b7dcb07f98a3d5f6a04aab653",
     "grade": false,
     "grade_id": "cell-7e0a19890691b587",
     "locked": true,
     "schema_version": 3,
     "solution": false,
     "task": false
    }
   },
   "outputs": [
    {
     "name": "stdout",
     "output_type": "stream",
     "text": [
      "Function sqsplit correctly calculates bestloss on xor/yor example: True\n"
     ]
    }
   ],
   "source": [
    "# an example test\n",
    "xor = np.array([[1, 1, 1, 1, 0, 0, 0, 0],\n",
    "                 [1, 1, 0, 0, 1, 1, 0, 0],\n",
    "                 [1, 0, 1, 0, 1, 0, 1, 0]]).T\n",
    "yor = np.array( [1, 0, 0, 1, 0, 1, 1, 0])\n",
    "b = np.isclose(sqsplit(xor,yor)[2], .25)\n",
    "print('Function sqsplit correctly calculates bestloss on xor/yor example: ' + str(b))"
   ]
  },
  {
   "cell_type": "code",
   "execution_count": 7,
   "metadata": {
    "deletable": false,
    "editable": false,
    "nbgrader": {
     "cell_type": "code",
     "checksum": "39112eabcd175877265e79f6f46e719a",
     "grade": true,
     "grade_id": "sqsplit_test1",
     "locked": true,
     "points": 5,
     "schema_version": 3,
     "solution": false,
     "task": false
    }
   },
   "outputs": [],
   "source": [
    "# Do not delete, copy, paste, or alter these cells as this will cause the tests to fail automatically"
   ]
  },
  {
   "cell_type": "markdown",
   "metadata": {
    "deletable": false,
    "editable": false,
    "nbgrader": {
     "cell_type": "markdown",
     "checksum": "b820a08e2b8919033e1902f729525fea",
     "grade": false,
     "grade_id": "cell-747473d0185a7d75",
     "locked": true,
     "schema_version": 3,
     "solution": false,
     "task": false
    }
   },
   "source": [
    "<b>Cart tree:</b><p>Implement the function <code>cart</code> which returns a regression tree based on the minimum squared loss splitting rule. The function takes training data, test data, a maximum depth, and the weigh of each training example. Maximum depth and weight are optional arguments. If they are not provided you should make maximum depth infinity and equally weight each example. You should use the function <code>sqsplit</code> to make your splits.</p>\n",
    "\n",
    "<p>Use the provided <code>TreeNode</code> class to represent your tree. Note that the nature of CART trees implies that every node has exactly 0 or 2 children.</p>\n"
   ]
  },
  {
   "cell_type": "code",
   "execution_count": 8,
   "metadata": {
    "deletable": false,
    "nbgrader": {
     "cell_type": "code",
     "checksum": "5527a56a8e4ded73266026512d9b835d",
     "grade": false,
     "grade_id": "cell-3d1c561cd988c041",
     "locked": false,
     "schema_version": 3,
     "solution": true,
     "task": false
    }
   },
   "outputs": [],
   "source": [
    "def cart(xTr,yTr,depth=np.inf,weights=None):\n",
    "    \"\"\"Builds a CART tree.\n",
    "    \n",
    "    The maximum tree depth is defined by \"maxdepth\" (maxdepth=2 means one split).\n",
    "    Each example can be weighted with \"weights\".\n",
    "\n",
    "    Args:\n",
    "        xTr:      n x d matrix of data\n",
    "        yTr:      n-dimensional vector\n",
    "        maxdepth: maximum tree depth\n",
    "        weights:  n-dimensional weight vector for data points\n",
    "\n",
    "    Returns:\n",
    "        tree: root of decision tree\n",
    "    \"\"\"\n",
    "    n,d = xTr.shape\n",
    "    if weights is None:\n",
    "        w = np.ones(n) / float(n)\n",
    "    else:\n",
    "        # normalise the weights\n",
    "        w = weights / np.sum(weights)\n",
    "    \n",
    "    # YOUR CODE HERE\n",
    "\n",
    "    # initialise node\n",
    "    node = TreeNode(None, None, None, None, None, np.sum(w * yTr))\n",
    "\n",
    "    # check the base case\n",
    "    if depth < 2 or len(np.unique(yTr)) == 1:\n",
    "        return node\n",
    "\n",
    "    # find the best split\n",
    "    node.cutoff_id, node.cutoff_val, _ = sqsplit(xTr, yTr, w)\n",
    "\n",
    "    # split the data\n",
    "    left_idx = xTr[:, node.cutoff_id] <= node.cutoff_val\n",
    "    right_idx = xTr[:, node.cutoff_id] > node.cutoff_val\n",
    "\n",
    "    # assign the left and right child\n",
    "    node.left = cart(xTr[left_idx], yTr[left_idx], depth - 1, w[left_idx])\n",
    "    node.right = cart(xTr[right_idx], yTr[right_idx], depth - 1, w[right_idx])\n",
    "\n",
    "    # assign the parent\n",
    "    node.left.parent = node\n",
    "    node.right.parent = node\n",
    "\n",
    "    return node"
   ]
  },
  {
   "cell_type": "markdown",
   "metadata": {
    "deletable": false,
    "editable": false,
    "nbgrader": {
     "cell_type": "markdown",
     "checksum": "c50f31520ca9a59e7d68de15ab80e3f6",
     "grade": false,
     "grade_id": "cell-c0bad89ae412f3d1",
     "locked": true,
     "schema_version": 3,
     "solution": false,
     "task": false
    }
   },
   "source": [
    "<p>Implement the function <code>evaltree</code>, which evaluates a decision tree on a given test data set.</p>"
   ]
  },
  {
   "cell_type": "code",
   "execution_count": 9,
   "metadata": {
    "deletable": false,
    "nbgrader": {
     "cell_type": "code",
     "checksum": "719328b34225f0f9ccf4f094ad969f1c",
     "grade": false,
     "grade_id": "cell-3c4bbc7ba9f357d5",
     "locked": false,
     "schema_version": 3,
     "solution": true,
     "task": false
    }
   },
   "outputs": [],
   "source": [
    "# YOUR CODE HERE\n",
    "def evaltree(root,xTe):\n",
    "    \"\"\"Evaluates xTe using decision tree root.\n",
    "    \n",
    "    Input:\n",
    "        root: TreeNode decision tree\n",
    "        xTe:  n x d matrix of data points\n",
    "    \n",
    "    Output:\n",
    "        pred: n-dimensional vector of predictions\n",
    "    \"\"\"\n",
    "    assert root is not None\n",
    "    \n",
    "    # YOUR CODE HERE\n",
    "    \n",
    "    # initialise the output array\n",
    "    pred = np.zeros(xTe.shape[0])\n",
    "\n",
    "    # loop through the data set\n",
    "    for i in range(xTe.shape[0]):\n",
    "        x = xTe[i, :]\n",
    "        node = root\n",
    "\n",
    "        while node.cutoff_id is not None:\n",
    "            if x[node.cutoff_id] <= node.cutoff_val:\n",
    "                node = node.left\n",
    "            else:\n",
    "                node = node.right\n",
    "        else:\n",
    "            pred[i] = node.prediction\n",
    "\n",
    "    return pred"
   ]
  },
  {
   "cell_type": "markdown",
   "metadata": {
    "deletable": false,
    "editable": false,
    "nbgrader": {
     "cell_type": "markdown",
     "checksum": "757fe9ffa96e71d3f804e51154d40c9c",
     "grade": false,
     "grade_id": "cell-59837ef34f3d8973",
     "locked": true,
     "schema_version": 3,
     "solution": false,
     "task": false
    }
   },
   "source": [
    "<p>In the below test you should see an output very similar to the following: \n",
    "\n",
    "<code>elapsed time: 0.31 seconds\n",
    "Training RMSE : 0.00\n",
    "Testing  RMSE : 0.69 (may be slightly different)\n",
    "</code>\n",
    "\n",
    "(<code>elapsed time</code> will likely be different, as it depends on your implementation and how many other people are running their code using the autograder server at the same time)\n",
    "</p>"
   ]
  },
  {
   "cell_type": "code",
   "execution_count": 10,
   "metadata": {
    "deletable": false,
    "editable": false,
    "nbgrader": {
     "cell_type": "code",
     "checksum": "9a05362b379de72ec25fb6e0fc7efa13",
     "grade": false,
     "grade_id": "cell-49d4579bb2429635",
     "locked": true,
     "schema_version": 3,
     "solution": false,
     "task": false
    }
   },
   "outputs": [
    {
     "name": "stdout",
     "output_type": "stream",
     "text": [
      "elapsed time: 0.81 seconds\n",
      "Training RMSE : 0.00\n",
      "Testing  RMSE : 0.69\n"
     ]
    }
   ],
   "source": [
    "t0 = time.time()\n",
    "root = cart(xTrIon, yTrIon)\n",
    "t1 = time.time()\n",
    "\n",
    "tr_err   = np.mean((evaltree(root,xTrIon) - yTrIon)**2)\n",
    "te_err   = np.mean((evaltree(root,xTeIon) - yTeIon)**2)\n",
    "\n",
    "print(\"elapsed time: %.2f seconds\" % (t1-t0))\n",
    "print(\"Training RMSE : %.2f\" % tr_err)\n",
    "print(\"Testing  RMSE : %.2f\" % te_err)"
   ]
  },
  {
   "cell_type": "markdown",
   "metadata": {
    "deletable": false,
    "editable": false,
    "nbgrader": {
     "cell_type": "markdown",
     "checksum": "1581db60d6b0770249b79ae4bc8e640c",
     "grade": false,
     "grade_id": "cell-0a4ad9b8acc2afff",
     "locked": true,
     "schema_version": 3,
     "solution": false,
     "task": false
    }
   },
   "source": [
    "<p>The following code defines a function <code>visclassifier()</code>, which plots the decision boundary of a classifier in 2 dimensions. Execute the following code to see what the decision boundary of your tree looks like on the ion data set. </p>"
   ]
  },
  {
   "cell_type": "code",
   "execution_count": 18,
   "metadata": {
    "deletable": false,
    "editable": false,
    "nbgrader": {
     "cell_type": "code",
     "checksum": "649005c6d8d805ff147ef8edd6869f57",
     "grade": false,
     "grade_id": "cell-fc29736055ce2744",
     "locked": true,
     "schema_version": 3,
     "solution": false,
     "task": false
    }
   },
   "outputs": [
    {
     "data": {
      "application/vnd.jupyter.widget-view+json": {
       "model_id": "456551dca22745499319949391c96449",
       "version_major": 2,
       "version_minor": 0
      },
      "image/png": "[encoded data removed]",
      "text/html": [
       "\n",
       "            <div style=\"display: inline-block;\">\n",
       "                <div class=\"jupyter-widgets widget-label\" style=\"text-align: center;\">\n",
       "                    Figure\n",
       "                </div>\n",
       "                <img src='data:image/png;base64,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' width=640.0/>\n",
       "            </div>\n",
       "        "
      ],
      "text/plain": [
       "Canvas(toolbar=Toolbar(toolitems=[('Home', 'Reset original view', 'home', 'home'), ('Back', 'Back to previous …"
      ]
     },
     "metadata": {},
     "output_type": "display_data"
    },
    {
     "name": "stdout",
     "output_type": "stream",
     "text": [
      "Training error: 0.0000\n",
      "Testing error:  0.0267\n",
      "NOTE: You should get something similar to:\n",
      "Training error: 0.0000\n",
      "Testing error:  0.0467 (may be slightly different)\n"
     ]
    }
   ],
   "source": [
    "def visclassifier(fun,xTr,yTr,w=None,b=0):\n",
    "    \"\"\"\n",
    "    visualize decision boundary\n",
    "    Define the symbols and colors we'll use in the plots later\n",
    "    \"\"\"\n",
    "\n",
    "    yTr = np.array(yTr).flatten()\n",
    "    if w is not None:\n",
    "        w = np.array(w).flatten()\n",
    "\n",
    "    symbols = [\"ko\",\"kx\"]\n",
    "    marker_symbols = ['o', 'x']\n",
    "    mycolors = [[0.5, 0.5, 1], [1, 0.5, 0.5]]\n",
    "    # get the unique values from labels array\n",
    "    classvals = np.unique(yTr)\n",
    "\n",
    "    plt.figure()\n",
    "\n",
    "    # return 300 evenly spaced numbers over this interval\n",
    "    res=300\n",
    "    xrange = np.linspace(min(xTr[:, 0]), max(xTr[:, 0]),res)\n",
    "    yrange = np.linspace(min(xTr[:, 1]), max(xTr[:, 1]),res)\n",
    "    \n",
    "    # repeat this matrix 300 times for both axes\n",
    "    pixelX = repmat(xrange, res, 1)\n",
    "    pixelY = repmat(yrange, res, 1).T\n",
    "\n",
    "    \n",
    "    xTe = np.array([pixelX.flatten(), pixelY.flatten()]).T\n",
    "\n",
    "    # test all of these points on the grid\n",
    "    testpreds = fun(xTe)\n",
    "    \n",
    "    # reshape it back together to make our grid\n",
    "    Z = testpreds.reshape(res, res)\n",
    "    # Z[0,0] = 1 # optional: scale the colors correctly\n",
    "    \n",
    "    # fill in the contours for these predictions\n",
    "    plt.contourf(pixelX, pixelY, np.sign(Z), colors=mycolors)\n",
    "\n",
    "    # creates x's and o's for training set\n",
    "    for idx, c in enumerate(classvals):\n",
    "        plt.scatter(xTr[yTr == c,0],\n",
    "            xTr[yTr == c,1],\n",
    "            marker=marker_symbols[idx],\n",
    "            color='k'\n",
    "            )\n",
    "    \n",
    "    if w != [] and w is not None:\n",
    "        alpha = -1 * b / (w ** 2).sum()\n",
    "        plt.quiver(w[0] * alpha, w[1] * alpha,\n",
    "            w[0], w[1], linewidth=2, color=[0,1,0])\n",
    "\n",
    "    plt.axis('tight')\n",
    "    # shows figure and blocks\n",
    "    plt.show()\n",
    "\n",
    "tree=cart(xTrSpiral,yTrSpiral) # compute tree on training data \n",
    "visclassifier(lambda X:evaltree(tree,X),xTrSpiral,yTrSpiral)\n",
    "print(\"Training error: %.4f\" % np.mean(np.sign(evaltree(tree,xTrSpiral)) != yTrSpiral))\n",
    "print(\"Testing error:  %.4f\" % np.mean(np.sign(evaltree(tree,xTeSpiral)) != yTeSpiral))\n",
    "print(\"NOTE: You should get something similar to:\")\n",
    "print(\"Training error: 0.0000\")\n",
    "print(\"Testing error:  0.0467 (may be slightly different)\")"
   ]
  },
  {
   "cell_type": "code",
   "execution_count": 20,
   "metadata": {
    "deletable": false,
    "editable": false,
    "nbgrader": {
     "cell_type": "code",
     "checksum": "e6a16cc587ea0b9bc905a1202d221b79",
     "grade": false,
     "grade_id": "cell-0023f5ab24eedcf8",
     "locked": true,
     "schema_version": 3,
     "solution": false,
     "task": false
    }
   },
   "outputs": [
    {
     "data": {
      "application/vnd.jupyter.widget-view+json": {
       "model_id": "2d303f997e43464080180d9423b3876a",
       "version_major": 2,
       "version_minor": 0
      },
      "image/png": "[encoded data removed]",
      "text/html": [
       "\n",
       "            <div style=\"display: inline-block;\">\n",
       "                <div class=\"jupyter-widgets widget-label\" style=\"text-align: center;\">\n",
       "                    Figure\n",
       "                </div>\n",
       "                <img src='data:image/png;base64,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' width=640.0/>\n",
       "            </div>\n",
       "        "
      ],
      "text/plain": [
       "Canvas(toolbar=Toolbar(toolitems=[('Home', 'Reset original view', 'home', 'home'), ('Back', 'Back to previous …"
      ]
     },
     "metadata": {},
     "output_type": "display_data"
    }
   ],
   "source": [
    "def onclick_cart(event):\n",
    "    \"\"\"\n",
    "    Visualize cart, including new point\n",
    "    \"\"\"\n",
    "    global xTraining,labels\n",
    "    # create position vector for new point\n",
    "    pos=np.array([[event.xdata,event.ydata]]) \n",
    "    if event.key == 'shift': # add positive point\n",
    "        color='or'\n",
    "        label=1\n",
    "    else: # add negative point\n",
    "        color='ob'\n",
    "        label=-1    \n",
    "    xTraining = np.concatenate((xTraining,pos), axis = 0)\n",
    "    labels.append(label);\n",
    "    marker_symbols = ['o', 'x']\n",
    "    classvals = np.unique(labels)\n",
    "        \n",
    "    mycolors = [[0.5, 0.5, 1], [1, 0.5, 0.5]]\n",
    "    \n",
    "    # return 300 evenly spaced numbers over this interval\n",
    "    res=300\n",
    "    xrange = np.linspace(0, 1,res)\n",
    "    yrange = np.linspace(0, 1,res)\n",
    "\n",
    "    \n",
    "    # repeat this matrix 300 times for both axes\n",
    "    pixelX = repmat(xrange, res, 1)\n",
    "    pixelY = repmat(yrange, res, 1).T\n",
    "\n",
    "    xTe = np.array([pixelX.flatten(), pixelY.flatten()]).T\n",
    "\n",
    "    # get decision tree\n",
    "    tree=cart(xTraining,np.array(labels).flatten())\n",
    "    fun = lambda X:evaltree(tree,X)\n",
    "    # test all of these points on the grid\n",
    "    testpreds = fun(xTe)\n",
    "    \n",
    "    # reshape it back together to make our grid\n",
    "    Z = testpreds.reshape(res, res)\n",
    "    # Z[0,0] = 1 # optional: scale the colors correctly\n",
    "    \n",
    "    plt.cla()    \n",
    "    plt.xlim((0,1))\n",
    "    plt.ylim((0,1))\n",
    "    # fill in the contours for these predictions\n",
    "    plt.contourf(pixelX, pixelY, np.sign(Z), colors=mycolors)\n",
    "    \n",
    "    for idx, c in enumerate(classvals):\n",
    "        plt.scatter(xTraining[labels == c,0],\n",
    "            xTraining[labels == c,1],\n",
    "            marker=marker_symbols[idx],\n",
    "            color='k'\n",
    "            )\n",
    "    plt.show()\n",
    "    \n",
    "#plt.ion()\n",
    "xTraining= np.array([[5,6]])\n",
    "labels = [1]\n",
    "fig = plt.figure()\n",
    "plt.xlim(0,1)\n",
    "plt.ylim(0,1)\n",
    "plt.title('Use shift-click to add negative points.')\n",
    "# plt.connect('button_press_event', onclick_cart)\n",
    "cid = fig.canvas.mpl_connect('button_press_event', onclick_cart)\n",
    "plt.show()"
   ]
  },
  {
   "cell_type": "markdown",
   "metadata": {
    "deletable": false,
    "editable": false,
    "nbgrader": {
     "cell_type": "markdown",
     "checksum": "12fdfb699ed6db478e2a2ec6d31496fb",
     "grade": false,
     "grade_id": "cell-9f203d5c35d17423",
     "locked": true,
     "schema_version": 3,
     "solution": false,
     "task": false
    }
   },
   "source": [
    "<h2>Random Forests</h2>\n",
    "<p>CART trees are known to be high variance classifiers\n",
    "(if trained to full depth).\n",
    "An effective way to prevent overfitting is to use <b>Bagging</b>.\n",
    "Implement the function <code>forest</code>,\n",
    "which builds a forest of regression trees.\n",
    "Each tree should be built using training data\n",
    "drawn by randomly sampling $n$ examples\n",
    "from the training data with replacement.\n",
    "Do not randomly sample features.\n",
    "The function should output a list of trees.</p>"
   ]
  },
  {
   "cell_type": "code",
   "execution_count": null,
   "metadata": {
    "deletable": false,
    "nbgrader": {
     "cell_type": "code",
     "checksum": "50849f154123b8b15f270deb963a2417",
     "grade": false,
     "grade_id": "cell-f8a92665c255c104",
     "locked": false,
     "schema_version": 3,
     "solution": true,
     "task": false
    }
   },
   "outputs": [],
   "source": [
    "def forest(xTr, yTr, m, maxdepth=np.inf):\n",
    "    \"\"\"Creates a random forest.\n",
    "    \n",
    "    Input:\n",
    "        xTr:      n x d matrix of data points\n",
    "        yTr:      n-dimensional vector of labels\n",
    "        m:        number of trees in the forest\n",
    "        maxdepth: maximum depth of tree\n",
    "        \n",
    "    Output:\n",
    "        trees: list of TreeNode decision trees of length m\n",
    "    \"\"\"\n",
    "    \n",
    "    n, d = xTr.shape\n",
    "    trees = []\n",
    "    \n",
    "    # YOUR CODE HERE\n",
    "    raise NotImplementedError()\n",
    "    \n",
    "    return trees"
   ]
  },
  {
   "cell_type": "markdown",
   "metadata": {
    "deletable": false,
    "editable": false,
    "nbgrader": {
     "cell_type": "markdown",
     "checksum": "579342c0bf08182b3eacbb8d589e525b",
     "grade": false,
     "grade_id": "cell-01fb3000253d168b",
     "locked": true,
     "schema_version": 3,
     "solution": false,
     "task": false
    }
   },
   "source": [
    "Now implement the function <code>evalforest</code>, which should take as input a set of $m$ trees, a set of $n$ test inputs, and an $m$ dimensional weight vector. Each tree should be weighted by the corresponding weight. (For random forests you can define the weights to be $\\frac{1}{m}$ for all trees."
   ]
  },
  {
   "cell_type": "code",
   "execution_count": null,
   "metadata": {
    "deletable": false,
    "nbgrader": {
     "cell_type": "code",
     "checksum": "251269c6ed314b7900529002cf2e74de",
     "grade": false,
     "grade_id": "cell-fb4677da9cfa542a",
     "locked": false,
     "schema_version": 3,
     "solution": true,
     "task": false
    }
   },
   "outputs": [],
   "source": [
    "def evalforest(trees, X, alphas=None):\n",
    "    \"\"\"Evaluates X using trees.\n",
    "    \n",
    "    Input:\n",
    "        trees:  list of TreeNode decision trees of length m\n",
    "        X:      n x d matrix of data points\n",
    "        alphas: m-dimensional weight vector\n",
    "        \n",
    "    Output:\n",
    "        pred: n-dimensional vector of predictions\n",
    "    \"\"\"\n",
    "    m = len(trees)\n",
    "    n,d = X.shape\n",
    "    if alphas is None:\n",
    "        alphas = np.ones(m) / len(trees)\n",
    "            \n",
    "    pred = np.zeros(n)\n",
    "    \n",
    "    # YOUR CODE HERE\n",
    "    raise NotImplementedError()\n",
    "    return pred"
   ]
  },
  {
   "cell_type": "markdown",
   "metadata": {
    "deletable": false,
    "editable": false,
    "nbgrader": {
     "cell_type": "markdown",
     "checksum": "2d9944d659e149ec4172a1fcf90c0772",
     "grade": false,
     "grade_id": "cell-f4b15aac0a3f4d1b",
     "locked": true,
     "schema_version": 3,
     "solution": false,
     "task": false
    }
   },
   "source": [
    "<p>The following script visualizes the decision boundary of a random forest ensemble.</p>"
   ]
  },
  {
   "cell_type": "code",
   "execution_count": null,
   "metadata": {
    "deletable": false,
    "editable": false,
    "nbgrader": {
     "cell_type": "code",
     "checksum": "89e110f32bf24d284e91aea57aabcfee",
     "grade": false,
     "grade_id": "cell-fce6ab17683fff14",
     "locked": true,
     "schema_version": 3,
     "solution": false,
     "task": false
    }
   },
   "outputs": [],
   "source": [
    "trees=forest(xTrSpiral,yTrSpiral,30) # compute tree on training data \n",
    "visclassifier(lambda X:evalforest(trees,X),xTrSpiral,yTrSpiral)\n",
    "print(\"Training error: %.4f\" % np.mean(np.sign(evalforest(trees,xTrSpiral)) != yTrSpiral))\n",
    "print(\"Testing error:  %.4f\" % np.mean(np.sign(evalforest(trees,xTeSpiral)) != yTeSpiral))"
   ]
  },
  {
   "cell_type": "markdown",
   "metadata": {
    "deletable": false,
    "editable": false,
    "nbgrader": {
     "cell_type": "markdown",
     "checksum": "240ad5b0621527e90f5f215d0e1b2506",
     "grade": false,
     "grade_id": "cell-aba5f94293c2e524",
     "locked": true,
     "schema_version": 3,
     "solution": false,
     "task": false
    }
   },
   "source": [
    "<p>The following script evaluates the test and training error of a random forest ensemble as we vary the number of trees.</p>"
   ]
  },
  {
   "cell_type": "code",
   "execution_count": null,
   "metadata": {
    "deletable": false,
    "editable": false,
    "nbgrader": {
     "cell_type": "code",
     "checksum": "0738c12966adbfd61677c854a83ed7c7",
     "grade": false,
     "grade_id": "cell-a3d95218b61c5dfe",
     "locked": true,
     "schema_version": 3,
     "solution": false,
     "task": false
    }
   },
   "outputs": [],
   "source": [
    "M=20 # max number of trees\n",
    "err_trB=[]\n",
    "err_teB=[]\n",
    "alltrees=forest(xTrIon,yTrIon,M)\n",
    "for i in range(M):\n",
    "    trees=alltrees[:i+1]\n",
    "    trErr = np.mean(np.sign(evalforest(trees,xTrIon)) != yTrIon)\n",
    "    teErr = np.mean(np.sign(evalforest(trees,xTeIon)) != yTeIon)\n",
    "    err_trB.append(trErr)\n",
    "    err_teB.append(teErr)\n",
    "    print(\"[%d]training err = %.4f\\ttesting err = %.4f\" % (i,trErr, teErr))\n",
    "\n",
    "plt.figure()\n",
    "line_tr, = plt.plot(range(M),err_trB,label=\"Training Error\")\n",
    "line_te, = plt.plot(range(M),err_teB,label=\"Testing error\")\n",
    "plt.title(\"Random Forest\")\n",
    "plt.legend(handles=[line_tr, line_te])\n",
    "plt.xlabel(\"# of trees\")\n",
    "plt.ylabel(\"error\")\n",
    "plt.show()\n",
    "# Your training error should converge"
   ]
  },
  {
   "cell_type": "code",
   "execution_count": null,
   "metadata": {
    "deletable": false,
    "editable": false,
    "nbgrader": {
     "cell_type": "code",
     "checksum": "7b4d3902787aa6127913458b110f9aab",
     "grade": false,
     "grade_id": "cell-40b0e860bbf15397",
     "locked": true,
     "schema_version": 3,
     "solution": false,
     "task": false
    }
   },
   "outputs": [],
   "source": [
    "def onclick_forest(event):\n",
    "    \"\"\"\n",
    "    Visualize forest, including new point\n",
    "    \"\"\"\n",
    "    global xTrain,yTrain,w,b,M\n",
    "    # create position vector for new point\n",
    "    pos=np.array([[event.xdata,event.ydata]]) \n",
    "    if event.key == 'shift': # add positive point\n",
    "        color='or'\n",
    "        label=1\n",
    "    else: # add negative point\n",
    "        color='ob'\n",
    "        label=-1    \n",
    "    xTrain = np.concatenate((xTrain,pos), axis = 0)\n",
    "    yTrain = np.append(yTrain, label)\n",
    "    marker_symbols = ['o', 'x']\n",
    "    classvals = np.unique(yTrain)\n",
    "        \n",
    "    w = np.array(w).flatten()\n",
    "    \n",
    "    mycolors = [[0.5, 0.5, 1], [1, 0.5, 0.5]]\n",
    "    \n",
    "    # return 300 evenly spaced numbers over this interval\n",
    "    res=300\n",
    "    xrange = np.linspace(0, 1,res)\n",
    "    yrange = np.linspace(0, 1,res)\n",
    "    \n",
    "    # repeat this matrix 300 times for both axes\n",
    "    pixelX = repmat(xrange, res, 1)\n",
    "    pixelY = repmat(yrange, res, 1).T\n",
    "\n",
    "    xTe = np.array([pixelX.flatten(), pixelY.flatten()]).T\n",
    "\n",
    "    # get forest\n",
    "    trees=forest(xTrain,yTrain,M)\n",
    "    fun = lambda X:evalforest(trees,X)\n",
    "    # test all of these points on the grid\n",
    "    testpreds = fun(xTe)\n",
    "    \n",
    "    # reshape it back together to make our grid\n",
    "    Z = testpreds.reshape(res, res)\n",
    "    # Z[0,0] = 1 # optional: scale the colors correctly\n",
    "    \n",
    "    plt.cla()    \n",
    "    plt.xlim((0,1))\n",
    "    plt.ylim((0,1))\n",
    "    # fill in the contours for these predictions\n",
    "    plt.contourf(pixelX, pixelY, np.sign(Z), colors=mycolors)\n",
    "    \n",
    "    for idx, c in enumerate(classvals):\n",
    "        plt.scatter(xTrain[yTrain == c,0],\n",
    "            xTrain[yTrain == c,1],\n",
    "            marker=marker_symbols[idx],\n",
    "            color='k'\n",
    "            )\n",
    "    plt.show()\n",
    "    \n",
    "        \n",
    "xTrain= np.array([[5,6]])\n",
    "b=yTrIon\n",
    "yTrain = np.array([1])\n",
    "w=xTrIon\n",
    "M=20\n",
    "\n",
    "fig = plt.figure()\n",
    "plt.xlim(0,1)\n",
    "plt.ylim(0,1)\n",
    "cid = fig.canvas.mpl_connect('button_press_event', onclick_forest)\n",
    "print('Note: there is strong delay between points')\n",
    "plt.title('Use shift-click to add negative points.')"
   ]
  },
  {
   "cell_type": "markdown",
   "metadata": {
    "deletable": false,
    "editable": false,
    "nbgrader": {
     "cell_type": "markdown",
     "checksum": "6a43e7907e81937d92a9e0a9295ba8f4",
     "grade": false,
     "grade_id": "cell-faa99e3970c2080c",
     "locked": true,
     "schema_version": 3,
     "solution": false,
     "task": false
    }
   },
   "source": [
    "<h2>Boosting</h2>\n",
    "\n",
    "<p>Another option to improve your decision trees is to build trees of small depth (e.g. only depth=3 or depth=4). These do not have high variance, but instead suffer from <b>high bias</b>. You can reduce the bias of a classifier with boosting. Implement the function <code>boosttree</code>, which applies Adaboost on your <code>cart</code> functions. You should be able to use the function <code>evalforest</code> to evaluate your boosted ensemble (provdided you pass on the weights correctly.)</p>"
   ]
  },
  {
   "cell_type": "code",
   "execution_count": null,
   "metadata": {
    "deletable": false,
    "nbgrader": {
     "cell_type": "code",
     "checksum": "030ca99b525c9574d0a137a03d2709f7",
     "grade": false,
     "grade_id": "cell-6e4bec6d93833b06",
     "locked": false,
     "schema_version": 3,
     "solution": true,
     "task": false
    }
   },
   "outputs": [],
   "source": [
    "def boosttree(x,y,maxiter=100,maxdepth=2):\n",
    "    \"\"\"Learns a boosted decision tree.\n",
    "    \n",
    "    Input:\n",
    "        x:        n x d matrix of data points\n",
    "        y:        n-dimensional vector of labels\n",
    "        maxiter:  maximum number of trees\n",
    "        maxdepth: maximum depth of a tree\n",
    "        \n",
    "    Output:\n",
    "        forest: list of TreeNode decision trees of length m\n",
    "        alphas: m-dimensional weight vector\n",
    "        \n",
    "    (note, m is at most maxiter, but may be smaller,\n",
    "    as dictated by the Adaboost algorithm)\n",
    "    \"\"\"\n",
    "    assert np.allclose(np.unique(y), np.array([-1,1])); # the labels must be -1 and 1 \n",
    "    n,d = x.shape\n",
    "    weights = np.ones(n) / n\n",
    "    preds   = None\n",
    "    forest  = []\n",
    "    alphas  = []\n",
    "\n",
    "    # YOUR CODE HERE\n",
    "    raise NotImplementedError()\n",
    "    \n",
    "    return forest, alphas"
   ]
  },
  {
   "cell_type": "markdown",
   "metadata": {
    "deletable": false,
    "editable": false,
    "nbgrader": {
     "cell_type": "markdown",
     "checksum": "97e9c1a6842a511a06bad2c3a15eb3ef",
     "grade": false,
     "grade_id": "cell-d9cacc62ecaf87cb",
     "locked": true,
     "schema_version": 3,
     "solution": false,
     "task": false
    }
   },
   "source": [
    "<p>The following script evaluates the test and training error of a boosted forest as we increase the number of trees.</p>"
   ]
  },
  {
   "cell_type": "code",
   "execution_count": null,
   "metadata": {
    "deletable": false,
    "editable": false,
    "nbgrader": {
     "cell_type": "code",
     "checksum": "b77d7852105a15f0086c93e5c82a78a1",
     "grade": false,
     "grade_id": "cell-fde54aafd46b5993",
     "locked": true,
     "schema_version": 3,
     "solution": false,
     "task": false
    }
   },
   "outputs": [],
   "source": [
    "M=20 # max number of trees\n",
    "alltrees,allalphas=boosttree(xTrIon,yTrIon,maxdepth=3,maxiter=M)\n",
    "\n",
    "err_trB=[]\n",
    "loss_trB=[]\n",
    "err_teB=[]\n",
    "for i in range(M):\n",
    "    trees=alltrees[:i+1]\n",
    "    alphas=allalphas[:i+1]\n",
    "    trErr = np.mean(np.sign(evalforest(trees,xTrIon,alphas)) != yTrIon)\n",
    "    trLoss =np.mean(np.exp(-evalforest(trees,xTrIon,alphas)*yTrIon))\n",
    "    teErr = np.mean(np.sign(evalforest(trees,xTeIon,alphas)) != yTeIon)\n",
    "    err_trB.append(trErr)\n",
    "    err_teB.append(teErr)\n",
    "    loss_trB.append(trLoss)\n",
    "    print(\"[%d] exp loss = %.4f training err = %.4f\\ttesting err = %.4f\" % (i,trLoss,trErr, teErr))\n",
    "\n",
    "plt.figure()\n",
    "line_tr, = plt.plot(range(M),err_trB,label=\"Training Error\")\n",
    "line_te, = plt.plot(range(M),err_teB,label=\"Testing error\")\n",
    "line_trloss,=plt.plot(range(M),loss_trB,label='Exp. Loss')\n",
    "plt.title(\"Adaboost\")\n",
    "plt.legend(handles=[line_tr, line_te,line_trloss])\n",
    "plt.xlabel(\"# of trees\")\n",
    "plt.ylabel(\"error\")\n",
    "plt.show()\n",
    "# Your training error should converge very quickly"
   ]
  },
  {
   "cell_type": "code",
   "execution_count": null,
   "metadata": {
    "deletable": false,
    "editable": false,
    "nbgrader": {
     "cell_type": "code",
     "checksum": "9a658fd6a0382a99a5d6c8bd765f7f25",
     "grade": false,
     "grade_id": "cell-412235795894022a",
     "locked": true,
     "schema_version": 3,
     "solution": false,
     "task": false
    }
   },
   "outputs": [],
   "source": [
    "trees,alphas=boosttree(xTrSpiral,yTrSpiral,maxdepth=3,maxiter=20)\n",
    "visclassifier(lambda X:evalforest(trees,X,alphas),xTrSpiral,yTrSpiral)\n",
    "\n",
    "print(\"elapsed time: %.2f seconds\" % (t1-t0))\n",
    "print(\"Training error: %.4f\" % np.mean(np.sign(evalforest(trees,xTrSpiral,alphas)) != yTrSpiral))\n",
    "print(\"Testing error:  %.4f\" % np.mean(np.sign(evalforest(trees,xTeSpiral,alphas)) != yTeSpiral))"
   ]
  },
  {
   "cell_type": "code",
   "execution_count": null,
   "metadata": {
    "deletable": false,
    "editable": false,
    "nbgrader": {
     "cell_type": "code",
     "checksum": "67e43948259004230f01939797b7279e",
     "grade": false,
     "grade_id": "cell-e53ca9e4cded1a68",
     "locked": true,
     "schema_version": 3,
     "solution": false,
     "task": false
    }
   },
   "outputs": [],
   "source": [
    "xT = np.array([[5,6],[2,5]])\n",
    "yT = np.array([-1,1])\n",
    "fig = plt.figure()\n",
    "plt.xlim(0,1)\n",
    "plt.ylim(0,1)\n",
    "\n",
    "\n",
    "def onclick_boost(event):\n",
    "    \"\"\"\n",
    "    Visualize boosting, including new point\n",
    "    \"\"\"\n",
    "    global xT,yT\n",
    "    # create position vector for new point\n",
    "    pos=np.array([[event.xdata,event.ydata]]) \n",
    "    if event.key == 'shift': # add positive point\n",
    "        color='or'\n",
    "        label=1\n",
    "    else: # add negative point\n",
    "        color='ob'\n",
    "        label=-1    \n",
    "    xT = np.concatenate((xT,pos), axis = 0)\n",
    "    yT = np.append(yT, label)\n",
    "    marker_symbols = ['o', 'x']\n",
    "    classvals = np.unique(yTrain)\n",
    "            \n",
    "    mycolors = [[0.5, 0.5, 1], [1, 0.5, 0.5]]\n",
    "    \n",
    "    # return 300 evenly spaced numbers over this interval\n",
    "    res=300\n",
    "    xrange = np.linspace(0,1,res)\n",
    "    yrange = np.linspace(0,1,res)\n",
    "    \n",
    "    # repeat this matrix 300 times for both axes\n",
    "    pixelX = repmat(xrange, res, 1)\n",
    "    pixelY = repmat(yrange, res, 1).T\n",
    "    xTe = np.array([pixelX.flatten(), pixelY.flatten()]).T\n",
    "    \n",
    "    # get forest\n",
    "    forest,alphas=boosttree(xT,yT,maxdepth=3,maxiter=5)\n",
    "    if len(forest) > 0:\n",
    "        fun = lambda X: evalforest(forest,X,alphas)\n",
    "        # test all of these points on the grid\n",
    "        testpreds = fun(xTe)\n",
    "\n",
    "        # reshape it back together to make our grid\n",
    "        Z = testpreds.reshape(res, res)\n",
    "        Z[0,0] = 1 # optional: scale the colors correctly\n",
    "\n",
    "        plt.cla()    \n",
    "        plt.xlim((0,1))\n",
    "        plt.ylim((0,1))\n",
    "        # fill in the contours for these predictions\n",
    "        plt.contourf(pixelX, pixelY, np.sign(Z), colors=mycolors)\n",
    "    \n",
    "    for idx, c in enumerate(classvals):\n",
    "        plt.scatter(xT[yT == c,0],\n",
    "            xT[yT == c,1],\n",
    "            marker=marker_symbols[idx],\n",
    "            color='k'\n",
    "            )\n",
    "    plt.show()\n",
    "    \n",
    "cid = fig.canvas.mpl_connect('button_press_event', onclick_boost)\n",
    "plt.title('Use shift-click to add negative points.')"
   ]
  },
  {
   "cell_type": "code",
   "execution_count": null,
   "metadata": {
    "deletable": false,
    "editable": false,
    "nbgrader": {
     "cell_type": "code",
     "checksum": "bf133bec53248e1c4b109008b0176fd7",
     "grade": true,
     "grade_id": "sqsplit_test2",
     "locked": true,
     "points": 5,
     "schema_version": 3,
     "solution": false,
     "task": false
    }
   },
   "outputs": [],
   "source": [
    "# Do not delete, copy, paste, or alter these cells as this will cause the tests to fail automatically"
   ]
  },
  {
   "cell_type": "code",
   "execution_count": null,
   "metadata": {
    "deletable": false,
    "editable": false,
    "nbgrader": {
     "cell_type": "code",
     "checksum": "6f15115822db61acc056b34809f04431",
     "grade": true,
     "grade_id": "sqsplit_test3",
     "locked": true,
     "points": 5,
     "schema_version": 3,
     "solution": false,
     "task": false
    }
   },
   "outputs": [],
   "source": [
    "# Do not delete, copy, paste, or alter these cells as this will cause the tests to fail automatically"
   ]
  },
  {
   "cell_type": "code",
   "execution_count": null,
   "metadata": {
    "deletable": false,
    "editable": false,
    "nbgrader": {
     "cell_type": "code",
     "checksum": "b352ab031e5573e0e9ca02f9bc8bdcd2",
     "grade": true,
     "grade_id": "cart_test1",
     "locked": true,
     "points": 5,
     "schema_version": 3,
     "solution": false,
     "task": false
    }
   },
   "outputs": [],
   "source": [
    "# Do not delete, copy, paste, or alter these cells as this will cause the tests to fail automatically"
   ]
  },
  {
   "cell_type": "code",
   "execution_count": null,
   "metadata": {
    "deletable": false,
    "editable": false,
    "nbgrader": {
     "cell_type": "code",
     "checksum": "8c9d4d69ae8d2cdb8d900a1b72b989ab",
     "grade": true,
     "grade_id": "cart_test2",
     "locked": true,
     "points": 3,
     "schema_version": 3,
     "solution": false,
     "task": false
    }
   },
   "outputs": [],
   "source": [
    "# Do not delete, copy, paste, or alter these cells as this will cause the tests to fail automatically"
   ]
  },
  {
   "cell_type": "code",
   "execution_count": null,
   "metadata": {
    "deletable": false,
    "editable": false,
    "nbgrader": {
     "cell_type": "code",
     "checksum": "3c602df0600964c3ae42935dec071819",
     "grade": true,
     "grade_id": "cart_test3",
     "locked": true,
     "points": 3,
     "schema_version": 3,
     "solution": false,
     "task": false
    }
   },
   "outputs": [],
   "source": [
    "# Do not delete, copy, paste, or alter these cells as this will cause the tests to fail automatically"
   ]
  },
  {
   "cell_type": "code",
   "execution_count": null,
   "metadata": {
    "deletable": false,
    "editable": false,
    "nbgrader": {
     "cell_type": "code",
     "checksum": "700de9178b30f005d32dacffe28978aa",
     "grade": true,
     "grade_id": "evaltree_test1",
     "locked": true,
     "points": 3,
     "schema_version": 3,
     "solution": false,
     "task": false
    }
   },
   "outputs": [],
   "source": [
    "# Do not delete, copy, paste, or alter these cells as this will cause the tests to fail automatically"
   ]
  },
  {
   "cell_type": "code",
   "execution_count": null,
   "metadata": {
    "deletable": false,
    "editable": false,
    "nbgrader": {
     "cell_type": "code",
     "checksum": "990e464d7805ae5d63caad4c2a2337b9",
     "grade": true,
     "grade_id": "evaltree_test2",
     "locked": true,
     "points": 3,
     "schema_version": 3,
     "solution": false,
     "task": false
    }
   },
   "outputs": [],
   "source": [
    "# Do not delete, copy, paste, or alter these cells as this will cause the tests to fail automatically"
   ]
  },
  {
   "cell_type": "code",
   "execution_count": null,
   "metadata": {
    "deletable": false,
    "editable": false,
    "nbgrader": {
     "cell_type": "code",
     "checksum": "80289f05e067c134f2e8587e57624fd7",
     "grade": true,
     "grade_id": "forest_test1",
     "locked": true,
     "points": 3,
     "schema_version": 3,
     "solution": false,
     "task": false
    }
   },
   "outputs": [],
   "source": [
    "# Do not delete, copy, paste, or alter these cells as this will cause the tests to fail automatically"
   ]
  },
  {
   "cell_type": "code",
   "execution_count": null,
   "metadata": {
    "deletable": false,
    "editable": false,
    "nbgrader": {
     "cell_type": "code",
     "checksum": "89442130513598dda3251e333447a963",
     "grade": true,
     "grade_id": "bagging_test1",
     "locked": true,
     "points": 3,
     "schema_version": 3,
     "solution": false,
     "task": false
    }
   },
   "outputs": [],
   "source": [
    "# Do not delete, copy, paste, or alter these cells as this will cause the tests to fail automatically"
   ]
  },
  {
   "cell_type": "code",
   "execution_count": null,
   "metadata": {
    "deletable": false,
    "editable": false,
    "nbgrader": {
     "cell_type": "code",
     "checksum": "b1bce957599b3d0fcc9dc56bc7e97186",
     "grade": true,
     "grade_id": "bagging_test2",
     "locked": true,
     "points": 3,
     "schema_version": 3,
     "solution": false,
     "task": false
    }
   },
   "outputs": [],
   "source": [
    "# Do not delete, copy, paste, or alter these cells as this will cause the tests to fail automatically"
   ]
  },
  {
   "cell_type": "code",
   "execution_count": null,
   "metadata": {
    "deletable": false,
    "editable": false,
    "nbgrader": {
     "cell_type": "code",
     "checksum": "408e93ddeb1ab737078c59e6b9e9f309",
     "grade": true,
     "grade_id": "boosting_test1",
     "locked": true,
     "points": 3,
     "schema_version": 3,
     "solution": false,
     "task": false
    }
   },
   "outputs": [],
   "source": [
    "# Do not delete, copy, paste, or alter these cells as this will cause the tests to fail automatically"
   ]
  },
  {
   "cell_type": "markdown",
   "metadata": {
    "deletable": false,
    "editable": false,
    "nbgrader": {
     "cell_type": "markdown",
     "checksum": "48206f2fa4480b0a604e89905866620d",
     "grade": false,
     "grade_id": "cell-48581b14a6981e50",
     "locked": true,
     "schema_version": 3,
     "solution": false,
     "task": false
    }
   },
   "source": [
    "**Competition**: we ask you to improve the speed of evaltree and cart while keeping both functions accurate.\n",
    "    \n",
    "You will receive 3 points if your implemention as fast or faster than our slow solution on hidden data and 3 points if your implementation as fast or faster than our quick solution."
   ]
  },
  {
   "cell_type": "code",
   "execution_count": null,
   "metadata": {
    "deletable": false,
    "nbgrader": {
     "cell_type": "code",
     "checksum": "e4115605a6b52f8af272d76da1611f73",
     "grade": false,
     "grade_id": "cell-618211b2d58e4ea7",
     "locked": false,
     "schema_version": 3,
     "solution": true,
     "task": false
    }
   },
   "outputs": [],
   "source": [
    "def evaltreecomp(root,xTe,idx=[]):\n",
    "    \"\"\"Evaluates xTe using decision tree root. Same as evaltree but designed to be as efficient as possible.\n",
    "    \n",
    "    Input:\n",
    "        root: TreeNode decision tree\n",
    "        xTe:  n x d matrix of data points\n",
    "        idx:  choosen indices, optional argument that might be helpful with implementation strategy\n",
    "    Output:\n",
    "        pred: n-dimensional vector of predictions\n",
    "    \"\"\"\n",
    "    assert root is not None\n",
    "    n = xTe.shape[0]\n",
    "    pred = np.zeros(n)\n",
    "    \n",
    "    # YOUR CODE HERE\n",
    "    raise NotImplementedError()\n",
    "    return pred\n",
    "\n",
    "def cartcomp(xTr,yTr,depth=np.inf,weights=None):\n",
    "    \"\"\"Builds a CART tree. Same as cart but designed to be as efficient as possible.\n",
    "    \n",
    "    The maximum tree depth is defined by \"maxdepth\" (maxdepth=2 means one split).\n",
    "    Each example can be weighted with \"weights\".\n",
    "\n",
    "    Args:\n",
    "        xTr:      n x d matrix of data\n",
    "        yTr:      n-dimensional vector\n",
    "        maxdepth: maximum tree depth\n",
    "        weights:  n-dimensional weight vector for data points\n",
    "\n",
    "    Returns:\n",
    "        tree: root of decision tree\n",
    "    \"\"\"\n",
    "    n,d = xTr.shape\n",
    "    if weights is None:\n",
    "        w = np.ones(n) / float(n)\n",
    "    else:\n",
    "        w = weights\n",
    "    \n",
    "    # YOUR CODE HERE\n",
    "    raise NotImplementedError()"
   ]
  },
  {
   "cell_type": "code",
   "execution_count": null,
   "metadata": {
    "deletable": false,
    "editable": false,
    "nbgrader": {
     "cell_type": "code",
     "checksum": "1ffd8258070ae12f9fd6ae07281cd591",
     "grade": false,
     "grade_id": "cell-25f260c3b553b9db",
     "locked": true,
     "schema_version": 3,
     "solution": false,
     "task": false
    }
   },
   "outputs": [],
   "source": [
    "t0 = time.time()\n",
    "root = cartcomp(xTrIon, yTrIon)\n",
    "t1 = time.time()\n",
    "\n",
    "repeat_factor = 20000\n",
    "xTeIonRepeated = np.repeat(xTeIon, repeat_factor, axis = 0)\n",
    "\n",
    "t2 = time.time()\n",
    "pred = evaltreecomp(root,xTeIonRepeated)\n",
    "t3 = time.time()"
   ]
  },
  {
   "cell_type": "code",
   "execution_count": null,
   "metadata": {
    "deletable": false,
    "editable": false,
    "nbgrader": {
     "cell_type": "code",
     "checksum": "2ec9468dc4118f0b6cd359d51cf05868",
     "grade": true,
     "grade_id": "competition_test1",
     "locked": true,
     "points": 3,
     "schema_version": 3,
     "solution": false,
     "task": false
    }
   },
   "outputs": [],
   "source": [
    "# Do not delete, copy, paste, or alter these cells as this will cause the tests to fail automatically"
   ]
  },
  {
   "cell_type": "code",
   "execution_count": null,
   "metadata": {
    "deletable": false,
    "editable": false,
    "nbgrader": {
     "cell_type": "code",
     "checksum": "17f45b55ec9a385b098f76839ffd86c0",
     "grade": true,
     "grade_id": "competition_test2",
     "locked": true,
     "points": 3,
     "schema_version": 3,
     "solution": false,
     "task": false
    }
   },
   "outputs": [],
   "source": [
    "# Do not delete, copy, paste, or alter these cells as this will cause the tests to fail automatically"
   ]
  },
  {
   "cell_type": "code",
   "execution_count": null,
   "metadata": {},
   "outputs": [],
   "source": []
  }
 ],
 "metadata": {
  "kernelspec": {
   "display_name": "appliedml",
   "language": "python",
   "name": "python3"
  },
  "language_info": {
   "codemirror_mode": {
    "name": "ipython",
    "version": 3
   },
   "file_extension": ".py",
   "mimetype": "text/x-python",
   "name": "python",
   "nbconvert_exporter": "python",
   "pygments_lexer": "ipython3",
   "version": "3.12.8"
  }
 },
 "nbformat": 4,
 "nbformat_minor": 4
}
