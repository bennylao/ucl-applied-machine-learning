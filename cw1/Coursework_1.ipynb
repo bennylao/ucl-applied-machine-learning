{
 "cells": [
  {
   "cell_type": "markdown",
   "metadata": {},
   "source": [
    "<h3>TODO</h3> \n",
    "Fill in any place that says <code># YOUR CODE HERE</code> (make sure to remove the line <code>raise ...Error()</code>).\n",
    "\n",
    "<h3>Suggestions</h3>\n",
    "\n",
    "- To speed up your code, think about how certain operations can be done at the same time.\n",
    "- Before you turn this problem in, make sure everything runs as expected. First, **restart the kernel** (in the menubar, select Kernel$\\rightarrow$Restart) and then **run all cells** (in the menubar, select Cell$\\rightarrow$Run All).\n",
    "- Double check your code does not have $\\infty$-loops, these will crash the autograder.\n",
    "\n",
    "<h3>Rules</h3>\n",
    "\n",
    "- Blank cells in the notebook are hidden tests. **Do not delete or alter these cells as this will cause the tests to fail automatically**.\n",
    "- **Do not copy any cell**. Instead create a new cell and transfer any code into the new cell.\n",
    "- Do not create multiple python notebooks (.ipynb files).\n",
    "- Do not import any new python packages (this may cause hidden tests to fail).\n",
    "- Each cell must run for less than 5 minutes (there exists a solution with full marks).\n",
    "- **Do not plagiarise!** We take violations of this very seriously. In previous years we have identified instances of plagiarism and reported them to the Senior Teaching & Learning Administrator.\n",
    "- If you are happy with your current grade you do not need to resubmit, the most recent grade from the autograder will be your final grade."
   ]
  },
  {
   "cell_type": "markdown",
   "metadata": {},
   "source": [
    "---"
   ]
  },
  {
   "cell_type": "markdown",
   "metadata": {
    "deletable": false,
    "editable": false,
    "nbgrader": {
     "cell_type": "markdown",
     "checksum": "2e682f102a98d335715990329747a9b1",
     "grade": false,
     "grade_id": "cell-22c9f752a48d4d97",
     "locked": true,
     "schema_version": 3,
     "solution": false,
     "task": false
    }
   },
   "source": [
    "<h2>Coursework 1 - Decision Trees</h2>\n",
    "\n",
    "\n",
    "<!--announcements-->\n",
    "<blockquote>\n",
    "    <center>\n",
    "    <img src=\"forest.jpg\" width=\"400px\" />\n",
    "    </center>\n",
    "      <p><cite><center>Boosting took a long time to be truly understood.<br>\n",
    "      ... cynics say we didn't see the forest for all the trees ...<br>\n",
    "      </center></cite></p>\n",
    "</blockquote>\n",
    "\n",
    "<!--announcements-->\n",
    "\n",
    "\n"
   ]
  },
  {
   "cell_type": "markdown",
   "metadata": {
    "deletable": false,
    "editable": false,
    "nbgrader": {
     "cell_type": "markdown",
     "checksum": "cde124a0b7601f419673251986124278",
     "grade": false,
     "grade_id": "cell-bcc26f0f420117c7",
     "locked": true,
     "schema_version": 3,
     "solution": false,
     "task": false
    }
   },
   "source": [
    "\n",
    "\n",
    "<h3>Introduction</h3>\n",
    "<p>In this assignment you will implement a decision tree algorithm and then use it for bagging and boosting. We've provided a tree structure for you with distinct leaves and nodes. Leaves have two fields, parent (another node) and prediction (a numerical value). Nodes have six fields: \n",
    "\n",
    "<ol>\n",
    "<li> <b>left</b>: node describing left subtree </li>\n",
    "<li> <b>right</b>: node describing right subtree </li>\n",
    "<li> <b>parent</b>: the parent of the current subtree. The head of the tree always has <code><b>None</b></code> as its parent. Feel free to initialize nodes with this field set to <code><b>None</b></code> so long as you set the correct parent later on. </li>\n",
    "<li> <b>cutoff_id</b>: index of feature to cut </li>\n",
    "<li> <b>cutoff_val</b>: cutoff value c (<=c : left, and >c : right)</li>\n",
    "<li> <b>prediction</b>: scalar prediction at this node. <b>(NOTE: please do not check if a node is a leaf by checking for prediction=None, this will mess up autograder tests!)</b>  </li>\n",
    "</ol>\n",
    "Finally, when you make a leaf node make sure it has this form: <b>TreeNode(None, None, None, None, None, prediction)</b>.\n",
    "</p>\n",
    "\n",
    "\n",
    "        "
   ]
  },
  {
   "cell_type": "code",
   "execution_count": 406,
   "metadata": {
    "deletable": false,
    "editable": false,
    "nbgrader": {
     "cell_type": "code",
     "checksum": "e33c3f0e4df2515d2e430f6e091ed32c",
     "grade": false,
     "grade_id": "cell-57d7072a148c2070",
     "locked": true,
     "schema_version": 3,
     "solution": false,
     "task": false
    }
   },
   "outputs": [],
   "source": [
    "class TreeNode(object):\n",
    "    \"\"\"Tree class.\n",
    "    \n",
    "    (You don't need to add any methods or fields here but feel\n",
    "    free to if you like. Our tests will only reference the fields\n",
    "    defined in the constructor below, so be sure to set these\n",
    "    correctly!)\n",
    "    \"\"\"\n",
    "    \n",
    "    def __init__(self, left, right, parent, cutoff_id, cutoff_val, prediction):\n",
    "        self.left = left\n",
    "        self.right = right\n",
    "        self.parent = parent\n",
    "        self.cutoff_id = cutoff_id\n",
    "        self.cutoff_val = cutoff_val\n",
    "        self.prediction = prediction"
   ]
  },
  {
   "cell_type": "markdown",
   "metadata": {
    "deletable": false,
    "editable": false,
    "nbgrader": {
     "cell_type": "markdown",
     "checksum": "acb161f68b896c18396ede3d71d41f10",
     "grade": false,
     "grade_id": "cell-c05aa5bde6395c94",
     "locked": true,
     "schema_version": 3,
     "solution": false,
     "task": false
    }
   },
   "source": [
    "<h3>Implementing CART</h3>\n",
    "Before we get started let us add a few packages that you might need. We will also load a data set <a href=\"https://archive.ics.uci.edu/ml/datasets/Ionosphere\">ION</a>, which we will use as our binary test classification problem."
   ]
  },
  {
   "cell_type": "code",
   "execution_count": 407,
   "metadata": {
    "deletable": false,
    "editable": false,
    "nbgrader": {
     "cell_type": "code",
     "checksum": "1e757c039191bf7c18b2d69786dcde81",
     "grade": false,
     "grade_id": "cell-ba718a0ce824c1df",
     "locked": true,
     "schema_version": 3,
     "solution": false,
     "task": false
    }
   },
   "outputs": [
    {
     "data": {
      "text/plain": [
       "((281, 34), (281,), (70, 34), (70,))"
      ]
     },
     "execution_count": 407,
     "metadata": {},
     "output_type": "execute_result"
    }
   ],
   "source": [
    "%matplotlib widget\n",
    "import numpy as np\n",
    "import math\n",
    "from numpy.matlib import repmat\n",
    "import sys\n",
    "import matplotlib \n",
    "import matplotlib.pyplot as plt\n",
    "from scipy.io import loadmat\n",
    "import time\n",
    "import os\n",
    "import warnings\n",
    "sys.path.append('')\n",
    "warnings.filterwarnings(\"ignore\", category=DeprecationWarning) \n",
    "\n",
    "\n",
    "# load in some binary test data (labels are -1, +1)\n",
    "data = loadmat(\"ion.mat\")\n",
    "xTrIon  = data['xTr'].T\n",
    "yTrIon  = data['yTr'].flatten()\n",
    "xTeIon  = data['xTe'].T\n",
    "yTeIon  = data['yTe'].flatten()\n",
    "\n",
    "xTrIon.shape, yTrIon.shape, xTeIon.shape, yTeIon.shape"
   ]
  },
  {
   "cell_type": "code",
   "execution_count": 408,
   "metadata": {
    "deletable": false,
    "editable": false,
    "nbgrader": {
     "cell_type": "code",
     "checksum": "cbdab1651e0c61c5e9076e59792a3a46",
     "grade": false,
     "grade_id": "cell-ba17001a88a8255d",
     "locked": true,
     "schema_version": 3,
     "solution": false,
     "task": false
    }
   },
   "outputs": [],
   "source": [
    "def spiraldata(N=300):\n",
    "    r = np.linspace(1,2*np.pi,N)\n",
    "    xTr1 = np.array([np.sin(2.*r)*r, np.cos(2*r)*r]).T\n",
    "    xTr2 = np.array([np.sin(2.*r+np.pi)*r, np.cos(2*r+np.pi)*r]).T\n",
    "    xTr = np.concatenate([xTr1, xTr2], axis=0)\n",
    "    yTr = np.concatenate([np.ones(N), -1 * np.ones(N)])\n",
    "    xTr = xTr + np.random.randn(xTr.shape[0], xTr.shape[1])*0.2\n",
    "    \n",
    "    xTe = xTr[::2,:]\n",
    "    yTe = yTr[::2]\n",
    "    xTr = xTr[1::2,:]\n",
    "    yTr = yTr[1::2]\n",
    "    \n",
    "    return xTr,yTr,xTe,yTe\n",
    "\n",
    "xTrSpiral,yTrSpiral,xTeSpiral,yTeSpiral=spiraldata(150)"
   ]
  },
  {
   "cell_type": "markdown",
   "metadata": {
    "deletable": false,
    "editable": false,
    "nbgrader": {
     "cell_type": "markdown",
     "checksum": "ff88429982d6d7a35bbb8469a9aa11eb",
     "grade": false,
     "grade_id": "cell-b8289ddc9797f690",
     "locked": true,
     "schema_version": 3,
     "solution": false,
     "task": false
    }
   },
   "source": [
    "<h3> Efficiently implementing regression trees </h3>\n",
    "First, implement the function <code>sqsplit</code> which takes as input a (weighted) data set with labels and computes the best feature and cut-value of an optimal split based on minimum squared error. The third input is a weight vector which assigns a positive weight to each training sample. The loss you should minimize is the averaged weighted squared-loss:\n",
    "\n",
    "$$\n",
    "\t{\\cal L}(S)=\\sum_{i \\in L} {w_{i}(y_{i} - T_{L})}^2+\\sum_{i \\in R} {w_{i}(y_{i} - T_{R})}^2\n",
    "$$\n",
    "\n",
    "You are building a regression tree, and right now you need to choose a split for the given dataset $S=\\{(\\vec x_1,y_1),\\dots,(\\vec x_n,y_n)\\}$ (where we have continuous labels $y_i\\in{\\cal R}$).\n",
    "Suppose you split on some feature $j$ with value $c$ and partition the dataset in to two sets of indices, $L$--the set of indices on the left (i.e., $i \\in L \\Rightarrow [x_{i}]_{j} < c$)--and $R$--the set of indices on the right (i.e., $i \\in R \\Rightarrow [x_{i}]_{j} > c$). Suppose you assign every data point on the left the prediction $T_{L}$ and every data point on the right the prediction $T_{R}$. Finally, suppose that each data point $x_{i}$ has an associated weight $w_{i}$, and that the weights are normalized (i.e., $\\sum_{i} w_{i} = 1$). \n",
    "\n",
    "\n",
    "First, we show that setting $T_{L}$ and $T_{R}$ to the weighted average label over their respective sets (i.e., $T_{L} = \\frac{1}{W_{L}}\\sum_{i\\in L}w_{i}y_{i}$ and $T_{R} = \\frac{1}{W_{R}}\\sum_{i\\in R}w_{i}y_{i}$) minimizes the loss $\\cal L$, where $W_{L}=\\sum_{i \\in L}w_{i}$ and $W_{R}=\\sum_{i \\in R} w_{i}$ are the total weight of the left and right side respectively.\n",
    "\n",
    "We take the derivative of the loss with respect to $T_{L}$ to obtain $$\\frac{d}{dT_{L}} {\\cal L}(S) = -2\\sum_{i \\in L}w_{i}(y_i - T_L)=-2\\sum_{i\\in L}w_iy_i + 2T_{L}\\sum_{i}w_{i}$$ Setting this equal to zero and solving, we get $$2T_{L}w_{L}=2\\sum_{i \\in L}w_{i}y_{i}$$ and therefore $$T_{L} = \\frac{1}{W_{L}}\\sum_{i \\in L}w_{i}y_{i}$$ A symmetric argument holds for $T_{R}$.\n",
    "\n",
    "Now, imagine you are considering splitting on some feature $j$, and suppose you have already sorted the training points in the order of this feature value, so that $[x_{1}]_{j} < [x_{2}]_{j} < \\cdots < [x_{n}]_{j}$. You'd like to choose a split from among $c_{1} \\leq c_{2} \\leq \\cdots \\leq c_{n-1}$, where $c_{i}=\\frac{[x_{i}]_{j}+[x_{i+1}]_{j}}{2}$. One way to do this would be to, for each possible split $c_{k}$, decide whether each $x_{i}$ should be partitioned left or right, and compute $\\cal L$. At the end, take the split with the lowest loss. The number of data points $n$ and there are $O(n)$ splits to consider, and the proposed algorithm would require $O(n)$ per split to evaluate $\\cal L$, for a total of $O(n^2)$ time.\n",
    "\n",
    "Now, suppose some split $c_{k}$ results in the data being partitioned in to $L^{(k)}$ and $R^{(k)}$. Suppose you are given the following quantities precomputed: $W_{L^{(k)}}$, $P_{L^{(k)}} = \\sum_{i \\in L} w_{i}y_{i}$, and $Q_{L^{(k)}} = \\sum_{i \\in L} w_{i}y_{i}^{2}$. Similarly, you are given $W_{R^{(k)}}$, $P_{R^{(k)}}$ and $Q_{R^{(k)}}$ Equipped with these precomputed quantities, we can compute $\\cal L$ in constant time:\n",
    "\n",
    "Expand the left side of the loss to $$\\sum_{i \\in L}w_{i}y_{i}^{2} - 2\\sum_{i \\in L}w_{i}y_{i}T_{L} + \\sum_{i \\in L}w_{i}T_{L}^{2}$$. The first term is exactly $Q_{L^{(k)}}$. The second term can be written as $-2P_{L^{(k)}}\\frac{P_{L^{(k)}}}{W_{L^{(k)}}}=-2\\frac{P_{L^{(k)}}^{2}}{w_{L^{(k)}}}$. The last term can be written as $w_{L^{(k)}}\\frac{P_{L^{(k)}}^{2}}{w_{L^{(k)}}^{2}}=\\frac{P_{L^{(k)}}^{2}}{w_{L^{(k)}}}$. The second term plus the third term is therefore simply $-\\frac{P_{L^{(k)}}^{2}}{w_{L^{(k)}}}$. Therefore the whole expression can be evaluated as: $$Q_{L^{(k)}}-\\frac{P_{L^{(k)}}^{2}}{w_{L^{(k)}}}$$ Similarly, the right term is: $$Q_{R^{(k)}}-\\frac{P_{R^{(k)}}^{2}}{w_{R^{(k)}}}$$\n",
    "\n",
    "<b> Efficent Update Rule: </b> If all feature values are distinct, only one data point moves from $R$ to $L$ when moving from split $k$ to split $k+1$. Therefore, we simply update the values accordingly. For example, we subtract $w_{k}$ from $W_{R^{(k)}}$ and add it to $W_{L^{(k)}}$. We subtract $w_{k}y_{k}$ from $P_{R^{(k)}}$ and add it to $P_{L^{(k)}}$. We subtract $w_{k}y_{k}^{2}$ from $Q_{R^{(k)}}$ and add it to $Q_{L^{(k)}}$. Crucially, all of these updates take only constant time."
   ]
  },
  {
   "cell_type": "code",
   "execution_count": 409,
   "metadata": {
    "deletable": false,
    "nbgrader": {
     "cell_type": "code",
     "checksum": "ca816a49a7c739efa38e5858b6f3b143",
     "grade": false,
     "grade_id": "cell-812f4d4ed0980f9d",
     "locked": false,
     "schema_version": 3,
     "solution": true,
     "task": false
    }
   },
   "outputs": [],
   "source": [
    "def sqsplit(xTr,yTr,weights=None):\n",
    "    \"\"\"Finds the best feature, cut value, and loss value.\n",
    "    \n",
    "    Input:\n",
    "        xTr:     n x d matrix of data points\n",
    "        yTr:     n-dimensional vector of labels\n",
    "        weights: n-dimensional weight vector for data points\n",
    "    \n",
    "    Output:\n",
    "        feature:  index of the best cut's feature\n",
    "        cut:      cut-value of the best cut\n",
    "        bestloss: loss of the best cut\n",
    "    \"\"\"\n",
    "    N,D = xTr.shape\n",
    "    assert D > 0 # must have at least one dimension\n",
    "    assert N > 1 # must have at least two samples\n",
    "    if weights is None: # if no weights are passed on, assign uniform weights\n",
    "        weights = np.ones(N)\n",
    "    weights = weights/sum(weights) # Weights need to sum to one (we just normalize them)\n",
    "    bestloss = np.inf\n",
    "    feature = np.inf\n",
    "    cut = np.inf\n",
    "    \n",
    "    # YOUR CODE HERE\n",
    "\n",
    "    # loop through all features (dimensions)\n",
    "    for d in range(D):\n",
    "    \n",
    "        # get a list of index with feature sorted\n",
    "        x_feature = xTr[:, d]\n",
    "        sorted_idx = np.argsort(x_feature)\n",
    "\n",
    "        # sort x, y and weights\n",
    "        x_sort = x_feature[sorted_idx]\n",
    "        y_sort = yTr[sorted_idx]\n",
    "        w_sort = weights[sorted_idx]\n",
    "        \n",
    "        # loop through all possible cut points\n",
    "        for i in range(N - 1):\n",
    "            \n",
    "            # skip if x[i] == x[i + 1]\n",
    "            # this is to avoid misgrouping when there are multiple identical x values\n",
    "            if x_sort[i] == x_sort[i + 1]:\n",
    "                continue\n",
    "            \n",
    "            # calculate mean label on the left and right side of the cut\n",
    "            tl = np.sum(w_sort[:i+1] * y_sort[:i+1]) / np.sum(w_sort[:i+1])\n",
    "            tr = np.sum(w_sort[i+1:] * y_sort[i+1:]) / np.sum(w_sort[i+1:])\n",
    "\n",
    "            # calculate loss            \n",
    "            loss = np.sum(w_sort[:i+1] * (y_sort[:i+1] - tl)**2) + np.sum(w_sort[i+1:] * (y_sort[i+1:] - tr)**2)\n",
    "\n",
    "            # update best loss, feature and cut\n",
    "            if loss < bestloss:\n",
    "                bestloss = loss\n",
    "                cut = (x_sort[i] + x_sort[i + 1]) / 2\n",
    "                feature = d\n",
    "            \n",
    "    return feature, cut, bestloss\n",
    "\n",
    "\n",
    "def sqsplit_efficient(xTr,yTr,weights=None):\n",
    "    \"\"\"Finds the best feature, cut value, and loss value.\n",
    "    \n",
    "    Input:\n",
    "        xTr:     n x d matrix of data points\n",
    "        yTr:     n-dimensional vector of labels\n",
    "        weights: n-dimensional weight vector for data points\n",
    "    \n",
    "    Output:\n",
    "        feature:  index of the best cut's feature\n",
    "        cut:      cut-value of the best cut\n",
    "        bestloss: loss of the best cut\n",
    "    \"\"\"\n",
    "    N,D = xTr.shape\n",
    "    assert D > 0 # must have at least one dimension\n",
    "    assert N > 1 # must have at least two samples\n",
    "    if weights is None: # if no weights are passed on, assign uniform weights\n",
    "        weights = np.ones(N)\n",
    "    weights = weights/sum(weights) # Weights need to sum to one (we just normalize them)\n",
    "    bestloss = np.inf\n",
    "    feature = np.inf\n",
    "    cut = np.inf\n",
    "    \n",
    "    # YOUR CODE HERE\n",
    "\n",
    "    Q = np.sum(weights * yTr**2)\n",
    "    P = np.sum(weights * yTr)\n",
    "\n",
    "    # loop through all features (dimensions)\n",
    "    for d in range(D):\n",
    "        x_feature = xTr[:, d]\n",
    "        sorted_idx = np.argsort(x_feature)\n",
    "        x_sort = x_feature[sorted_idx]\n",
    "        y_sort = yTr[sorted_idx]\n",
    "        w_sort = weights[sorted_idx]\n",
    "\n",
    "        # initialise the sums\n",
    "        pl, wl = 0, 0\n",
    "        pr, wr = P, 1\n",
    "\n",
    "        # loop through all possible cut points\n",
    "        for i in range(0, N - 1):\n",
    "\n",
    "            # update the matrix sums\n",
    "            p = w_sort[i] * y_sort[i]\n",
    "            w = w_sort[i]\n",
    "\n",
    "            pl += p\n",
    "            wl += w\n",
    "            pr -= p\n",
    "            wr -= w\n",
    "\n",
    "            # skip if x[i] == x[i + 1]\n",
    "            if x_sort[i] == x_sort[i + 1]:\n",
    "                continue\n",
    "            \n",
    "            # calculate loss\n",
    "            loss = Q - pl**2 / wl - pr**2 / wr\n",
    "\n",
    "            # update best loss, feature and cut\n",
    "            if loss < bestloss:\n",
    "                bestloss = loss\n",
    "                cut = (x_sort[i] + x_sort[i + 1]) / 2\n",
    "                feature = d\n",
    "\n",
    "    return feature, cut, bestloss"
   ]
  },
  {
   "cell_type": "code",
   "execution_count": 410,
   "metadata": {
    "deletable": false,
    "editable": false,
    "nbgrader": {
     "cell_type": "code",
     "checksum": "fb42ab3b03a8b62728d5c24af047c1a2",
     "grade": false,
     "grade_id": "cell-2afce21057bbdb09",
     "locked": true,
     "schema_version": 3,
     "solution": false,
     "task": false
    }
   },
   "outputs": [
    {
     "name": "stdout",
     "output_type": "stream",
     "text": [
      "elapsed time: 0.21695733070373535 seconds\n",
      "Split on feature 2 on value: 0.304\n",
      "NOTE: It should split on feature 2 on value 0.304\n"
     ]
    }
   ],
   "source": [
    "t0 = time.time()\n",
    "fid,cut,loss = sqsplit(xTrIon,yTrIon)\n",
    "t1 = time.time()\n",
    "print('elapsed time:',t1-t0,'seconds')\n",
    "print(\"Split on feature %i on value: %2.3f\" % (fid,cut))\n",
    "print(\"NOTE: It should split on feature 2 on value 0.304\")"
   ]
  },
  {
   "cell_type": "markdown",
   "metadata": {
    "deletable": false,
    "editable": false,
    "nbgrader": {
     "cell_type": "markdown",
     "checksum": "b450fbc9f0990f287aa976b353d5377e",
     "grade": false,
     "grade_id": "cell-30b62fba723fb04d",
     "locked": true,
     "schema_version": 3,
     "solution": false,
     "task": false
    }
   },
   "source": [
    "<h2>Testing Your Code</h2>\n",
    "\n",
    "<p>As your code will be tested by an autograder, <b>we highly recommend you test all of the code you implement</b> to make sure it works as you expect in both normal and abnormal use-cases. Below shows an example test for the sqsplit function. </p>"
   ]
  },
  {
   "cell_type": "code",
   "execution_count": 411,
   "metadata": {
    "deletable": false,
    "editable": false,
    "nbgrader": {
     "cell_type": "code",
     "checksum": "49b7bb4b7dcb07f98a3d5f6a04aab653",
     "grade": false,
     "grade_id": "cell-7e0a19890691b587",
     "locked": true,
     "schema_version": 3,
     "solution": false,
     "task": false
    }
   },
   "outputs": [
    {
     "name": "stdout",
     "output_type": "stream",
     "text": [
      "Function sqsplit correctly calculates bestloss on xor/yor example: True\n"
     ]
    }
   ],
   "source": [
    "# an example test\n",
    "xor = np.array([[1, 1, 1, 1, 0, 0, 0, 0],\n",
    "                 [1, 1, 0, 0, 1, 1, 0, 0],\n",
    "                 [1, 0, 1, 0, 1, 0, 1, 0]]).T\n",
    "yor = np.array( [1, 0, 0, 1, 0, 1, 1, 0])\n",
    "b = np.isclose(sqsplit(xor,yor)[2], .25)\n",
    "print('Function sqsplit correctly calculates bestloss on xor/yor example: ' + str(b))"
   ]
  },
  {
   "cell_type": "code",
   "execution_count": 412,
   "metadata": {
    "deletable": false,
    "editable": false,
    "nbgrader": {
     "cell_type": "code",
     "checksum": "39112eabcd175877265e79f6f46e719a",
     "grade": true,
     "grade_id": "sqsplit_test1",
     "locked": true,
     "points": 5,
     "schema_version": 3,
     "solution": false,
     "task": false
    }
   },
   "outputs": [],
   "source": [
    "# Do not delete, copy, paste, or alter these cells as this will cause the tests to fail automatically"
   ]
  },
  {
   "cell_type": "markdown",
   "metadata": {
    "deletable": false,
    "editable": false,
    "nbgrader": {
     "cell_type": "markdown",
     "checksum": "b820a08e2b8919033e1902f729525fea",
     "grade": false,
     "grade_id": "cell-747473d0185a7d75",
     "locked": true,
     "schema_version": 3,
     "solution": false,
     "task": false
    }
   },
   "source": [
    "<b>Cart tree:</b><p>Implement the function <code>cart</code> which returns a regression tree based on the minimum squared loss splitting rule. The function takes training data, test data, a maximum depth, and the weigh of each training example. Maximum depth and weight are optional arguments. If they are not provided you should make maximum depth infinity and equally weight each example. You should use the function <code>sqsplit</code> to make your splits.</p>\n",
    "\n",
    "<p>Use the provided <code>TreeNode</code> class to represent your tree. Note that the nature of CART trees implies that every node has exactly 0 or 2 children.</p>\n"
   ]
  },
  {
   "cell_type": "code",
   "execution_count": 413,
   "metadata": {
    "deletable": false,
    "nbgrader": {
     "cell_type": "code",
     "checksum": "5527a56a8e4ded73266026512d9b835d",
     "grade": false,
     "grade_id": "cell-3d1c561cd988c041",
     "locked": false,
     "schema_version": 3,
     "solution": true,
     "task": false
    }
   },
   "outputs": [],
   "source": [
    "def cart(xTr,yTr,depth=np.inf,weights=None):\n",
    "    \"\"\"Builds a CART tree.\n",
    "    \n",
    "    The maximum tree depth is defined by \"maxdepth\" (maxdepth=2 means one split).\n",
    "    Each example can be weighted with \"weights\".\n",
    "\n",
    "    Args:\n",
    "        xTr:      n x d matrix of data\n",
    "        yTr:      n-dimensional vector\n",
    "        maxdepth: maximum tree depth\n",
    "        weights:  n-dimensional weight vector for data points\n",
    "\n",
    "    Returns:\n",
    "        tree: root of decision tree\n",
    "    \"\"\"\n",
    "    n,d = xTr.shape\n",
    "    if weights is None:\n",
    "        w = np.ones(n) / float(n)\n",
    "    else:\n",
    "        # normalise the weights\n",
    "        w = weights / np.sum(weights)\n",
    "    \n",
    "    # YOUR CODE HERE\n",
    "\n",
    "    # initialise node\n",
    "    node = TreeNode(None, None, None, None, None, np.sum(w * yTr))\n",
    "\n",
    "    # check the base case\n",
    "    if depth < 2 or len(np.unique(yTr)) == 1:\n",
    "        return node\n",
    "\n",
    "    # find the best split\n",
    "    node.cutoff_id, node.cutoff_val, _ = sqsplit(xTr, yTr, w)\n",
    "\n",
    "    # split the data\n",
    "    left_idx = xTr[:, node.cutoff_id] <= node.cutoff_val\n",
    "    right_idx = xTr[:, node.cutoff_id] > node.cutoff_val\n",
    "\n",
    "    # assign the left and right child\n",
    "    node.left = cart(xTr[left_idx], yTr[left_idx], depth - 1, w[left_idx])\n",
    "    node.right = cart(xTr[right_idx], yTr[right_idx], depth - 1, w[right_idx])\n",
    "\n",
    "    # assign the parent\n",
    "    node.left.parent = node\n",
    "    node.right.parent = node\n",
    "\n",
    "    return node"
   ]
  },
  {
   "cell_type": "markdown",
   "metadata": {
    "deletable": false,
    "editable": false,
    "nbgrader": {
     "cell_type": "markdown",
     "checksum": "c50f31520ca9a59e7d68de15ab80e3f6",
     "grade": false,
     "grade_id": "cell-c0bad89ae412f3d1",
     "locked": true,
     "schema_version": 3,
     "solution": false,
     "task": false
    }
   },
   "source": [
    "<p>Implement the function <code>evaltree</code>, which evaluates a decision tree on a given test data set.</p>"
   ]
  },
  {
   "cell_type": "code",
   "execution_count": 414,
   "metadata": {
    "deletable": false,
    "nbgrader": {
     "cell_type": "code",
     "checksum": "719328b34225f0f9ccf4f094ad969f1c",
     "grade": false,
     "grade_id": "cell-3c4bbc7ba9f357d5",
     "locked": false,
     "schema_version": 3,
     "solution": true,
     "task": false
    }
   },
   "outputs": [],
   "source": [
    "# YOUR CODE HERE\n",
    "def evaltree(root,xTe):\n",
    "    \"\"\"Evaluates xTe using decision tree root.\n",
    "    \n",
    "    Input:\n",
    "        root: TreeNode decision tree\n",
    "        xTe:  n x d matrix of data points\n",
    "    \n",
    "    Output:\n",
    "        pred: n-dimensional vector of predictions\n",
    "    \"\"\"\n",
    "    assert root is not None\n",
    "    \n",
    "    # YOUR CODE HERE\n",
    "    \n",
    "    # initialise the output array\n",
    "    pred = np.zeros(xTe.shape[0])\n",
    "\n",
    "    # loop through the data set\n",
    "    for i in range(xTe.shape[0]):\n",
    "        x = xTe[i, :]\n",
    "        node = root\n",
    "\n",
    "        while node.cutoff_id is not None:\n",
    "            if x[node.cutoff_id] <= node.cutoff_val:\n",
    "                node = node.left\n",
    "            else:\n",
    "                node = node.right\n",
    "        else:\n",
    "            pred[i] = node.prediction\n",
    "\n",
    "    return pred\n"
   ]
  },
  {
   "cell_type": "markdown",
   "metadata": {
    "deletable": false,
    "editable": false,
    "nbgrader": {
     "cell_type": "markdown",
     "checksum": "757fe9ffa96e71d3f804e51154d40c9c",
     "grade": false,
     "grade_id": "cell-59837ef34f3d8973",
     "locked": true,
     "schema_version": 3,
     "solution": false,
     "task": false
    }
   },
   "source": [
    "<p>In the below test you should see an output very similar to the following: \n",
    "\n",
    "<code>elapsed time: 0.31 seconds\n",
    "Training RMSE : 0.00\n",
    "Testing  RMSE : 0.69 (may be slightly different)\n",
    "</code>\n",
    "\n",
    "(<code>elapsed time</code> will likely be different, as it depends on your implementation and how many other people are running their code using the autograder server at the same time)\n",
    "</p>"
   ]
  },
  {
   "cell_type": "code",
   "execution_count": 415,
   "metadata": {
    "deletable": false,
    "editable": false,
    "nbgrader": {
     "cell_type": "code",
     "checksum": "9a05362b379de72ec25fb6e0fc7efa13",
     "grade": false,
     "grade_id": "cell-49d4579bb2429635",
     "locked": true,
     "schema_version": 3,
     "solution": false,
     "task": false
    }
   },
   "outputs": [
    {
     "name": "stdout",
     "output_type": "stream",
     "text": [
      "elapsed time: 0.88 seconds\n",
      "Training RMSE : 0.00\n",
      "Testing  RMSE : 0.69\n"
     ]
    }
   ],
   "source": [
    "t0 = time.time()\n",
    "root = cart(xTrIon, yTrIon)\n",
    "t1 = time.time()\n",
    "\n",
    "tr_err   = np.mean((evaltree(root,xTrIon) - yTrIon)**2)\n",
    "te_err   = np.mean((evaltree(root,xTeIon) - yTeIon)**2)\n",
    "\n",
    "print(\"elapsed time: %.2f seconds\" % (t1-t0))\n",
    "print(\"Training RMSE : %.2f\" % tr_err)\n",
    "print(\"Testing  RMSE : %.2f\" % te_err)"
   ]
  },
  {
   "cell_type": "markdown",
   "metadata": {
    "deletable": false,
    "editable": false,
    "nbgrader": {
     "cell_type": "markdown",
     "checksum": "1581db60d6b0770249b79ae4bc8e640c",
     "grade": false,
     "grade_id": "cell-0a4ad9b8acc2afff",
     "locked": true,
     "schema_version": 3,
     "solution": false,
     "task": false
    }
   },
   "source": [
    "<p>The following code defines a function <code>visclassifier()</code>, which plots the decision boundary of a classifier in 2 dimensions. Execute the following code to see what the decision boundary of your tree looks like on the ion data set. </p>"
   ]
  },
  {
   "cell_type": "code",
   "execution_count": 416,
   "metadata": {
    "deletable": false,
    "editable": false,
    "nbgrader": {
     "cell_type": "code",
     "checksum": "649005c6d8d805ff147ef8edd6869f57",
     "grade": false,
     "grade_id": "cell-fc29736055ce2744",
     "locked": true,
     "schema_version": 3,
     "solution": false,
     "task": false
    }
   },
   "outputs": [
    {
     "data": {
      "application/vnd.jupyter.widget-view+json": {
       "model_id": "90f17f0d277a4ef58d1a7c3be55e1987",
       "version_major": 2,
       "version_minor": 0
      },
      "image/png": "[encoded data removed]",
      "text/html": [
       "\n",
       "            <div style=\"display: inline-block;\">\n",
       "                <div class=\"jupyter-widgets widget-label\" style=\"text-align: center;\">\n",
       "                    Figure\n",
       "                </div>\n",
       "                <img src='data:image/png;base64,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' width=640.0/>\n",
       "            </div>\n",
       "        "
      ],
      "text/plain": [
       "Canvas(toolbar=Toolbar(toolitems=[('Home', 'Reset original view', 'home', 'home'), ('Back', 'Back to previous …"
      ]
     },
     "metadata": {},
     "output_type": "display_data"
    },
    {
     "name": "stdout",
     "output_type": "stream",
     "text": [
      "Training error: 0.0000\n",
      "Testing error:  0.0400\n",
      "NOTE: You should get something similar to:\n",
      "Training error: 0.0000\n",
      "Testing error:  0.0467 (may be slightly different)\n"
     ]
    }
   ],
   "source": [
    "def visclassifier(fun,xTr,yTr,w=None,b=0):\n",
    "    \"\"\"\n",
    "    visualize decision boundary\n",
    "    Define the symbols and colors we'll use in the plots later\n",
    "    \"\"\"\n",
    "\n",
    "    yTr = np.array(yTr).flatten()\n",
    "    if w is not None:\n",
    "        w = np.array(w).flatten()\n",
    "\n",
    "    symbols = [\"ko\",\"kx\"]\n",
    "    marker_symbols = ['o', 'x']\n",
    "    mycolors = [[0.5, 0.5, 1], [1, 0.5, 0.5]]\n",
    "    # get the unique values from labels array\n",
    "    classvals = np.unique(yTr)\n",
    "\n",
    "    plt.figure()\n",
    "\n",
    "    # return 300 evenly spaced numbers over this interval\n",
    "    res=300\n",
    "    xrange = np.linspace(min(xTr[:, 0]), max(xTr[:, 0]),res)\n",
    "    yrange = np.linspace(min(xTr[:, 1]), max(xTr[:, 1]),res)\n",
    "    \n",
    "    # repeat this matrix 300 times for both axes\n",
    "    pixelX = repmat(xrange, res, 1)\n",
    "    pixelY = repmat(yrange, res, 1).T\n",
    "\n",
    "    \n",
    "    xTe = np.array([pixelX.flatten(), pixelY.flatten()]).T\n",
    "\n",
    "    # test all of these points on the grid\n",
    "    testpreds = fun(xTe)\n",
    "    \n",
    "    # reshape it back together to make our grid\n",
    "    Z = testpreds.reshape(res, res)\n",
    "    # Z[0,0] = 1 # optional: scale the colors correctly\n",
    "    \n",
    "    # fill in the contours for these predictions\n",
    "    plt.contourf(pixelX, pixelY, np.sign(Z), colors=mycolors)\n",
    "\n",
    "    # creates x's and o's for training set\n",
    "    for idx, c in enumerate(classvals):\n",
    "        plt.scatter(xTr[yTr == c,0],\n",
    "            xTr[yTr == c,1],\n",
    "            marker=marker_symbols[idx],\n",
    "            color='k'\n",
    "            )\n",
    "    \n",
    "    if w != [] and w is not None:\n",
    "        alpha = -1 * b / (w ** 2).sum()\n",
    "        plt.quiver(w[0] * alpha, w[1] * alpha,\n",
    "            w[0], w[1], linewidth=2, color=[0,1,0])\n",
    "\n",
    "    plt.axis('tight')\n",
    "    # shows figure and blocks\n",
    "    plt.show()\n",
    "\n",
    "tree=cart(xTrSpiral,yTrSpiral) # compute tree on training data \n",
    "visclassifier(lambda X:evaltree(tree,X),xTrSpiral,yTrSpiral)\n",
    "print(\"Training error: %.4f\" % np.mean(np.sign(evaltree(tree,xTrSpiral)) != yTrSpiral))\n",
    "print(\"Testing error:  %.4f\" % np.mean(np.sign(evaltree(tree,xTeSpiral)) != yTeSpiral))\n",
    "print(\"NOTE: You should get something similar to:\")\n",
    "print(\"Training error: 0.0000\")\n",
    "print(\"Testing error:  0.0467 (may be slightly different)\")"
   ]
  },
  {
   "cell_type": "code",
   "execution_count": 417,
   "metadata": {
    "deletable": false,
    "editable": false,
    "nbgrader": {
     "cell_type": "code",
     "checksum": "e6a16cc587ea0b9bc905a1202d221b79",
     "grade": false,
     "grade_id": "cell-0023f5ab24eedcf8",
     "locked": true,
     "schema_version": 3,
     "solution": false,
     "task": false
    }
   },
   "outputs": [
    {
     "data": {
      "application/vnd.jupyter.widget-view+json": {
       "model_id": "bdba41fdaea64f89b6134261bb072f50",
       "version_major": 2,
       "version_minor": 0
      },
      "image/png": "[encoded data removed]",
      "text/html": [
       "\n",
       "            <div style=\"display: inline-block;\">\n",
       "                <div class=\"jupyter-widgets widget-label\" style=\"text-align: center;\">\n",
       "                    Figure\n",
       "                </div>\n",
       "                <img src='data:image/png;base64,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' width=640.0/>\n",
       "            </div>\n",
       "        "
      ],
      "text/plain": [
       "Canvas(toolbar=Toolbar(toolitems=[('Home', 'Reset original view', 'home', 'home'), ('Back', 'Back to previous …"
      ]
     },
     "metadata": {},
     "output_type": "display_data"
    }
   ],
   "source": [
    "def onclick_cart(event):\n",
    "    \"\"\"\n",
    "    Visualize cart, including new point\n",
    "    \"\"\"\n",
    "    global xTraining,labels\n",
    "    # create position vector for new point\n",
    "    pos=np.array([[event.xdata,event.ydata]]) \n",
    "    if event.key == 'shift': # add positive point\n",
    "        color='or'\n",
    "        label=1\n",
    "    else: # add negative point\n",
    "        color='ob'\n",
    "        label=-1    \n",
    "    xTraining = np.concatenate((xTraining,pos), axis = 0)\n",
    "    labels.append(label);\n",
    "    marker_symbols = ['o', 'x']\n",
    "    classvals = np.unique(labels)\n",
    "        \n",
    "    mycolors = [[0.5, 0.5, 1], [1, 0.5, 0.5]]\n",
    "    \n",
    "    # return 300 evenly spaced numbers over this interval\n",
    "    res=300\n",
    "    xrange = np.linspace(0, 1,res)\n",
    "    yrange = np.linspace(0, 1,res)\n",
    "\n",
    "    \n",
    "    # repeat this matrix 300 times for both axes\n",
    "    pixelX = repmat(xrange, res, 1)\n",
    "    pixelY = repmat(yrange, res, 1).T\n",
    "\n",
    "    xTe = np.array([pixelX.flatten(), pixelY.flatten()]).T\n",
    "\n",
    "    # get decision tree\n",
    "    tree=cart(xTraining,np.array(labels).flatten())\n",
    "    fun = lambda X:evaltree(tree,X)\n",
    "    # test all of these points on the grid\n",
    "    testpreds = fun(xTe)\n",
    "    \n",
    "    # reshape it back together to make our grid\n",
    "    Z = testpreds.reshape(res, res)\n",
    "    # Z[0,0] = 1 # optional: scale the colors correctly\n",
    "    \n",
    "    plt.cla()    \n",
    "    plt.xlim((0,1))\n",
    "    plt.ylim((0,1))\n",
    "    # fill in the contours for these predictions\n",
    "    plt.contourf(pixelX, pixelY, np.sign(Z), colors=mycolors)\n",
    "    \n",
    "    for idx, c in enumerate(classvals):\n",
    "        plt.scatter(xTraining[labels == c,0],\n",
    "            xTraining[labels == c,1],\n",
    "            marker=marker_symbols[idx],\n",
    "            color='k'\n",
    "            )\n",
    "    plt.show()\n",
    "    \n",
    "#plt.ion()\n",
    "xTraining= np.array([[5,6]])\n",
    "labels = [1]\n",
    "fig = plt.figure()\n",
    "plt.xlim(0,1)\n",
    "plt.ylim(0,1)\n",
    "plt.title('Use shift-click to add negative points.')\n",
    "# plt.connect('button_press_event', onclick_cart)\n",
    "cid = fig.canvas.mpl_connect('button_press_event', onclick_cart)\n",
    "plt.show()"
   ]
  },
  {
   "cell_type": "markdown",
   "metadata": {
    "deletable": false,
    "editable": false,
    "nbgrader": {
     "cell_type": "markdown",
     "checksum": "12fdfb699ed6db478e2a2ec6d31496fb",
     "grade": false,
     "grade_id": "cell-9f203d5c35d17423",
     "locked": true,
     "schema_version": 3,
     "solution": false,
     "task": false
    }
   },
   "source": [
    "<h2>Random Forests</h2>\n",
    "<p>CART trees are known to be high variance classifiers\n",
    "(if trained to full depth).\n",
    "An effective way to prevent overfitting is to use <b>Bagging</b>.\n",
    "Implement the function <code>forest</code>,\n",
    "which builds a forest of regression trees.\n",
    "Each tree should be built using training data\n",
    "drawn by randomly sampling $n$ examples\n",
    "from the training data with replacement.\n",
    "Do not randomly sample features.\n",
    "The function should output a list of trees.</p>"
   ]
  },
  {
   "cell_type": "code",
   "execution_count": 418,
   "metadata": {
    "deletable": false,
    "nbgrader": {
     "cell_type": "code",
     "checksum": "50849f154123b8b15f270deb963a2417",
     "grade": false,
     "grade_id": "cell-f8a92665c255c104",
     "locked": false,
     "schema_version": 3,
     "solution": true,
     "task": false
    }
   },
   "outputs": [],
   "source": [
    "def forest(xTr, yTr, m, maxdepth=np.inf):\n",
    "    \"\"\"Creates a random forest.\n",
    "    \n",
    "    Input:\n",
    "        xTr:      n x d matrix of data points\n",
    "        yTr:      n-dimensional vector of labels\n",
    "        m:        number of trees in the forest\n",
    "        maxdepth: maximum depth of tree\n",
    "        \n",
    "    Output:\n",
    "        trees: list of TreeNode decision trees of length m\n",
    "    \"\"\"\n",
    "    \n",
    "    n, d = xTr.shape\n",
    "    trees = []\n",
    "    \n",
    "    # YOUR CODE HERE\n",
    "    ...\n",
    "    \n",
    "    return trees"
   ]
  },
  {
   "cell_type": "markdown",
   "metadata": {
    "deletable": false,
    "editable": false,
    "nbgrader": {
     "cell_type": "markdown",
     "checksum": "579342c0bf08182b3eacbb8d589e525b",
     "grade": false,
     "grade_id": "cell-01fb3000253d168b",
     "locked": true,
     "schema_version": 3,
     "solution": false,
     "task": false
    }
   },
   "source": [
    "Now implement the function <code>evalforest</code>, which should take as input a set of $m$ trees, a set of $n$ test inputs, and an $m$ dimensional weight vector. Each tree should be weighted by the corresponding weight. (For random forests you can define the weights to be $\\frac{1}{m}$ for all trees."
   ]
  },
  {
   "cell_type": "code",
   "execution_count": 419,
   "metadata": {
    "deletable": false,
    "nbgrader": {
     "cell_type": "code",
     "checksum": "251269c6ed314b7900529002cf2e74de",
     "grade": false,
     "grade_id": "cell-fb4677da9cfa542a",
     "locked": false,
     "schema_version": 3,
     "solution": true,
     "task": false
    }
   },
   "outputs": [],
   "source": [
    "def evalforest(trees, X, alphas=None):\n",
    "    \"\"\"Evaluates X using trees.\n",
    "    \n",
    "    Input:\n",
    "        trees:  list of TreeNode decision trees of length m\n",
    "        X:      n x d matrix of data points\n",
    "        alphas: m-dimensional weight vector\n",
    "        \n",
    "    Output:\n",
    "        pred: n-dimensional vector of predictions\n",
    "    \"\"\"\n",
    "    m = len(trees)\n",
    "    n,d = X.shape\n",
    "    if alphas is None:\n",
    "        alphas = np.ones(m) / len(trees)\n",
    "            \n",
    "    pred = np.zeros(n)\n",
    "    \n",
    "    # YOUR CODE HERE\n",
    "    ...\n",
    "    return pred"
   ]
  },
  {
   "cell_type": "markdown",
   "metadata": {
    "deletable": false,
    "editable": false,
    "nbgrader": {
     "cell_type": "markdown",
     "checksum": "2d9944d659e149ec4172a1fcf90c0772",
     "grade": false,
     "grade_id": "cell-f4b15aac0a3f4d1b",
     "locked": true,
     "schema_version": 3,
     "solution": false,
     "task": false
    }
   },
   "source": [
    "<p>The following script visualizes the decision boundary of a random forest ensemble.</p>"
   ]
  },
  {
   "cell_type": "code",
   "execution_count": 420,
   "metadata": {
    "deletable": false,
    "editable": false,
    "nbgrader": {
     "cell_type": "code",
     "checksum": "89e110f32bf24d284e91aea57aabcfee",
     "grade": false,
     "grade_id": "cell-fce6ab17683fff14",
     "locked": true,
     "schema_version": 3,
     "solution": false,
     "task": false
    }
   },
   "outputs": [
    {
     "data": {
      "application/vnd.jupyter.widget-view+json": {
       "model_id": "0d27dad8274941a28084e20ce7e2f3e5",
       "version_major": 2,
       "version_minor": 0
      },
      "image/png": "[encoded data removed]",
      "text/html": [
       "\n",
       "            <div style=\"display: inline-block;\">\n",
       "                <div class=\"jupyter-widgets widget-label\" style=\"text-align: center;\">\n",
       "                    Figure\n",
       "                </div>\n",
       "                <img src='data:image/png;base64,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' width=640.0/>\n",
       "            </div>\n",
       "        "
      ],
      "text/plain": [
       "Canvas(toolbar=Toolbar(toolitems=[('Home', 'Reset original view', 'home', 'home'), ('Back', 'Back to previous …"
      ]
     },
     "metadata": {},
     "output_type": "display_data"
    },
    {
     "name": "stdout",
     "output_type": "stream",
     "text": [
      "Training error: 1.0000\n",
      "Testing error:  1.0000\n"
     ]
    }
   ],
   "source": [
    "trees=forest(xTrSpiral,yTrSpiral,30) # compute tree on training data \n",
    "visclassifier(lambda X:evalforest(trees,X),xTrSpiral,yTrSpiral)\n",
    "print(\"Training error: %.4f\" % np.mean(np.sign(evalforest(trees,xTrSpiral)) != yTrSpiral))\n",
    "print(\"Testing error:  %.4f\" % np.mean(np.sign(evalforest(trees,xTeSpiral)) != yTeSpiral))"
   ]
  },
  {
   "cell_type": "markdown",
   "metadata": {
    "deletable": false,
    "editable": false,
    "nbgrader": {
     "cell_type": "markdown",
     "checksum": "240ad5b0621527e90f5f215d0e1b2506",
     "grade": false,
     "grade_id": "cell-aba5f94293c2e524",
     "locked": true,
     "schema_version": 3,
     "solution": false,
     "task": false
    }
   },
   "source": [
    "<p>The following script evaluates the test and training error of a random forest ensemble as we vary the number of trees.</p>"
   ]
  },
  {
   "cell_type": "code",
   "execution_count": 421,
   "metadata": {
    "deletable": false,
    "editable": false,
    "nbgrader": {
     "cell_type": "code",
     "checksum": "0738c12966adbfd61677c854a83ed7c7",
     "grade": false,
     "grade_id": "cell-a3d95218b61c5dfe",
     "locked": true,
     "schema_version": 3,
     "solution": false,
     "task": false
    }
   },
   "outputs": [
    {
     "name": "stdout",
     "output_type": "stream",
     "text": [
      "[0]training err = 1.0000\ttesting err = 1.0000\n",
      "[1]training err = 1.0000\ttesting err = 1.0000\n",
      "[2]training err = 1.0000\ttesting err = 1.0000\n",
      "[3]training err = 1.0000\ttesting err = 1.0000\n",
      "[4]training err = 1.0000\ttesting err = 1.0000\n",
      "[5]training err = 1.0000\ttesting err = 1.0000\n",
      "[6]training err = 1.0000\ttesting err = 1.0000\n",
      "[7]training err = 1.0000\ttesting err = 1.0000\n",
      "[8]training err = 1.0000\ttesting err = 1.0000\n",
      "[9]training err = 1.0000\ttesting err = 1.0000\n",
      "[10]training err = 1.0000\ttesting err = 1.0000\n",
      "[11]training err = 1.0000\ttesting err = 1.0000\n",
      "[12]training err = 1.0000\ttesting err = 1.0000\n",
      "[13]training err = 1.0000\ttesting err = 1.0000\n",
      "[14]training err = 1.0000\ttesting err = 1.0000\n",
      "[15]training err = 1.0000\ttesting err = 1.0000\n",
      "[16]training err = 1.0000\ttesting err = 1.0000\n",
      "[17]training err = 1.0000\ttesting err = 1.0000\n",
      "[18]training err = 1.0000\ttesting err = 1.0000\n",
      "[19]training err = 1.0000\ttesting err = 1.0000\n"
     ]
    },
    {
     "data": {
      "application/vnd.jupyter.widget-view+json": {
       "model_id": "4b4b5ddf43c44b35b49133b8e78c520b",
       "version_major": 2,
       "version_minor": 0
      },
      "image/png": "[encoded data removed]",
      "text/html": [
       "\n",
       "            <div style=\"display: inline-block;\">\n",
       "                <div class=\"jupyter-widgets widget-label\" style=\"text-align: center;\">\n",
       "                    Figure\n",
       "                </div>\n",
       "                <img src='data:image/png;base64,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' width=640.0/>\n",
       "            </div>\n",
       "        "
      ],
      "text/plain": [
       "Canvas(toolbar=Toolbar(toolitems=[('Home', 'Reset original view', 'home', 'home'), ('Back', 'Back to previous …"
      ]
     },
     "metadata": {},
     "output_type": "display_data"
    }
   ],
   "source": [
    "M=20 # max number of trees\n",
    "err_trB=[]\n",
    "err_teB=[]\n",
    "alltrees=forest(xTrIon,yTrIon,M)\n",
    "for i in range(M):\n",
    "    trees=alltrees[:i+1]\n",
    "    trErr = np.mean(np.sign(evalforest(trees,xTrIon)) != yTrIon)\n",
    "    teErr = np.mean(np.sign(evalforest(trees,xTeIon)) != yTeIon)\n",
    "    err_trB.append(trErr)\n",
    "    err_teB.append(teErr)\n",
    "    print(\"[%d]training err = %.4f\\ttesting err = %.4f\" % (i,trErr, teErr))\n",
    "\n",
    "plt.figure()\n",
    "line_tr, = plt.plot(range(M),err_trB,label=\"Training Error\")\n",
    "line_te, = plt.plot(range(M),err_teB,label=\"Testing error\")\n",
    "plt.title(\"Random Forest\")\n",
    "plt.legend(handles=[line_tr, line_te])\n",
    "plt.xlabel(\"# of trees\")\n",
    "plt.ylabel(\"error\")\n",
    "plt.show()\n",
    "# Your training error should converge"
   ]
  },
  {
   "cell_type": "code",
   "execution_count": 422,
   "metadata": {
    "deletable": false,
    "editable": false,
    "nbgrader": {
     "cell_type": "code",
     "checksum": "7b4d3902787aa6127913458b110f9aab",
     "grade": false,
     "grade_id": "cell-40b0e860bbf15397",
     "locked": true,
     "schema_version": 3,
     "solution": false,
     "task": false
    }
   },
   "outputs": [
    {
     "name": "stdout",
     "output_type": "stream",
     "text": [
      "Note: there is strong delay between points\n"
     ]
    },
    {
     "data": {
      "text/plain": [
       "Text(0.5, 1.0, 'Use shift-click to add negative points.')"
      ]
     },
     "execution_count": 422,
     "metadata": {},
     "output_type": "execute_result"
    },
    {
     "data": {
      "application/vnd.jupyter.widget-view+json": {
       "model_id": "0db51d5ac78a4f288ae3c76fcc10406d",
       "version_major": 2,
       "version_minor": 0
      },
      "image/png": "[encoded data removed]",
      "text/html": [
       "\n",
       "            <div style=\"display: inline-block;\">\n",
       "                <div class=\"jupyter-widgets widget-label\" style=\"text-align: center;\">\n",
       "                    Figure\n",
       "                </div>\n",
       "                <img src='data:image/png;base64,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' width=640.0/>\n",
       "            </div>\n",
       "        "
      ],
      "text/plain": [
       "Canvas(toolbar=Toolbar(toolitems=[('Home', 'Reset original view', 'home', 'home'), ('Back', 'Back to previous …"
      ]
     },
     "metadata": {},
     "output_type": "display_data"
    }
   ],
   "source": [
    "def onclick_forest(event):\n",
    "    \"\"\"\n",
    "    Visualize forest, including new point\n",
    "    \"\"\"\n",
    "    global xTrain,yTrain,w,b,M\n",
    "    # create position vector for new point\n",
    "    pos=np.array([[event.xdata,event.ydata]]) \n",
    "    if event.key == 'shift': # add positive point\n",
    "        color='or'\n",
    "        label=1\n",
    "    else: # add negative point\n",
    "        color='ob'\n",
    "        label=-1    \n",
    "    xTrain = np.concatenate((xTrain,pos), axis = 0)\n",
    "    yTrain = np.append(yTrain, label)\n",
    "    marker_symbols = ['o', 'x']\n",
    "    classvals = np.unique(yTrain)\n",
    "        \n",
    "    w = np.array(w).flatten()\n",
    "    \n",
    "    mycolors = [[0.5, 0.5, 1], [1, 0.5, 0.5]]\n",
    "    \n",
    "    # return 300 evenly spaced numbers over this interval\n",
    "    res=300\n",
    "    xrange = np.linspace(0, 1,res)\n",
    "    yrange = np.linspace(0, 1,res)\n",
    "    \n",
    "    # repeat this matrix 300 times for both axes\n",
    "    pixelX = repmat(xrange, res, 1)\n",
    "    pixelY = repmat(yrange, res, 1).T\n",
    "\n",
    "    xTe = np.array([pixelX.flatten(), pixelY.flatten()]).T\n",
    "\n",
    "    # get forest\n",
    "    trees=forest(xTrain,yTrain,M)\n",
    "    fun = lambda X:evalforest(trees,X)\n",
    "    # test all of these points on the grid\n",
    "    testpreds = fun(xTe)\n",
    "    \n",
    "    # reshape it back together to make our grid\n",
    "    Z = testpreds.reshape(res, res)\n",
    "    # Z[0,0] = 1 # optional: scale the colors correctly\n",
    "    \n",
    "    plt.cla()    \n",
    "    plt.xlim((0,1))\n",
    "    plt.ylim((0,1))\n",
    "    # fill in the contours for these predictions\n",
    "    plt.contourf(pixelX, pixelY, np.sign(Z), colors=mycolors)\n",
    "    \n",
    "    for idx, c in enumerate(classvals):\n",
    "        plt.scatter(xTrain[yTrain == c,0],\n",
    "            xTrain[yTrain == c,1],\n",
    "            marker=marker_symbols[idx],\n",
    "            color='k'\n",
    "            )\n",
    "    plt.show()\n",
    "    \n",
    "        \n",
    "xTrain= np.array([[5,6]])\n",
    "b=yTrIon\n",
    "yTrain = np.array([1])\n",
    "w=xTrIon\n",
    "M=20\n",
    "\n",
    "fig = plt.figure()\n",
    "plt.xlim(0,1)\n",
    "plt.ylim(0,1)\n",
    "cid = fig.canvas.mpl_connect('button_press_event', onclick_forest)\n",
    "print('Note: there is strong delay between points')\n",
    "plt.title('Use shift-click to add negative points.')"
   ]
  },
  {
   "cell_type": "markdown",
   "metadata": {
    "deletable": false,
    "editable": false,
    "nbgrader": {
     "cell_type": "markdown",
     "checksum": "6a43e7907e81937d92a9e0a9295ba8f4",
     "grade": false,
     "grade_id": "cell-faa99e3970c2080c",
     "locked": true,
     "schema_version": 3,
     "solution": false,
     "task": false
    }
   },
   "source": [
    "<h2>Boosting</h2>\n",
    "\n",
    "<p>Another option to improve your decision trees is to build trees of small depth (e.g. only depth=3 or depth=4). These do not have high variance, but instead suffer from <b>high bias</b>. You can reduce the bias of a classifier with boosting. Implement the function <code>boosttree</code>, which applies Adaboost on your <code>cart</code> functions. You should be able to use the function <code>evalforest</code> to evaluate your boosted ensemble (provdided you pass on the weights correctly.)</p>"
   ]
  },
  {
   "cell_type": "code",
   "execution_count": 423,
   "metadata": {
    "deletable": false,
    "nbgrader": {
     "cell_type": "code",
     "checksum": "030ca99b525c9574d0a137a03d2709f7",
     "grade": false,
     "grade_id": "cell-6e4bec6d93833b06",
     "locked": false,
     "schema_version": 3,
     "solution": true,
     "task": false
    }
   },
   "outputs": [],
   "source": [
    "def boosttree(x,y,maxiter=100,maxdepth=2):\n",
    "    \"\"\"Learns a boosted decision tree.\n",
    "    \n",
    "    Input:\n",
    "        x:        n x d matrix of data points\n",
    "        y:        n-dimensional vector of labels\n",
    "        maxiter:  maximum number of trees\n",
    "        maxdepth: maximum depth of a tree\n",
    "        \n",
    "    Output:\n",
    "        forest: list of TreeNode decision trees of length m\n",
    "        alphas: m-dimensional weight vector\n",
    "        \n",
    "    (note, m is at most maxiter, but may be smaller,\n",
    "    as dictated by the Adaboost algorithm)\n",
    "    \"\"\"\n",
    "    assert np.allclose(np.unique(y), np.array([-1,1])); # the labels must be -1 and 1 \n",
    "    n,d = x.shape\n",
    "    weights = np.ones(n) / n\n",
    "    preds   = None\n",
    "    forest  = []\n",
    "    alphas  = []\n",
    "\n",
    "    # YOUR CODE HERE\n",
    "    ...\n",
    "\n",
    "    return forest, alphas"
   ]
  },
  {
   "cell_type": "markdown",
   "metadata": {
    "deletable": false,
    "editable": false,
    "nbgrader": {
     "cell_type": "markdown",
     "checksum": "97e9c1a6842a511a06bad2c3a15eb3ef",
     "grade": false,
     "grade_id": "cell-d9cacc62ecaf87cb",
     "locked": true,
     "schema_version": 3,
     "solution": false,
     "task": false
    }
   },
   "source": [
    "<p>The following script evaluates the test and training error of a boosted forest as we increase the number of trees.</p>"
   ]
  },
  {
   "cell_type": "code",
   "execution_count": 424,
   "metadata": {
    "deletable": false,
    "editable": false,
    "nbgrader": {
     "cell_type": "code",
     "checksum": "b77d7852105a15f0086c93e5c82a78a1",
     "grade": false,
     "grade_id": "cell-fde54aafd46b5993",
     "locked": true,
     "schema_version": 3,
     "solution": false,
     "task": false
    }
   },
   "outputs": [
    {
     "name": "stdout",
     "output_type": "stream",
     "text": [
      "[0] exp loss = 1.0000 training err = 1.0000\ttesting err = 1.0000\n",
      "[1] exp loss = 1.0000 training err = 1.0000\ttesting err = 1.0000\n",
      "[2] exp loss = 1.0000 training err = 1.0000\ttesting err = 1.0000\n",
      "[3] exp loss = 1.0000 training err = 1.0000\ttesting err = 1.0000\n",
      "[4] exp loss = 1.0000 training err = 1.0000\ttesting err = 1.0000\n",
      "[5] exp loss = 1.0000 training err = 1.0000\ttesting err = 1.0000\n",
      "[6] exp loss = 1.0000 training err = 1.0000\ttesting err = 1.0000\n",
      "[7] exp loss = 1.0000 training err = 1.0000\ttesting err = 1.0000\n",
      "[8] exp loss = 1.0000 training err = 1.0000\ttesting err = 1.0000\n",
      "[9] exp loss = 1.0000 training err = 1.0000\ttesting err = 1.0000\n",
      "[10] exp loss = 1.0000 training err = 1.0000\ttesting err = 1.0000\n",
      "[11] exp loss = 1.0000 training err = 1.0000\ttesting err = 1.0000\n",
      "[12] exp loss = 1.0000 training err = 1.0000\ttesting err = 1.0000\n",
      "[13] exp loss = 1.0000 training err = 1.0000\ttesting err = 1.0000\n",
      "[14] exp loss = 1.0000 training err = 1.0000\ttesting err = 1.0000\n",
      "[15] exp loss = 1.0000 training err = 1.0000\ttesting err = 1.0000\n",
      "[16] exp loss = 1.0000 training err = 1.0000\ttesting err = 1.0000\n",
      "[17] exp loss = 1.0000 training err = 1.0000\ttesting err = 1.0000\n",
      "[18] exp loss = 1.0000 training err = 1.0000\ttesting err = 1.0000\n",
      "[19] exp loss = 1.0000 training err = 1.0000\ttesting err = 1.0000\n"
     ]
    },
    {
     "data": {
      "application/vnd.jupyter.widget-view+json": {
       "model_id": "99b24e39a438436eb62705e76d421bb6",
       "version_major": 2,
       "version_minor": 0
      },
      "image/png": "[encoded data removed]",
      "text/html": [
       "\n",
       "            <div style=\"display: inline-block;\">\n",
       "                <div class=\"jupyter-widgets widget-label\" style=\"text-align: center;\">\n",
       "                    Figure\n",
       "                </div>\n",
       "                <img src='data:image/png;base64,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' width=640.0/>\n",
       "            </div>\n",
       "        "
      ],
      "text/plain": [
       "Canvas(toolbar=Toolbar(toolitems=[('Home', 'Reset original view', 'home', 'home'), ('Back', 'Back to previous …"
      ]
     },
     "metadata": {},
     "output_type": "display_data"
    }
   ],
   "source": [
    "M=20 # max number of trees\n",
    "alltrees,allalphas=boosttree(xTrIon,yTrIon,maxdepth=3,maxiter=M)\n",
    "\n",
    "err_trB=[]\n",
    "loss_trB=[]\n",
    "err_teB=[]\n",
    "for i in range(M):\n",
    "    trees=alltrees[:i+1]\n",
    "    alphas=allalphas[:i+1]\n",
    "    trErr = np.mean(np.sign(evalforest(trees,xTrIon,alphas)) != yTrIon)\n",
    "    trLoss =np.mean(np.exp(-evalforest(trees,xTrIon,alphas)*yTrIon))\n",
    "    teErr = np.mean(np.sign(evalforest(trees,xTeIon,alphas)) != yTeIon)\n",
    "    err_trB.append(trErr)\n",
    "    err_teB.append(teErr)\n",
    "    loss_trB.append(trLoss)\n",
    "    print(\"[%d] exp loss = %.4f training err = %.4f\\ttesting err = %.4f\" % (i,trLoss,trErr, teErr))\n",
    "\n",
    "plt.figure()\n",
    "line_tr, = plt.plot(range(M),err_trB,label=\"Training Error\")\n",
    "line_te, = plt.plot(range(M),err_teB,label=\"Testing error\")\n",
    "line_trloss,=plt.plot(range(M),loss_trB,label='Exp. Loss')\n",
    "plt.title(\"Adaboost\")\n",
    "plt.legend(handles=[line_tr, line_te,line_trloss])\n",
    "plt.xlabel(\"# of trees\")\n",
    "plt.ylabel(\"error\")\n",
    "plt.show()\n",
    "# Your training error should converge very quickly"
   ]
  },
  {
   "cell_type": "code",
   "execution_count": 425,
   "metadata": {
    "deletable": false,
    "editable": false,
    "nbgrader": {
     "cell_type": "code",
     "checksum": "9a658fd6a0382a99a5d6c8bd765f7f25",
     "grade": false,
     "grade_id": "cell-412235795894022a",
     "locked": true,
     "schema_version": 3,
     "solution": false,
     "task": false
    }
   },
   "outputs": [
    {
     "data": {
      "application/vnd.jupyter.widget-view+json": {
       "model_id": "c86dae02212947a6ab79124ffa82b67a",
       "version_major": 2,
       "version_minor": 0
      },
      "image/png": "[encoded data removed]",
      "text/html": [
       "\n",
       "            <div style=\"display: inline-block;\">\n",
       "                <div class=\"jupyter-widgets widget-label\" style=\"text-align: center;\">\n",
       "                    Figure\n",
       "                </div>\n",
       "                <img src='data:image/png;base64,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' width=640.0/>\n",
       "            </div>\n",
       "        "
      ],
      "text/plain": [
       "Canvas(toolbar=Toolbar(toolitems=[('Home', 'Reset original view', 'home', 'home'), ('Back', 'Back to previous …"
      ]
     },
     "metadata": {},
     "output_type": "display_data"
    },
    {
     "name": "stdout",
     "output_type": "stream",
     "text": [
      "elapsed time: 0.88 seconds\n",
      "Training error: 1.0000\n",
      "Testing error:  1.0000\n"
     ]
    }
   ],
   "source": [
    "trees,alphas=boosttree(xTrSpiral,yTrSpiral,maxdepth=3,maxiter=20)\n",
    "visclassifier(lambda X:evalforest(trees,X,alphas),xTrSpiral,yTrSpiral)\n",
    "\n",
    "print(\"elapsed time: %.2f seconds\" % (t1-t0))\n",
    "print(\"Training error: %.4f\" % np.mean(np.sign(evalforest(trees,xTrSpiral,alphas)) != yTrSpiral))\n",
    "print(\"Testing error:  %.4f\" % np.mean(np.sign(evalforest(trees,xTeSpiral,alphas)) != yTeSpiral))"
   ]
  },
  {
   "cell_type": "code",
   "execution_count": 426,
   "metadata": {
    "deletable": false,
    "editable": false,
    "nbgrader": {
     "cell_type": "code",
     "checksum": "67e43948259004230f01939797b7279e",
     "grade": false,
     "grade_id": "cell-e53ca9e4cded1a68",
     "locked": true,
     "schema_version": 3,
     "solution": false,
     "task": false
    }
   },
   "outputs": [
    {
     "data": {
      "text/plain": [
       "Text(0.5, 1.0, 'Use shift-click to add negative points.')"
      ]
     },
     "execution_count": 426,
     "metadata": {},
     "output_type": "execute_result"
    },
    {
     "data": {
      "application/vnd.jupyter.widget-view+json": {
       "model_id": "18538b0138114b7f8a4bf2285a72a0f8",
       "version_major": 2,
       "version_minor": 0
      },
      "image/png": "[encoded data removed]",
      "text/html": [
       "\n",
       "            <div style=\"display: inline-block;\">\n",
       "                <div class=\"jupyter-widgets widget-label\" style=\"text-align: center;\">\n",
       "                    Figure\n",
       "                </div>\n",
       "                <img src='data:image/png;base64,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' width=640.0/>\n",
       "            </div>\n",
       "        "
      ],
      "text/plain": [
       "Canvas(toolbar=Toolbar(toolitems=[('Home', 'Reset original view', 'home', 'home'), ('Back', 'Back to previous …"
      ]
     },
     "metadata": {},
     "output_type": "display_data"
    }
   ],
   "source": [
    "xT = np.array([[5,6],[2,5]])\n",
    "yT = np.array([-1,1])\n",
    "fig = plt.figure()\n",
    "plt.xlim(0,1)\n",
    "plt.ylim(0,1)\n",
    "\n",
    "\n",
    "def onclick_boost(event):\n",
    "    \"\"\"\n",
    "    Visualize boosting, including new point\n",
    "    \"\"\"\n",
    "    global xT,yT\n",
    "    # create position vector for new point\n",
    "    pos=np.array([[event.xdata,event.ydata]]) \n",
    "    if event.key == 'shift': # add positive point\n",
    "        color='or'\n",
    "        label=1\n",
    "    else: # add negative point\n",
    "        color='ob'\n",
    "        label=-1    \n",
    "    xT = np.concatenate((xT,pos), axis = 0)\n",
    "    yT = np.append(yT, label)\n",
    "    marker_symbols = ['o', 'x']\n",
    "    classvals = np.unique(yTrain)\n",
    "            \n",
    "    mycolors = [[0.5, 0.5, 1], [1, 0.5, 0.5]]\n",
    "    \n",
    "    # return 300 evenly spaced numbers over this interval\n",
    "    res=300\n",
    "    xrange = np.linspace(0,1,res)\n",
    "    yrange = np.linspace(0,1,res)\n",
    "    \n",
    "    # repeat this matrix 300 times for both axes\n",
    "    pixelX = repmat(xrange, res, 1)\n",
    "    pixelY = repmat(yrange, res, 1).T\n",
    "    xTe = np.array([pixelX.flatten(), pixelY.flatten()]).T\n",
    "    \n",
    "    # get forest\n",
    "    forest,alphas=boosttree(xT,yT,maxdepth=3,maxiter=5)\n",
    "    if len(forest) > 0:\n",
    "        fun = lambda X: evalforest(forest,X,alphas)\n",
    "        # test all of these points on the grid\n",
    "        testpreds = fun(xTe)\n",
    "\n",
    "        # reshape it back together to make our grid\n",
    "        Z = testpreds.reshape(res, res)\n",
    "        Z[0,0] = 1 # optional: scale the colors correctly\n",
    "\n",
    "        plt.cla()    \n",
    "        plt.xlim((0,1))\n",
    "        plt.ylim((0,1))\n",
    "        # fill in the contours for these predictions\n",
    "        plt.contourf(pixelX, pixelY, np.sign(Z), colors=mycolors)\n",
    "    \n",
    "    for idx, c in enumerate(classvals):\n",
    "        plt.scatter(xT[yT == c,0],\n",
    "            xT[yT == c,1],\n",
    "            marker=marker_symbols[idx],\n",
    "            color='k'\n",
    "            )\n",
    "    plt.show()\n",
    "    \n",
    "cid = fig.canvas.mpl_connect('button_press_event', onclick_boost)\n",
    "plt.title('Use shift-click to add negative points.')"
   ]
  },
  {
   "cell_type": "code",
   "execution_count": 427,
   "metadata": {
    "deletable": false,
    "editable": false,
    "nbgrader": {
     "cell_type": "code",
     "checksum": "bf133bec53248e1c4b109008b0176fd7",
     "grade": true,
     "grade_id": "sqsplit_test2",
     "locked": true,
     "points": 5,
     "schema_version": 3,
     "solution": false,
     "task": false
    }
   },
   "outputs": [],
   "source": [
    "# Do not delete, copy, paste, or alter these cells as this will cause the tests to fail automatically"
   ]
  },
  {
   "cell_type": "code",
   "execution_count": 428,
   "metadata": {
    "deletable": false,
    "editable": false,
    "nbgrader": {
     "cell_type": "code",
     "checksum": "6f15115822db61acc056b34809f04431",
     "grade": true,
     "grade_id": "sqsplit_test3",
     "locked": true,
     "points": 5,
     "schema_version": 3,
     "solution": false,
     "task": false
    }
   },
   "outputs": [],
   "source": [
    "# Do not delete, copy, paste, or alter these cells as this will cause the tests to fail automatically"
   ]
  },
  {
   "cell_type": "code",
   "execution_count": 429,
   "metadata": {
    "deletable": false,
    "editable": false,
    "nbgrader": {
     "cell_type": "code",
     "checksum": "b352ab031e5573e0e9ca02f9bc8bdcd2",
     "grade": true,
     "grade_id": "cart_test1",
     "locked": true,
     "points": 5,
     "schema_version": 3,
     "solution": false,
     "task": false
    }
   },
   "outputs": [],
   "source": [
    "# Do not delete, copy, paste, or alter these cells as this will cause the tests to fail automatically"
   ]
  },
  {
   "cell_type": "code",
   "execution_count": 430,
   "metadata": {
    "deletable": false,
    "editable": false,
    "nbgrader": {
     "cell_type": "code",
     "checksum": "8c9d4d69ae8d2cdb8d900a1b72b989ab",
     "grade": true,
     "grade_id": "cart_test2",
     "locked": true,
     "points": 3,
     "schema_version": 3,
     "solution": false,
     "task": false
    }
   },
   "outputs": [],
   "source": [
    "# Do not delete, copy, paste, or alter these cells as this will cause the tests to fail automatically"
   ]
  },
  {
   "cell_type": "code",
   "execution_count": 431,
   "metadata": {
    "deletable": false,
    "editable": false,
    "nbgrader": {
     "cell_type": "code",
     "checksum": "3c602df0600964c3ae42935dec071819",
     "grade": true,
     "grade_id": "cart_test3",
     "locked": true,
     "points": 3,
     "schema_version": 3,
     "solution": false,
     "task": false
    }
   },
   "outputs": [],
   "source": [
    "# Do not delete, copy, paste, or alter these cells as this will cause the tests to fail automatically"
   ]
  },
  {
   "cell_type": "code",
   "execution_count": 432,
   "metadata": {
    "deletable": false,
    "editable": false,
    "nbgrader": {
     "cell_type": "code",
     "checksum": "700de9178b30f005d32dacffe28978aa",
     "grade": true,
     "grade_id": "evaltree_test1",
     "locked": true,
     "points": 3,
     "schema_version": 3,
     "solution": false,
     "task": false
    }
   },
   "outputs": [],
   "source": [
    "# Do not delete, copy, paste, or alter these cells as this will cause the tests to fail automatically"
   ]
  },
  {
   "cell_type": "code",
   "execution_count": 433,
   "metadata": {
    "deletable": false,
    "editable": false,
    "nbgrader": {
     "cell_type": "code",
     "checksum": "990e464d7805ae5d63caad4c2a2337b9",
     "grade": true,
     "grade_id": "evaltree_test2",
     "locked": true,
     "points": 3,
     "schema_version": 3,
     "solution": false,
     "task": false
    }
   },
   "outputs": [],
   "source": [
    "# Do not delete, copy, paste, or alter these cells as this will cause the tests to fail automatically"
   ]
  },
  {
   "cell_type": "code",
   "execution_count": 434,
   "metadata": {
    "deletable": false,
    "editable": false,
    "nbgrader": {
     "cell_type": "code",
     "checksum": "80289f05e067c134f2e8587e57624fd7",
     "grade": true,
     "grade_id": "forest_test1",
     "locked": true,
     "points": 3,
     "schema_version": 3,
     "solution": false,
     "task": false
    }
   },
   "outputs": [],
   "source": [
    "# Do not delete, copy, paste, or alter these cells as this will cause the tests to fail automatically"
   ]
  },
  {
   "cell_type": "code",
   "execution_count": 435,
   "metadata": {
    "deletable": false,
    "editable": false,
    "nbgrader": {
     "cell_type": "code",
     "checksum": "89442130513598dda3251e333447a963",
     "grade": true,
     "grade_id": "bagging_test1",
     "locked": true,
     "points": 3,
     "schema_version": 3,
     "solution": false,
     "task": false
    }
   },
   "outputs": [],
   "source": [
    "# Do not delete, copy, paste, or alter these cells as this will cause the tests to fail automatically"
   ]
  },
  {
   "cell_type": "code",
   "execution_count": 436,
   "metadata": {
    "deletable": false,
    "editable": false,
    "nbgrader": {
     "cell_type": "code",
     "checksum": "b1bce957599b3d0fcc9dc56bc7e97186",
     "grade": true,
     "grade_id": "bagging_test2",
     "locked": true,
     "points": 3,
     "schema_version": 3,
     "solution": false,
     "task": false
    }
   },
   "outputs": [],
   "source": [
    "# Do not delete, copy, paste, or alter these cells as this will cause the tests to fail automatically"
   ]
  },
  {
   "cell_type": "code",
   "execution_count": 437,
   "metadata": {
    "deletable": false,
    "editable": false,
    "nbgrader": {
     "cell_type": "code",
     "checksum": "408e93ddeb1ab737078c59e6b9e9f309",
     "grade": true,
     "grade_id": "boosting_test1",
     "locked": true,
     "points": 3,
     "schema_version": 3,
     "solution": false,
     "task": false
    }
   },
   "outputs": [],
   "source": [
    "# Do not delete, copy, paste, or alter these cells as this will cause the tests to fail automatically"
   ]
  },
  {
   "cell_type": "markdown",
   "metadata": {
    "deletable": false,
    "editable": false,
    "nbgrader": {
     "cell_type": "markdown",
     "checksum": "48206f2fa4480b0a604e89905866620d",
     "grade": false,
     "grade_id": "cell-48581b14a6981e50",
     "locked": true,
     "schema_version": 3,
     "solution": false,
     "task": false
    }
   },
   "source": [
    "**Competition**: we ask you to improve the speed of evaltree and cart while keeping both functions accurate.\n",
    "    \n",
    "You will receive 3 points if your implemention as fast or faster than our slow solution on hidden data and 3 points if your implementation as fast or faster than our quick solution."
   ]
  },
  {
   "cell_type": "code",
   "execution_count": 438,
   "metadata": {
    "deletable": false,
    "nbgrader": {
     "cell_type": "code",
     "checksum": "e4115605a6b52f8af272d76da1611f73",
     "grade": false,
     "grade_id": "cell-618211b2d58e4ea7",
     "locked": false,
     "schema_version": 3,
     "solution": true,
     "task": false
    }
   },
   "outputs": [],
   "source": [
    "def evaltreecomp(root,xTe,idx=[]):\n",
    "    \"\"\"Evaluates xTe using decision tree root. Same as evaltree but designed to be as efficient as possible.\n",
    "    \n",
    "    Input:\n",
    "        root: TreeNode decision tree\n",
    "        xTe:  n x d matrix of data points\n",
    "        idx:  choosen indices, optional argument that might be helpful with implementation strategy\n",
    "    Output:\n",
    "        pred: n-dimensional vector of predictions\n",
    "    \"\"\"\n",
    "    assert root is not None\n",
    "    n = xTe.shape[0]\n",
    "    pred = np.zeros(n)\n",
    "    \n",
    "    # YOUR CODE HERE\n",
    "\n",
    "    # define a recursive function to evaluate the tree\n",
    "    def eval_batch(node, x, idx):\n",
    "        \n",
    "        # base case\n",
    "        if node.cutoff_id is None:\n",
    "            pred[idx] = node.prediction\n",
    "            return\n",
    "        \n",
    "        # get the indices of the left and right data points\n",
    "        left_idx = idx[x[idx, node.cutoff_id] <= node.cutoff_val]\n",
    "        right_idx = idx[x[idx, node.cutoff_id] > node.cutoff_val]\n",
    "\n",
    "        # evaluate the left and right child\n",
    "        eval_batch(node.left, x, left_idx)\n",
    "        eval_batch(node.right, x, right_idx)\n",
    "    \n",
    "    eval_batch(root, xTe, np.arange(n))\n",
    "\n",
    "    return pred\n",
    "\n",
    "\n",
    "def cartcomp(xTr,yTr,depth=np.inf,weights=None):\n",
    "    \"\"\"Builds a CART tree. Same as cart but designed to be as efficient as possible.\n",
    "    \n",
    "    The maximum tree depth is defined by \"maxdepth\" (maxdepth=2 means one split).\n",
    "    Each example can be weighted with \"weights\".\n",
    "\n",
    "    Args:\n",
    "        xTr:      n x d matrix of data\n",
    "        yTr:      n-dimensional vector\n",
    "        maxdepth: maximum tree depth\n",
    "        weights:  n-dimensional weight vector for data points\n",
    "\n",
    "    Returns:\n",
    "        tree: root of decision tree\n",
    "    \"\"\"\n",
    "    n,d = xTr.shape\n",
    "    if weights is None:\n",
    "        w = np.ones(n) / float(n)\n",
    "    else:\n",
    "        # normalise the weights\n",
    "        w = weights / np.sum(weights)\n",
    "    \n",
    "    # YOUR CODE HERE\n",
    "\n",
    "    # initialise node\n",
    "    node = TreeNode(None, None, None, None, None, np.sum(w * yTr))\n",
    "\n",
    "    # check the base case\n",
    "    if depth < 2 or len(np.unique(yTr)) == 1:\n",
    "        return node\n",
    "\n",
    "    # find the best split using efficient update\n",
    "    node.cutoff_id, node.cutoff_val, _ = sqsplit_efficient(xTr, yTr, w)\n",
    "\n",
    "    # split the data\n",
    "    left_idx = xTr[:, node.cutoff_id] <= node.cutoff_val\n",
    "    right_idx = xTr[:, node.cutoff_id] > node.cutoff_val\n",
    "\n",
    "    # assign the left and right child\n",
    "    node.left = cartcomp(xTr[left_idx], yTr[left_idx], depth - 1, w[left_idx])\n",
    "    node.right = cartcomp(xTr[right_idx], yTr[right_idx], depth - 1, w[right_idx])\n",
    "\n",
    "    # assign the parent\n",
    "    node.left.parent = node\n",
    "    node.right.parent = node\n",
    "\n",
    "    return node"
   ]
  },
  {
   "cell_type": "code",
   "execution_count": 439,
   "metadata": {
    "deletable": false,
    "editable": false,
    "nbgrader": {
     "cell_type": "code",
     "checksum": "1ffd8258070ae12f9fd6ae07281cd591",
     "grade": false,
     "grade_id": "cell-25f260c3b553b9db",
     "locked": true,
     "schema_version": 3,
     "solution": false,
     "task": false
    }
   },
   "outputs": [],
   "source": [
    "t0 = time.time()\n",
    "root = cartcomp(xTrIon, yTrIon)\n",
    "t1 = time.time()\n",
    "\n",
    "\n",
    "repeat_factor = 20000\n",
    "xTeIonRepeated = np.repeat(xTeIon, repeat_factor, axis = 0)\n",
    "\n",
    "t2 = time.time()\n",
    "pred = evaltreecomp(root,xTeIonRepeated)\n",
    "t3 = time.time()"
   ]
  },
  {
   "cell_type": "code",
   "execution_count": 440,
   "metadata": {},
   "outputs": [
    {
     "name": "stdout",
     "output_type": "stream",
     "text": [
      "cart time: 0.0556333065032959 seconds\n",
      "eval time: 0.1488957405090332 seconds\n"
     ]
    }
   ],
   "source": [
    "print('cart time:',t1-t0,'seconds')\n",
    "print('eval time:',t3-t2,'seconds')"
   ]
  },
  {
   "cell_type": "code",
   "execution_count": 441,
   "metadata": {
    "deletable": false,
    "editable": false,
    "nbgrader": {
     "cell_type": "code",
     "checksum": "2ec9468dc4118f0b6cd359d51cf05868",
     "grade": true,
     "grade_id": "competition_test1",
     "locked": true,
     "points": 3,
     "schema_version": 3,
     "solution": false,
     "task": false
    }
   },
   "outputs": [],
   "source": [
    "# Do not delete, copy, paste, or alter these cells as this will cause the tests to fail automatically"
   ]
  },
  {
   "cell_type": "code",
   "execution_count": 442,
   "metadata": {
    "deletable": false,
    "editable": false,
    "nbgrader": {
     "cell_type": "code",
     "checksum": "17f45b55ec9a385b098f76839ffd86c0",
     "grade": true,
     "grade_id": "competition_test2",
     "locked": true,
     "points": 3,
     "schema_version": 3,
     "solution": false,
     "task": false
    }
   },
   "outputs": [],
   "source": [
    "# Do not delete, copy, paste, or alter these cells as this will cause the tests to fail automatically"
   ]
  },
  {
   "cell_type": "code",
   "execution_count": null,
   "metadata": {},
   "outputs": [],
   "source": []
  }
 ],
 "metadata": {
  "kernelspec": {
   "display_name": "appliedml",
   "language": "python",
   "name": "python3"
  },
  "language_info": {
   "codemirror_mode": {
    "name": "ipython",
    "version": 3
   },
   "file_extension": ".py",
   "mimetype": "text/x-python",
   "name": "python",
   "nbconvert_exporter": "python",
   "pygments_lexer": "ipython3",
   "version": "3.12.8"
  }
 },
 "nbformat": 4,
 "nbformat_minor": 4
}
